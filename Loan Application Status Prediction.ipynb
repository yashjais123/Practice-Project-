{
 "cells": [
  {
   "cell_type": "markdown",
   "id": "ad2ae9ec",
   "metadata": {},
   "source": [
    "# * Loan Application Status Prediction"
   ]
  },
  {
   "cell_type": "markdown",
   "id": "e3b4a588",
   "metadata": {},
   "source": [
    "# Problem Statement:"
   ]
  },
  {
   "cell_type": "markdown",
   "id": "5291426e",
   "metadata": {},
   "source": [
    "# This dataset includes details of applicants who have applied for loan. The dataset includes details like credit history, loan amount, their income, dependents etc. "
   ]
  },
  {
   "cell_type": "markdown",
   "id": "54213370",
   "metadata": {},
   "source": [
    "# Independent Variables:"
   ]
  },
  {
   "cell_type": "markdown",
   "id": "e0784aaf",
   "metadata": {},
   "source": [
    "# - Loan_ID \n",
    "\n",
    "# - Gender\n",
    "\n",
    "# - Married\n",
    "\n",
    "# - Dependents\n",
    "\n",
    "# - Education\n",
    "\n",
    "# - Self_Employed\n",
    "\n",
    "# - ApplicantIncome\n",
    "\n",
    "# - CoapplicantIncome\n",
    "\n",
    "# - Loan_Amount\n",
    "\n",
    "# - Loan_Amount_Term\n",
    "\n",
    "# - Credit History\n",
    "\n",
    "# - Property_Area"
   ]
  },
  {
   "cell_type": "markdown",
   "id": "0589b58a",
   "metadata": {},
   "source": [
    "# Dependent Variable (Target Variable):"
   ]
  },
  {
   "cell_type": "markdown",
   "id": "be066196",
   "metadata": {},
   "source": [
    "# - Loan_Status"
   ]
  },
  {
   "cell_type": "markdown",
   "id": "aa2d9fec",
   "metadata": {},
   "source": [
    "# You have to build a model that can predict whether the loan of the applicant will be approved or not on the basis of the details provided in the dataset. "
   ]
  },
  {
   "cell_type": "code",
   "execution_count": 1,
   "id": "93167402",
   "metadata": {},
   "outputs": [],
   "source": [
    "import numpy as np\n",
    "import pandas as pd\n",
    "import matplotlib.pyplot as plt\n",
    "import seaborn as sns\n",
    "\n",
    "import warnings\n",
    "warnings.filterwarnings('ignore')"
   ]
  },
  {
   "cell_type": "code",
   "execution_count": 2,
   "id": "732f74be",
   "metadata": {},
   "outputs": [
    {
     "data": {
      "text/html": [
       "<div>\n",
       "<style scoped>\n",
       "    .dataframe tbody tr th:only-of-type {\n",
       "        vertical-align: middle;\n",
       "    }\n",
       "\n",
       "    .dataframe tbody tr th {\n",
       "        vertical-align: top;\n",
       "    }\n",
       "\n",
       "    .dataframe thead th {\n",
       "        text-align: right;\n",
       "    }\n",
       "</style>\n",
       "<table border=\"1\" class=\"dataframe\">\n",
       "  <thead>\n",
       "    <tr style=\"text-align: right;\">\n",
       "      <th></th>\n",
       "      <th>Loan_ID</th>\n",
       "      <th>Gender</th>\n",
       "      <th>Married</th>\n",
       "      <th>Dependents</th>\n",
       "      <th>Education</th>\n",
       "      <th>Self_Employed</th>\n",
       "      <th>ApplicantIncome</th>\n",
       "      <th>CoapplicantIncome</th>\n",
       "      <th>LoanAmount</th>\n",
       "      <th>Loan_Amount_Term</th>\n",
       "      <th>Credit_History</th>\n",
       "      <th>Property_Area</th>\n",
       "      <th>Loan_Status</th>\n",
       "    </tr>\n",
       "  </thead>\n",
       "  <tbody>\n",
       "    <tr>\n",
       "      <th>0</th>\n",
       "      <td>LP001002</td>\n",
       "      <td>Male</td>\n",
       "      <td>No</td>\n",
       "      <td>0</td>\n",
       "      <td>Graduate</td>\n",
       "      <td>No</td>\n",
       "      <td>5849</td>\n",
       "      <td>0.0</td>\n",
       "      <td>NaN</td>\n",
       "      <td>360.0</td>\n",
       "      <td>1.0</td>\n",
       "      <td>Urban</td>\n",
       "      <td>Y</td>\n",
       "    </tr>\n",
       "    <tr>\n",
       "      <th>1</th>\n",
       "      <td>LP001003</td>\n",
       "      <td>Male</td>\n",
       "      <td>Yes</td>\n",
       "      <td>1</td>\n",
       "      <td>Graduate</td>\n",
       "      <td>No</td>\n",
       "      <td>4583</td>\n",
       "      <td>1508.0</td>\n",
       "      <td>128.0</td>\n",
       "      <td>360.0</td>\n",
       "      <td>1.0</td>\n",
       "      <td>Rural</td>\n",
       "      <td>N</td>\n",
       "    </tr>\n",
       "    <tr>\n",
       "      <th>2</th>\n",
       "      <td>LP001005</td>\n",
       "      <td>Male</td>\n",
       "      <td>Yes</td>\n",
       "      <td>0</td>\n",
       "      <td>Graduate</td>\n",
       "      <td>Yes</td>\n",
       "      <td>3000</td>\n",
       "      <td>0.0</td>\n",
       "      <td>66.0</td>\n",
       "      <td>360.0</td>\n",
       "      <td>1.0</td>\n",
       "      <td>Urban</td>\n",
       "      <td>Y</td>\n",
       "    </tr>\n",
       "    <tr>\n",
       "      <th>3</th>\n",
       "      <td>LP001006</td>\n",
       "      <td>Male</td>\n",
       "      <td>Yes</td>\n",
       "      <td>0</td>\n",
       "      <td>Not Graduate</td>\n",
       "      <td>No</td>\n",
       "      <td>2583</td>\n",
       "      <td>2358.0</td>\n",
       "      <td>120.0</td>\n",
       "      <td>360.0</td>\n",
       "      <td>1.0</td>\n",
       "      <td>Urban</td>\n",
       "      <td>Y</td>\n",
       "    </tr>\n",
       "    <tr>\n",
       "      <th>4</th>\n",
       "      <td>LP001008</td>\n",
       "      <td>Male</td>\n",
       "      <td>No</td>\n",
       "      <td>0</td>\n",
       "      <td>Graduate</td>\n",
       "      <td>No</td>\n",
       "      <td>6000</td>\n",
       "      <td>0.0</td>\n",
       "      <td>141.0</td>\n",
       "      <td>360.0</td>\n",
       "      <td>1.0</td>\n",
       "      <td>Urban</td>\n",
       "      <td>Y</td>\n",
       "    </tr>\n",
       "    <tr>\n",
       "      <th>...</th>\n",
       "      <td>...</td>\n",
       "      <td>...</td>\n",
       "      <td>...</td>\n",
       "      <td>...</td>\n",
       "      <td>...</td>\n",
       "      <td>...</td>\n",
       "      <td>...</td>\n",
       "      <td>...</td>\n",
       "      <td>...</td>\n",
       "      <td>...</td>\n",
       "      <td>...</td>\n",
       "      <td>...</td>\n",
       "      <td>...</td>\n",
       "    </tr>\n",
       "    <tr>\n",
       "      <th>609</th>\n",
       "      <td>LP002978</td>\n",
       "      <td>Female</td>\n",
       "      <td>No</td>\n",
       "      <td>0</td>\n",
       "      <td>Graduate</td>\n",
       "      <td>No</td>\n",
       "      <td>2900</td>\n",
       "      <td>0.0</td>\n",
       "      <td>71.0</td>\n",
       "      <td>360.0</td>\n",
       "      <td>1.0</td>\n",
       "      <td>Rural</td>\n",
       "      <td>Y</td>\n",
       "    </tr>\n",
       "    <tr>\n",
       "      <th>610</th>\n",
       "      <td>LP002979</td>\n",
       "      <td>Male</td>\n",
       "      <td>Yes</td>\n",
       "      <td>3+</td>\n",
       "      <td>Graduate</td>\n",
       "      <td>No</td>\n",
       "      <td>4106</td>\n",
       "      <td>0.0</td>\n",
       "      <td>40.0</td>\n",
       "      <td>180.0</td>\n",
       "      <td>1.0</td>\n",
       "      <td>Rural</td>\n",
       "      <td>Y</td>\n",
       "    </tr>\n",
       "    <tr>\n",
       "      <th>611</th>\n",
       "      <td>LP002983</td>\n",
       "      <td>Male</td>\n",
       "      <td>Yes</td>\n",
       "      <td>1</td>\n",
       "      <td>Graduate</td>\n",
       "      <td>No</td>\n",
       "      <td>8072</td>\n",
       "      <td>240.0</td>\n",
       "      <td>253.0</td>\n",
       "      <td>360.0</td>\n",
       "      <td>1.0</td>\n",
       "      <td>Urban</td>\n",
       "      <td>Y</td>\n",
       "    </tr>\n",
       "    <tr>\n",
       "      <th>612</th>\n",
       "      <td>LP002984</td>\n",
       "      <td>Male</td>\n",
       "      <td>Yes</td>\n",
       "      <td>2</td>\n",
       "      <td>Graduate</td>\n",
       "      <td>No</td>\n",
       "      <td>7583</td>\n",
       "      <td>0.0</td>\n",
       "      <td>187.0</td>\n",
       "      <td>360.0</td>\n",
       "      <td>1.0</td>\n",
       "      <td>Urban</td>\n",
       "      <td>Y</td>\n",
       "    </tr>\n",
       "    <tr>\n",
       "      <th>613</th>\n",
       "      <td>LP002990</td>\n",
       "      <td>Female</td>\n",
       "      <td>No</td>\n",
       "      <td>0</td>\n",
       "      <td>Graduate</td>\n",
       "      <td>Yes</td>\n",
       "      <td>4583</td>\n",
       "      <td>0.0</td>\n",
       "      <td>133.0</td>\n",
       "      <td>360.0</td>\n",
       "      <td>0.0</td>\n",
       "      <td>Semiurban</td>\n",
       "      <td>N</td>\n",
       "    </tr>\n",
       "  </tbody>\n",
       "</table>\n",
       "<p>614 rows × 13 columns</p>\n",
       "</div>"
      ],
      "text/plain": [
       "      Loan_ID  Gender Married Dependents     Education Self_Employed  \\\n",
       "0    LP001002    Male      No          0      Graduate            No   \n",
       "1    LP001003    Male     Yes          1      Graduate            No   \n",
       "2    LP001005    Male     Yes          0      Graduate           Yes   \n",
       "3    LP001006    Male     Yes          0  Not Graduate            No   \n",
       "4    LP001008    Male      No          0      Graduate            No   \n",
       "..        ...     ...     ...        ...           ...           ...   \n",
       "609  LP002978  Female      No          0      Graduate            No   \n",
       "610  LP002979    Male     Yes         3+      Graduate            No   \n",
       "611  LP002983    Male     Yes          1      Graduate            No   \n",
       "612  LP002984    Male     Yes          2      Graduate            No   \n",
       "613  LP002990  Female      No          0      Graduate           Yes   \n",
       "\n",
       "     ApplicantIncome  CoapplicantIncome  LoanAmount  Loan_Amount_Term  \\\n",
       "0               5849                0.0         NaN             360.0   \n",
       "1               4583             1508.0       128.0             360.0   \n",
       "2               3000                0.0        66.0             360.0   \n",
       "3               2583             2358.0       120.0             360.0   \n",
       "4               6000                0.0       141.0             360.0   \n",
       "..               ...                ...         ...               ...   \n",
       "609             2900                0.0        71.0             360.0   \n",
       "610             4106                0.0        40.0             180.0   \n",
       "611             8072              240.0       253.0             360.0   \n",
       "612             7583                0.0       187.0             360.0   \n",
       "613             4583                0.0       133.0             360.0   \n",
       "\n",
       "     Credit_History Property_Area Loan_Status  \n",
       "0               1.0         Urban           Y  \n",
       "1               1.0         Rural           N  \n",
       "2               1.0         Urban           Y  \n",
       "3               1.0         Urban           Y  \n",
       "4               1.0         Urban           Y  \n",
       "..              ...           ...         ...  \n",
       "609             1.0         Rural           Y  \n",
       "610             1.0         Rural           Y  \n",
       "611             1.0         Urban           Y  \n",
       "612             1.0         Urban           Y  \n",
       "613             0.0     Semiurban           N  \n",
       "\n",
       "[614 rows x 13 columns]"
      ]
     },
     "execution_count": 2,
     "metadata": {},
     "output_type": "execute_result"
    }
   ],
   "source": [
    "data = pd.read_csv(r\"D:\\New folder\\loan_prediction.csv\")\n",
    "data"
   ]
  },
  {
   "cell_type": "code",
   "execution_count": 3,
   "id": "2bae4358",
   "metadata": {},
   "outputs": [
    {
     "data": {
      "text/plain": [
       "(614, 13)"
      ]
     },
     "execution_count": 3,
     "metadata": {},
     "output_type": "execute_result"
    }
   ],
   "source": [
    "#Lets check the shape of dataset\n",
    "data.shape"
   ]
  },
  {
   "cell_type": "markdown",
   "id": "5df7ddd1",
   "metadata": {},
   "source": [
    " So , here we have 614 rows and 13 columns"
   ]
  },
  {
   "cell_type": "markdown",
   "id": "64ee5506",
   "metadata": {},
   "source": [
    "# Data is Duplicated ?"
   ]
  },
  {
   "cell_type": "code",
   "execution_count": 4,
   "id": "5acfc4e0",
   "metadata": {},
   "outputs": [
    {
     "data": {
      "text/plain": [
       "0"
      ]
     },
     "execution_count": 4,
     "metadata": {},
     "output_type": "execute_result"
    }
   ],
   "source": [
    "data.duplicated().sum()"
   ]
  },
  {
   "cell_type": "markdown",
   "id": "01db66d5",
   "metadata": {},
   "source": [
    "so,  here we have 0 Duplicated Data"
   ]
  },
  {
   "cell_type": "code",
   "execution_count": 5,
   "id": "b5556d89",
   "metadata": {},
   "outputs": [
    {
     "data": {
      "text/plain": [
       "Loan_ID               object\n",
       "Gender                object\n",
       "Married               object\n",
       "Dependents            object\n",
       "Education             object\n",
       "Self_Employed         object\n",
       "ApplicantIncome        int64\n",
       "CoapplicantIncome    float64\n",
       "LoanAmount           float64\n",
       "Loan_Amount_Term     float64\n",
       "Credit_History       float64\n",
       "Property_Area         object\n",
       "Loan_Status           object\n",
       "dtype: object"
      ]
     },
     "execution_count": 5,
     "metadata": {},
     "output_type": "execute_result"
    }
   ],
   "source": [
    "#Lets check the data type of dataset\n",
    "data.dtypes"
   ]
  },
  {
   "cell_type": "markdown",
   "id": "de654132",
   "metadata": {},
   "source": [
    "so here we have\n",
    "\n",
    "Float Type - CoapplicantIncome,LoanAmount,Loan_Amount_Term,Credit_History column\n",
    "\n",
    "int64 type - ApplicantIncome only one columns\n",
    "\n",
    "object type - Then all columns"
   ]
  },
  {
   "cell_type": "code",
   "execution_count": 6,
   "id": "0814b1a6",
   "metadata": {},
   "outputs": [
    {
     "name": "stdout",
     "output_type": "stream",
     "text": [
      "<class 'pandas.core.frame.DataFrame'>\n",
      "RangeIndex: 614 entries, 0 to 613\n",
      "Data columns (total 13 columns):\n",
      " #   Column             Non-Null Count  Dtype  \n",
      "---  ------             --------------  -----  \n",
      " 0   Loan_ID            614 non-null    object \n",
      " 1   Gender             601 non-null    object \n",
      " 2   Married            611 non-null    object \n",
      " 3   Dependents         599 non-null    object \n",
      " 4   Education          614 non-null    object \n",
      " 5   Self_Employed      582 non-null    object \n",
      " 6   ApplicantIncome    614 non-null    int64  \n",
      " 7   CoapplicantIncome  614 non-null    float64\n",
      " 8   LoanAmount         592 non-null    float64\n",
      " 9   Loan_Amount_Term   600 non-null    float64\n",
      " 10  Credit_History     564 non-null    float64\n",
      " 11  Property_Area      614 non-null    object \n",
      " 12  Loan_Status        614 non-null    object \n",
      "dtypes: float64(4), int64(1), object(8)\n",
      "memory usage: 62.5+ KB\n"
     ]
    }
   ],
   "source": [
    "#Checking the information about dataset\n",
    "data.info()"
   ]
  },
  {
   "cell_type": "code",
   "execution_count": 7,
   "id": "fe495da7",
   "metadata": {},
   "outputs": [
    {
     "data": {
      "text/plain": [
       "Loan_ID               0\n",
       "Gender               13\n",
       "Married               3\n",
       "Dependents           15\n",
       "Education             0\n",
       "Self_Employed        32\n",
       "ApplicantIncome       0\n",
       "CoapplicantIncome     0\n",
       "LoanAmount           22\n",
       "Loan_Amount_Term     14\n",
       "Credit_History       50\n",
       "Property_Area         0\n",
       "Loan_Status           0\n",
       "dtype: int64"
      ]
     },
     "execution_count": 7,
     "metadata": {},
     "output_type": "execute_result"
    }
   ],
   "source": [
    "#Checking null values in dataset\n",
    "data.isnull().sum()"
   ]
  },
  {
   "cell_type": "markdown",
   "id": "19221685",
   "metadata": {},
   "source": [
    "# Value counts function"
   ]
  },
  {
   "cell_type": "code",
   "execution_count": 8,
   "id": "b5807c8a",
   "metadata": {},
   "outputs": [
    {
     "data": {
      "text/plain": [
       "LP001002    1\n",
       "LP002328    1\n",
       "LP002305    1\n",
       "LP002308    1\n",
       "LP002314    1\n",
       "           ..\n",
       "LP001692    1\n",
       "LP001693    1\n",
       "LP001698    1\n",
       "LP001699    1\n",
       "LP002990    1\n",
       "Name: Loan_ID, Length: 614, dtype: int64"
      ]
     },
     "execution_count": 8,
     "metadata": {},
     "output_type": "execute_result"
    }
   ],
   "source": [
    "data['Loan_ID'].value_counts()"
   ]
  },
  {
   "cell_type": "code",
   "execution_count": 9,
   "id": "9de5aa89",
   "metadata": {},
   "outputs": [
    {
     "data": {
      "text/plain": [
       "Male      489\n",
       "Female    112\n",
       "Name: Gender, dtype: int64"
      ]
     },
     "execution_count": 9,
     "metadata": {},
     "output_type": "execute_result"
    }
   ],
   "source": [
    "data['Gender'].value_counts()"
   ]
  },
  {
   "cell_type": "code",
   "execution_count": 10,
   "id": "5ae2efdb",
   "metadata": {},
   "outputs": [
    {
     "data": {
      "text/plain": [
       "Yes    398\n",
       "No     213\n",
       "Name: Married, dtype: int64"
      ]
     },
     "execution_count": 10,
     "metadata": {},
     "output_type": "execute_result"
    }
   ],
   "source": [
    "data['Married'].value_counts()"
   ]
  },
  {
   "cell_type": "code",
   "execution_count": 11,
   "id": "2be143cd",
   "metadata": {},
   "outputs": [
    {
     "data": {
      "text/plain": [
       "0     345\n",
       "1     102\n",
       "2     101\n",
       "3+     51\n",
       "Name: Dependents, dtype: int64"
      ]
     },
     "execution_count": 11,
     "metadata": {},
     "output_type": "execute_result"
    }
   ],
   "source": [
    "data['Dependents'].value_counts()"
   ]
  },
  {
   "cell_type": "code",
   "execution_count": 12,
   "id": "9f36a7e8",
   "metadata": {},
   "outputs": [
    {
     "data": {
      "text/plain": [
       "Graduate        480\n",
       "Not Graduate    134\n",
       "Name: Education, dtype: int64"
      ]
     },
     "execution_count": 12,
     "metadata": {},
     "output_type": "execute_result"
    }
   ],
   "source": [
    "data['Education'].value_counts()"
   ]
  },
  {
   "cell_type": "code",
   "execution_count": 13,
   "id": "4a154af7",
   "metadata": {},
   "outputs": [
    {
     "data": {
      "text/plain": [
       "No     500\n",
       "Yes     82\n",
       "Name: Self_Employed, dtype: int64"
      ]
     },
     "execution_count": 13,
     "metadata": {},
     "output_type": "execute_result"
    }
   ],
   "source": [
    "data['Self_Employed'].value_counts()"
   ]
  },
  {
   "cell_type": "code",
   "execution_count": 14,
   "id": "16d1a5ad",
   "metadata": {},
   "outputs": [
    {
     "data": {
      "text/plain": [
       "2500    9\n",
       "4583    6\n",
       "6000    6\n",
       "2600    6\n",
       "3333    5\n",
       "       ..\n",
       "3244    1\n",
       "4408    1\n",
       "3917    1\n",
       "3992    1\n",
       "7583    1\n",
       "Name: ApplicantIncome, Length: 505, dtype: int64"
      ]
     },
     "execution_count": 14,
     "metadata": {},
     "output_type": "execute_result"
    }
   ],
   "source": [
    "data['ApplicantIncome'].value_counts()"
   ]
  },
  {
   "cell_type": "code",
   "execution_count": 15,
   "id": "a3d0733e",
   "metadata": {},
   "outputs": [
    {
     "data": {
      "text/plain": [
       "0.0       273\n",
       "2500.0      5\n",
       "2083.0      5\n",
       "1666.0      5\n",
       "2250.0      3\n",
       "         ... \n",
       "2791.0      1\n",
       "1010.0      1\n",
       "1695.0      1\n",
       "2598.0      1\n",
       "240.0       1\n",
       "Name: CoapplicantIncome, Length: 287, dtype: int64"
      ]
     },
     "execution_count": 15,
     "metadata": {},
     "output_type": "execute_result"
    }
   ],
   "source": [
    "data['CoapplicantIncome'].value_counts()"
   ]
  },
  {
   "cell_type": "code",
   "execution_count": 16,
   "id": "d6c4a09c",
   "metadata": {},
   "outputs": [
    {
     "data": {
      "text/plain": [
       "120.0    20\n",
       "110.0    17\n",
       "100.0    15\n",
       "160.0    12\n",
       "187.0    12\n",
       "         ..\n",
       "240.0     1\n",
       "214.0     1\n",
       "59.0      1\n",
       "166.0     1\n",
       "253.0     1\n",
       "Name: LoanAmount, Length: 203, dtype: int64"
      ]
     },
     "execution_count": 16,
     "metadata": {},
     "output_type": "execute_result"
    }
   ],
   "source": [
    "data['LoanAmount'].value_counts()"
   ]
  },
  {
   "cell_type": "code",
   "execution_count": 17,
   "id": "0c91e686",
   "metadata": {},
   "outputs": [
    {
     "data": {
      "text/plain": [
       "360.0    512\n",
       "180.0     44\n",
       "480.0     15\n",
       "300.0     13\n",
       "240.0      4\n",
       "84.0       4\n",
       "120.0      3\n",
       "60.0       2\n",
       "36.0       2\n",
       "12.0       1\n",
       "Name: Loan_Amount_Term, dtype: int64"
      ]
     },
     "execution_count": 17,
     "metadata": {},
     "output_type": "execute_result"
    }
   ],
   "source": [
    "data['Loan_Amount_Term'].value_counts()"
   ]
  },
  {
   "cell_type": "code",
   "execution_count": 18,
   "id": "2b73e8c1",
   "metadata": {},
   "outputs": [
    {
     "data": {
      "text/plain": [
       "1.0    475\n",
       "0.0     89\n",
       "Name: Credit_History, dtype: int64"
      ]
     },
     "execution_count": 18,
     "metadata": {},
     "output_type": "execute_result"
    }
   ],
   "source": [
    "data['Credit_History'].value_counts()"
   ]
  },
  {
   "cell_type": "code",
   "execution_count": 19,
   "id": "e27c49d1",
   "metadata": {},
   "outputs": [
    {
     "data": {
      "text/plain": [
       "Semiurban    233\n",
       "Urban        202\n",
       "Rural        179\n",
       "Name: Property_Area, dtype: int64"
      ]
     },
     "execution_count": 19,
     "metadata": {},
     "output_type": "execute_result"
    }
   ],
   "source": [
    "data['Property_Area'].value_counts()"
   ]
  },
  {
   "cell_type": "code",
   "execution_count": 20,
   "id": "ad94bd16",
   "metadata": {},
   "outputs": [
    {
     "data": {
      "text/plain": [
       "Y    422\n",
       "N    192\n",
       "Name: Loan_Status, dtype: int64"
      ]
     },
     "execution_count": 20,
     "metadata": {},
     "output_type": "execute_result"
    }
   ],
   "source": [
    "data['Loan_Status'].value_counts()"
   ]
  },
  {
   "cell_type": "code",
   "execution_count": 21,
   "id": "2da56f80",
   "metadata": {},
   "outputs": [
    {
     "data": {
      "image/png": "[encoded data removed]",
      "text/plain": [
       "<Figure size 576x360 with 1 Axes>"
      ]
     },
     "metadata": {
      "needs_background": "light"
     },
     "output_type": "display_data"
    }
   ],
   "source": [
    "plt.figure(figsize=(8,5))\n",
    "sns.countplot(data['Loan_Status'],palette='coolwarm',hue='Gender',data=data);"
   ]
  },
  {
   "cell_type": "markdown",
   "id": "eca521d3",
   "metadata": {},
   "source": [
    "# Filling NULL Value"
   ]
  },
  {
   "cell_type": "code",
   "execution_count": 22,
   "id": "5b5c2b62",
   "metadata": {},
   "outputs": [],
   "source": [
    "data['Gender']=data['Gender'].fillna(data['Gender'].mode()[0])\n",
    "data['Married']=data['Married'].fillna(data['Married'].mode()[0])\n",
    "data['Dependents']=data['Dependents'].fillna(data['Dependents'].mode()[0])\n",
    "data['Self_Employed']=data['Self_Employed'].fillna(data['Self_Employed'].mode()[0])\n",
    "data['LoanAmount']=data['LoanAmount'].fillna(data['LoanAmount'].mean())\n",
    "data['Loan_Amount_Term']=data['Loan_Amount_Term'].fillna(data['Loan_Amount_Term'].mean())\n",
    "data['Credit_History']=data['Credit_History'].fillna(data['Credit_History'].mode()[0])"
   ]
  },
  {
   "cell_type": "code",
   "execution_count": 23,
   "id": "d960d5b8",
   "metadata": {},
   "outputs": [
    {
     "data": {
      "text/html": [
       "<div>\n",
       "<style scoped>\n",
       "    .dataframe tbody tr th:only-of-type {\n",
       "        vertical-align: middle;\n",
       "    }\n",
       "\n",
       "    .dataframe tbody tr th {\n",
       "        vertical-align: top;\n",
       "    }\n",
       "\n",
       "    .dataframe thead th {\n",
       "        text-align: right;\n",
       "    }\n",
       "</style>\n",
       "<table border=\"1\" class=\"dataframe\">\n",
       "  <thead>\n",
       "    <tr style=\"text-align: right;\">\n",
       "      <th></th>\n",
       "      <th>Loan_ID</th>\n",
       "      <th>Gender</th>\n",
       "      <th>Married</th>\n",
       "      <th>Dependents</th>\n",
       "      <th>Education</th>\n",
       "      <th>Self_Employed</th>\n",
       "      <th>ApplicantIncome</th>\n",
       "      <th>CoapplicantIncome</th>\n",
       "      <th>LoanAmount</th>\n",
       "      <th>Loan_Amount_Term</th>\n",
       "      <th>Credit_History</th>\n",
       "      <th>Property_Area</th>\n",
       "      <th>Loan_Status</th>\n",
       "    </tr>\n",
       "  </thead>\n",
       "  <tbody>\n",
       "    <tr>\n",
       "      <th>0</th>\n",
       "      <td>LP001002</td>\n",
       "      <td>Male</td>\n",
       "      <td>No</td>\n",
       "      <td>0</td>\n",
       "      <td>Graduate</td>\n",
       "      <td>No</td>\n",
       "      <td>5849</td>\n",
       "      <td>0.0</td>\n",
       "      <td>146.412162</td>\n",
       "      <td>360.0</td>\n",
       "      <td>1.0</td>\n",
       "      <td>Urban</td>\n",
       "      <td>Y</td>\n",
       "    </tr>\n",
       "    <tr>\n",
       "      <th>1</th>\n",
       "      <td>LP001003</td>\n",
       "      <td>Male</td>\n",
       "      <td>Yes</td>\n",
       "      <td>1</td>\n",
       "      <td>Graduate</td>\n",
       "      <td>No</td>\n",
       "      <td>4583</td>\n",
       "      <td>1508.0</td>\n",
       "      <td>128.000000</td>\n",
       "      <td>360.0</td>\n",
       "      <td>1.0</td>\n",
       "      <td>Rural</td>\n",
       "      <td>N</td>\n",
       "    </tr>\n",
       "    <tr>\n",
       "      <th>2</th>\n",
       "      <td>LP001005</td>\n",
       "      <td>Male</td>\n",
       "      <td>Yes</td>\n",
       "      <td>0</td>\n",
       "      <td>Graduate</td>\n",
       "      <td>Yes</td>\n",
       "      <td>3000</td>\n",
       "      <td>0.0</td>\n",
       "      <td>66.000000</td>\n",
       "      <td>360.0</td>\n",
       "      <td>1.0</td>\n",
       "      <td>Urban</td>\n",
       "      <td>Y</td>\n",
       "    </tr>\n",
       "    <tr>\n",
       "      <th>3</th>\n",
       "      <td>LP001006</td>\n",
       "      <td>Male</td>\n",
       "      <td>Yes</td>\n",
       "      <td>0</td>\n",
       "      <td>Not Graduate</td>\n",
       "      <td>No</td>\n",
       "      <td>2583</td>\n",
       "      <td>2358.0</td>\n",
       "      <td>120.000000</td>\n",
       "      <td>360.0</td>\n",
       "      <td>1.0</td>\n",
       "      <td>Urban</td>\n",
       "      <td>Y</td>\n",
       "    </tr>\n",
       "    <tr>\n",
       "      <th>4</th>\n",
       "      <td>LP001008</td>\n",
       "      <td>Male</td>\n",
       "      <td>No</td>\n",
       "      <td>0</td>\n",
       "      <td>Graduate</td>\n",
       "      <td>No</td>\n",
       "      <td>6000</td>\n",
       "      <td>0.0</td>\n",
       "      <td>141.000000</td>\n",
       "      <td>360.0</td>\n",
       "      <td>1.0</td>\n",
       "      <td>Urban</td>\n",
       "      <td>Y</td>\n",
       "    </tr>\n",
       "  </tbody>\n",
       "</table>\n",
       "</div>"
      ],
      "text/plain": [
       "    Loan_ID Gender Married Dependents     Education Self_Employed  \\\n",
       "0  LP001002   Male      No          0      Graduate            No   \n",
       "1  LP001003   Male     Yes          1      Graduate            No   \n",
       "2  LP001005   Male     Yes          0      Graduate           Yes   \n",
       "3  LP001006   Male     Yes          0  Not Graduate            No   \n",
       "4  LP001008   Male      No          0      Graduate            No   \n",
       "\n",
       "   ApplicantIncome  CoapplicantIncome  LoanAmount  Loan_Amount_Term  \\\n",
       "0             5849                0.0  146.412162             360.0   \n",
       "1             4583             1508.0  128.000000             360.0   \n",
       "2             3000                0.0   66.000000             360.0   \n",
       "3             2583             2358.0  120.000000             360.0   \n",
       "4             6000                0.0  141.000000             360.0   \n",
       "\n",
       "   Credit_History Property_Area Loan_Status  \n",
       "0             1.0         Urban           Y  \n",
       "1             1.0         Rural           N  \n",
       "2             1.0         Urban           Y  \n",
       "3             1.0         Urban           Y  \n",
       "4             1.0         Urban           Y  "
      ]
     },
     "execution_count": 23,
     "metadata": {},
     "output_type": "execute_result"
    }
   ],
   "source": [
    "data.head()"
   ]
  },
  {
   "cell_type": "markdown",
   "id": "17f5bfad",
   "metadata": {},
   "source": [
    "# Loan_Status\n",
    "# Replace label columns"
   ]
  },
  {
   "cell_type": "code",
   "execution_count": 24,
   "id": "36668f69",
   "metadata": {},
   "outputs": [],
   "source": [
    " from sklearn.preprocessing import LabelEncoder"
   ]
  },
  {
   "cell_type": "code",
   "execution_count": 25,
   "id": "ae2b3562",
   "metadata": {},
   "outputs": [],
   "source": [
    "lab_enc=LabelEncoder()"
   ]
  },
  {
   "cell_type": "code",
   "execution_count": 26,
   "id": "4c1b3322",
   "metadata": {},
   "outputs": [
    {
     "data": {
      "text/plain": [
       "0      1\n",
       "1      0\n",
       "2      1\n",
       "3      1\n",
       "4      1\n",
       "      ..\n",
       "609    1\n",
       "610    1\n",
       "611    1\n",
       "612    1\n",
       "613    0\n",
       "Length: 614, dtype: int32"
      ]
     },
     "execution_count": 26,
     "metadata": {},
     "output_type": "execute_result"
    }
   ],
   "source": [
    "df2 = lab_enc.fit_transform(data['Loan_Status'])\n",
    "pd.Series(df2)"
   ]
  },
  {
   "cell_type": "code",
   "execution_count": 27,
   "id": "7723eb9e",
   "metadata": {},
   "outputs": [
    {
     "data": {
      "text/html": [
       "<div>\n",
       "<style scoped>\n",
       "    .dataframe tbody tr th:only-of-type {\n",
       "        vertical-align: middle;\n",
       "    }\n",
       "\n",
       "    .dataframe tbody tr th {\n",
       "        vertical-align: top;\n",
       "    }\n",
       "\n",
       "    .dataframe thead th {\n",
       "        text-align: right;\n",
       "    }\n",
       "</style>\n",
       "<table border=\"1\" class=\"dataframe\">\n",
       "  <thead>\n",
       "    <tr style=\"text-align: right;\">\n",
       "      <th></th>\n",
       "      <th>Loan_ID</th>\n",
       "      <th>Gender</th>\n",
       "      <th>Married</th>\n",
       "      <th>Dependents</th>\n",
       "      <th>Education</th>\n",
       "      <th>Self_Employed</th>\n",
       "      <th>ApplicantIncome</th>\n",
       "      <th>CoapplicantIncome</th>\n",
       "      <th>LoanAmount</th>\n",
       "      <th>Loan_Amount_Term</th>\n",
       "      <th>Credit_History</th>\n",
       "      <th>Property_Area</th>\n",
       "      <th>Loan_Status</th>\n",
       "    </tr>\n",
       "  </thead>\n",
       "  <tbody>\n",
       "    <tr>\n",
       "      <th>0</th>\n",
       "      <td>LP001002</td>\n",
       "      <td>Male</td>\n",
       "      <td>No</td>\n",
       "      <td>0</td>\n",
       "      <td>Graduate</td>\n",
       "      <td>No</td>\n",
       "      <td>5849</td>\n",
       "      <td>0.0</td>\n",
       "      <td>146.412162</td>\n",
       "      <td>360.0</td>\n",
       "      <td>1.0</td>\n",
       "      <td>Urban</td>\n",
       "      <td>1</td>\n",
       "    </tr>\n",
       "    <tr>\n",
       "      <th>1</th>\n",
       "      <td>LP001003</td>\n",
       "      <td>Male</td>\n",
       "      <td>Yes</td>\n",
       "      <td>1</td>\n",
       "      <td>Graduate</td>\n",
       "      <td>No</td>\n",
       "      <td>4583</td>\n",
       "      <td>1508.0</td>\n",
       "      <td>128.000000</td>\n",
       "      <td>360.0</td>\n",
       "      <td>1.0</td>\n",
       "      <td>Rural</td>\n",
       "      <td>0</td>\n",
       "    </tr>\n",
       "    <tr>\n",
       "      <th>2</th>\n",
       "      <td>LP001005</td>\n",
       "      <td>Male</td>\n",
       "      <td>Yes</td>\n",
       "      <td>0</td>\n",
       "      <td>Graduate</td>\n",
       "      <td>Yes</td>\n",
       "      <td>3000</td>\n",
       "      <td>0.0</td>\n",
       "      <td>66.000000</td>\n",
       "      <td>360.0</td>\n",
       "      <td>1.0</td>\n",
       "      <td>Urban</td>\n",
       "      <td>1</td>\n",
       "    </tr>\n",
       "    <tr>\n",
       "      <th>3</th>\n",
       "      <td>LP001006</td>\n",
       "      <td>Male</td>\n",
       "      <td>Yes</td>\n",
       "      <td>0</td>\n",
       "      <td>Not Graduate</td>\n",
       "      <td>No</td>\n",
       "      <td>2583</td>\n",
       "      <td>2358.0</td>\n",
       "      <td>120.000000</td>\n",
       "      <td>360.0</td>\n",
       "      <td>1.0</td>\n",
       "      <td>Urban</td>\n",
       "      <td>1</td>\n",
       "    </tr>\n",
       "    <tr>\n",
       "      <th>4</th>\n",
       "      <td>LP001008</td>\n",
       "      <td>Male</td>\n",
       "      <td>No</td>\n",
       "      <td>0</td>\n",
       "      <td>Graduate</td>\n",
       "      <td>No</td>\n",
       "      <td>6000</td>\n",
       "      <td>0.0</td>\n",
       "      <td>141.000000</td>\n",
       "      <td>360.0</td>\n",
       "      <td>1.0</td>\n",
       "      <td>Urban</td>\n",
       "      <td>1</td>\n",
       "    </tr>\n",
       "    <tr>\n",
       "      <th>...</th>\n",
       "      <td>...</td>\n",
       "      <td>...</td>\n",
       "      <td>...</td>\n",
       "      <td>...</td>\n",
       "      <td>...</td>\n",
       "      <td>...</td>\n",
       "      <td>...</td>\n",
       "      <td>...</td>\n",
       "      <td>...</td>\n",
       "      <td>...</td>\n",
       "      <td>...</td>\n",
       "      <td>...</td>\n",
       "      <td>...</td>\n",
       "    </tr>\n",
       "    <tr>\n",
       "      <th>609</th>\n",
       "      <td>LP002978</td>\n",
       "      <td>Female</td>\n",
       "      <td>No</td>\n",
       "      <td>0</td>\n",
       "      <td>Graduate</td>\n",
       "      <td>No</td>\n",
       "      <td>2900</td>\n",
       "      <td>0.0</td>\n",
       "      <td>71.000000</td>\n",
       "      <td>360.0</td>\n",
       "      <td>1.0</td>\n",
       "      <td>Rural</td>\n",
       "      <td>1</td>\n",
       "    </tr>\n",
       "    <tr>\n",
       "      <th>610</th>\n",
       "      <td>LP002979</td>\n",
       "      <td>Male</td>\n",
       "      <td>Yes</td>\n",
       "      <td>3+</td>\n",
       "      <td>Graduate</td>\n",
       "      <td>No</td>\n",
       "      <td>4106</td>\n",
       "      <td>0.0</td>\n",
       "      <td>40.000000</td>\n",
       "      <td>180.0</td>\n",
       "      <td>1.0</td>\n",
       "      <td>Rural</td>\n",
       "      <td>1</td>\n",
       "    </tr>\n",
       "    <tr>\n",
       "      <th>611</th>\n",
       "      <td>LP002983</td>\n",
       "      <td>Male</td>\n",
       "      <td>Yes</td>\n",
       "      <td>1</td>\n",
       "      <td>Graduate</td>\n",
       "      <td>No</td>\n",
       "      <td>8072</td>\n",
       "      <td>240.0</td>\n",
       "      <td>253.000000</td>\n",
       "      <td>360.0</td>\n",
       "      <td>1.0</td>\n",
       "      <td>Urban</td>\n",
       "      <td>1</td>\n",
       "    </tr>\n",
       "    <tr>\n",
       "      <th>612</th>\n",
       "      <td>LP002984</td>\n",
       "      <td>Male</td>\n",
       "      <td>Yes</td>\n",
       "      <td>2</td>\n",
       "      <td>Graduate</td>\n",
       "      <td>No</td>\n",
       "      <td>7583</td>\n",
       "      <td>0.0</td>\n",
       "      <td>187.000000</td>\n",
       "      <td>360.0</td>\n",
       "      <td>1.0</td>\n",
       "      <td>Urban</td>\n",
       "      <td>1</td>\n",
       "    </tr>\n",
       "    <tr>\n",
       "      <th>613</th>\n",
       "      <td>LP002990</td>\n",
       "      <td>Female</td>\n",
       "      <td>No</td>\n",
       "      <td>0</td>\n",
       "      <td>Graduate</td>\n",
       "      <td>Yes</td>\n",
       "      <td>4583</td>\n",
       "      <td>0.0</td>\n",
       "      <td>133.000000</td>\n",
       "      <td>360.0</td>\n",
       "      <td>0.0</td>\n",
       "      <td>Semiurban</td>\n",
       "      <td>0</td>\n",
       "    </tr>\n",
       "  </tbody>\n",
       "</table>\n",
       "<p>614 rows × 13 columns</p>\n",
       "</div>"
      ],
      "text/plain": [
       "      Loan_ID  Gender Married Dependents     Education Self_Employed  \\\n",
       "0    LP001002    Male      No          0      Graduate            No   \n",
       "1    LP001003    Male     Yes          1      Graduate            No   \n",
       "2    LP001005    Male     Yes          0      Graduate           Yes   \n",
       "3    LP001006    Male     Yes          0  Not Graduate            No   \n",
       "4    LP001008    Male      No          0      Graduate            No   \n",
       "..        ...     ...     ...        ...           ...           ...   \n",
       "609  LP002978  Female      No          0      Graduate            No   \n",
       "610  LP002979    Male     Yes         3+      Graduate            No   \n",
       "611  LP002983    Male     Yes          1      Graduate            No   \n",
       "612  LP002984    Male     Yes          2      Graduate            No   \n",
       "613  LP002990  Female      No          0      Graduate           Yes   \n",
       "\n",
       "     ApplicantIncome  CoapplicantIncome  LoanAmount  Loan_Amount_Term  \\\n",
       "0               5849                0.0  146.412162             360.0   \n",
       "1               4583             1508.0  128.000000             360.0   \n",
       "2               3000                0.0   66.000000             360.0   \n",
       "3               2583             2358.0  120.000000             360.0   \n",
       "4               6000                0.0  141.000000             360.0   \n",
       "..               ...                ...         ...               ...   \n",
       "609             2900                0.0   71.000000             360.0   \n",
       "610             4106                0.0   40.000000             180.0   \n",
       "611             8072              240.0  253.000000             360.0   \n",
       "612             7583                0.0  187.000000             360.0   \n",
       "613             4583                0.0  133.000000             360.0   \n",
       "\n",
       "     Credit_History Property_Area  Loan_Status  \n",
       "0               1.0         Urban            1  \n",
       "1               1.0         Rural            0  \n",
       "2               1.0         Urban            1  \n",
       "3               1.0         Urban            1  \n",
       "4               1.0         Urban            1  \n",
       "..              ...           ...          ...  \n",
       "609             1.0         Rural            1  \n",
       "610             1.0         Rural            1  \n",
       "611             1.0         Urban            1  \n",
       "612             1.0         Urban            1  \n",
       "613             0.0     Semiurban            0  \n",
       "\n",
       "[614 rows x 13 columns]"
      ]
     },
     "execution_count": 27,
     "metadata": {},
     "output_type": "execute_result"
    }
   ],
   "source": [
    "data['Loan_Status']=df2\n",
    "data"
   ]
  },
  {
   "cell_type": "code",
   "execution_count": 28,
   "id": "1c997bbe",
   "metadata": {},
   "outputs": [
    {
     "data": {
      "text/plain": [
       "1    422\n",
       "0    192\n",
       "Name: Loan_Status, dtype: int64"
      ]
     },
     "execution_count": 28,
     "metadata": {},
     "output_type": "execute_result"
    }
   ],
   "source": [
    "data['Loan_Status'].value_counts()"
   ]
  },
  {
   "cell_type": "code",
   "execution_count": 29,
   "id": "73aeed7c",
   "metadata": {},
   "outputs": [
    {
     "data": {
      "text/html": [
       "<div>\n",
       "<style scoped>\n",
       "    .dataframe tbody tr th:only-of-type {\n",
       "        vertical-align: middle;\n",
       "    }\n",
       "\n",
       "    .dataframe tbody tr th {\n",
       "        vertical-align: top;\n",
       "    }\n",
       "\n",
       "    .dataframe thead th {\n",
       "        text-align: right;\n",
       "    }\n",
       "</style>\n",
       "<table border=\"1\" class=\"dataframe\">\n",
       "  <thead>\n",
       "    <tr style=\"text-align: right;\">\n",
       "      <th></th>\n",
       "      <th>ApplicantIncome</th>\n",
       "      <th>CoapplicantIncome</th>\n",
       "      <th>LoanAmount</th>\n",
       "      <th>Loan_Amount_Term</th>\n",
       "      <th>Credit_History</th>\n",
       "      <th>Loan_Status</th>\n",
       "    </tr>\n",
       "  </thead>\n",
       "  <tbody>\n",
       "    <tr>\n",
       "      <th>count</th>\n",
       "      <td>614.000000</td>\n",
       "      <td>614.000000</td>\n",
       "      <td>614.000000</td>\n",
       "      <td>614.000000</td>\n",
       "      <td>614.000000</td>\n",
       "      <td>614.000000</td>\n",
       "    </tr>\n",
       "    <tr>\n",
       "      <th>mean</th>\n",
       "      <td>5403.459283</td>\n",
       "      <td>1621.245798</td>\n",
       "      <td>146.412162</td>\n",
       "      <td>342.000000</td>\n",
       "      <td>0.855049</td>\n",
       "      <td>0.687296</td>\n",
       "    </tr>\n",
       "    <tr>\n",
       "      <th>std</th>\n",
       "      <td>6109.041673</td>\n",
       "      <td>2926.248369</td>\n",
       "      <td>84.037468</td>\n",
       "      <td>64.372489</td>\n",
       "      <td>0.352339</td>\n",
       "      <td>0.463973</td>\n",
       "    </tr>\n",
       "    <tr>\n",
       "      <th>min</th>\n",
       "      <td>150.000000</td>\n",
       "      <td>0.000000</td>\n",
       "      <td>9.000000</td>\n",
       "      <td>12.000000</td>\n",
       "      <td>0.000000</td>\n",
       "      <td>0.000000</td>\n",
       "    </tr>\n",
       "    <tr>\n",
       "      <th>25%</th>\n",
       "      <td>2877.500000</td>\n",
       "      <td>0.000000</td>\n",
       "      <td>100.250000</td>\n",
       "      <td>360.000000</td>\n",
       "      <td>1.000000</td>\n",
       "      <td>0.000000</td>\n",
       "    </tr>\n",
       "    <tr>\n",
       "      <th>50%</th>\n",
       "      <td>3812.500000</td>\n",
       "      <td>1188.500000</td>\n",
       "      <td>129.000000</td>\n",
       "      <td>360.000000</td>\n",
       "      <td>1.000000</td>\n",
       "      <td>1.000000</td>\n",
       "    </tr>\n",
       "    <tr>\n",
       "      <th>75%</th>\n",
       "      <td>5795.000000</td>\n",
       "      <td>2297.250000</td>\n",
       "      <td>164.750000</td>\n",
       "      <td>360.000000</td>\n",
       "      <td>1.000000</td>\n",
       "      <td>1.000000</td>\n",
       "    </tr>\n",
       "    <tr>\n",
       "      <th>max</th>\n",
       "      <td>81000.000000</td>\n",
       "      <td>41667.000000</td>\n",
       "      <td>700.000000</td>\n",
       "      <td>480.000000</td>\n",
       "      <td>1.000000</td>\n",
       "      <td>1.000000</td>\n",
       "    </tr>\n",
       "  </tbody>\n",
       "</table>\n",
       "</div>"
      ],
      "text/plain": [
       "       ApplicantIncome  CoapplicantIncome  LoanAmount  Loan_Amount_Term  \\\n",
       "count       614.000000         614.000000  614.000000        614.000000   \n",
       "mean       5403.459283        1621.245798  146.412162        342.000000   \n",
       "std        6109.041673        2926.248369   84.037468         64.372489   \n",
       "min         150.000000           0.000000    9.000000         12.000000   \n",
       "25%        2877.500000           0.000000  100.250000        360.000000   \n",
       "50%        3812.500000        1188.500000  129.000000        360.000000   \n",
       "75%        5795.000000        2297.250000  164.750000        360.000000   \n",
       "max       81000.000000       41667.000000  700.000000        480.000000   \n",
       "\n",
       "       Credit_History  Loan_Status  \n",
       "count      614.000000   614.000000  \n",
       "mean         0.855049     0.687296  \n",
       "std          0.352339     0.463973  \n",
       "min          0.000000     0.000000  \n",
       "25%          1.000000     0.000000  \n",
       "50%          1.000000     1.000000  \n",
       "75%          1.000000     1.000000  \n",
       "max          1.000000     1.000000  "
      ]
     },
     "execution_count": 29,
     "metadata": {},
     "output_type": "execute_result"
    }
   ],
   "source": [
    "data.describe()"
   ]
  },
  {
   "cell_type": "code",
   "execution_count": 30,
   "id": "0a61d40f",
   "metadata": {},
   "outputs": [
    {
     "data": {
      "text/html": [
       "<div>\n",
       "<style scoped>\n",
       "    .dataframe tbody tr th:only-of-type {\n",
       "        vertical-align: middle;\n",
       "    }\n",
       "\n",
       "    .dataframe tbody tr th {\n",
       "        vertical-align: top;\n",
       "    }\n",
       "\n",
       "    .dataframe thead th {\n",
       "        text-align: right;\n",
       "    }\n",
       "</style>\n",
       "<table border=\"1\" class=\"dataframe\">\n",
       "  <thead>\n",
       "    <tr style=\"text-align: right;\">\n",
       "      <th></th>\n",
       "      <th>ApplicantIncome</th>\n",
       "      <th>CoapplicantIncome</th>\n",
       "      <th>LoanAmount</th>\n",
       "      <th>Loan_Amount_Term</th>\n",
       "      <th>Credit_History</th>\n",
       "      <th>Loan_Status</th>\n",
       "    </tr>\n",
       "  </thead>\n",
       "  <tbody>\n",
       "    <tr>\n",
       "      <th>ApplicantIncome</th>\n",
       "      <td>1.000000</td>\n",
       "      <td>-0.116605</td>\n",
       "      <td>0.565620</td>\n",
       "      <td>-0.045242</td>\n",
       "      <td>-0.018615</td>\n",
       "      <td>-0.004710</td>\n",
       "    </tr>\n",
       "    <tr>\n",
       "      <th>CoapplicantIncome</th>\n",
       "      <td>-0.116605</td>\n",
       "      <td>1.000000</td>\n",
       "      <td>0.187828</td>\n",
       "      <td>-0.059675</td>\n",
       "      <td>0.011134</td>\n",
       "      <td>-0.059187</td>\n",
       "    </tr>\n",
       "    <tr>\n",
       "      <th>LoanAmount</th>\n",
       "      <td>0.565620</td>\n",
       "      <td>0.187828</td>\n",
       "      <td>1.000000</td>\n",
       "      <td>0.038801</td>\n",
       "      <td>-0.001431</td>\n",
       "      <td>-0.036416</td>\n",
       "    </tr>\n",
       "    <tr>\n",
       "      <th>Loan_Amount_Term</th>\n",
       "      <td>-0.045242</td>\n",
       "      <td>-0.059675</td>\n",
       "      <td>0.038801</td>\n",
       "      <td>1.000000</td>\n",
       "      <td>0.000432</td>\n",
       "      <td>-0.020974</td>\n",
       "    </tr>\n",
       "    <tr>\n",
       "      <th>Credit_History</th>\n",
       "      <td>-0.018615</td>\n",
       "      <td>0.011134</td>\n",
       "      <td>-0.001431</td>\n",
       "      <td>0.000432</td>\n",
       "      <td>1.000000</td>\n",
       "      <td>0.540556</td>\n",
       "    </tr>\n",
       "    <tr>\n",
       "      <th>Loan_Status</th>\n",
       "      <td>-0.004710</td>\n",
       "      <td>-0.059187</td>\n",
       "      <td>-0.036416</td>\n",
       "      <td>-0.020974</td>\n",
       "      <td>0.540556</td>\n",
       "      <td>1.000000</td>\n",
       "    </tr>\n",
       "  </tbody>\n",
       "</table>\n",
       "</div>"
      ],
      "text/plain": [
       "                   ApplicantIncome  CoapplicantIncome  LoanAmount  \\\n",
       "ApplicantIncome           1.000000          -0.116605    0.565620   \n",
       "CoapplicantIncome        -0.116605           1.000000    0.187828   \n",
       "LoanAmount                0.565620           0.187828    1.000000   \n",
       "Loan_Amount_Term         -0.045242          -0.059675    0.038801   \n",
       "Credit_History           -0.018615           0.011134   -0.001431   \n",
       "Loan_Status              -0.004710          -0.059187   -0.036416   \n",
       "\n",
       "                   Loan_Amount_Term  Credit_History  Loan_Status  \n",
       "ApplicantIncome           -0.045242       -0.018615    -0.004710  \n",
       "CoapplicantIncome         -0.059675        0.011134    -0.059187  \n",
       "LoanAmount                 0.038801       -0.001431    -0.036416  \n",
       "Loan_Amount_Term           1.000000        0.000432    -0.020974  \n",
       "Credit_History             0.000432        1.000000     0.540556  \n",
       "Loan_Status               -0.020974        0.540556     1.000000  "
      ]
     },
     "execution_count": 30,
     "metadata": {},
     "output_type": "execute_result"
    }
   ],
   "source": [
    "data.corr()"
   ]
  },
  {
   "cell_type": "code",
   "execution_count": 31,
   "id": "1f06e31c",
   "metadata": {},
   "outputs": [
    {
     "data": {
      "text/plain": [
       "<AxesSubplot:>"
      ]
     },
     "execution_count": 31,
     "metadata": {},
     "output_type": "execute_result"
    },
    {
     "data": {
      "image/png": "[encoded data removed]",
      "text/plain": [
       "<Figure size 576x360 with 2 Axes>"
      ]
     },
     "metadata": {
      "needs_background": "light"
     },
     "output_type": "display_data"
    }
   ],
   "source": [
    "plt.figure(figsize=(8,5))\n",
    "sns.heatmap(data.corr(), annot=True)"
   ]
  },
  {
   "cell_type": "markdown",
   "id": "ea4d9e29",
   "metadata": {},
   "source": [
    "# EDA"
   ]
  },
  {
   "cell_type": "markdown",
   "id": "718fe25e",
   "metadata": {},
   "source": [
    "# Histogram"
   ]
  },
  {
   "cell_type": "code",
   "execution_count": 32,
   "id": "8689c7e6",
   "metadata": {},
   "outputs": [
    {
     "data": {
      "image/png": "[encoded data removed]",
      "text/plain": [
       "<Figure size 864x864 with 9 Axes>"
      ]
     },
     "metadata": {
      "needs_background": "light"
     },
     "output_type": "display_data"
    }
   ],
   "source": [
    "data.hist(figsize=(12,12),layout=(3,3),sharex=False);"
   ]
  },
  {
   "cell_type": "markdown",
   "id": "fab93300",
   "metadata": {},
   "source": [
    "# BOXPLOT"
   ]
  },
  {
   "cell_type": "code",
   "execution_count": 33,
   "id": "aa131eaa",
   "metadata": {},
   "outputs": [
    {
     "data": {
      "image/png": "[encoded data removed]",
      "text/plain": [
       "<Figure size 864x864 with 9 Axes>"
      ]
     },
     "metadata": {
      "needs_background": "light"
     },
     "output_type": "display_data"
    }
   ],
   "source": [
    "data.plot(kind='box',figsize=(12,12), layout=(3,3), sharex=False, subplots=True);"
   ]
  },
  {
   "cell_type": "code",
   "execution_count": 34,
   "id": "406a973c",
   "metadata": {},
   "outputs": [
    {
     "data": {
      "text/plain": [
       "<AxesSubplot:xlabel='Gender', ylabel='count'>"
      ]
     },
     "execution_count": 34,
     "metadata": {},
     "output_type": "execute_result"
    },
    {
     "data": {
      "image/png": "[encoded data removed]",
      "text/plain": [
       "<Figure size 432x288 with 1 Axes>"
      ]
     },
     "metadata": {
      "needs_background": "light"
     },
     "output_type": "display_data"
    }
   ],
   "source": [
    "sns.countplot(data['Gender'])"
   ]
  },
  {
   "cell_type": "code",
   "execution_count": 35,
   "id": "2bdb37aa",
   "metadata": {},
   "outputs": [
    {
     "data": {
      "text/plain": [
       "<AxesSubplot:xlabel='Married', ylabel='count'>"
      ]
     },
     "execution_count": 35,
     "metadata": {},
     "output_type": "execute_result"
    },
    {
     "data": {
      "image/png": "[encoded data removed]",
      "text/plain": [
       "<Figure size 432x288 with 1 Axes>"
      ]
     },
     "metadata": {
      "needs_background": "light"
     },
     "output_type": "display_data"
    }
   ],
   "source": [
    "sns.countplot(data['Married'])"
   ]
  },
  {
   "cell_type": "code",
   "execution_count": 36,
   "id": "8fbb01fe",
   "metadata": {},
   "outputs": [
    {
     "data": {
      "text/plain": [
       "<AxesSubplot:xlabel='Gender', ylabel='count'>"
      ]
     },
     "execution_count": 36,
     "metadata": {},
     "output_type": "execute_result"
    },
    {
     "data": {
      "image/png": "[encoded data removed]",
      "text/plain": [
       "<Figure size 432x288 with 1 Axes>"
      ]
     },
     "metadata": {
      "needs_background": "light"
     },
     "output_type": "display_data"
    }
   ],
   "source": [
    "sns.countplot(data['Gender'], hue=data['Married'])"
   ]
  },
  {
   "cell_type": "code",
   "execution_count": 37,
   "id": "508f8011",
   "metadata": {},
   "outputs": [
    {
     "data": {
      "text/plain": [
       "<AxesSubplot:xlabel='Dependents', ylabel='count'>"
      ]
     },
     "execution_count": 37,
     "metadata": {},
     "output_type": "execute_result"
    },
    {
     "data": {
      "image/png": "[encoded data removed]",
      "text/plain": [
       "<Figure size 432x288 with 1 Axes>"
      ]
     },
     "metadata": {
      "needs_background": "light"
     },
     "output_type": "display_data"
    }
   ],
   "source": [
    "sns.countplot(data['Dependents'])"
   ]
  },
  {
   "cell_type": "code",
   "execution_count": 38,
   "id": "1b2907dd",
   "metadata": {},
   "outputs": [
    {
     "data": {
      "text/plain": [
       "<AxesSubplot:xlabel='Dependents', ylabel='count'>"
      ]
     },
     "execution_count": 38,
     "metadata": {},
     "output_type": "execute_result"
    },
    {
     "data": {
      "image/png": "[encoded data removed]",
      "text/plain": [
       "<Figure size 432x288 with 1 Axes>"
      ]
     },
     "metadata": {
      "needs_background": "light"
     },
     "output_type": "display_data"
    }
   ],
   "source": [
    "sns.countplot(data['Dependents'],hue=data['Married'])"
   ]
  },
  {
   "cell_type": "code",
   "execution_count": 39,
   "id": "3ee49470",
   "metadata": {},
   "outputs": [
    {
     "data": {
      "text/plain": [
       "<AxesSubplot:xlabel='Dependents', ylabel='count'>"
      ]
     },
     "execution_count": 39,
     "metadata": {},
     "output_type": "execute_result"
    },
    {
     "data": {
      "image/png": "[encoded data removed]",
      "text/plain": [
       "<Figure size 720x360 with 1 Axes>"
      ]
     },
     "metadata": {
      "needs_background": "light"
     },
     "output_type": "display_data"
    }
   ],
   "source": [
    "plt.figure(figsize=(10,5))\n",
    "sns.countplot(data['Dependents'], hue='Loan_Status', data=data, palette='magma')"
   ]
  },
  {
   "cell_type": "code",
   "execution_count": 40,
   "id": "b1327d0e",
   "metadata": {},
   "outputs": [
    {
     "data": {
      "text/plain": [
       "<AxesSubplot:xlabel='Education', ylabel='count'>"
      ]
     },
     "execution_count": 40,
     "metadata": {},
     "output_type": "execute_result"
    },
    {
     "data": {
      "image/png": "[encoded data removed]",
      "text/plain": [
       "<Figure size 720x360 with 1 Axes>"
      ]
     },
     "metadata": {
      "needs_background": "light"
     },
     "output_type": "display_data"
    }
   ],
   "source": [
    "plt.figure(figsize=(10,5))\n",
    "sns.countplot(data['Education'], hue='Loan_Status', data=data, palette='magma')"
   ]
  },
  {
   "cell_type": "code",
   "execution_count": 41,
   "id": "a27f25c0",
   "metadata": {},
   "outputs": [
    {
     "data": {
      "text/plain": [
       "<AxesSubplot:xlabel='Education', ylabel='count'>"
      ]
     },
     "execution_count": 41,
     "metadata": {},
     "output_type": "execute_result"
    },
    {
     "data": {
      "image/png": "[encoded data removed]",
      "text/plain": [
       "<Figure size 720x360 with 1 Axes>"
      ]
     },
     "metadata": {
      "needs_background": "light"
     },
     "output_type": "display_data"
    }
   ],
   "source": [
    "plt.figure(figsize=(10,5))\n",
    "sns.countplot(data['Education'], hue='Gender', data=data, palette='magma')"
   ]
  },
  {
   "cell_type": "code",
   "execution_count": 42,
   "id": "d19de366",
   "metadata": {},
   "outputs": [
    {
     "data": {
      "text/plain": [
       "<AxesSubplot:xlabel='Married', ylabel='count'>"
      ]
     },
     "execution_count": 42,
     "metadata": {},
     "output_type": "execute_result"
    },
    {
     "data": {
      "image/png": "[encoded data removed]",
      "text/plain": [
       "<Figure size 720x360 with 1 Axes>"
      ]
     },
     "metadata": {
      "needs_background": "light"
     },
     "output_type": "display_data"
    }
   ],
   "source": [
    "plt.figure(figsize=(10,5))\n",
    "sns.countplot(data['Married'], hue='Loan_Status', data=data, palette='magma')"
   ]
  },
  {
   "cell_type": "code",
   "execution_count": 43,
   "id": "2494e1ff",
   "metadata": {},
   "outputs": [
    {
     "data": {
      "text/plain": [
       "<AxesSubplot:xlabel='Self_Employed', ylabel='count'>"
      ]
     },
     "execution_count": 43,
     "metadata": {},
     "output_type": "execute_result"
    },
    {
     "data": {
      "image/png": "[encoded data removed]",
      "text/plain": [
       "<Figure size 720x360 with 1 Axes>"
      ]
     },
     "metadata": {
      "needs_background": "light"
     },
     "output_type": "display_data"
    }
   ],
   "source": [
    "plt.figure(figsize=(10,5))\n",
    "sns.countplot(data['Self_Employed'], hue='Loan_Status', data=data, palette='magma')"
   ]
  },
  {
   "cell_type": "code",
   "execution_count": 44,
   "id": "e0d48e97",
   "metadata": {},
   "outputs": [
    {
     "data": {
      "text/plain": [
       "<AxesSubplot:xlabel='Loan_Status', ylabel='ApplicantIncome'>"
      ]
     },
     "execution_count": 44,
     "metadata": {},
     "output_type": "execute_result"
    },
    {
     "data": {
      "image/png": "[encoded data removed]",
      "text/plain": [
       "<Figure size 432x288 with 1 Axes>"
      ]
     },
     "metadata": {
      "needs_background": "light"
     },
     "output_type": "display_data"
    }
   ],
   "source": [
    "sns.barplot(x='Loan_Status',y='ApplicantIncome', data=data,palette='magma')"
   ]
  },
  {
   "cell_type": "code",
   "execution_count": 45,
   "id": "9661ae44",
   "metadata": {},
   "outputs": [
    {
     "data": {
      "text/plain": [
       "<AxesSubplot:xlabel='ApplicantIncome', ylabel='Loan_Status'>"
      ]
     },
     "execution_count": 45,
     "metadata": {},
     "output_type": "execute_result"
    },
    {
     "data": {
      "image/png": "[encoded data removed]",
      "text/plain": [
       "<Figure size 720x360 with 1 Axes>"
      ]
     },
     "metadata": {
      "needs_background": "light"
     },
     "output_type": "display_data"
    }
   ],
   "source": [
    "plt.figure(figsize=(10,5))\n",
    "sns.boxplot(x=data['ApplicantIncome'],y=data['Loan_Status'],orient='h',palette='magma')"
   ]
  },
  {
   "cell_type": "markdown",
   "id": "5c299171",
   "metadata": {},
   "source": [
    "# LoanAmount vs Loan"
   ]
  },
  {
   "cell_type": "code",
   "execution_count": 46,
   "id": "f9db9b59",
   "metadata": {},
   "outputs": [
    {
     "data": {
      "image/png": "[encoded data removed]",
      "text/plain": [
       "<Figure size 432x288 with 1 Axes>"
      ]
     },
     "metadata": {
      "needs_background": "light"
     },
     "output_type": "display_data"
    }
   ],
   "source": [
    "sns.barplot(y=data['LoanAmount'],x=data['Loan_Status'],palette='magma');"
   ]
  },
  {
   "cell_type": "code",
   "execution_count": 47,
   "id": "9367e845",
   "metadata": {},
   "outputs": [
    {
     "data": {
      "text/plain": [
       "<AxesSubplot:xlabel='Loan_Amount_Term', ylabel='count'>"
      ]
     },
     "execution_count": 47,
     "metadata": {},
     "output_type": "execute_result"
    },
    {
     "data": {
      "image/png": "[encoded data removed]",
      "text/plain": [
       "<Figure size 720x360 with 1 Axes>"
      ]
     },
     "metadata": {
      "needs_background": "light"
     },
     "output_type": "display_data"
    }
   ],
   "source": [
    "plt.figure(figsize=(10,5))\n",
    "sns.countplot(data['Loan_Amount_Term'],hue='Loan_Status',data=data,palette='magma')"
   ]
  },
  {
   "cell_type": "markdown",
   "id": "ff75ed40",
   "metadata": {},
   "source": [
    "# Property_Area vs Loan"
   ]
  },
  {
   "cell_type": "code",
   "execution_count": 48,
   "id": "c0da4e66",
   "metadata": {},
   "outputs": [
    {
     "data": {
      "image/png": "[encoded data removed]",
      "text/plain": [
       "<Figure size 720x360 with 1 Axes>"
      ]
     },
     "metadata": {
      "needs_background": "light"
     },
     "output_type": "display_data"
    }
   ],
   "source": [
    "plt.figure(figsize=(10,5))\n",
    "sns.countplot(data['Property_Area'],hue=data['Loan_Status'],palette='magma');"
   ]
  },
  {
   "cell_type": "markdown",
   "id": "8f5556a8",
   "metadata": {},
   "source": [
    "# Credit_History vs Loan"
   ]
  },
  {
   "cell_type": "code",
   "execution_count": 49,
   "id": "273d3548",
   "metadata": {},
   "outputs": [
    {
     "data": {
      "image/png": "[encoded data removed]",
      "text/plain": [
       "<Figure size 720x360 with 1 Axes>"
      ]
     },
     "metadata": {
      "needs_background": "light"
     },
     "output_type": "display_data"
    }
   ],
   "source": [
    "plt.figure(figsize=(10,5))\n",
    "sns.countplot(data['Credit_History'],hue=data['Loan_Status'],palette='magma');"
   ]
  },
  {
   "cell_type": "markdown",
   "id": "404afd21",
   "metadata": {},
   "source": [
    "# CHECKING FOR OUTLIERS"
   ]
  },
  {
   "cell_type": "code",
   "execution_count": 50,
   "id": "cd47c332",
   "metadata": {},
   "outputs": [
    {
     "data": {
      "text/html": [
       "<div>\n",
       "<style scoped>\n",
       "    .dataframe tbody tr th:only-of-type {\n",
       "        vertical-align: middle;\n",
       "    }\n",
       "\n",
       "    .dataframe tbody tr th {\n",
       "        vertical-align: top;\n",
       "    }\n",
       "\n",
       "    .dataframe thead th {\n",
       "        text-align: right;\n",
       "    }\n",
       "</style>\n",
       "<table border=\"1\" class=\"dataframe\">\n",
       "  <thead>\n",
       "    <tr style=\"text-align: right;\">\n",
       "      <th></th>\n",
       "      <th>ApplicantIncome</th>\n",
       "      <th>CoapplicantIncome</th>\n",
       "      <th>LoanAmount</th>\n",
       "      <th>Loan_Amount_Term</th>\n",
       "      <th>Credit_History</th>\n",
       "      <th>Loan_Status</th>\n",
       "    </tr>\n",
       "  </thead>\n",
       "  <tbody>\n",
       "    <tr>\n",
       "      <th>count</th>\n",
       "      <td>614.000000</td>\n",
       "      <td>614.000000</td>\n",
       "      <td>614.000000</td>\n",
       "      <td>614.000000</td>\n",
       "      <td>614.000000</td>\n",
       "      <td>614.000000</td>\n",
       "    </tr>\n",
       "    <tr>\n",
       "      <th>mean</th>\n",
       "      <td>5403.459283</td>\n",
       "      <td>1621.245798</td>\n",
       "      <td>146.412162</td>\n",
       "      <td>342.000000</td>\n",
       "      <td>0.855049</td>\n",
       "      <td>0.687296</td>\n",
       "    </tr>\n",
       "    <tr>\n",
       "      <th>std</th>\n",
       "      <td>6109.041673</td>\n",
       "      <td>2926.248369</td>\n",
       "      <td>84.037468</td>\n",
       "      <td>64.372489</td>\n",
       "      <td>0.352339</td>\n",
       "      <td>0.463973</td>\n",
       "    </tr>\n",
       "    <tr>\n",
       "      <th>min</th>\n",
       "      <td>150.000000</td>\n",
       "      <td>0.000000</td>\n",
       "      <td>9.000000</td>\n",
       "      <td>12.000000</td>\n",
       "      <td>0.000000</td>\n",
       "      <td>0.000000</td>\n",
       "    </tr>\n",
       "    <tr>\n",
       "      <th>25%</th>\n",
       "      <td>2877.500000</td>\n",
       "      <td>0.000000</td>\n",
       "      <td>100.250000</td>\n",
       "      <td>360.000000</td>\n",
       "      <td>1.000000</td>\n",
       "      <td>0.000000</td>\n",
       "    </tr>\n",
       "    <tr>\n",
       "      <th>50%</th>\n",
       "      <td>3812.500000</td>\n",
       "      <td>1188.500000</td>\n",
       "      <td>129.000000</td>\n",
       "      <td>360.000000</td>\n",
       "      <td>1.000000</td>\n",
       "      <td>1.000000</td>\n",
       "    </tr>\n",
       "    <tr>\n",
       "      <th>75%</th>\n",
       "      <td>5795.000000</td>\n",
       "      <td>2297.250000</td>\n",
       "      <td>164.750000</td>\n",
       "      <td>360.000000</td>\n",
       "      <td>1.000000</td>\n",
       "      <td>1.000000</td>\n",
       "    </tr>\n",
       "    <tr>\n",
       "      <th>max</th>\n",
       "      <td>81000.000000</td>\n",
       "      <td>41667.000000</td>\n",
       "      <td>700.000000</td>\n",
       "      <td>480.000000</td>\n",
       "      <td>1.000000</td>\n",
       "      <td>1.000000</td>\n",
       "    </tr>\n",
       "  </tbody>\n",
       "</table>\n",
       "</div>"
      ],
      "text/plain": [
       "       ApplicantIncome  CoapplicantIncome  LoanAmount  Loan_Amount_Term  \\\n",
       "count       614.000000         614.000000  614.000000        614.000000   \n",
       "mean       5403.459283        1621.245798  146.412162        342.000000   \n",
       "std        6109.041673        2926.248369   84.037468         64.372489   \n",
       "min         150.000000           0.000000    9.000000         12.000000   \n",
       "25%        2877.500000           0.000000  100.250000        360.000000   \n",
       "50%        3812.500000        1188.500000  129.000000        360.000000   \n",
       "75%        5795.000000        2297.250000  164.750000        360.000000   \n",
       "max       81000.000000       41667.000000  700.000000        480.000000   \n",
       "\n",
       "       Credit_History  Loan_Status  \n",
       "count      614.000000   614.000000  \n",
       "mean         0.855049     0.687296  \n",
       "std          0.352339     0.463973  \n",
       "min          0.000000     0.000000  \n",
       "25%          1.000000     0.000000  \n",
       "50%          1.000000     1.000000  \n",
       "75%          1.000000     1.000000  \n",
       "max          1.000000     1.000000  "
      ]
     },
     "execution_count": 50,
     "metadata": {},
     "output_type": "execute_result"
    }
   ],
   "source": [
    "data.describe()"
   ]
  },
  {
   "cell_type": "code",
   "execution_count": 51,
   "id": "d17807ee",
   "metadata": {},
   "outputs": [
    {
     "data": {
      "image/png": "[encoded data removed]",
      "text/plain": [
       "<Figure size 1080x720 with 6 Axes>"
      ]
     },
     "metadata": {},
     "output_type": "display_data"
    }
   ],
   "source": [
    "numerical_col=['ApplicantIncome','CoapplicantIncome','LoanAmount','Loan_Amount_Term','Credit_History','Loan_Status']\n",
    "plt.figure(figsize=(15,10), facecolor='white')\n",
    "plotnumber = 1\n",
    "\n",
    "for column in numerical_col:\n",
    "    if plotnumber<=6:\n",
    "        ax = plt.subplot(2,3,plotnumber)\n",
    "        sns.boxplot(data[column],color='g')\n",
    "        plt.xlabel(column,fontsize=20)\n",
    "    plotnumber+=1\n",
    "plt.show()"
   ]
  },
  {
   "cell_type": "markdown",
   "id": "53caa45d",
   "metadata": {},
   "source": [
    "# Removing Outliers:\n",
    "# Zscore method:"
   ]
  },
  {
   "cell_type": "code",
   "execution_count": 52,
   "id": "eba32f28",
   "metadata": {},
   "outputs": [],
   "source": [
    "from scipy.stats import zscore\n",
    "z_score=zscore(data[['ApplicantIncome','CoapplicantIncome','LoanAmount','Loan_Amount_Term']])\n",
    "abs_z_score=np.abs(z_score)"
   ]
  },
  {
   "cell_type": "code",
   "execution_count": 53,
   "id": "e3e53f4d",
   "metadata": {},
   "outputs": [
    {
     "data": {
      "text/html": [
       "<div>\n",
       "<style scoped>\n",
       "    .dataframe tbody tr th:only-of-type {\n",
       "        vertical-align: middle;\n",
       "    }\n",
       "\n",
       "    .dataframe tbody tr th {\n",
       "        vertical-align: top;\n",
       "    }\n",
       "\n",
       "    .dataframe thead th {\n",
       "        text-align: right;\n",
       "    }\n",
       "</style>\n",
       "<table border=\"1\" class=\"dataframe\">\n",
       "  <thead>\n",
       "    <tr style=\"text-align: right;\">\n",
       "      <th></th>\n",
       "      <th>ApplicantIncome</th>\n",
       "      <th>CoapplicantIncome</th>\n",
       "      <th>LoanAmount</th>\n",
       "      <th>Loan_Amount_Term</th>\n",
       "      <th>Credit_History</th>\n",
       "      <th>Loan_Status</th>\n",
       "    </tr>\n",
       "  </thead>\n",
       "  <tbody>\n",
       "    <tr>\n",
       "      <th>count</th>\n",
       "      <td>577.000000</td>\n",
       "      <td>577.000000</td>\n",
       "      <td>577.000000</td>\n",
       "      <td>577.000000</td>\n",
       "      <td>577.000000</td>\n",
       "      <td>577.000000</td>\n",
       "    </tr>\n",
       "    <tr>\n",
       "      <th>mean</th>\n",
       "      <td>4666.020797</td>\n",
       "      <td>1420.807487</td>\n",
       "      <td>136.048644</td>\n",
       "      <td>347.604853</td>\n",
       "      <td>0.850953</td>\n",
       "      <td>0.689775</td>\n",
       "    </tr>\n",
       "    <tr>\n",
       "      <th>std</th>\n",
       "      <td>2965.452652</td>\n",
       "      <td>1651.545352</td>\n",
       "      <td>56.193532</td>\n",
       "      <td>51.819095</td>\n",
       "      <td>0.356444</td>\n",
       "      <td>0.462987</td>\n",
       "    </tr>\n",
       "    <tr>\n",
       "      <th>min</th>\n",
       "      <td>150.000000</td>\n",
       "      <td>0.000000</td>\n",
       "      <td>9.000000</td>\n",
       "      <td>180.000000</td>\n",
       "      <td>0.000000</td>\n",
       "      <td>0.000000</td>\n",
       "    </tr>\n",
       "    <tr>\n",
       "      <th>25%</th>\n",
       "      <td>2833.000000</td>\n",
       "      <td>0.000000</td>\n",
       "      <td>100.000000</td>\n",
       "      <td>360.000000</td>\n",
       "      <td>1.000000</td>\n",
       "      <td>0.000000</td>\n",
       "    </tr>\n",
       "    <tr>\n",
       "      <th>50%</th>\n",
       "      <td>3750.000000</td>\n",
       "      <td>1255.000000</td>\n",
       "      <td>128.000000</td>\n",
       "      <td>360.000000</td>\n",
       "      <td>1.000000</td>\n",
       "      <td>1.000000</td>\n",
       "    </tr>\n",
       "    <tr>\n",
       "      <th>75%</th>\n",
       "      <td>5532.000000</td>\n",
       "      <td>2253.000000</td>\n",
       "      <td>160.000000</td>\n",
       "      <td>360.000000</td>\n",
       "      <td>1.000000</td>\n",
       "      <td>1.000000</td>\n",
       "    </tr>\n",
       "    <tr>\n",
       "      <th>max</th>\n",
       "      <td>20667.000000</td>\n",
       "      <td>8980.000000</td>\n",
       "      <td>380.000000</td>\n",
       "      <td>480.000000</td>\n",
       "      <td>1.000000</td>\n",
       "      <td>1.000000</td>\n",
       "    </tr>\n",
       "  </tbody>\n",
       "</table>\n",
       "</div>"
      ],
      "text/plain": [
       "       ApplicantIncome  CoapplicantIncome  LoanAmount  Loan_Amount_Term  \\\n",
       "count       577.000000         577.000000  577.000000        577.000000   \n",
       "mean       4666.020797        1420.807487  136.048644        347.604853   \n",
       "std        2965.452652        1651.545352   56.193532         51.819095   \n",
       "min         150.000000           0.000000    9.000000        180.000000   \n",
       "25%        2833.000000           0.000000  100.000000        360.000000   \n",
       "50%        3750.000000        1255.000000  128.000000        360.000000   \n",
       "75%        5532.000000        2253.000000  160.000000        360.000000   \n",
       "max       20667.000000        8980.000000  380.000000        480.000000   \n",
       "\n",
       "       Credit_History  Loan_Status  \n",
       "count      577.000000   577.000000  \n",
       "mean         0.850953     0.689775  \n",
       "std          0.356444     0.462987  \n",
       "min          0.000000     0.000000  \n",
       "25%          1.000000     0.000000  \n",
       "50%          1.000000     1.000000  \n",
       "75%          1.000000     1.000000  \n",
       "max          1.000000     1.000000  "
      ]
     },
     "execution_count": 53,
     "metadata": {},
     "output_type": "execute_result"
    }
   ],
   "source": [
    "filtering_entry=(abs_z_score<3).all(axis=1)\n",
    "data=data[filtering_entry]\n",
    "data.describe()"
   ]
  },
  {
   "cell_type": "markdown",
   "id": "2fa694f4",
   "metadata": {},
   "source": [
    "# Checking and removing Skewness:"
   ]
  },
  {
   "cell_type": "code",
   "execution_count": 54,
   "id": "f8660118",
   "metadata": {},
   "outputs": [
    {
     "data": {
      "image/png": "[encoded data removed]",
      "text/plain": [
       "<Figure size 1080x720 with 6 Axes>"
      ]
     },
     "metadata": {},
     "output_type": "display_data"
    }
   ],
   "source": [
    "numerical_col=['ApplicantIncome','CoapplicantIncome','LoanAmount','Loan_Amount_Term','Credit_History','Loan_Status']\n",
    "plt.figure(figsize=(15,10), facecolor='white')\n",
    "plotnumber = 1\n",
    "\n",
    "for column in numerical_col:\n",
    "    if plotnumber<=6:\n",
    "        ax = plt.subplot(2,3,plotnumber)\n",
    "        sns.distplot(data[column],color='r')\n",
    "        plt.xlabel(column,fontsize=20)\n",
    "    plotnumber+=1\n",
    "plt.show()"
   ]
  },
  {
   "cell_type": "code",
   "execution_count": 55,
   "id": "4a41b391",
   "metadata": {},
   "outputs": [
    {
     "data": {
      "text/plain": [
       "ApplicantIncome      2.148522\n",
       "CoapplicantIncome    1.350517\n",
       "LoanAmount           1.113132\n",
       "Loan_Amount_Term    -2.077031\n",
       "Credit_History      -1.976043\n",
       "Loan_Status         -0.822635\n",
       "dtype: float64"
      ]
     },
     "execution_count": 55,
     "metadata": {},
     "output_type": "execute_result"
    }
   ],
   "source": [
    "data.skew()"
   ]
  },
  {
   "cell_type": "code",
   "execution_count": 56,
   "id": "c5f9e800",
   "metadata": {},
   "outputs": [],
   "source": [
    "from sklearn.preprocessing import power_transform\n",
    "\n",
    "data[['ApplicantIncome','CoapplicantIncome','LoanAmount','Loan_Amount_Term']]=power_transform(data[['ApplicantIncome','CoapplicantIncome','LoanAmount','Loan_Amount_Term']])\n",
    "   "
   ]
  },
  {
   "cell_type": "code",
   "execution_count": 57,
   "id": "9f751833",
   "metadata": {},
   "outputs": [
    {
     "data": {
      "text/plain": [
       "ApplicantIncome      0.027981\n",
       "CoapplicantIncome   -0.191876\n",
       "LoanAmount           0.047692\n",
       "Loan_Amount_Term     0.718470\n",
       "Credit_History      -1.976043\n",
       "Loan_Status         -0.822635\n",
       "dtype: float64"
      ]
     },
     "execution_count": 57,
     "metadata": {},
     "output_type": "execute_result"
    }
   ],
   "source": [
    "data.skew()"
   ]
  },
  {
   "cell_type": "markdown",
   "id": "f56384f6",
   "metadata": {},
   "source": [
    "# Encoding:"
   ]
  },
  {
   "cell_type": "code",
   "execution_count": 58,
   "id": "3bc563d9",
   "metadata": {},
   "outputs": [
    {
     "data": {
      "text/html": [
       "<div>\n",
       "<style scoped>\n",
       "    .dataframe tbody tr th:only-of-type {\n",
       "        vertical-align: middle;\n",
       "    }\n",
       "\n",
       "    .dataframe tbody tr th {\n",
       "        vertical-align: top;\n",
       "    }\n",
       "\n",
       "    .dataframe thead th {\n",
       "        text-align: right;\n",
       "    }\n",
       "</style>\n",
       "<table border=\"1\" class=\"dataframe\">\n",
       "  <thead>\n",
       "    <tr style=\"text-align: right;\">\n",
       "      <th></th>\n",
       "      <th>Loan_ID</th>\n",
       "      <th>Gender</th>\n",
       "      <th>Married</th>\n",
       "      <th>Dependents</th>\n",
       "      <th>Education</th>\n",
       "      <th>Self_Employed</th>\n",
       "      <th>ApplicantIncome</th>\n",
       "      <th>CoapplicantIncome</th>\n",
       "      <th>LoanAmount</th>\n",
       "      <th>Loan_Amount_Term</th>\n",
       "      <th>Credit_History</th>\n",
       "      <th>Property_Area</th>\n",
       "      <th>Loan_Status</th>\n",
       "    </tr>\n",
       "  </thead>\n",
       "  <tbody>\n",
       "    <tr>\n",
       "      <th>0</th>\n",
       "      <td>0</td>\n",
       "      <td>1</td>\n",
       "      <td>0</td>\n",
       "      <td>0</td>\n",
       "      <td>0</td>\n",
       "      <td>0</td>\n",
       "      <td>364</td>\n",
       "      <td>0</td>\n",
       "      <td>98</td>\n",
       "      <td>4</td>\n",
       "      <td>1</td>\n",
       "      <td>2</td>\n",
       "      <td>1</td>\n",
       "    </tr>\n",
       "    <tr>\n",
       "      <th>1</th>\n",
       "      <td>1</td>\n",
       "      <td>1</td>\n",
       "      <td>1</td>\n",
       "      <td>1</td>\n",
       "      <td>0</td>\n",
       "      <td>0</td>\n",
       "      <td>296</td>\n",
       "      <td>57</td>\n",
       "      <td>79</td>\n",
       "      <td>4</td>\n",
       "      <td>1</td>\n",
       "      <td>0</td>\n",
       "      <td>0</td>\n",
       "    </tr>\n",
       "    <tr>\n",
       "      <th>2</th>\n",
       "      <td>2</td>\n",
       "      <td>1</td>\n",
       "      <td>1</td>\n",
       "      <td>0</td>\n",
       "      <td>0</td>\n",
       "      <td>1</td>\n",
       "      <td>134</td>\n",
       "      <td>0</td>\n",
       "      <td>24</td>\n",
       "      <td>4</td>\n",
       "      <td>1</td>\n",
       "      <td>2</td>\n",
       "      <td>1</td>\n",
       "    </tr>\n",
       "    <tr>\n",
       "      <th>3</th>\n",
       "      <td>3</td>\n",
       "      <td>1</td>\n",
       "      <td>1</td>\n",
       "      <td>0</td>\n",
       "      <td>1</td>\n",
       "      <td>0</td>\n",
       "      <td>86</td>\n",
       "      <td>157</td>\n",
       "      <td>71</td>\n",
       "      <td>4</td>\n",
       "      <td>1</td>\n",
       "      <td>2</td>\n",
       "      <td>1</td>\n",
       "    </tr>\n",
       "    <tr>\n",
       "      <th>4</th>\n",
       "      <td>4</td>\n",
       "      <td>1</td>\n",
       "      <td>0</td>\n",
       "      <td>0</td>\n",
       "      <td>0</td>\n",
       "      <td>0</td>\n",
       "      <td>369</td>\n",
       "      <td>0</td>\n",
       "      <td>92</td>\n",
       "      <td>4</td>\n",
       "      <td>1</td>\n",
       "      <td>2</td>\n",
       "      <td>1</td>\n",
       "    </tr>\n",
       "  </tbody>\n",
       "</table>\n",
       "</div>"
      ],
      "text/plain": [
       "   Loan_ID  Gender  Married  Dependents  Education  Self_Employed  \\\n",
       "0        0       1        0           0          0              0   \n",
       "1        1       1        1           1          0              0   \n",
       "2        2       1        1           0          0              1   \n",
       "3        3       1        1           0          1              0   \n",
       "4        4       1        0           0          0              0   \n",
       "\n",
       "   ApplicantIncome  CoapplicantIncome  LoanAmount  Loan_Amount_Term  \\\n",
       "0              364                  0          98                 4   \n",
       "1              296                 57          79                 4   \n",
       "2              134                  0          24                 4   \n",
       "3               86                157          71                 4   \n",
       "4              369                  0          92                 4   \n",
       "\n",
       "   Credit_History  Property_Area  Loan_Status  \n",
       "0               1              2            1  \n",
       "1               1              0            0  \n",
       "2               1              2            1  \n",
       "3               1              2            1  \n",
       "4               1              2            1  "
      ]
     },
     "execution_count": 58,
     "metadata": {},
     "output_type": "execute_result"
    }
   ],
   "source": [
    "df1 = data.copy()\n",
    "df1 = df1.apply(LabelEncoder().fit_transform)\n",
    "df1.head()"
   ]
  },
  {
   "cell_type": "code",
   "execution_count": 59,
   "id": "56033f47",
   "metadata": {},
   "outputs": [
    {
     "data": {
      "text/plain": [
       "(577, 13)"
      ]
     },
     "execution_count": 59,
     "metadata": {},
     "output_type": "execute_result"
    }
   ],
   "source": [
    "data.shape"
   ]
  },
  {
   "cell_type": "markdown",
   "id": "3fb26280",
   "metadata": {},
   "source": [
    "# Correlation using HEAT map:"
   ]
  },
  {
   "cell_type": "code",
   "execution_count": 60,
   "id": "487b52be",
   "metadata": {},
   "outputs": [
    {
     "data": {
      "text/html": [
       "<div>\n",
       "<style scoped>\n",
       "    .dataframe tbody tr th:only-of-type {\n",
       "        vertical-align: middle;\n",
       "    }\n",
       "\n",
       "    .dataframe tbody tr th {\n",
       "        vertical-align: top;\n",
       "    }\n",
       "\n",
       "    .dataframe thead th {\n",
       "        text-align: right;\n",
       "    }\n",
       "</style>\n",
       "<table border=\"1\" class=\"dataframe\">\n",
       "  <thead>\n",
       "    <tr style=\"text-align: right;\">\n",
       "      <th></th>\n",
       "      <th>Loan_ID</th>\n",
       "      <th>Gender</th>\n",
       "      <th>Married</th>\n",
       "      <th>Dependents</th>\n",
       "      <th>Education</th>\n",
       "      <th>Self_Employed</th>\n",
       "      <th>ApplicantIncome</th>\n",
       "      <th>CoapplicantIncome</th>\n",
       "      <th>LoanAmount</th>\n",
       "      <th>Loan_Amount_Term</th>\n",
       "      <th>Credit_History</th>\n",
       "      <th>Property_Area</th>\n",
       "      <th>Loan_Status</th>\n",
       "    </tr>\n",
       "  </thead>\n",
       "  <tbody>\n",
       "    <tr>\n",
       "      <th>Loan_ID</th>\n",
       "      <td>1.000000</td>\n",
       "      <td>-0.011887</td>\n",
       "      <td>-0.013677</td>\n",
       "      <td>0.059780</td>\n",
       "      <td>0.053923</td>\n",
       "      <td>0.037935</td>\n",
       "      <td>0.011655</td>\n",
       "      <td>-0.050611</td>\n",
       "      <td>0.010281</td>\n",
       "      <td>-0.013134</td>\n",
       "      <td>-0.043065</td>\n",
       "      <td>-0.164261</td>\n",
       "      <td>0.023708</td>\n",
       "    </tr>\n",
       "    <tr>\n",
       "      <th>Gender</th>\n",
       "      <td>-0.011887</td>\n",
       "      <td>1.000000</td>\n",
       "      <td>0.378997</td>\n",
       "      <td>0.188162</td>\n",
       "      <td>0.045696</td>\n",
       "      <td>-0.006207</td>\n",
       "      <td>0.062560</td>\n",
       "      <td>0.186113</td>\n",
       "      <td>0.172230</td>\n",
       "      <td>-0.101667</td>\n",
       "      <td>0.013172</td>\n",
       "      <td>-0.026340</td>\n",
       "      <td>0.017408</td>\n",
       "    </tr>\n",
       "    <tr>\n",
       "      <th>Married</th>\n",
       "      <td>-0.013677</td>\n",
       "      <td>0.378997</td>\n",
       "      <td>1.000000</td>\n",
       "      <td>0.329900</td>\n",
       "      <td>0.024817</td>\n",
       "      <td>-0.015779</td>\n",
       "      <td>-0.020262</td>\n",
       "      <td>0.228018</td>\n",
       "      <td>0.183094</td>\n",
       "      <td>-0.118924</td>\n",
       "      <td>0.019308</td>\n",
       "      <td>0.010595</td>\n",
       "      <td>0.089026</td>\n",
       "    </tr>\n",
       "    <tr>\n",
       "      <th>Dependents</th>\n",
       "      <td>0.059780</td>\n",
       "      <td>0.188162</td>\n",
       "      <td>0.329900</td>\n",
       "      <td>1.000000</td>\n",
       "      <td>0.069814</td>\n",
       "      <td>0.044543</td>\n",
       "      <td>0.131669</td>\n",
       "      <td>-0.067397</td>\n",
       "      <td>0.127149</td>\n",
       "      <td>-0.079437</td>\n",
       "      <td>-0.020288</td>\n",
       "      <td>0.002327</td>\n",
       "      <td>0.017872</td>\n",
       "    </tr>\n",
       "    <tr>\n",
       "      <th>Education</th>\n",
       "      <td>0.053923</td>\n",
       "      <td>0.045696</td>\n",
       "      <td>0.024817</td>\n",
       "      <td>0.069814</td>\n",
       "      <td>1.000000</td>\n",
       "      <td>-0.007139</td>\n",
       "      <td>-0.184374</td>\n",
       "      <td>-0.041267</td>\n",
       "      <td>-0.141845</td>\n",
       "      <td>-0.111258</td>\n",
       "      <td>-0.075217</td>\n",
       "      <td>-0.068596</td>\n",
       "      <td>-0.092658</td>\n",
       "    </tr>\n",
       "    <tr>\n",
       "      <th>Self_Employed</th>\n",
       "      <td>0.037935</td>\n",
       "      <td>-0.006207</td>\n",
       "      <td>-0.015779</td>\n",
       "      <td>0.044543</td>\n",
       "      <td>-0.007139</td>\n",
       "      <td>1.000000</td>\n",
       "      <td>0.198667</td>\n",
       "      <td>-0.041721</td>\n",
       "      <td>0.116852</td>\n",
       "      <td>-0.026990</td>\n",
       "      <td>-0.016390</td>\n",
       "      <td>-0.028253</td>\n",
       "      <td>-0.026525</td>\n",
       "    </tr>\n",
       "    <tr>\n",
       "      <th>ApplicantIncome</th>\n",
       "      <td>0.011655</td>\n",
       "      <td>0.062560</td>\n",
       "      <td>-0.020262</td>\n",
       "      <td>0.131669</td>\n",
       "      <td>-0.184374</td>\n",
       "      <td>0.198667</td>\n",
       "      <td>1.000000</td>\n",
       "      <td>-0.249266</td>\n",
       "      <td>0.485273</td>\n",
       "      <td>-0.037608</td>\n",
       "      <td>0.043014</td>\n",
       "      <td>-0.049362</td>\n",
       "      <td>-0.013230</td>\n",
       "    </tr>\n",
       "    <tr>\n",
       "      <th>CoapplicantIncome</th>\n",
       "      <td>-0.050611</td>\n",
       "      <td>0.186113</td>\n",
       "      <td>0.228018</td>\n",
       "      <td>-0.067397</td>\n",
       "      <td>-0.041267</td>\n",
       "      <td>-0.041721</td>\n",
       "      <td>-0.249266</td>\n",
       "      <td>1.000000</td>\n",
       "      <td>0.300720</td>\n",
       "      <td>-0.048503</td>\n",
       "      <td>-0.008717</td>\n",
       "      <td>-0.101921</td>\n",
       "      <td>0.036494</td>\n",
       "    </tr>\n",
       "    <tr>\n",
       "      <th>LoanAmount</th>\n",
       "      <td>0.010281</td>\n",
       "      <td>0.172230</td>\n",
       "      <td>0.183094</td>\n",
       "      <td>0.127149</td>\n",
       "      <td>-0.141845</td>\n",
       "      <td>0.116852</td>\n",
       "      <td>0.485273</td>\n",
       "      <td>0.300720</td>\n",
       "      <td>1.000000</td>\n",
       "      <td>0.060227</td>\n",
       "      <td>0.005775</td>\n",
       "      <td>-0.088029</td>\n",
       "      <td>-0.032171</td>\n",
       "    </tr>\n",
       "    <tr>\n",
       "      <th>Loan_Amount_Term</th>\n",
       "      <td>-0.013134</td>\n",
       "      <td>-0.101667</td>\n",
       "      <td>-0.118924</td>\n",
       "      <td>-0.079437</td>\n",
       "      <td>-0.111258</td>\n",
       "      <td>-0.026990</td>\n",
       "      <td>-0.037608</td>\n",
       "      <td>-0.048503</td>\n",
       "      <td>0.060227</td>\n",
       "      <td>1.000000</td>\n",
       "      <td>0.062757</td>\n",
       "      <td>-0.071360</td>\n",
       "      <td>0.013465</td>\n",
       "    </tr>\n",
       "    <tr>\n",
       "      <th>Credit_History</th>\n",
       "      <td>-0.043065</td>\n",
       "      <td>0.013172</td>\n",
       "      <td>0.019308</td>\n",
       "      <td>-0.020288</td>\n",
       "      <td>-0.075217</td>\n",
       "      <td>-0.016390</td>\n",
       "      <td>0.043014</td>\n",
       "      <td>-0.008717</td>\n",
       "      <td>0.005775</td>\n",
       "      <td>0.062757</td>\n",
       "      <td>1.000000</td>\n",
       "      <td>-0.008121</td>\n",
       "      <td>0.560936</td>\n",
       "    </tr>\n",
       "    <tr>\n",
       "      <th>Property_Area</th>\n",
       "      <td>-0.164261</td>\n",
       "      <td>-0.026340</td>\n",
       "      <td>0.010595</td>\n",
       "      <td>0.002327</td>\n",
       "      <td>-0.068596</td>\n",
       "      <td>-0.028253</td>\n",
       "      <td>-0.049362</td>\n",
       "      <td>-0.101921</td>\n",
       "      <td>-0.088029</td>\n",
       "      <td>-0.071360</td>\n",
       "      <td>-0.008121</td>\n",
       "      <td>1.000000</td>\n",
       "      <td>0.026507</td>\n",
       "    </tr>\n",
       "    <tr>\n",
       "      <th>Loan_Status</th>\n",
       "      <td>0.023708</td>\n",
       "      <td>0.017408</td>\n",
       "      <td>0.089026</td>\n",
       "      <td>0.017872</td>\n",
       "      <td>-0.092658</td>\n",
       "      <td>-0.026525</td>\n",
       "      <td>-0.013230</td>\n",
       "      <td>0.036494</td>\n",
       "      <td>-0.032171</td>\n",
       "      <td>0.013465</td>\n",
       "      <td>0.560936</td>\n",
       "      <td>0.026507</td>\n",
       "      <td>1.000000</td>\n",
       "    </tr>\n",
       "  </tbody>\n",
       "</table>\n",
       "</div>"
      ],
      "text/plain": [
       "                    Loan_ID    Gender   Married  Dependents  Education  \\\n",
       "Loan_ID            1.000000 -0.011887 -0.013677    0.059780   0.053923   \n",
       "Gender            -0.011887  1.000000  0.378997    0.188162   0.045696   \n",
       "Married           -0.013677  0.378997  1.000000    0.329900   0.024817   \n",
       "Dependents         0.059780  0.188162  0.329900    1.000000   0.069814   \n",
       "Education          0.053923  0.045696  0.024817    0.069814   1.000000   \n",
       "Self_Employed      0.037935 -0.006207 -0.015779    0.044543  -0.007139   \n",
       "ApplicantIncome    0.011655  0.062560 -0.020262    0.131669  -0.184374   \n",
       "CoapplicantIncome -0.050611  0.186113  0.228018   -0.067397  -0.041267   \n",
       "LoanAmount         0.010281  0.172230  0.183094    0.127149  -0.141845   \n",
       "Loan_Amount_Term  -0.013134 -0.101667 -0.118924   -0.079437  -0.111258   \n",
       "Credit_History    -0.043065  0.013172  0.019308   -0.020288  -0.075217   \n",
       "Property_Area     -0.164261 -0.026340  0.010595    0.002327  -0.068596   \n",
       "Loan_Status        0.023708  0.017408  0.089026    0.017872  -0.092658   \n",
       "\n",
       "                   Self_Employed  ApplicantIncome  CoapplicantIncome  \\\n",
       "Loan_ID                 0.037935         0.011655          -0.050611   \n",
       "Gender                 -0.006207         0.062560           0.186113   \n",
       "Married                -0.015779        -0.020262           0.228018   \n",
       "Dependents              0.044543         0.131669          -0.067397   \n",
       "Education              -0.007139        -0.184374          -0.041267   \n",
       "Self_Employed           1.000000         0.198667          -0.041721   \n",
       "ApplicantIncome         0.198667         1.000000          -0.249266   \n",
       "CoapplicantIncome      -0.041721        -0.249266           1.000000   \n",
       "LoanAmount              0.116852         0.485273           0.300720   \n",
       "Loan_Amount_Term       -0.026990        -0.037608          -0.048503   \n",
       "Credit_History         -0.016390         0.043014          -0.008717   \n",
       "Property_Area          -0.028253        -0.049362          -0.101921   \n",
       "Loan_Status            -0.026525        -0.013230           0.036494   \n",
       "\n",
       "                   LoanAmount  Loan_Amount_Term  Credit_History  \\\n",
       "Loan_ID              0.010281         -0.013134       -0.043065   \n",
       "Gender               0.172230         -0.101667        0.013172   \n",
       "Married              0.183094         -0.118924        0.019308   \n",
       "Dependents           0.127149         -0.079437       -0.020288   \n",
       "Education           -0.141845         -0.111258       -0.075217   \n",
       "Self_Employed        0.116852         -0.026990       -0.016390   \n",
       "ApplicantIncome      0.485273         -0.037608        0.043014   \n",
       "CoapplicantIncome    0.300720         -0.048503       -0.008717   \n",
       "LoanAmount           1.000000          0.060227        0.005775   \n",
       "Loan_Amount_Term     0.060227          1.000000        0.062757   \n",
       "Credit_History       0.005775          0.062757        1.000000   \n",
       "Property_Area       -0.088029         -0.071360       -0.008121   \n",
       "Loan_Status         -0.032171          0.013465        0.560936   \n",
       "\n",
       "                   Property_Area  Loan_Status  \n",
       "Loan_ID                -0.164261     0.023708  \n",
       "Gender                 -0.026340     0.017408  \n",
       "Married                 0.010595     0.089026  \n",
       "Dependents              0.002327     0.017872  \n",
       "Education              -0.068596    -0.092658  \n",
       "Self_Employed          -0.028253    -0.026525  \n",
       "ApplicantIncome        -0.049362    -0.013230  \n",
       "CoapplicantIncome      -0.101921     0.036494  \n",
       "LoanAmount             -0.088029    -0.032171  \n",
       "Loan_Amount_Term       -0.071360     0.013465  \n",
       "Credit_History         -0.008121     0.560936  \n",
       "Property_Area           1.000000     0.026507  \n",
       "Loan_Status             0.026507     1.000000  "
      ]
     },
     "execution_count": 60,
     "metadata": {},
     "output_type": "execute_result"
    }
   ],
   "source": [
    "# Checking the correlation between features and the target\n",
    "cor = df1.corr()\n",
    "cor"
   ]
  },
  {
   "cell_type": "code",
   "execution_count": 61,
   "id": "b06564b8",
   "metadata": {},
   "outputs": [
    {
     "data": {
      "text/plain": [
       "(array([ 0.5,  1.5,  2.5,  3.5,  4.5,  5.5,  6.5,  7.5,  8.5,  9.5, 10.5,\n",
       "        11.5, 12.5]),\n",
       " [Text(0, 0.5, 'Loan_ID'),\n",
       "  Text(0, 1.5, 'Gender'),\n",
       "  Text(0, 2.5, 'Married'),\n",
       "  Text(0, 3.5, 'Dependents'),\n",
       "  Text(0, 4.5, 'Education'),\n",
       "  Text(0, 5.5, 'Self_Employed'),\n",
       "  Text(0, 6.5, 'ApplicantIncome'),\n",
       "  Text(0, 7.5, 'CoapplicantIncome'),\n",
       "  Text(0, 8.5, 'LoanAmount'),\n",
       "  Text(0, 9.5, 'Loan_Amount_Term'),\n",
       "  Text(0, 10.5, 'Credit_History'),\n",
       "  Text(0, 11.5, 'Property_Area'),\n",
       "  Text(0, 12.5, 'Loan_Status')])"
      ]
     },
     "execution_count": 61,
     "metadata": {},
     "output_type": "execute_result"
    },
    {
     "data": {
      "image/png": "[encoded data removed]",
      "text/plain": [
       "<Figure size 1152x648 with 2 Axes>"
      ]
     },
     "metadata": {
      "needs_background": "light"
     },
     "output_type": "display_data"
    }
   ],
   "source": [
    "# Visualizing the correlation matrix by plotting heat map.\n",
    "plt.figure(figsize=(16,9))\n",
    "sns.heatmap(df1.corr(),linewidths=.1,fmt='0.3f', annot = True)\n",
    "plt.yticks(rotation=0)"
   ]
  },
  {
   "cell_type": "code",
   "execution_count": 62,
   "id": "21921360",
   "metadata": {},
   "outputs": [
    {
     "data": {
      "text/plain": [
       "Loan_Status          1.000000\n",
       "Credit_History       0.560936\n",
       "Married              0.089026\n",
       "CoapplicantIncome    0.036494\n",
       "Property_Area        0.026507\n",
       "Loan_ID              0.023708\n",
       "Dependents           0.017872\n",
       "Gender               0.017408\n",
       "Loan_Amount_Term     0.013465\n",
       "ApplicantIncome     -0.013230\n",
       "Self_Employed       -0.026525\n",
       "LoanAmount          -0.032171\n",
       "Education           -0.092658\n",
       "Name: Loan_Status, dtype: float64"
      ]
     },
     "execution_count": 62,
     "metadata": {},
     "output_type": "execute_result"
    }
   ],
   "source": [
    "cor['Loan_Status'].sort_values(ascending=False)"
   ]
  },
  {
   "cell_type": "markdown",
   "id": "0051427f",
   "metadata": {},
   "source": [
    "# Visualizing the correlation between label and features using bar plot"
   ]
  },
  {
   "cell_type": "code",
   "execution_count": 63,
   "id": "9bf68fa5",
   "metadata": {},
   "outputs": [
    {
     "data": {
      "image/png": "[encoded data removed]",
      "text/plain": [
       "<Figure size 1296x504 with 1 Axes>"
      ]
     },
     "metadata": {
      "needs_background": "light"
     },
     "output_type": "display_data"
    }
   ],
   "source": [
    "plt.figure(figsize=(18,7))\n",
    "df1.corr()['Loan_Status'].sort_values(ascending=False).drop(['Loan_Status']).plot(kind='bar',color='c')\n",
    "plt.xlabel('Feature',fontsize=14)\n",
    "plt.ylabel('target',fontsize=14)\n",
    "plt.title('correlation between lanel and feature using bar plot',fontsize=18)\n",
    "plt.show()"
   ]
  },
  {
   "cell_type": "markdown",
   "id": "d83746c2",
   "metadata": {},
   "source": [
    "# Dividing data in feature and Label"
   ]
  },
  {
   "cell_type": "code",
   "execution_count": 64,
   "id": "69e5e709",
   "metadata": {},
   "outputs": [],
   "source": [
    "x=df1.drop(columns='Loan_Status')#Feature\n",
    "y=df1.Loan_Status#Target"
   ]
  },
  {
   "cell_type": "code",
   "execution_count": 65,
   "id": "cfb9c044",
   "metadata": {},
   "outputs": [],
   "source": [
    "from imblearn.over_sampling import SMOTE"
   ]
  },
  {
   "cell_type": "code",
   "execution_count": 66,
   "id": "c0d9fa9b",
   "metadata": {},
   "outputs": [],
   "source": [
    "smt=SMOTE()\n",
    "x_sample,y_sample=smt.fit_resample(x,y)"
   ]
  },
  {
   "cell_type": "code",
   "execution_count": 67,
   "id": "2787fba6",
   "metadata": {},
   "outputs": [
    {
     "data": {
      "text/plain": [
       "array([[-1.72905158,  0.47713685, -1.36251079, ...,  0.31499539,\n",
       "         0.41851254,  1.22747207],\n",
       "       [-1.72304793,  0.47713685,  0.73393914, ...,  0.31499539,\n",
       "         0.41851254, -1.30652215],\n",
       "       [-1.71704428,  0.47713685,  0.73393914, ...,  0.31499539,\n",
       "         0.41851254,  1.22747207],\n",
       "       ...,\n",
       "       [ 1.71704428,  0.47713685,  0.73393914, ...,  0.31499539,\n",
       "         0.41851254,  1.22747207],\n",
       "       [ 1.72304793,  0.47713685,  0.73393914, ...,  0.31499539,\n",
       "         0.41851254,  1.22747207],\n",
       "       [ 1.72905158, -2.09583477, -1.36251079, ...,  0.31499539,\n",
       "        -2.38941464, -0.03952504]])"
      ]
     },
     "execution_count": 67,
     "metadata": {},
     "output_type": "execute_result"
    }
   ],
   "source": [
    "#Lets import standardscaler\n",
    "from sklearn.preprocessing import StandardScaler\n",
    "scaler=StandardScaler()\n",
    "x_scaled=scaler.fit_transform(x)\n",
    "x_scaled"
   ]
  },
  {
   "cell_type": "markdown",
   "id": "22f19db4",
   "metadata": {},
   "source": [
    "# Now use VIF for checking multicollinearity problem"
   ]
  },
  {
   "cell_type": "markdown",
   "id": "dc612398",
   "metadata": {},
   "source": [
    "VIF - > Variance Inflation Factor"
   ]
  },
  {
   "cell_type": "code",
   "execution_count": 68,
   "id": "d4cb4f88",
   "metadata": {},
   "outputs": [],
   "source": [
    "#Lets import VIF\n",
    "from statsmodels.stats.outliers_influence import variance_inflation_factor\n",
    "\n",
    "vif=pd.DataFrame()\n",
    "vif['vif']=[variance_inflation_factor(x_scaled,i)for i in range(x_scaled.shape[1])]\n",
    "vif['feature']=x.columns"
   ]
  },
  {
   "cell_type": "code",
   "execution_count": 69,
   "id": "66386b18",
   "metadata": {},
   "outputs": [
    {
     "data": {
      "text/html": [
       "<div>\n",
       "<style scoped>\n",
       "    .dataframe tbody tr th:only-of-type {\n",
       "        vertical-align: middle;\n",
       "    }\n",
       "\n",
       "    .dataframe tbody tr th {\n",
       "        vertical-align: top;\n",
       "    }\n",
       "\n",
       "    .dataframe thead th {\n",
       "        text-align: right;\n",
       "    }\n",
       "</style>\n",
       "<table border=\"1\" class=\"dataframe\">\n",
       "  <thead>\n",
       "    <tr style=\"text-align: right;\">\n",
       "      <th></th>\n",
       "      <th>vif</th>\n",
       "      <th>feature</th>\n",
       "    </tr>\n",
       "  </thead>\n",
       "  <tbody>\n",
       "    <tr>\n",
       "      <th>0</th>\n",
       "      <td>1.042162</td>\n",
       "      <td>Loan_ID</td>\n",
       "    </tr>\n",
       "    <tr>\n",
       "      <th>1</th>\n",
       "      <td>1.213257</td>\n",
       "      <td>Gender</td>\n",
       "    </tr>\n",
       "    <tr>\n",
       "      <th>2</th>\n",
       "      <td>1.355621</td>\n",
       "      <td>Married</td>\n",
       "    </tr>\n",
       "    <tr>\n",
       "      <th>3</th>\n",
       "      <td>1.191139</td>\n",
       "      <td>Dependents</td>\n",
       "    </tr>\n",
       "    <tr>\n",
       "      <th>4</th>\n",
       "      <td>1.089198</td>\n",
       "      <td>Education</td>\n",
       "    </tr>\n",
       "    <tr>\n",
       "      <th>5</th>\n",
       "      <td>1.046238</td>\n",
       "      <td>Self_Employed</td>\n",
       "    </tr>\n",
       "    <tr>\n",
       "      <th>6</th>\n",
       "      <td>1.832453</td>\n",
       "      <td>ApplicantIncome</td>\n",
       "    </tr>\n",
       "    <tr>\n",
       "      <th>7</th>\n",
       "      <td>1.548921</td>\n",
       "      <td>CoapplicantIncome</td>\n",
       "    </tr>\n",
       "    <tr>\n",
       "      <th>8</th>\n",
       "      <td>1.827110</td>\n",
       "      <td>LoanAmount</td>\n",
       "    </tr>\n",
       "    <tr>\n",
       "      <th>9</th>\n",
       "      <td>1.075336</td>\n",
       "      <td>Loan_Amount_Term</td>\n",
       "    </tr>\n",
       "    <tr>\n",
       "      <th>10</th>\n",
       "      <td>1.014788</td>\n",
       "      <td>Credit_History</td>\n",
       "    </tr>\n",
       "    <tr>\n",
       "      <th>11</th>\n",
       "      <td>1.066234</td>\n",
       "      <td>Property_Area</td>\n",
       "    </tr>\n",
       "  </tbody>\n",
       "</table>\n",
       "</div>"
      ],
      "text/plain": [
       "         vif            feature\n",
       "0   1.042162            Loan_ID\n",
       "1   1.213257             Gender\n",
       "2   1.355621            Married\n",
       "3   1.191139         Dependents\n",
       "4   1.089198          Education\n",
       "5   1.046238      Self_Employed\n",
       "6   1.832453    ApplicantIncome\n",
       "7   1.548921  CoapplicantIncome\n",
       "8   1.827110         LoanAmount\n",
       "9   1.075336   Loan_Amount_Term\n",
       "10  1.014788     Credit_History\n",
       "11  1.066234      Property_Area"
      ]
     },
     "execution_count": 69,
     "metadata": {},
     "output_type": "execute_result"
    }
   ],
   "source": [
    "vif"
   ]
  },
  {
   "cell_type": "markdown",
   "id": "e95e3838",
   "metadata": {},
   "source": [
    "# Lets check with AdaBoostClassifier"
   ]
  },
  {
   "cell_type": "code",
   "execution_count": 79,
   "id": "a877135d",
   "metadata": {},
   "outputs": [],
   "source": [
    "from sklearn.ensemble import AdaBoostClassifier"
   ]
  },
  {
   "cell_type": "code",
   "execution_count": 80,
   "id": "de0b6034",
   "metadata": {},
   "outputs": [],
   "source": [
    "ada = AdaBoostClassifier()"
   ]
  },
  {
   "cell_type": "code",
   "execution_count": 81,
   "id": "73f11dd2",
   "metadata": {},
   "outputs": [
    {
     "name": "stdout",
     "output_type": "stream",
     "text": [
      " At random state 0 , the testing accuracy is :- 0.8633405639913232\n",
      " At random state 0 , the testing accuracy is :- 0.7758620689655172\n",
      "\n",
      "\n",
      " At random state 1 , the testing accuracy is :- 0.8481561822125814\n",
      " At random state 1 , the testing accuracy is :- 0.7844827586206896\n",
      "\n",
      "\n",
      " At random state 2 , the testing accuracy is :- 0.8698481561822126\n",
      " At random state 2 , the testing accuracy is :- 0.7672413793103449\n",
      "\n",
      "\n",
      " At random state 3 , the testing accuracy is :- 0.8546637744034707\n",
      " At random state 3 , the testing accuracy is :- 0.7413793103448276\n",
      "\n",
      "\n",
      " At random state 4 , the testing accuracy is :- 0.8481561822125814\n",
      " At random state 4 , the testing accuracy is :- 0.7844827586206896\n",
      "\n",
      "\n",
      " At random state 5 , the testing accuracy is :- 0.8503253796095445\n",
      " At random state 5 , the testing accuracy is :- 0.7586206896551724\n",
      "\n",
      "\n",
      " At random state 6 , the testing accuracy is :- 0.8524945770065075\n",
      " At random state 6 , the testing accuracy is :- 0.8103448275862069\n",
      "\n",
      "\n",
      " At random state 7 , the testing accuracy is :- 0.8546637744034707\n",
      " At random state 7 , the testing accuracy is :- 0.8017241379310345\n",
      "\n",
      "\n",
      " At random state 8 , the testing accuracy is :- 0.8698481561822126\n",
      " At random state 8 , the testing accuracy is :- 0.7586206896551724\n",
      "\n",
      "\n",
      " At random state 9 , the testing accuracy is :- 0.8546637744034707\n",
      " At random state 9 , the testing accuracy is :- 0.7672413793103449\n",
      "\n",
      "\n",
      " At random state 10 , the testing accuracy is :- 0.841648590021692\n",
      " At random state 10 , the testing accuracy is :- 0.8189655172413793\n",
      "\n",
      "\n",
      " At random state 11 , the testing accuracy is :- 0.841648590021692\n",
      " At random state 11 , the testing accuracy is :- 0.7672413793103449\n",
      "\n",
      "\n",
      " At random state 12 , the testing accuracy is :- 0.8503253796095445\n",
      " At random state 12 , the testing accuracy is :- 0.8362068965517241\n",
      "\n",
      "\n",
      " At random state 13 , the testing accuracy is :- 0.8611713665943601\n",
      " At random state 13 , the testing accuracy is :- 0.7327586206896551\n",
      "\n",
      "\n",
      " At random state 14 , the testing accuracy is :- 0.8698481561822126\n",
      " At random state 14 , the testing accuracy is :- 0.6724137931034483\n",
      "\n",
      "\n",
      " At random state 15 , the testing accuracy is :- 0.8459869848156182\n",
      " At random state 15 , the testing accuracy is :- 0.7672413793103449\n",
      "\n",
      "\n",
      " At random state 16 , the testing accuracy is :- 0.8698481561822126\n",
      " At random state 16 , the testing accuracy is :- 0.75\n",
      "\n",
      "\n",
      " At random state 17 , the testing accuracy is :- 0.841648590021692\n",
      " At random state 17 , the testing accuracy is :- 0.7844827586206896\n",
      "\n",
      "\n",
      " At random state 18 , the testing accuracy is :- 0.8785249457700651\n",
      " At random state 18 , the testing accuracy is :- 0.7155172413793104\n",
      "\n",
      "\n",
      " At random state 19 , the testing accuracy is :- 0.8481561822125814\n",
      " At random state 19 , the testing accuracy is :- 0.7931034482758621\n",
      "\n",
      "\n",
      " At random state 20 , the testing accuracy is :- 0.8698481561822126\n",
      " At random state 20 , the testing accuracy is :- 0.7758620689655172\n",
      "\n",
      "\n",
      " At random state 21 , the testing accuracy is :- 0.8633405639913232\n",
      " At random state 21 , the testing accuracy is :- 0.7844827586206896\n",
      "\n",
      "\n",
      " At random state 22 , the testing accuracy is :- 0.8568329718004338\n",
      " At random state 22 , the testing accuracy is :- 0.7327586206896551\n",
      "\n",
      "\n",
      " At random state 23 , the testing accuracy is :- 0.8590021691973969\n",
      " At random state 23 , the testing accuracy is :- 0.7327586206896551\n",
      "\n",
      "\n",
      " At random state 24 , the testing accuracy is :- 0.8438177874186551\n",
      " At random state 24 , the testing accuracy is :- 0.8189655172413793\n",
      "\n",
      "\n",
      " At random state 25 , the testing accuracy is :- 0.8459869848156182\n",
      " At random state 25 , the testing accuracy is :- 0.8275862068965517\n",
      "\n",
      "\n",
      " At random state 26 , the testing accuracy is :- 0.8524945770065075\n",
      " At random state 26 , the testing accuracy is :- 0.8189655172413793\n",
      "\n",
      "\n",
      " At random state 27 , the testing accuracy is :- 0.8590021691973969\n",
      " At random state 27 , the testing accuracy is :- 0.7413793103448276\n",
      "\n",
      "\n",
      " At random state 28 , the testing accuracy is :- 0.8590021691973969\n",
      " At random state 28 , the testing accuracy is :- 0.8275862068965517\n",
      "\n",
      "\n",
      " At random state 29 , the testing accuracy is :- 0.841648590021692\n",
      " At random state 29 , the testing accuracy is :- 0.7844827586206896\n",
      "\n",
      "\n",
      " At random state 30 , the testing accuracy is :- 0.8524945770065075\n",
      " At random state 30 , the testing accuracy is :- 0.7758620689655172\n",
      "\n",
      "\n",
      " At random state 31 , the testing accuracy is :- 0.8590021691973969\n",
      " At random state 31 , the testing accuracy is :- 0.7844827586206896\n",
      "\n",
      "\n",
      " At random state 32 , the testing accuracy is :- 0.8720173535791758\n",
      " At random state 32 , the testing accuracy is :- 0.7413793103448276\n",
      "\n",
      "\n",
      " At random state 33 , the testing accuracy is :- 0.8568329718004338\n",
      " At random state 33 , the testing accuracy is :- 0.8275862068965517\n",
      "\n",
      "\n",
      " At random state 34 , the testing accuracy is :- 0.8698481561822126\n",
      " At random state 34 , the testing accuracy is :- 0.7844827586206896\n",
      "\n",
      "\n",
      " At random state 35 , the testing accuracy is :- 0.8546637744034707\n",
      " At random state 35 , the testing accuracy is :- 0.7672413793103449\n",
      "\n",
      "\n",
      " At random state 36 , the testing accuracy is :- 0.8611713665943601\n",
      " At random state 36 , the testing accuracy is :- 0.7758620689655172\n",
      "\n",
      "\n",
      " At random state 37 , the testing accuracy is :- 0.8568329718004338\n",
      " At random state 37 , the testing accuracy is :- 0.7758620689655172\n",
      "\n",
      "\n",
      " At random state 38 , the testing accuracy is :- 0.8373101952277657\n",
      " At random state 38 , the testing accuracy is :- 0.853448275862069\n",
      "\n",
      "\n",
      " At random state 39 , the testing accuracy is :- 0.8503253796095445\n",
      " At random state 39 , the testing accuracy is :- 0.8879310344827587\n",
      "\n",
      "\n",
      " At random state 40 , the testing accuracy is :- 0.8655097613882863\n",
      " At random state 40 , the testing accuracy is :- 0.7413793103448276\n",
      "\n",
      "\n",
      " At random state 41 , the testing accuracy is :- 0.841648590021692\n",
      " At random state 41 , the testing accuracy is :- 0.7844827586206896\n",
      "\n",
      "\n",
      " At random state 42 , the testing accuracy is :- 0.8438177874186551\n",
      " At random state 42 , the testing accuracy is :- 0.8189655172413793\n",
      "\n",
      "\n",
      " At random state 43 , the testing accuracy is :- 0.8611713665943601\n",
      " At random state 43 , the testing accuracy is :- 0.8017241379310345\n",
      "\n",
      "\n",
      " At random state 44 , the testing accuracy is :- 0.8546637744034707\n",
      " At random state 44 , the testing accuracy is :- 0.7586206896551724\n",
      "\n",
      "\n",
      " At random state 45 , the testing accuracy is :- 0.8503253796095445\n",
      " At random state 45 , the testing accuracy is :- 0.7931034482758621\n",
      "\n",
      "\n",
      " At random state 46 , the testing accuracy is :- 0.8590021691973969\n",
      " At random state 46 , the testing accuracy is :- 0.8017241379310345\n",
      "\n",
      "\n",
      " At random state 47 , the testing accuracy is :- 0.8546637744034707\n",
      " At random state 47 , the testing accuracy is :- 0.7241379310344828\n",
      "\n",
      "\n",
      " At random state 48 , the testing accuracy is :- 0.8524945770065075\n",
      " At random state 48 , the testing accuracy is :- 0.7758620689655172\n",
      "\n",
      "\n",
      " At random state 49 , the testing accuracy is :- 0.8611713665943601\n",
      " At random state 49 , the testing accuracy is :- 0.7068965517241379\n",
      "\n",
      "\n",
      " At random state 50 , the testing accuracy is :- 0.8481561822125814\n",
      " At random state 50 , the testing accuracy is :- 0.7672413793103449\n",
      "\n",
      "\n",
      " At random state 51 , the testing accuracy is :- 0.8459869848156182\n",
      " At random state 51 , the testing accuracy is :- 0.8017241379310345\n",
      "\n",
      "\n",
      " At random state 52 , the testing accuracy is :- 0.8633405639913232\n",
      " At random state 52 , the testing accuracy is :- 0.8275862068965517\n",
      "\n",
      "\n",
      " At random state 53 , the testing accuracy is :- 0.8655097613882863\n",
      " At random state 53 , the testing accuracy is :- 0.7758620689655172\n",
      "\n",
      "\n",
      " At random state 54 , the testing accuracy is :- 0.8546637744034707\n",
      " At random state 54 , the testing accuracy is :- 0.7672413793103449\n",
      "\n",
      "\n",
      " At random state 55 , the testing accuracy is :- 0.8481561822125814\n",
      " At random state 55 , the testing accuracy is :- 0.7931034482758621\n",
      "\n",
      "\n",
      " At random state 56 , the testing accuracy is :- 0.8481561822125814\n",
      " At random state 56 , the testing accuracy is :- 0.7844827586206896\n",
      "\n",
      "\n",
      " At random state 57 , the testing accuracy is :- 0.8459869848156182\n",
      " At random state 57 , the testing accuracy is :- 0.7586206896551724\n",
      "\n",
      "\n",
      " At random state 58 , the testing accuracy is :- 0.8633405639913232\n",
      " At random state 58 , the testing accuracy is :- 0.7931034482758621\n",
      "\n",
      "\n",
      " At random state 59 , the testing accuracy is :- 0.8611713665943601\n",
      " At random state 59 , the testing accuracy is :- 0.75\n",
      "\n",
      "\n",
      " At random state 60 , the testing accuracy is :- 0.8546637744034707\n",
      " At random state 60 , the testing accuracy is :- 0.8017241379310345\n",
      "\n",
      "\n",
      " At random state 61 , the testing accuracy is :- 0.8611713665943601\n",
      " At random state 61 , the testing accuracy is :- 0.7758620689655172\n",
      "\n",
      "\n",
      " At random state 62 , the testing accuracy is :- 0.8546637744034707\n",
      " At random state 62 , the testing accuracy is :- 0.7844827586206896\n",
      "\n",
      "\n",
      " At random state 63 , the testing accuracy is :- 0.8459869848156182\n",
      " At random state 63 , the testing accuracy is :- 0.7844827586206896\n",
      "\n",
      "\n",
      " At random state 64 , the testing accuracy is :- 0.8655097613882863\n",
      " At random state 64 , the testing accuracy is :- 0.7068965517241379\n",
      "\n",
      "\n",
      " At random state 65 , the testing accuracy is :- 0.8633405639913232\n",
      " At random state 65 , the testing accuracy is :- 0.7586206896551724\n",
      "\n",
      "\n",
      " At random state 66 , the testing accuracy is :- 0.8655097613882863\n",
      " At random state 66 , the testing accuracy is :- 0.7844827586206896\n",
      "\n",
      "\n",
      " At random state 67 , the testing accuracy is :- 0.8655097613882863\n",
      " At random state 67 , the testing accuracy is :- 0.75\n",
      "\n",
      "\n",
      " At random state 68 , the testing accuracy is :- 0.8503253796095445\n",
      " At random state 68 , the testing accuracy is :- 0.8275862068965517\n",
      "\n",
      "\n",
      " At random state 69 , the testing accuracy is :- 0.8524945770065075\n",
      " At random state 69 , the testing accuracy is :- 0.75\n",
      "\n",
      "\n",
      " At random state 70 , the testing accuracy is :- 0.8655097613882863\n",
      " At random state 70 , the testing accuracy is :- 0.6982758620689655\n",
      "\n",
      "\n",
      " At random state 71 , the testing accuracy is :- 0.8546637744034707\n",
      " At random state 71 , the testing accuracy is :- 0.7931034482758621\n",
      "\n",
      "\n",
      " At random state 72 , the testing accuracy is :- 0.8633405639913232\n",
      " At random state 72 , the testing accuracy is :- 0.7672413793103449\n",
      "\n",
      "\n",
      " At random state 73 , the testing accuracy is :- 0.8655097613882863\n",
      " At random state 73 , the testing accuracy is :- 0.7155172413793104\n",
      "\n",
      "\n",
      " At random state 74 , the testing accuracy is :- 0.8568329718004338\n",
      " At random state 74 , the testing accuracy is :- 0.7758620689655172\n",
      "\n",
      "\n",
      " At random state 75 , the testing accuracy is :- 0.8503253796095445\n",
      " At random state 75 , the testing accuracy is :- 0.7931034482758621\n",
      "\n",
      "\n",
      " At random state 76 , the testing accuracy is :- 0.8546637744034707\n",
      " At random state 76 , the testing accuracy is :- 0.7413793103448276\n",
      "\n",
      "\n",
      " At random state 77 , the testing accuracy is :- 0.8373101952277657\n",
      " At random state 77 , the testing accuracy is :- 0.75\n",
      "\n",
      "\n",
      " At random state 78 , the testing accuracy is :- 0.8459869848156182\n",
      " At random state 78 , the testing accuracy is :- 0.7844827586206896\n",
      "\n",
      "\n",
      " At random state 79 , the testing accuracy is :- 0.8459869848156182\n",
      " At random state 79 , the testing accuracy is :- 0.7758620689655172\n",
      "\n",
      "\n",
      " At random state 80 , the testing accuracy is :- 0.8546637744034707\n",
      " At random state 80 , the testing accuracy is :- 0.8275862068965517\n",
      "\n",
      "\n",
      " At random state 81 , the testing accuracy is :- 0.8676789587852495\n",
      " At random state 81 , the testing accuracy is :- 0.7068965517241379\n",
      "\n",
      "\n",
      " At random state 82 , the testing accuracy is :- 0.8438177874186551\n",
      " At random state 82 , the testing accuracy is :- 0.8103448275862069\n",
      "\n",
      "\n",
      " At random state 83 , the testing accuracy is :- 0.8459869848156182\n",
      " At random state 83 , the testing accuracy is :- 0.8620689655172413\n",
      "\n",
      "\n",
      " At random state 84 , the testing accuracy is :- 0.8438177874186551\n",
      " At random state 84 , the testing accuracy is :- 0.7931034482758621\n",
      "\n",
      "\n",
      " At random state 85 , the testing accuracy is :- 0.8524945770065075\n",
      " At random state 85 , the testing accuracy is :- 0.8017241379310345\n",
      "\n",
      "\n",
      " At random state 86 , the testing accuracy is :- 0.8546637744034707\n",
      " At random state 86 , the testing accuracy is :- 0.7844827586206896\n",
      "\n",
      "\n",
      " At random state 87 , the testing accuracy is :- 0.8568329718004338\n",
      " At random state 87 , the testing accuracy is :- 0.7241379310344828\n",
      "\n",
      "\n",
      " At random state 88 , the testing accuracy is :- 0.8546637744034707\n",
      " At random state 88 , the testing accuracy is :- 0.7931034482758621\n",
      "\n",
      "\n",
      " At random state 89 , the testing accuracy is :- 0.8676789587852495\n",
      " At random state 89 , the testing accuracy is :- 0.75\n",
      "\n",
      "\n",
      " At random state 90 , the testing accuracy is :- 0.8524945770065075\n",
      " At random state 90 , the testing accuracy is :- 0.7758620689655172\n",
      "\n",
      "\n",
      " At random state 91 , the testing accuracy is :- 0.841648590021692\n",
      " At random state 91 , the testing accuracy is :- 0.8275862068965517\n",
      "\n",
      "\n",
      " At random state 92 , the testing accuracy is :- 0.8524945770065075\n",
      " At random state 92 , the testing accuracy is :- 0.7931034482758621\n",
      "\n",
      "\n",
      " At random state 93 , the testing accuracy is :- 0.8481561822125814\n",
      " At random state 93 , the testing accuracy is :- 0.8362068965517241\n",
      "\n",
      "\n",
      " At random state 94 , the testing accuracy is :- 0.8676789587852495\n",
      " At random state 94 , the testing accuracy is :- 0.7672413793103449\n",
      "\n",
      "\n",
      " At random state 95 , the testing accuracy is :- 0.841648590021692\n",
      " At random state 95 , the testing accuracy is :- 0.8362068965517241\n",
      "\n",
      "\n",
      " At random state 96 , the testing accuracy is :- 0.8481561822125814\n",
      " At random state 96 , the testing accuracy is :- 0.8017241379310345\n",
      "\n",
      "\n",
      " At random state 97 , the testing accuracy is :- 0.8568329718004338\n",
      " At random state 97 , the testing accuracy is :- 0.8189655172413793\n",
      "\n",
      "\n",
      " At random state 98 , the testing accuracy is :- 0.8655097613882863\n",
      " At random state 98 , the testing accuracy is :- 0.7586206896551724\n",
      "\n",
      "\n",
      " At random state 99 , the testing accuracy is :- 0.8481561822125814\n",
      " At random state 99 , the testing accuracy is :- 0.7586206896551724\n",
      "\n",
      "\n"
     ]
    }
   ],
   "source": [
    "for i in range(0,100):\n",
    "    x_train,x_test,y_train,y_test=train_test_split(x,y,test_size=0.2,random_state=i)\n",
    "    ada.fit(x_train,y_train)\n",
    "    x_pred=ada.predict(x_train)\n",
    "    y_pred=ada.predict(x_test)\n",
    "    print(f\" At random state {i} , the testing accuracy is :- {accuracy_score(y_train,x_pred)}\")\n",
    "    print(f\" At random state {i} , the testing accuracy is :- {accuracy_score(y_test,y_pred)}\")\n",
    "    print(\"\\n\")"
   ]
  },
  {
   "cell_type": "markdown",
   "id": "f44e4f5a",
   "metadata": {},
   "source": [
    "For AdaBoostClassifier we select Random State - 38"
   ]
  },
  {
   "cell_type": "code",
   "execution_count": 82,
   "id": "a0617507",
   "metadata": {},
   "outputs": [],
   "source": [
    "x_train,x_test,y_train,y_test=train_test_split(x,y,test_size=0.2,random_state=38)"
   ]
  },
  {
   "cell_type": "code",
   "execution_count": 83,
   "id": "18158e48",
   "metadata": {},
   "outputs": [
    {
     "data": {
      "text/html": [
       "<style>#sk-container-id-2 {color: black;background-color: white;}#sk-container-id-2 pre{padding: 0;}#sk-container-id-2 div.sk-toggleable {background-color: white;}#sk-container-id-2 label.sk-toggleable__label {cursor: pointer;display: block;width: 100%;margin-bottom: 0;padding: 0.3em;box-sizing: border-box;text-align: center;}#sk-container-id-2 label.sk-toggleable__label-arrow:before {content: \"▸\";float: left;margin-right: 0.25em;color: #696969;}#sk-container-id-2 label.sk-toggleable__label-arrow:hover:before {color: black;}#sk-container-id-2 div.sk-estimator:hover label.sk-toggleable__label-arrow:before {color: black;}#sk-container-id-2 div.sk-toggleable__content {max-height: 0;max-width: 0;overflow: hidden;text-align: left;background-color: #f0f8ff;}#sk-container-id-2 div.sk-toggleable__content pre {margin: 0.2em;color: black;border-radius: 0.25em;background-color: #f0f8ff;}#sk-container-id-2 input.sk-toggleable__control:checked~div.sk-toggleable__content {max-height: 200px;max-width: 100%;overflow: auto;}#sk-container-id-2 input.sk-toggleable__control:checked~label.sk-toggleable__label-arrow:before {content: \"▾\";}#sk-container-id-2 div.sk-estimator input.sk-toggleable__control:checked~label.sk-toggleable__label {background-color: #d4ebff;}#sk-container-id-2 div.sk-label input.sk-toggleable__control:checked~label.sk-toggleable__label {background-color: #d4ebff;}#sk-container-id-2 input.sk-hidden--visually {border: 0;clip: rect(1px 1px 1px 1px);clip: rect(1px, 1px, 1px, 1px);height: 1px;margin: -1px;overflow: hidden;padding: 0;position: absolute;width: 1px;}#sk-container-id-2 div.sk-estimator {font-family: monospace;background-color: #f0f8ff;border: 1px dotted black;border-radius: 0.25em;box-sizing: border-box;margin-bottom: 0.5em;}#sk-container-id-2 div.sk-estimator:hover {background-color: #d4ebff;}#sk-container-id-2 div.sk-parallel-item::after {content: \"\";width: 100%;border-bottom: 1px solid gray;flex-grow: 1;}#sk-container-id-2 div.sk-label:hover label.sk-toggleable__label {background-color: #d4ebff;}#sk-container-id-2 div.sk-serial::before {content: \"\";position: absolute;border-left: 1px solid gray;box-sizing: border-box;top: 0;bottom: 0;left: 50%;z-index: 0;}#sk-container-id-2 div.sk-serial {display: flex;flex-direction: column;align-items: center;background-color: white;padding-right: 0.2em;padding-left: 0.2em;position: relative;}#sk-container-id-2 div.sk-item {position: relative;z-index: 1;}#sk-container-id-2 div.sk-parallel {display: flex;align-items: stretch;justify-content: center;background-color: white;position: relative;}#sk-container-id-2 div.sk-item::before, #sk-container-id-2 div.sk-parallel-item::before {content: \"\";position: absolute;border-left: 1px solid gray;box-sizing: border-box;top: 0;bottom: 0;left: 50%;z-index: -1;}#sk-container-id-2 div.sk-parallel-item {display: flex;flex-direction: column;z-index: 1;position: relative;background-color: white;}#sk-container-id-2 div.sk-parallel-item:first-child::after {align-self: flex-end;width: 50%;}#sk-container-id-2 div.sk-parallel-item:last-child::after {align-self: flex-start;width: 50%;}#sk-container-id-2 div.sk-parallel-item:only-child::after {width: 0;}#sk-container-id-2 div.sk-dashed-wrapped {border: 1px dashed gray;margin: 0 0.4em 0.5em 0.4em;box-sizing: border-box;padding-bottom: 0.4em;background-color: white;}#sk-container-id-2 div.sk-label label {font-family: monospace;font-weight: bold;display: inline-block;line-height: 1.2em;}#sk-container-id-2 div.sk-label-container {text-align: center;}#sk-container-id-2 div.sk-container {/* jupyter's `normalize.less` sets `[hidden] { display: none; }` but bootstrap.min.css set `[hidden] { display: none !important; }` so we also need the `!important` here to be able to override the default hidden behavior on the sphinx rendered scikit-learn.org. See: https://github.com/scikit-learn/scikit-learn/issues/21755 */display: inline-block !important;position: relative;}#sk-container-id-2 div.sk-text-repr-fallback {display: none;}</style><div id=\"sk-container-id-2\" class=\"sk-top-container\"><div class=\"sk-text-repr-fallback\"><pre>AdaBoostClassifier()</pre><b>In a Jupyter environment, please rerun this cell to show the HTML representation or trust the notebook. <br />On GitHub, the HTML representation is unable to render, please try loading this page with nbviewer.org.</b></div><div class=\"sk-container\" hidden><div class=\"sk-item\"><div class=\"sk-estimator sk-toggleable\"><input class=\"sk-toggleable__control sk-hidden--visually\" id=\"sk-estimator-id-2\" type=\"checkbox\" checked><label for=\"sk-estimator-id-2\" class=\"sk-toggleable__label sk-toggleable__label-arrow\">AdaBoostClassifier</label><div class=\"sk-toggleable__content\"><pre>AdaBoostClassifier()</pre></div></div></div></div></div>"
      ],
      "text/plain": [
       "AdaBoostClassifier()"
      ]
     },
     "execution_count": 83,
     "metadata": {},
     "output_type": "execute_result"
    }
   ],
   "source": [
    "ada.fit(x_train,y_train)"
   ]
  },
  {
   "cell_type": "code",
   "execution_count": 84,
   "id": "8d78bf80",
   "metadata": {},
   "outputs": [
    {
     "data": {
      "text/plain": [
       "0.8373101952277657"
      ]
     },
     "execution_count": 84,
     "metadata": {},
     "output_type": "execute_result"
    }
   ],
   "source": [
    "ada.score(x_train,y_train)#Training Score"
   ]
  },
  {
   "cell_type": "code",
   "execution_count": 85,
   "id": "bd9837c4",
   "metadata": {},
   "outputs": [
    {
     "data": {
      "text/plain": [
       "0.853448275862069"
      ]
     },
     "execution_count": 85,
     "metadata": {},
     "output_type": "execute_result"
    }
   ],
   "source": [
    "ada.score(x_test,y_test)#Testing Score"
   ]
  },
  {
   "cell_type": "markdown",
   "id": "8b79de82",
   "metadata": {},
   "source": [
    "# Lets check with KNN"
   ]
  },
  {
   "cell_type": "code",
   "execution_count": 86,
   "id": "df712d5d",
   "metadata": {},
   "outputs": [],
   "source": [
    "from sklearn.neighbors import KNeighborsClassifier\n",
    "knn=KNeighborsClassifier()"
   ]
  },
  {
   "cell_type": "code",
   "execution_count": 87,
   "id": "8c8a80e6",
   "metadata": {},
   "outputs": [
    {
     "name": "stdout",
     "output_type": "stream",
     "text": [
      " At random state 0 , the testing accuracy is :- 0.7527114967462039\n",
      " At random state 0 , the testing accuracy is :- 0.6120689655172413\n",
      "\n",
      "\n",
      " At random state 1 , the testing accuracy is :- 0.7440347071583514\n",
      " At random state 1 , the testing accuracy is :- 0.6551724137931034\n",
      "\n",
      "\n",
      " At random state 2 , the testing accuracy is :- 0.735357917570499\n",
      " At random state 2 , the testing accuracy is :- 0.6206896551724138\n",
      "\n",
      "\n",
      " At random state 3 , the testing accuracy is :- 0.7331887201735358\n",
      " At random state 3 , the testing accuracy is :- 0.6551724137931034\n",
      "\n",
      "\n",
      " At random state 4 , the testing accuracy is :- 0.7483731019522777\n",
      " At random state 4 , the testing accuracy is :- 0.5948275862068966\n",
      "\n",
      "\n",
      " At random state 5 , the testing accuracy is :- 0.7570498915401301\n",
      " At random state 5 , the testing accuracy is :- 0.6293103448275862\n",
      "\n",
      "\n",
      " At random state 6 , the testing accuracy is :- 0.735357917570499\n",
      " At random state 6 , the testing accuracy is :- 0.6551724137931034\n",
      "\n",
      "\n",
      " At random state 7 , the testing accuracy is :- 0.7505422993492408\n",
      " At random state 7 , the testing accuracy is :- 0.5862068965517241\n",
      "\n",
      "\n",
      " At random state 8 , the testing accuracy is :- 0.737527114967462\n",
      " At random state 8 , the testing accuracy is :- 0.6206896551724138\n",
      "\n",
      "\n",
      " At random state 9 , the testing accuracy is :- 0.720173535791757\n",
      " At random state 9 , the testing accuracy is :- 0.6637931034482759\n",
      "\n",
      "\n",
      " At random state 10 , the testing accuracy is :- 0.7418655097613883\n",
      " At random state 10 , the testing accuracy is :- 0.6293103448275862\n",
      "\n",
      "\n",
      " At random state 11 , the testing accuracy is :- 0.7874186550976139\n",
      " At random state 11 , the testing accuracy is :- 0.5948275862068966\n",
      "\n",
      "\n",
      " At random state 12 , the testing accuracy is :- 0.737527114967462\n",
      " At random state 12 , the testing accuracy is :- 0.6293103448275862\n",
      "\n",
      "\n",
      " At random state 13 , the testing accuracy is :- 0.7483731019522777\n",
      " At random state 13 , the testing accuracy is :- 0.6379310344827587\n",
      "\n",
      "\n",
      " At random state 14 , the testing accuracy is :- 0.7744034707158352\n",
      " At random state 14 , the testing accuracy is :- 0.5775862068965517\n",
      "\n",
      "\n",
      " At random state 15 , the testing accuracy is :- 0.7288503253796096\n",
      " At random state 15 , the testing accuracy is :- 0.6551724137931034\n",
      "\n",
      "\n",
      " At random state 16 , the testing accuracy is :- 0.7570498915401301\n",
      " At random state 16 , the testing accuracy is :- 0.6379310344827587\n",
      "\n",
      "\n",
      " At random state 17 , the testing accuracy is :- 0.7570498915401301\n",
      " At random state 17 , the testing accuracy is :- 0.646551724137931\n",
      "\n",
      "\n",
      " At random state 18 , the testing accuracy is :- 0.7505422993492408\n",
      " At random state 18 , the testing accuracy is :- 0.603448275862069\n",
      "\n",
      "\n",
      " At random state 19 , the testing accuracy is :- 0.7527114967462039\n",
      " At random state 19 , the testing accuracy is :- 0.6379310344827587\n",
      "\n",
      "\n",
      " At random state 20 , the testing accuracy is :- 0.7440347071583514\n",
      " At random state 20 , the testing accuracy is :- 0.5948275862068966\n",
      "\n",
      "\n",
      " At random state 21 , the testing accuracy is :- 0.7527114967462039\n",
      " At random state 21 , the testing accuracy is :- 0.5775862068965517\n",
      "\n",
      "\n",
      " At random state 22 , the testing accuracy is :- 0.735357917570499\n",
      " At random state 22 , the testing accuracy is :- 0.6724137931034483\n",
      "\n",
      "\n",
      " At random state 23 , the testing accuracy is :- 0.737527114967462\n",
      " At random state 23 , the testing accuracy is :- 0.6379310344827587\n",
      "\n",
      "\n",
      " At random state 24 , the testing accuracy is :- 0.7396963123644251\n",
      " At random state 24 , the testing accuracy is :- 0.6724137931034483\n",
      "\n",
      "\n",
      " At random state 25 , the testing accuracy is :- 0.7223427331887202\n",
      " At random state 25 , the testing accuracy is :- 0.7155172413793104\n",
      "\n",
      "\n",
      " At random state 26 , the testing accuracy is :- 0.7613882863340564\n",
      " At random state 26 , the testing accuracy is :- 0.5862068965517241\n",
      "\n",
      "\n",
      " At random state 27 , the testing accuracy is :- 0.7505422993492408\n",
      " At random state 27 , the testing accuracy is :- 0.5862068965517241\n",
      "\n",
      "\n",
      " At random state 28 , the testing accuracy is :- 0.7418655097613883\n",
      " At random state 28 , the testing accuracy is :- 0.6120689655172413\n",
      "\n",
      "\n",
      " At random state 29 , the testing accuracy is :- 0.7678958785249458\n",
      " At random state 29 , the testing accuracy is :- 0.5948275862068966\n",
      "\n",
      "\n",
      " At random state 30 , the testing accuracy is :- 0.7245119305856833\n",
      " At random state 30 , the testing accuracy is :- 0.603448275862069\n",
      "\n",
      "\n",
      " At random state 31 , the testing accuracy is :- 0.7657266811279827\n",
      " At random state 31 , the testing accuracy is :- 0.6293103448275862\n",
      "\n",
      "\n",
      " At random state 32 , the testing accuracy is :- 0.7245119305856833\n",
      " At random state 32 , the testing accuracy is :- 0.6206896551724138\n",
      "\n",
      "\n",
      " At random state 33 , the testing accuracy is :- 0.7288503253796096\n",
      " At random state 33 , the testing accuracy is :- 0.6724137931034483\n",
      "\n",
      "\n",
      " At random state 34 , the testing accuracy is :- 0.7440347071583514\n",
      " At random state 34 , the testing accuracy is :- 0.5775862068965517\n",
      "\n",
      "\n",
      " At random state 35 , the testing accuracy is :- 0.7266811279826464\n",
      " At random state 35 , the testing accuracy is :- 0.603448275862069\n",
      "\n",
      "\n",
      " At random state 36 , the testing accuracy is :- 0.7396963123644251\n",
      " At random state 36 , the testing accuracy is :- 0.6206896551724138\n",
      "\n",
      "\n",
      " At random state 37 , the testing accuracy is :- 0.7613882863340564\n",
      " At random state 37 , the testing accuracy is :- 0.603448275862069\n",
      "\n",
      "\n",
      " At random state 38 , the testing accuracy is :- 0.7331887201735358\n",
      " At random state 38 , the testing accuracy is :- 0.6896551724137931\n",
      "\n",
      "\n",
      " At random state 39 , the testing accuracy is :- 0.7462039045553145\n",
      " At random state 39 , the testing accuracy is :- 0.6120689655172413\n",
      "\n",
      "\n",
      " At random state 40 , the testing accuracy is :- 0.7180043383947939\n",
      " At random state 40 , the testing accuracy is :- 0.6551724137931034\n",
      "\n",
      "\n",
      " At random state 41 , the testing accuracy is :- 0.754880694143167\n",
      " At random state 41 , the testing accuracy is :- 0.646551724137931\n",
      "\n",
      "\n",
      " At random state 42 , the testing accuracy is :- 0.7331887201735358\n",
      " At random state 42 , the testing accuracy is :- 0.6637931034482759\n",
      "\n",
      "\n",
      " At random state 43 , the testing accuracy is :- 0.7483731019522777\n",
      " At random state 43 , the testing accuracy is :- 0.6206896551724138\n",
      "\n",
      "\n",
      " At random state 44 , the testing accuracy is :- 0.735357917570499\n",
      " At random state 44 , the testing accuracy is :- 0.6896551724137931\n",
      "\n",
      "\n",
      " At random state 45 , the testing accuracy is :- 0.7462039045553145\n",
      " At random state 45 , the testing accuracy is :- 0.6551724137931034\n",
      "\n",
      "\n",
      " At random state 46 , the testing accuracy is :- 0.7592190889370932\n",
      " At random state 46 , the testing accuracy is :- 0.603448275862069\n",
      "\n",
      "\n",
      " At random state 47 , the testing accuracy is :- 0.754880694143167\n",
      " At random state 47 , the testing accuracy is :- 0.5948275862068966\n",
      "\n",
      "\n",
      " At random state 48 , the testing accuracy is :- 0.754880694143167\n",
      " At random state 48 , the testing accuracy is :- 0.6379310344827587\n",
      "\n",
      "\n",
      " At random state 49 , the testing accuracy is :- 0.7418655097613883\n",
      " At random state 49 , the testing accuracy is :- 0.6379310344827587\n",
      "\n",
      "\n",
      " At random state 50 , the testing accuracy is :- 0.7527114967462039\n",
      " At random state 50 , the testing accuracy is :- 0.6206896551724138\n",
      "\n",
      "\n",
      " At random state 51 , the testing accuracy is :- 0.7223427331887202\n",
      " At random state 51 , the testing accuracy is :- 0.6379310344827587\n",
      "\n",
      "\n",
      " At random state 52 , the testing accuracy is :- 0.7418655097613883\n",
      " At random state 52 , the testing accuracy is :- 0.6810344827586207\n",
      "\n",
      "\n",
      " At random state 53 , the testing accuracy is :- 0.7396963123644251\n",
      " At random state 53 , the testing accuracy is :- 0.646551724137931\n",
      "\n",
      "\n",
      " At random state 54 , the testing accuracy is :- 0.7483731019522777\n",
      " At random state 54 , the testing accuracy is :- 0.5775862068965517\n",
      "\n",
      "\n",
      " At random state 55 , the testing accuracy is :- 0.7700650759219089\n",
      " At random state 55 , the testing accuracy is :- 0.5775862068965517\n",
      "\n",
      "\n",
      " At random state 56 , the testing accuracy is :- 0.7418655097613883\n",
      " At random state 56 , the testing accuracy is :- 0.6379310344827587\n",
      "\n",
      "\n",
      " At random state 57 , the testing accuracy is :- 0.7657266811279827\n",
      " At random state 57 , the testing accuracy is :- 0.5948275862068966\n",
      "\n",
      "\n",
      " At random state 58 , the testing accuracy is :- 0.737527114967462\n",
      " At random state 58 , the testing accuracy is :- 0.6120689655172413\n",
      "\n",
      "\n",
      " At random state 59 , the testing accuracy is :- 0.754880694143167\n",
      " At random state 59 , the testing accuracy is :- 0.6637931034482759\n",
      "\n",
      "\n",
      " At random state 60 , the testing accuracy is :- 0.7418655097613883\n",
      " At random state 60 , the testing accuracy is :- 0.6551724137931034\n",
      "\n",
      "\n",
      " At random state 61 , the testing accuracy is :- 0.754880694143167\n",
      " At random state 61 , the testing accuracy is :- 0.5948275862068966\n",
      "\n",
      "\n",
      " At random state 62 , the testing accuracy is :- 0.7418655097613883\n",
      " At random state 62 , the testing accuracy is :- 0.5948275862068966\n",
      "\n",
      "\n",
      " At random state 63 , the testing accuracy is :- 0.7396963123644251\n",
      " At random state 63 , the testing accuracy is :- 0.6724137931034483\n",
      "\n",
      "\n",
      " At random state 64 , the testing accuracy is :- 0.7505422993492408\n",
      " At random state 64 , the testing accuracy is :- 0.6379310344827587\n",
      "\n",
      "\n",
      " At random state 65 , the testing accuracy is :- 0.7613882863340564\n",
      " At random state 65 , the testing accuracy is :- 0.5775862068965517\n",
      "\n",
      "\n",
      " At random state 66 , the testing accuracy is :- 0.7440347071583514\n",
      " At random state 66 , the testing accuracy is :- 0.6810344827586207\n",
      "\n",
      "\n",
      " At random state 67 , the testing accuracy is :- 0.7527114967462039\n",
      " At random state 67 , the testing accuracy is :- 0.5775862068965517\n",
      "\n",
      "\n",
      " At random state 68 , the testing accuracy is :- 0.7462039045553145\n",
      " At random state 68 , the testing accuracy is :- 0.6551724137931034\n",
      "\n",
      "\n",
      " At random state 69 , the testing accuracy is :- 0.737527114967462\n",
      " At random state 69 , the testing accuracy is :- 0.5948275862068966\n",
      "\n",
      "\n",
      " At random state 70 , the testing accuracy is :- 0.7613882863340564\n",
      " At random state 70 , the testing accuracy is :- 0.6379310344827587\n",
      "\n",
      "\n",
      " At random state 71 , the testing accuracy is :- 0.7462039045553145\n",
      " At random state 71 , the testing accuracy is :- 0.5775862068965517\n",
      "\n",
      "\n",
      " At random state 72 , the testing accuracy is :- 0.7483731019522777\n",
      " At random state 72 , the testing accuracy is :- 0.6120689655172413\n",
      "\n",
      "\n",
      " At random state 73 , the testing accuracy is :- 0.7462039045553145\n",
      " At random state 73 , the testing accuracy is :- 0.5948275862068966\n",
      "\n",
      "\n",
      " At random state 74 , the testing accuracy is :- 0.7418655097613883\n",
      " At random state 74 , the testing accuracy is :- 0.6293103448275862\n",
      "\n",
      "\n",
      " At random state 75 , the testing accuracy is :- 0.7678958785249458\n",
      " At random state 75 , the testing accuracy is :- 0.6206896551724138\n",
      "\n",
      "\n",
      " At random state 76 , the testing accuracy is :- 0.754880694143167\n",
      " At random state 76 , the testing accuracy is :- 0.646551724137931\n",
      "\n",
      "\n",
      " At random state 77 , the testing accuracy is :- 0.7505422993492408\n",
      " At random state 77 , the testing accuracy is :- 0.5603448275862069\n",
      "\n",
      "\n",
      " At random state 78 , the testing accuracy is :- 0.7592190889370932\n",
      " At random state 78 , the testing accuracy is :- 0.603448275862069\n",
      "\n",
      "\n",
      " At random state 79 , the testing accuracy is :- 0.7266811279826464\n",
      " At random state 79 , the testing accuracy is :- 0.6724137931034483\n",
      "\n",
      "\n",
      " At random state 80 , the testing accuracy is :- 0.7331887201735358\n",
      " At random state 80 , the testing accuracy is :- 0.603448275862069\n",
      "\n",
      "\n",
      " At random state 81 , the testing accuracy is :- 0.7396963123644251\n",
      " At random state 81 , the testing accuracy is :- 0.6120689655172413\n",
      "\n",
      "\n",
      " At random state 82 , the testing accuracy is :- 0.7570498915401301\n",
      " At random state 82 , the testing accuracy is :- 0.5603448275862069\n",
      "\n",
      "\n",
      " At random state 83 , the testing accuracy is :- 0.737527114967462\n",
      " At random state 83 , the testing accuracy is :- 0.6551724137931034\n",
      "\n",
      "\n",
      " At random state 84 , the testing accuracy is :- 0.7462039045553145\n",
      " At random state 84 , the testing accuracy is :- 0.646551724137931\n",
      "\n",
      "\n",
      " At random state 85 , the testing accuracy is :- 0.7418655097613883\n",
      " At random state 85 , the testing accuracy is :- 0.6379310344827587\n",
      "\n",
      "\n",
      " At random state 86 , the testing accuracy is :- 0.7288503253796096\n",
      " At random state 86 , the testing accuracy is :- 0.6293103448275862\n",
      "\n",
      "\n",
      " At random state 87 , the testing accuracy is :- 0.7592190889370932\n",
      " At random state 87 , the testing accuracy is :- 0.6206896551724138\n",
      "\n",
      "\n",
      " At random state 88 , the testing accuracy is :- 0.754880694143167\n",
      " At random state 88 , the testing accuracy is :- 0.5689655172413793\n",
      "\n",
      "\n",
      " At random state 89 , the testing accuracy is :- 0.7527114967462039\n",
      " At random state 89 , the testing accuracy is :- 0.6120689655172413\n",
      "\n",
      "\n",
      " At random state 90 , the testing accuracy is :- 0.7722342733188721\n",
      " At random state 90 , the testing accuracy is :- 0.646551724137931\n",
      "\n",
      "\n",
      " At random state 91 , the testing accuracy is :- 0.7570498915401301\n",
      " At random state 91 , the testing accuracy is :- 0.646551724137931\n",
      "\n",
      "\n",
      " At random state 92 , the testing accuracy is :- 0.7592190889370932\n",
      " At random state 92 , the testing accuracy is :- 0.5948275862068966\n",
      "\n",
      "\n",
      " At random state 93 , the testing accuracy is :- 0.7613882863340564\n",
      " At random state 93 , the testing accuracy is :- 0.6293103448275862\n",
      "\n",
      "\n",
      " At random state 94 , the testing accuracy is :- 0.754880694143167\n",
      " At random state 94 , the testing accuracy is :- 0.6293103448275862\n",
      "\n",
      "\n",
      " At random state 95 , the testing accuracy is :- 0.720173535791757\n",
      " At random state 95 , the testing accuracy is :- 0.646551724137931\n",
      "\n",
      "\n",
      " At random state 96 , the testing accuracy is :- 0.7440347071583514\n",
      " At random state 96 , the testing accuracy is :- 0.6810344827586207\n",
      "\n",
      "\n",
      " At random state 97 , the testing accuracy is :- 0.7483731019522777\n",
      " At random state 97 , the testing accuracy is :- 0.6551724137931034\n",
      "\n",
      "\n",
      " At random state 98 , the testing accuracy is :- 0.7483731019522777\n",
      " At random state 98 , the testing accuracy is :- 0.6120689655172413\n",
      "\n",
      "\n",
      " At random state 99 , the testing accuracy is :- 0.737527114967462\n",
      " At random state 99 , the testing accuracy is :- 0.6637931034482759\n",
      "\n",
      "\n"
     ]
    }
   ],
   "source": [
    "for i in range(0,100):\n",
    "    x_train,x_test,y_train,y_test=train_test_split(x,y,test_size=0.2,random_state=i)\n",
    "    knn.fit(x_train,y_train)\n",
    "    x_pred=knn.predict(x_train)\n",
    "    y_pred=knn.predict(x_test)\n",
    "    print(f\" At random state {i} , the testing accuracy is :- {accuracy_score(y_train,x_pred)}\")\n",
    "    print(f\" At random state {i} , the testing accuracy is :- {accuracy_score(y_test,y_pred)}\")\n",
    "    print(\"\\n\")"
   ]
  },
  {
   "cell_type": "markdown",
   "id": "45915632",
   "metadata": {},
   "source": [
    "For KNN we select Random State - 25"
   ]
  },
  {
   "cell_type": "code",
   "execution_count": 88,
   "id": "b52318c7",
   "metadata": {},
   "outputs": [],
   "source": [
    "x_train,x_test,y_train,y_test=train_test_split(x,y,test_size=0.2,random_state=25)"
   ]
  },
  {
   "cell_type": "code",
   "execution_count": 89,
   "id": "f268cc9d",
   "metadata": {},
   "outputs": [
    {
     "data": {
      "text/html": [
       "<style>#sk-container-id-3 {color: black;background-color: white;}#sk-container-id-3 pre{padding: 0;}#sk-container-id-3 div.sk-toggleable {background-color: white;}#sk-container-id-3 label.sk-toggleable__label {cursor: pointer;display: block;width: 100%;margin-bottom: 0;padding: 0.3em;box-sizing: border-box;text-align: center;}#sk-container-id-3 label.sk-toggleable__label-arrow:before {content: \"▸\";float: left;margin-right: 0.25em;color: #696969;}#sk-container-id-3 label.sk-toggleable__label-arrow:hover:before {color: black;}#sk-container-id-3 div.sk-estimator:hover label.sk-toggleable__label-arrow:before {color: black;}#sk-container-id-3 div.sk-toggleable__content {max-height: 0;max-width: 0;overflow: hidden;text-align: left;background-color: #f0f8ff;}#sk-container-id-3 div.sk-toggleable__content pre {margin: 0.2em;color: black;border-radius: 0.25em;background-color: #f0f8ff;}#sk-container-id-3 input.sk-toggleable__control:checked~div.sk-toggleable__content {max-height: 200px;max-width: 100%;overflow: auto;}#sk-container-id-3 input.sk-toggleable__control:checked~label.sk-toggleable__label-arrow:before {content: \"▾\";}#sk-container-id-3 div.sk-estimator input.sk-toggleable__control:checked~label.sk-toggleable__label {background-color: #d4ebff;}#sk-container-id-3 div.sk-label input.sk-toggleable__control:checked~label.sk-toggleable__label {background-color: #d4ebff;}#sk-container-id-3 input.sk-hidden--visually {border: 0;clip: rect(1px 1px 1px 1px);clip: rect(1px, 1px, 1px, 1px);height: 1px;margin: -1px;overflow: hidden;padding: 0;position: absolute;width: 1px;}#sk-container-id-3 div.sk-estimator {font-family: monospace;background-color: #f0f8ff;border: 1px dotted black;border-radius: 0.25em;box-sizing: border-box;margin-bottom: 0.5em;}#sk-container-id-3 div.sk-estimator:hover {background-color: #d4ebff;}#sk-container-id-3 div.sk-parallel-item::after {content: \"\";width: 100%;border-bottom: 1px solid gray;flex-grow: 1;}#sk-container-id-3 div.sk-label:hover label.sk-toggleable__label {background-color: #d4ebff;}#sk-container-id-3 div.sk-serial::before {content: \"\";position: absolute;border-left: 1px solid gray;box-sizing: border-box;top: 0;bottom: 0;left: 50%;z-index: 0;}#sk-container-id-3 div.sk-serial {display: flex;flex-direction: column;align-items: center;background-color: white;padding-right: 0.2em;padding-left: 0.2em;position: relative;}#sk-container-id-3 div.sk-item {position: relative;z-index: 1;}#sk-container-id-3 div.sk-parallel {display: flex;align-items: stretch;justify-content: center;background-color: white;position: relative;}#sk-container-id-3 div.sk-item::before, #sk-container-id-3 div.sk-parallel-item::before {content: \"\";position: absolute;border-left: 1px solid gray;box-sizing: border-box;top: 0;bottom: 0;left: 50%;z-index: -1;}#sk-container-id-3 div.sk-parallel-item {display: flex;flex-direction: column;z-index: 1;position: relative;background-color: white;}#sk-container-id-3 div.sk-parallel-item:first-child::after {align-self: flex-end;width: 50%;}#sk-container-id-3 div.sk-parallel-item:last-child::after {align-self: flex-start;width: 50%;}#sk-container-id-3 div.sk-parallel-item:only-child::after {width: 0;}#sk-container-id-3 div.sk-dashed-wrapped {border: 1px dashed gray;margin: 0 0.4em 0.5em 0.4em;box-sizing: border-box;padding-bottom: 0.4em;background-color: white;}#sk-container-id-3 div.sk-label label {font-family: monospace;font-weight: bold;display: inline-block;line-height: 1.2em;}#sk-container-id-3 div.sk-label-container {text-align: center;}#sk-container-id-3 div.sk-container {/* jupyter's `normalize.less` sets `[hidden] { display: none; }` but bootstrap.min.css set `[hidden] { display: none !important; }` so we also need the `!important` here to be able to override the default hidden behavior on the sphinx rendered scikit-learn.org. See: https://github.com/scikit-learn/scikit-learn/issues/21755 */display: inline-block !important;position: relative;}#sk-container-id-3 div.sk-text-repr-fallback {display: none;}</style><div id=\"sk-container-id-3\" class=\"sk-top-container\"><div class=\"sk-text-repr-fallback\"><pre>KNeighborsClassifier()</pre><b>In a Jupyter environment, please rerun this cell to show the HTML representation or trust the notebook. <br />On GitHub, the HTML representation is unable to render, please try loading this page with nbviewer.org.</b></div><div class=\"sk-container\" hidden><div class=\"sk-item\"><div class=\"sk-estimator sk-toggleable\"><input class=\"sk-toggleable__control sk-hidden--visually\" id=\"sk-estimator-id-3\" type=\"checkbox\" checked><label for=\"sk-estimator-id-3\" class=\"sk-toggleable__label sk-toggleable__label-arrow\">KNeighborsClassifier</label><div class=\"sk-toggleable__content\"><pre>KNeighborsClassifier()</pre></div></div></div></div></div>"
      ],
      "text/plain": [
       "KNeighborsClassifier()"
      ]
     },
     "execution_count": 89,
     "metadata": {},
     "output_type": "execute_result"
    }
   ],
   "source": [
    "knn.fit(x_train,y_train)"
   ]
  },
  {
   "cell_type": "code",
   "execution_count": 90,
   "id": "00651700",
   "metadata": {},
   "outputs": [
    {
     "data": {
      "text/plain": [
       "0.7223427331887202"
      ]
     },
     "execution_count": 90,
     "metadata": {},
     "output_type": "execute_result"
    }
   ],
   "source": [
    "knn.score(x_train,y_train)#Training Score"
   ]
  },
  {
   "cell_type": "code",
   "execution_count": 91,
   "id": "2bbe7b81",
   "metadata": {},
   "outputs": [
    {
     "data": {
      "text/plain": [
       "0.7155172413793104"
      ]
     },
     "execution_count": 91,
     "metadata": {},
     "output_type": "execute_result"
    }
   ],
   "source": [
    "knn.score(x_test,y_test)#Testing Score"
   ]
  },
  {
   "cell_type": "markdown",
   "id": "cc981d1e",
   "metadata": {},
   "source": [
    "# Lets check with Decision Tree Classifier"
   ]
  },
  {
   "cell_type": "code",
   "execution_count": 92,
   "id": "984cb76c",
   "metadata": {},
   "outputs": [],
   "source": [
    "from sklearn.tree import DecisionTreeClassifier\n",
    "dt = DecisionTreeClassifier()"
   ]
  },
  {
   "cell_type": "code",
   "execution_count": 93,
   "id": "db1fc24f",
   "metadata": {},
   "outputs": [
    {
     "name": "stdout",
     "output_type": "stream",
     "text": [
      " At random state 0 , the testing accuracy is :- 1.0\n",
      " At random state 0 , the testing accuracy is :- 0.6982758620689655\n",
      "\n",
      "\n",
      " At random state 1 , the testing accuracy is :- 1.0\n",
      " At random state 1 , the testing accuracy is :- 0.6896551724137931\n",
      "\n",
      "\n",
      " At random state 2 , the testing accuracy is :- 1.0\n",
      " At random state 2 , the testing accuracy is :- 0.6896551724137931\n",
      "\n",
      "\n",
      " At random state 3 , the testing accuracy is :- 1.0\n",
      " At random state 3 , the testing accuracy is :- 0.6896551724137931\n",
      "\n",
      "\n",
      " At random state 4 , the testing accuracy is :- 1.0\n",
      " At random state 4 , the testing accuracy is :- 0.7327586206896551\n",
      "\n",
      "\n",
      " At random state 5 , the testing accuracy is :- 1.0\n",
      " At random state 5 , the testing accuracy is :- 0.646551724137931\n",
      "\n",
      "\n",
      " At random state 6 , the testing accuracy is :- 1.0\n",
      " At random state 6 , the testing accuracy is :- 0.8362068965517241\n",
      "\n",
      "\n",
      " At random state 7 , the testing accuracy is :- 1.0\n",
      " At random state 7 , the testing accuracy is :- 0.6896551724137931\n",
      "\n",
      "\n",
      " At random state 8 , the testing accuracy is :- 1.0\n",
      " At random state 8 , the testing accuracy is :- 0.7241379310344828\n",
      "\n",
      "\n",
      " At random state 9 , the testing accuracy is :- 1.0\n",
      " At random state 9 , the testing accuracy is :- 0.6982758620689655\n",
      "\n",
      "\n",
      " At random state 10 , the testing accuracy is :- 1.0\n",
      " At random state 10 , the testing accuracy is :- 0.7586206896551724\n",
      "\n",
      "\n",
      " At random state 11 , the testing accuracy is :- 1.0\n",
      " At random state 11 , the testing accuracy is :- 0.6896551724137931\n",
      "\n",
      "\n",
      " At random state 12 , the testing accuracy is :- 1.0\n",
      " At random state 12 , the testing accuracy is :- 0.6896551724137931\n",
      "\n",
      "\n",
      " At random state 13 , the testing accuracy is :- 1.0\n",
      " At random state 13 , the testing accuracy is :- 0.6896551724137931\n",
      "\n",
      "\n",
      " At random state 14 , the testing accuracy is :- 1.0\n",
      " At random state 14 , the testing accuracy is :- 0.7241379310344828\n",
      "\n",
      "\n",
      " At random state 15 , the testing accuracy is :- 1.0\n",
      " At random state 15 , the testing accuracy is :- 0.6896551724137931\n",
      "\n",
      "\n",
      " At random state 16 , the testing accuracy is :- 1.0\n",
      " At random state 16 , the testing accuracy is :- 0.7068965517241379\n",
      "\n",
      "\n",
      " At random state 17 , the testing accuracy is :- 1.0\n",
      " At random state 17 , the testing accuracy is :- 0.7155172413793104\n",
      "\n",
      "\n",
      " At random state 18 , the testing accuracy is :- 1.0\n",
      " At random state 18 , the testing accuracy is :- 0.7155172413793104\n",
      "\n",
      "\n",
      " At random state 19 , the testing accuracy is :- 1.0\n",
      " At random state 19 , the testing accuracy is :- 0.7241379310344828\n",
      "\n",
      "\n",
      " At random state 20 , the testing accuracy is :- 1.0\n",
      " At random state 20 , the testing accuracy is :- 0.7068965517241379\n",
      "\n",
      "\n",
      " At random state 21 , the testing accuracy is :- 1.0\n",
      " At random state 21 , the testing accuracy is :- 0.6637931034482759\n",
      "\n",
      "\n",
      " At random state 22 , the testing accuracy is :- 1.0\n",
      " At random state 22 , the testing accuracy is :- 0.7327586206896551\n",
      "\n",
      "\n",
      " At random state 23 , the testing accuracy is :- 1.0\n",
      " At random state 23 , the testing accuracy is :- 0.6637931034482759\n",
      "\n",
      "\n",
      " At random state 24 , the testing accuracy is :- 1.0\n",
      " At random state 24 , the testing accuracy is :- 0.7758620689655172\n",
      "\n",
      "\n",
      " At random state 25 , the testing accuracy is :- 1.0\n",
      " At random state 25 , the testing accuracy is :- 0.7155172413793104\n",
      "\n",
      "\n",
      " At random state 26 , the testing accuracy is :- 1.0\n",
      " At random state 26 , the testing accuracy is :- 0.7155172413793104\n",
      "\n",
      "\n",
      " At random state 27 , the testing accuracy is :- 1.0\n",
      " At random state 27 , the testing accuracy is :- 0.7155172413793104\n",
      "\n",
      "\n",
      " At random state 28 , the testing accuracy is :- 1.0\n",
      " At random state 28 , the testing accuracy is :- 0.7327586206896551\n",
      "\n",
      "\n",
      " At random state 29 , the testing accuracy is :- 1.0\n",
      " At random state 29 , the testing accuracy is :- 0.7327586206896551\n",
      "\n",
      "\n",
      " At random state 30 , the testing accuracy is :- 1.0\n",
      " At random state 30 , the testing accuracy is :- 0.7155172413793104\n",
      "\n",
      "\n",
      " At random state 31 , the testing accuracy is :- 1.0\n",
      " At random state 31 , the testing accuracy is :- 0.6982758620689655\n",
      "\n",
      "\n",
      " At random state 32 , the testing accuracy is :- 1.0\n",
      " At random state 32 , the testing accuracy is :- 0.7327586206896551\n",
      "\n",
      "\n",
      " At random state 33 , the testing accuracy is :- 1.0\n",
      " At random state 33 , the testing accuracy is :- 0.6724137931034483\n",
      "\n",
      "\n",
      " At random state 34 , the testing accuracy is :- 1.0\n",
      " At random state 34 , the testing accuracy is :- 0.7241379310344828\n",
      "\n",
      "\n",
      " At random state 35 , the testing accuracy is :- 1.0\n",
      " At random state 35 , the testing accuracy is :- 0.6810344827586207\n",
      "\n",
      "\n",
      " At random state 36 , the testing accuracy is :- 1.0\n",
      " At random state 36 , the testing accuracy is :- 0.7586206896551724\n",
      "\n",
      "\n",
      " At random state 37 , the testing accuracy is :- 1.0\n",
      " At random state 37 , the testing accuracy is :- 0.6637931034482759\n",
      "\n",
      "\n",
      " At random state 38 , the testing accuracy is :- 1.0\n",
      " At random state 38 , the testing accuracy is :- 0.7327586206896551\n",
      "\n",
      "\n",
      " At random state 39 , the testing accuracy is :- 1.0\n",
      " At random state 39 , the testing accuracy is :- 0.8017241379310345\n",
      "\n",
      "\n",
      " At random state 40 , the testing accuracy is :- 1.0\n",
      " At random state 40 , the testing accuracy is :- 0.7327586206896551\n",
      "\n",
      "\n",
      " At random state 41 , the testing accuracy is :- 1.0\n",
      " At random state 41 , the testing accuracy is :- 0.7327586206896551\n",
      "\n",
      "\n",
      " At random state 42 , the testing accuracy is :- 1.0\n",
      " At random state 42 , the testing accuracy is :- 0.6896551724137931\n",
      "\n",
      "\n",
      " At random state 43 , the testing accuracy is :- 1.0\n",
      " At random state 43 , the testing accuracy is :- 0.6982758620689655\n",
      "\n",
      "\n",
      " At random state 44 , the testing accuracy is :- 1.0\n",
      " At random state 44 , the testing accuracy is :- 0.6724137931034483\n",
      "\n",
      "\n",
      " At random state 45 , the testing accuracy is :- 1.0\n",
      " At random state 45 , the testing accuracy is :- 0.7327586206896551\n",
      "\n",
      "\n",
      " At random state 46 , the testing accuracy is :- 1.0\n",
      " At random state 46 , the testing accuracy is :- 0.6810344827586207\n",
      "\n",
      "\n",
      " At random state 47 , the testing accuracy is :- 1.0\n",
      " At random state 47 , the testing accuracy is :- 0.7068965517241379\n",
      "\n",
      "\n",
      " At random state 48 , the testing accuracy is :- 1.0\n",
      " At random state 48 , the testing accuracy is :- 0.7155172413793104\n",
      "\n",
      "\n",
      " At random state 49 , the testing accuracy is :- 1.0\n",
      " At random state 49 , the testing accuracy is :- 0.6724137931034483\n",
      "\n",
      "\n",
      " At random state 50 , the testing accuracy is :- 1.0\n",
      " At random state 50 , the testing accuracy is :- 0.7672413793103449\n",
      "\n",
      "\n",
      " At random state 51 , the testing accuracy is :- 1.0\n",
      " At random state 51 , the testing accuracy is :- 0.6724137931034483\n",
      "\n",
      "\n",
      " At random state 52 , the testing accuracy is :- 1.0\n",
      " At random state 52 , the testing accuracy is :- 0.7758620689655172\n",
      "\n",
      "\n",
      " At random state 53 , the testing accuracy is :- 1.0\n",
      " At random state 53 , the testing accuracy is :- 0.6637931034482759\n",
      "\n",
      "\n",
      " At random state 54 , the testing accuracy is :- 1.0\n",
      " At random state 54 , the testing accuracy is :- 0.6637931034482759\n",
      "\n",
      "\n",
      " At random state 55 , the testing accuracy is :- 1.0\n",
      " At random state 55 , the testing accuracy is :- 0.6896551724137931\n",
      "\n",
      "\n",
      " At random state 56 , the testing accuracy is :- 1.0\n",
      " At random state 56 , the testing accuracy is :- 0.7068965517241379\n",
      "\n",
      "\n",
      " At random state 57 , the testing accuracy is :- 1.0\n",
      " At random state 57 , the testing accuracy is :- 0.6810344827586207\n",
      "\n",
      "\n",
      " At random state 58 , the testing accuracy is :- 1.0\n",
      " At random state 58 , the testing accuracy is :- 0.6982758620689655\n",
      "\n",
      "\n",
      " At random state 59 , the testing accuracy is :- 1.0\n",
      " At random state 59 , the testing accuracy is :- 0.7155172413793104\n",
      "\n",
      "\n",
      " At random state 60 , the testing accuracy is :- 1.0\n",
      " At random state 60 , the testing accuracy is :- 0.7241379310344828\n",
      "\n",
      "\n",
      " At random state 61 , the testing accuracy is :- 1.0\n",
      " At random state 61 , the testing accuracy is :- 0.7327586206896551\n",
      "\n",
      "\n",
      " At random state 62 , the testing accuracy is :- 1.0\n",
      " At random state 62 , the testing accuracy is :- 0.7672413793103449\n",
      "\n",
      "\n",
      " At random state 63 , the testing accuracy is :- 1.0\n",
      " At random state 63 , the testing accuracy is :- 0.7068965517241379\n",
      "\n",
      "\n",
      " At random state 64 , the testing accuracy is :- 1.0\n",
      " At random state 64 , the testing accuracy is :- 0.6982758620689655\n",
      "\n",
      "\n",
      " At random state 65 , the testing accuracy is :- 1.0\n",
      " At random state 65 , the testing accuracy is :- 0.6810344827586207\n",
      "\n",
      "\n",
      " At random state 66 , the testing accuracy is :- 1.0\n",
      " At random state 66 , the testing accuracy is :- 0.7241379310344828\n",
      "\n",
      "\n",
      " At random state 67 , the testing accuracy is :- 1.0\n",
      " At random state 67 , the testing accuracy is :- 0.7241379310344828\n",
      "\n",
      "\n",
      " At random state 68 , the testing accuracy is :- 1.0\n",
      " At random state 68 , the testing accuracy is :- 0.7155172413793104\n",
      "\n",
      "\n",
      " At random state 69 , the testing accuracy is :- 1.0\n",
      " At random state 69 , the testing accuracy is :- 0.7931034482758621\n",
      "\n",
      "\n",
      " At random state 70 , the testing accuracy is :- 1.0\n",
      " At random state 70 , the testing accuracy is :- 0.7758620689655172\n",
      "\n",
      "\n",
      " At random state 71 , the testing accuracy is :- 1.0\n",
      " At random state 71 , the testing accuracy is :- 0.7241379310344828\n",
      "\n",
      "\n",
      " At random state 72 , the testing accuracy is :- 1.0\n",
      " At random state 72 , the testing accuracy is :- 0.75\n",
      "\n",
      "\n",
      " At random state 73 , the testing accuracy is :- 1.0\n",
      " At random state 73 , the testing accuracy is :- 0.75\n",
      "\n",
      "\n",
      " At random state 74 , the testing accuracy is :- 1.0\n",
      " At random state 74 , the testing accuracy is :- 0.6810344827586207\n",
      "\n",
      "\n",
      " At random state 75 , the testing accuracy is :- 1.0\n",
      " At random state 75 , the testing accuracy is :- 0.75\n",
      "\n",
      "\n",
      " At random state 76 , the testing accuracy is :- 1.0\n",
      " At random state 76 , the testing accuracy is :- 0.7155172413793104\n",
      "\n",
      "\n",
      " At random state 77 , the testing accuracy is :- 1.0\n",
      " At random state 77 , the testing accuracy is :- 0.7241379310344828\n",
      "\n",
      "\n",
      " At random state 78 , the testing accuracy is :- 1.0\n",
      " At random state 78 , the testing accuracy is :- 0.646551724137931\n",
      "\n",
      "\n",
      " At random state 79 , the testing accuracy is :- 1.0\n",
      " At random state 79 , the testing accuracy is :- 0.7586206896551724\n",
      "\n",
      "\n",
      " At random state 80 , the testing accuracy is :- 1.0\n",
      " At random state 80 , the testing accuracy is :- 0.7155172413793104\n",
      "\n",
      "\n",
      " At random state 81 , the testing accuracy is :- 1.0\n",
      " At random state 81 , the testing accuracy is :- 0.646551724137931\n",
      "\n",
      "\n",
      " At random state 82 , the testing accuracy is :- 1.0\n",
      " At random state 82 , the testing accuracy is :- 0.7155172413793104\n",
      "\n",
      "\n",
      " At random state 83 , the testing accuracy is :- 1.0\n",
      " At random state 83 , the testing accuracy is :- 0.7068965517241379\n",
      "\n",
      "\n",
      " At random state 84 , the testing accuracy is :- 1.0\n",
      " At random state 84 , the testing accuracy is :- 0.7155172413793104\n",
      "\n",
      "\n",
      " At random state 85 , the testing accuracy is :- 1.0\n",
      " At random state 85 , the testing accuracy is :- 0.6982758620689655\n",
      "\n",
      "\n",
      " At random state 86 , the testing accuracy is :- 1.0\n",
      " At random state 86 , the testing accuracy is :- 0.6896551724137931\n",
      "\n",
      "\n",
      " At random state 87 , the testing accuracy is :- 1.0\n",
      " At random state 87 , the testing accuracy is :- 0.7068965517241379\n",
      "\n",
      "\n",
      " At random state 88 , the testing accuracy is :- 1.0\n",
      " At random state 88 , the testing accuracy is :- 0.7068965517241379\n",
      "\n",
      "\n",
      " At random state 89 , the testing accuracy is :- 1.0\n",
      " At random state 89 , the testing accuracy is :- 0.646551724137931\n",
      "\n",
      "\n",
      " At random state 90 , the testing accuracy is :- 1.0\n",
      " At random state 90 , the testing accuracy is :- 0.6982758620689655\n",
      "\n",
      "\n",
      " At random state 91 , the testing accuracy is :- 1.0\n",
      " At random state 91 , the testing accuracy is :- 0.7068965517241379\n",
      "\n",
      "\n",
      " At random state 92 , the testing accuracy is :- 1.0\n",
      " At random state 92 , the testing accuracy is :- 0.646551724137931\n",
      "\n",
      "\n",
      " At random state 93 , the testing accuracy is :- 1.0\n",
      " At random state 93 , the testing accuracy is :- 0.7155172413793104\n",
      "\n",
      "\n",
      " At random state 94 , the testing accuracy is :- 1.0\n",
      " At random state 94 , the testing accuracy is :- 0.6637931034482759\n",
      "\n",
      "\n",
      " At random state 95 , the testing accuracy is :- 1.0\n",
      " At random state 95 , the testing accuracy is :- 0.7327586206896551\n",
      "\n",
      "\n",
      " At random state 96 , the testing accuracy is :- 1.0\n",
      " At random state 96 , the testing accuracy is :- 0.7758620689655172\n",
      "\n",
      "\n",
      " At random state 97 , the testing accuracy is :- 1.0\n",
      " At random state 97 , the testing accuracy is :- 0.7327586206896551\n",
      "\n",
      "\n",
      " At random state 98 , the testing accuracy is :- 1.0\n",
      " At random state 98 , the testing accuracy is :- 0.7586206896551724\n",
      "\n",
      "\n",
      " At random state 99 , the testing accuracy is :- 1.0\n",
      " At random state 99 , the testing accuracy is :- 0.7586206896551724\n",
      "\n",
      "\n"
     ]
    }
   ],
   "source": [
    "for i in range(0,100):\n",
    "    x_train,x_test,y_train,y_test=train_test_split(x,y,test_size=0.2,random_state=i)\n",
    "    dt.fit(x_train,y_train)\n",
    "    x_pred=dt.predict(x_train)\n",
    "    y_pred=dt.predict(x_test)\n",
    "    print(f\" At random state {i} , the testing accuracy is :- {accuracy_score(y_train,x_pred)}\")\n",
    "    print(f\" At random state {i} , the testing accuracy is :- {accuracy_score(y_test,y_pred)}\")\n",
    "    print(\"\\n\")"
   ]
  },
  {
   "cell_type": "markdown",
   "id": "e31089bd",
   "metadata": {},
   "source": [
    "For Decision Tree  we select Random State - 6"
   ]
  },
  {
   "cell_type": "code",
   "execution_count": 94,
   "id": "27fcb8c2",
   "metadata": {},
   "outputs": [],
   "source": [
    "x_train,x_test,y_train,y_test=train_test_split(x,y,test_size=0.2,random_state=6)"
   ]
  },
  {
   "cell_type": "code",
   "execution_count": 95,
   "id": "5432cc8a",
   "metadata": {},
   "outputs": [
    {
     "data": {
      "text/html": [
       "<style>#sk-container-id-4 {color: black;background-color: white;}#sk-container-id-4 pre{padding: 0;}#sk-container-id-4 div.sk-toggleable {background-color: white;}#sk-container-id-4 label.sk-toggleable__label {cursor: pointer;display: block;width: 100%;margin-bottom: 0;padding: 0.3em;box-sizing: border-box;text-align: center;}#sk-container-id-4 label.sk-toggleable__label-arrow:before {content: \"▸\";float: left;margin-right: 0.25em;color: #696969;}#sk-container-id-4 label.sk-toggleable__label-arrow:hover:before {color: black;}#sk-container-id-4 div.sk-estimator:hover label.sk-toggleable__label-arrow:before {color: black;}#sk-container-id-4 div.sk-toggleable__content {max-height: 0;max-width: 0;overflow: hidden;text-align: left;background-color: #f0f8ff;}#sk-container-id-4 div.sk-toggleable__content pre {margin: 0.2em;color: black;border-radius: 0.25em;background-color: #f0f8ff;}#sk-container-id-4 input.sk-toggleable__control:checked~div.sk-toggleable__content {max-height: 200px;max-width: 100%;overflow: auto;}#sk-container-id-4 input.sk-toggleable__control:checked~label.sk-toggleable__label-arrow:before {content: \"▾\";}#sk-container-id-4 div.sk-estimator input.sk-toggleable__control:checked~label.sk-toggleable__label {background-color: #d4ebff;}#sk-container-id-4 div.sk-label input.sk-toggleable__control:checked~label.sk-toggleable__label {background-color: #d4ebff;}#sk-container-id-4 input.sk-hidden--visually {border: 0;clip: rect(1px 1px 1px 1px);clip: rect(1px, 1px, 1px, 1px);height: 1px;margin: -1px;overflow: hidden;padding: 0;position: absolute;width: 1px;}#sk-container-id-4 div.sk-estimator {font-family: monospace;background-color: #f0f8ff;border: 1px dotted black;border-radius: 0.25em;box-sizing: border-box;margin-bottom: 0.5em;}#sk-container-id-4 div.sk-estimator:hover {background-color: #d4ebff;}#sk-container-id-4 div.sk-parallel-item::after {content: \"\";width: 100%;border-bottom: 1px solid gray;flex-grow: 1;}#sk-container-id-4 div.sk-label:hover label.sk-toggleable__label {background-color: #d4ebff;}#sk-container-id-4 div.sk-serial::before {content: \"\";position: absolute;border-left: 1px solid gray;box-sizing: border-box;top: 0;bottom: 0;left: 50%;z-index: 0;}#sk-container-id-4 div.sk-serial {display: flex;flex-direction: column;align-items: center;background-color: white;padding-right: 0.2em;padding-left: 0.2em;position: relative;}#sk-container-id-4 div.sk-item {position: relative;z-index: 1;}#sk-container-id-4 div.sk-parallel {display: flex;align-items: stretch;justify-content: center;background-color: white;position: relative;}#sk-container-id-4 div.sk-item::before, #sk-container-id-4 div.sk-parallel-item::before {content: \"\";position: absolute;border-left: 1px solid gray;box-sizing: border-box;top: 0;bottom: 0;left: 50%;z-index: -1;}#sk-container-id-4 div.sk-parallel-item {display: flex;flex-direction: column;z-index: 1;position: relative;background-color: white;}#sk-container-id-4 div.sk-parallel-item:first-child::after {align-self: flex-end;width: 50%;}#sk-container-id-4 div.sk-parallel-item:last-child::after {align-self: flex-start;width: 50%;}#sk-container-id-4 div.sk-parallel-item:only-child::after {width: 0;}#sk-container-id-4 div.sk-dashed-wrapped {border: 1px dashed gray;margin: 0 0.4em 0.5em 0.4em;box-sizing: border-box;padding-bottom: 0.4em;background-color: white;}#sk-container-id-4 div.sk-label label {font-family: monospace;font-weight: bold;display: inline-block;line-height: 1.2em;}#sk-container-id-4 div.sk-label-container {text-align: center;}#sk-container-id-4 div.sk-container {/* jupyter's `normalize.less` sets `[hidden] { display: none; }` but bootstrap.min.css set `[hidden] { display: none !important; }` so we also need the `!important` here to be able to override the default hidden behavior on the sphinx rendered scikit-learn.org. See: https://github.com/scikit-learn/scikit-learn/issues/21755 */display: inline-block !important;position: relative;}#sk-container-id-4 div.sk-text-repr-fallback {display: none;}</style><div id=\"sk-container-id-4\" class=\"sk-top-container\"><div class=\"sk-text-repr-fallback\"><pre>DecisionTreeClassifier()</pre><b>In a Jupyter environment, please rerun this cell to show the HTML representation or trust the notebook. <br />On GitHub, the HTML representation is unable to render, please try loading this page with nbviewer.org.</b></div><div class=\"sk-container\" hidden><div class=\"sk-item\"><div class=\"sk-estimator sk-toggleable\"><input class=\"sk-toggleable__control sk-hidden--visually\" id=\"sk-estimator-id-4\" type=\"checkbox\" checked><label for=\"sk-estimator-id-4\" class=\"sk-toggleable__label sk-toggleable__label-arrow\">DecisionTreeClassifier</label><div class=\"sk-toggleable__content\"><pre>DecisionTreeClassifier()</pre></div></div></div></div></div>"
      ],
      "text/plain": [
       "DecisionTreeClassifier()"
      ]
     },
     "execution_count": 95,
     "metadata": {},
     "output_type": "execute_result"
    }
   ],
   "source": [
    "dt.fit(x_train,y_train)"
   ]
  },
  {
   "cell_type": "code",
   "execution_count": 96,
   "id": "e85af235",
   "metadata": {},
   "outputs": [
    {
     "data": {
      "text/plain": [
       "1.0"
      ]
     },
     "execution_count": 96,
     "metadata": {},
     "output_type": "execute_result"
    }
   ],
   "source": [
    "dt.score(x_train,y_train)#Training Score"
   ]
  },
  {
   "cell_type": "code",
   "execution_count": 97,
   "id": "f2507fdd",
   "metadata": {},
   "outputs": [
    {
     "data": {
      "text/plain": [
       "0.7844827586206896"
      ]
     },
     "execution_count": 97,
     "metadata": {},
     "output_type": "execute_result"
    }
   ],
   "source": [
    "dt.score(x_test,y_test)#Testing Score"
   ]
  },
  {
   "cell_type": "markdown",
   "id": "ed78510d",
   "metadata": {},
   "source": [
    "# Lets check with Random Forest"
   ]
  },
  {
   "cell_type": "code",
   "execution_count": 98,
   "id": "e7a49295",
   "metadata": {},
   "outputs": [],
   "source": [
    "from sklearn.ensemble import RandomForestClassifier\n",
    "rf=RandomForestClassifier()"
   ]
  },
  {
   "cell_type": "code",
   "execution_count": 99,
   "id": "fe9b0feb",
   "metadata": {},
   "outputs": [
    {
     "name": "stdout",
     "output_type": "stream",
     "text": [
      " At random state 0 , the testing accuracy is :- 1.0\n",
      " At random state 0 , the testing accuracy is :- 0.7931034482758621\n",
      "\n",
      "\n",
      " At random state 1 , the testing accuracy is :- 1.0\n",
      " At random state 1 , the testing accuracy is :- 0.8189655172413793\n",
      "\n",
      "\n",
      " At random state 2 , the testing accuracy is :- 1.0\n",
      " At random state 2 , the testing accuracy is :- 0.7931034482758621\n",
      "\n",
      "\n",
      " At random state 3 , the testing accuracy is :- 1.0\n",
      " At random state 3 , the testing accuracy is :- 0.8103448275862069\n",
      "\n",
      "\n",
      " At random state 4 , the testing accuracy is :- 1.0\n",
      " At random state 4 , the testing accuracy is :- 0.7844827586206896\n",
      "\n",
      "\n",
      " At random state 5 , the testing accuracy is :- 1.0\n",
      " At random state 5 , the testing accuracy is :- 0.7672413793103449\n",
      "\n",
      "\n",
      " At random state 6 , the testing accuracy is :- 1.0\n",
      " At random state 6 , the testing accuracy is :- 0.8620689655172413\n",
      "\n",
      "\n",
      " At random state 7 , the testing accuracy is :- 1.0\n",
      " At random state 7 , the testing accuracy is :- 0.8017241379310345\n",
      "\n",
      "\n",
      " At random state 8 , the testing accuracy is :- 1.0\n",
      " At random state 8 , the testing accuracy is :- 0.7844827586206896\n",
      "\n",
      "\n",
      " At random state 9 , the testing accuracy is :- 1.0\n",
      " At random state 9 , the testing accuracy is :- 0.7844827586206896\n",
      "\n",
      "\n",
      " At random state 10 , the testing accuracy is :- 1.0\n",
      " At random state 10 , the testing accuracy is :- 0.8448275862068966\n",
      "\n",
      "\n",
      " At random state 11 , the testing accuracy is :- 1.0\n",
      " At random state 11 , the testing accuracy is :- 0.7844827586206896\n",
      "\n",
      "\n",
      " At random state 12 , the testing accuracy is :- 1.0\n",
      " At random state 12 , the testing accuracy is :- 0.8793103448275862\n",
      "\n",
      "\n",
      " At random state 13 , the testing accuracy is :- 1.0\n",
      " At random state 13 , the testing accuracy is :- 0.7672413793103449\n",
      "\n",
      "\n",
      " At random state 14 , the testing accuracy is :- 1.0\n",
      " At random state 14 , the testing accuracy is :- 0.7413793103448276\n",
      "\n",
      "\n",
      " At random state 15 , the testing accuracy is :- 1.0\n",
      " At random state 15 , the testing accuracy is :- 0.7931034482758621\n",
      "\n",
      "\n",
      " At random state 16 , the testing accuracy is :- 1.0\n",
      " At random state 16 , the testing accuracy is :- 0.8017241379310345\n",
      "\n",
      "\n",
      " At random state 17 , the testing accuracy is :- 1.0\n",
      " At random state 17 , the testing accuracy is :- 0.8103448275862069\n",
      "\n",
      "\n",
      " At random state 18 , the testing accuracy is :- 1.0\n",
      " At random state 18 , the testing accuracy is :- 0.75\n",
      "\n",
      "\n",
      " At random state 19 , the testing accuracy is :- 1.0\n",
      " At random state 19 , the testing accuracy is :- 0.8189655172413793\n",
      "\n",
      "\n",
      " At random state 20 , the testing accuracy is :- 1.0\n",
      " At random state 20 , the testing accuracy is :- 0.7844827586206896\n",
      "\n",
      "\n",
      " At random state 21 , the testing accuracy is :- 1.0\n",
      " At random state 21 , the testing accuracy is :- 0.8103448275862069\n",
      "\n",
      "\n",
      " At random state 22 , the testing accuracy is :- 1.0\n",
      " At random state 22 , the testing accuracy is :- 0.7758620689655172\n",
      "\n",
      "\n",
      " At random state 23 , the testing accuracy is :- 1.0\n",
      " At random state 23 , the testing accuracy is :- 0.7672413793103449\n",
      "\n",
      "\n",
      " At random state 24 , the testing accuracy is :- 1.0\n",
      " At random state 24 , the testing accuracy is :- 0.853448275862069\n",
      "\n",
      "\n",
      " At random state 25 , the testing accuracy is :- 1.0\n",
      " At random state 25 , the testing accuracy is :- 0.8189655172413793\n",
      "\n",
      "\n",
      " At random state 26 , the testing accuracy is :- 1.0\n",
      " At random state 26 , the testing accuracy is :- 0.8448275862068966\n",
      "\n",
      "\n",
      " At random state 27 , the testing accuracy is :- 1.0\n",
      " At random state 27 , the testing accuracy is :- 0.8017241379310345\n",
      "\n",
      "\n",
      " At random state 28 , the testing accuracy is :- 1.0\n",
      " At random state 28 , the testing accuracy is :- 0.8103448275862069\n",
      "\n",
      "\n",
      " At random state 29 , the testing accuracy is :- 1.0\n",
      " At random state 29 , the testing accuracy is :- 0.8017241379310345\n",
      "\n",
      "\n",
      " At random state 30 , the testing accuracy is :- 1.0\n",
      " At random state 30 , the testing accuracy is :- 0.8017241379310345\n",
      "\n",
      "\n",
      " At random state 31 , the testing accuracy is :- 1.0\n",
      " At random state 31 , the testing accuracy is :- 0.8362068965517241\n",
      "\n",
      "\n",
      " At random state 32 , the testing accuracy is :- 1.0\n",
      " At random state 32 , the testing accuracy is :- 0.7758620689655172\n",
      "\n",
      "\n",
      " At random state 33 , the testing accuracy is :- 1.0\n",
      " At random state 33 , the testing accuracy is :- 0.8017241379310345\n",
      "\n",
      "\n",
      " At random state 34 , the testing accuracy is :- 1.0\n",
      " At random state 34 , the testing accuracy is :- 0.7672413793103449\n",
      "\n",
      "\n",
      " At random state 35 , the testing accuracy is :- 1.0\n",
      " At random state 35 , the testing accuracy is :- 0.8103448275862069\n",
      "\n",
      "\n",
      " At random state 36 , the testing accuracy is :- 1.0\n",
      " At random state 36 , the testing accuracy is :- 0.7931034482758621\n",
      "\n",
      "\n",
      " At random state 37 , the testing accuracy is :- 1.0\n",
      " At random state 37 , the testing accuracy is :- 0.7931034482758621\n",
      "\n",
      "\n",
      " At random state 38 , the testing accuracy is :- 1.0\n",
      " At random state 38 , the testing accuracy is :- 0.8620689655172413\n",
      "\n",
      "\n",
      " At random state 39 , the testing accuracy is :- 1.0\n",
      " At random state 39 , the testing accuracy is :- 0.896551724137931\n",
      "\n",
      "\n",
      " At random state 40 , the testing accuracy is :- 1.0\n",
      " At random state 40 , the testing accuracy is :- 0.7758620689655172\n",
      "\n",
      "\n",
      " At random state 41 , the testing accuracy is :- 1.0\n",
      " At random state 41 , the testing accuracy is :- 0.8189655172413793\n",
      "\n",
      "\n",
      " At random state 42 , the testing accuracy is :- 1.0\n",
      " At random state 42 , the testing accuracy is :- 0.8275862068965517\n",
      "\n",
      "\n",
      " At random state 43 , the testing accuracy is :- 1.0\n",
      " At random state 43 , the testing accuracy is :- 0.8017241379310345\n",
      "\n",
      "\n",
      " At random state 44 , the testing accuracy is :- 1.0\n",
      " At random state 44 , the testing accuracy is :- 0.7758620689655172\n",
      "\n",
      "\n",
      " At random state 45 , the testing accuracy is :- 1.0\n",
      " At random state 45 , the testing accuracy is :- 0.7844827586206896\n",
      "\n",
      "\n",
      " At random state 46 , the testing accuracy is :- 1.0\n",
      " At random state 46 , the testing accuracy is :- 0.8189655172413793\n",
      "\n",
      "\n",
      " At random state 47 , the testing accuracy is :- 1.0\n",
      " At random state 47 , the testing accuracy is :- 0.7758620689655172\n",
      "\n",
      "\n",
      " At random state 48 , the testing accuracy is :- 1.0\n",
      " At random state 48 , the testing accuracy is :- 0.7931034482758621\n",
      "\n",
      "\n",
      " At random state 49 , the testing accuracy is :- 1.0\n",
      " At random state 49 , the testing accuracy is :- 0.7844827586206896\n",
      "\n",
      "\n",
      " At random state 50 , the testing accuracy is :- 1.0\n",
      " At random state 50 , the testing accuracy is :- 0.8103448275862069\n",
      "\n",
      "\n",
      " At random state 51 , the testing accuracy is :- 1.0\n",
      " At random state 51 , the testing accuracy is :- 0.7844827586206896\n",
      "\n",
      "\n",
      " At random state 52 , the testing accuracy is :- 1.0\n",
      " At random state 52 , the testing accuracy is :- 0.8362068965517241\n",
      "\n",
      "\n",
      " At random state 53 , the testing accuracy is :- 1.0\n",
      " At random state 53 , the testing accuracy is :- 0.7931034482758621\n",
      "\n",
      "\n",
      " At random state 54 , the testing accuracy is :- 1.0\n",
      " At random state 54 , the testing accuracy is :- 0.7672413793103449\n",
      "\n",
      "\n",
      " At random state 55 , the testing accuracy is :- 1.0\n",
      " At random state 55 , the testing accuracy is :- 0.8103448275862069\n",
      "\n",
      "\n",
      " At random state 56 , the testing accuracy is :- 1.0\n",
      " At random state 56 , the testing accuracy is :- 0.8448275862068966\n",
      "\n",
      "\n",
      " At random state 57 , the testing accuracy is :- 1.0\n",
      " At random state 57 , the testing accuracy is :- 0.7844827586206896\n",
      "\n",
      "\n",
      " At random state 58 , the testing accuracy is :- 1.0\n",
      " At random state 58 , the testing accuracy is :- 0.8103448275862069\n",
      "\n",
      "\n",
      " At random state 59 , the testing accuracy is :- 1.0\n",
      " At random state 59 , the testing accuracy is :- 0.8017241379310345\n",
      "\n",
      "\n",
      " At random state 60 , the testing accuracy is :- 1.0\n",
      " At random state 60 , the testing accuracy is :- 0.8275862068965517\n",
      "\n",
      "\n",
      " At random state 61 , the testing accuracy is :- 1.0\n",
      " At random state 61 , the testing accuracy is :- 0.8103448275862069\n",
      "\n",
      "\n",
      " At random state 62 , the testing accuracy is :- 1.0\n",
      " At random state 62 , the testing accuracy is :- 0.8189655172413793\n",
      "\n",
      "\n",
      " At random state 63 , the testing accuracy is :- 1.0\n",
      " At random state 63 , the testing accuracy is :- 0.8189655172413793\n",
      "\n",
      "\n",
      " At random state 64 , the testing accuracy is :- 1.0\n",
      " At random state 64 , the testing accuracy is :- 0.7586206896551724\n",
      "\n",
      "\n",
      " At random state 65 , the testing accuracy is :- 1.0\n",
      " At random state 65 , the testing accuracy is :- 0.7844827586206896\n",
      "\n",
      "\n",
      " At random state 66 , the testing accuracy is :- 1.0\n",
      " At random state 66 , the testing accuracy is :- 0.7931034482758621\n",
      "\n",
      "\n",
      " At random state 67 , the testing accuracy is :- 1.0\n",
      " At random state 67 , the testing accuracy is :- 0.75\n",
      "\n",
      "\n",
      " At random state 68 , the testing accuracy is :- 1.0\n",
      " At random state 68 , the testing accuracy is :- 0.853448275862069\n",
      "\n",
      "\n",
      " At random state 69 , the testing accuracy is :- 1.0\n",
      " At random state 69 , the testing accuracy is :- 0.8189655172413793\n",
      "\n",
      "\n",
      " At random state 70 , the testing accuracy is :- 1.0\n",
      " At random state 70 , the testing accuracy is :- 0.75\n",
      "\n",
      "\n",
      " At random state 71 , the testing accuracy is :- 1.0\n",
      " At random state 71 , the testing accuracy is :- 0.8448275862068966\n",
      "\n",
      "\n",
      " At random state 72 , the testing accuracy is :- 1.0\n",
      " At random state 72 , the testing accuracy is :- 0.7844827586206896\n",
      "\n",
      "\n",
      " At random state 73 , the testing accuracy is :- 1.0\n",
      " At random state 73 , the testing accuracy is :- 0.7672413793103449\n",
      "\n",
      "\n",
      " At random state 74 , the testing accuracy is :- 1.0\n",
      " At random state 74 , the testing accuracy is :- 0.7844827586206896\n",
      "\n",
      "\n",
      " At random state 75 , the testing accuracy is :- 1.0\n",
      " At random state 75 , the testing accuracy is :- 0.7931034482758621\n",
      "\n",
      "\n",
      " At random state 76 , the testing accuracy is :- 1.0\n",
      " At random state 76 , the testing accuracy is :- 0.7758620689655172\n",
      "\n",
      "\n",
      " At random state 77 , the testing accuracy is :- 1.0\n",
      " At random state 77 , the testing accuracy is :- 0.7758620689655172\n",
      "\n",
      "\n",
      " At random state 78 , the testing accuracy is :- 1.0\n",
      " At random state 78 , the testing accuracy is :- 0.8017241379310345\n",
      "\n",
      "\n",
      " At random state 79 , the testing accuracy is :- 1.0\n",
      " At random state 79 , the testing accuracy is :- 0.8275862068965517\n",
      "\n",
      "\n",
      " At random state 80 , the testing accuracy is :- 1.0\n",
      " At random state 80 , the testing accuracy is :- 0.8103448275862069\n",
      "\n",
      "\n",
      " At random state 81 , the testing accuracy is :- 1.0\n",
      " At random state 81 , the testing accuracy is :- 0.75\n",
      "\n",
      "\n",
      " At random state 82 , the testing accuracy is :- 1.0\n",
      " At random state 82 , the testing accuracy is :- 0.8189655172413793\n",
      "\n",
      "\n",
      " At random state 83 , the testing accuracy is :- 1.0\n",
      " At random state 83 , the testing accuracy is :- 0.8362068965517241\n",
      "\n",
      "\n",
      " At random state 84 , the testing accuracy is :- 1.0\n",
      " At random state 84 , the testing accuracy is :- 0.8362068965517241\n",
      "\n",
      "\n",
      " At random state 85 , the testing accuracy is :- 1.0\n",
      " At random state 85 , the testing accuracy is :- 0.8189655172413793\n",
      "\n",
      "\n",
      " At random state 86 , the testing accuracy is :- 1.0\n",
      " At random state 86 , the testing accuracy is :- 0.8275862068965517\n",
      "\n",
      "\n",
      " At random state 87 , the testing accuracy is :- 1.0\n",
      " At random state 87 , the testing accuracy is :- 0.7844827586206896\n",
      "\n",
      "\n",
      " At random state 88 , the testing accuracy is :- 1.0\n",
      " At random state 88 , the testing accuracy is :- 0.7844827586206896\n",
      "\n",
      "\n",
      " At random state 89 , the testing accuracy is :- 1.0\n",
      " At random state 89 , the testing accuracy is :- 0.7586206896551724\n",
      "\n",
      "\n",
      " At random state 90 , the testing accuracy is :- 1.0\n",
      " At random state 90 , the testing accuracy is :- 0.8189655172413793\n",
      "\n",
      "\n",
      " At random state 91 , the testing accuracy is :- 1.0\n",
      " At random state 91 , the testing accuracy is :- 0.8706896551724138\n",
      "\n",
      "\n",
      " At random state 92 , the testing accuracy is :- 1.0\n",
      " At random state 92 , the testing accuracy is :- 0.7844827586206896\n",
      "\n",
      "\n",
      " At random state 93 , the testing accuracy is :- 1.0\n",
      " At random state 93 , the testing accuracy is :- 0.853448275862069\n",
      "\n",
      "\n",
      " At random state 94 , the testing accuracy is :- 1.0\n",
      " At random state 94 , the testing accuracy is :- 0.8103448275862069\n",
      "\n",
      "\n",
      " At random state 95 , the testing accuracy is :- 1.0\n",
      " At random state 95 , the testing accuracy is :- 0.8706896551724138\n",
      "\n",
      "\n",
      " At random state 96 , the testing accuracy is :- 1.0\n",
      " At random state 96 , the testing accuracy is :- 0.8362068965517241\n",
      "\n",
      "\n",
      " At random state 97 , the testing accuracy is :- 1.0\n",
      " At random state 97 , the testing accuracy is :- 0.8448275862068966\n",
      "\n",
      "\n",
      " At random state 98 , the testing accuracy is :- 1.0\n",
      " At random state 98 , the testing accuracy is :- 0.7844827586206896\n",
      "\n",
      "\n",
      " At random state 99 , the testing accuracy is :- 1.0\n",
      " At random state 99 , the testing accuracy is :- 0.7931034482758621\n",
      "\n",
      "\n"
     ]
    }
   ],
   "source": [
    "for i in range(0,100):\n",
    "    x_train,x_test,y_train,y_test=train_test_split(x,y,test_size=0.2,random_state=i)\n",
    "    rf.fit(x_train,y_train)\n",
    "    x_pred=rf.predict(x_train)\n",
    "    y_pred=rf.predict(x_test)\n",
    "    print(f\" At random state {i} , the testing accuracy is :- {accuracy_score(y_train,x_pred)}\")\n",
    "    print(f\" At random state {i} , the testing accuracy is :- {accuracy_score(y_test,y_pred)}\")\n",
    "    print(\"\\n\")"
   ]
  },
  {
   "cell_type": "markdown",
   "id": "e3c38d99",
   "metadata": {},
   "source": [
    "For Random Forest we select Random State - 39"
   ]
  },
  {
   "cell_type": "code",
   "execution_count": 100,
   "id": "289efa81",
   "metadata": {},
   "outputs": [],
   "source": [
    "x_train,x_test,y_train,y_test=train_test_split(x,y,test_size=0.2,random_state=39)"
   ]
  },
  {
   "cell_type": "code",
   "execution_count": 101,
   "id": "c02f3195",
   "metadata": {},
   "outputs": [
    {
     "data": {
      "text/html": [
       "<style>#sk-container-id-5 {color: black;background-color: white;}#sk-container-id-5 pre{padding: 0;}#sk-container-id-5 div.sk-toggleable {background-color: white;}#sk-container-id-5 label.sk-toggleable__label {cursor: pointer;display: block;width: 100%;margin-bottom: 0;padding: 0.3em;box-sizing: border-box;text-align: center;}#sk-container-id-5 label.sk-toggleable__label-arrow:before {content: \"▸\";float: left;margin-right: 0.25em;color: #696969;}#sk-container-id-5 label.sk-toggleable__label-arrow:hover:before {color: black;}#sk-container-id-5 div.sk-estimator:hover label.sk-toggleable__label-arrow:before {color: black;}#sk-container-id-5 div.sk-toggleable__content {max-height: 0;max-width: 0;overflow: hidden;text-align: left;background-color: #f0f8ff;}#sk-container-id-5 div.sk-toggleable__content pre {margin: 0.2em;color: black;border-radius: 0.25em;background-color: #f0f8ff;}#sk-container-id-5 input.sk-toggleable__control:checked~div.sk-toggleable__content {max-height: 200px;max-width: 100%;overflow: auto;}#sk-container-id-5 input.sk-toggleable__control:checked~label.sk-toggleable__label-arrow:before {content: \"▾\";}#sk-container-id-5 div.sk-estimator input.sk-toggleable__control:checked~label.sk-toggleable__label {background-color: #d4ebff;}#sk-container-id-5 div.sk-label input.sk-toggleable__control:checked~label.sk-toggleable__label {background-color: #d4ebff;}#sk-container-id-5 input.sk-hidden--visually {border: 0;clip: rect(1px 1px 1px 1px);clip: rect(1px, 1px, 1px, 1px);height: 1px;margin: -1px;overflow: hidden;padding: 0;position: absolute;width: 1px;}#sk-container-id-5 div.sk-estimator {font-family: monospace;background-color: #f0f8ff;border: 1px dotted black;border-radius: 0.25em;box-sizing: border-box;margin-bottom: 0.5em;}#sk-container-id-5 div.sk-estimator:hover {background-color: #d4ebff;}#sk-container-id-5 div.sk-parallel-item::after {content: \"\";width: 100%;border-bottom: 1px solid gray;flex-grow: 1;}#sk-container-id-5 div.sk-label:hover label.sk-toggleable__label {background-color: #d4ebff;}#sk-container-id-5 div.sk-serial::before {content: \"\";position: absolute;border-left: 1px solid gray;box-sizing: border-box;top: 0;bottom: 0;left: 50%;z-index: 0;}#sk-container-id-5 div.sk-serial {display: flex;flex-direction: column;align-items: center;background-color: white;padding-right: 0.2em;padding-left: 0.2em;position: relative;}#sk-container-id-5 div.sk-item {position: relative;z-index: 1;}#sk-container-id-5 div.sk-parallel {display: flex;align-items: stretch;justify-content: center;background-color: white;position: relative;}#sk-container-id-5 div.sk-item::before, #sk-container-id-5 div.sk-parallel-item::before {content: \"\";position: absolute;border-left: 1px solid gray;box-sizing: border-box;top: 0;bottom: 0;left: 50%;z-index: -1;}#sk-container-id-5 div.sk-parallel-item {display: flex;flex-direction: column;z-index: 1;position: relative;background-color: white;}#sk-container-id-5 div.sk-parallel-item:first-child::after {align-self: flex-end;width: 50%;}#sk-container-id-5 div.sk-parallel-item:last-child::after {align-self: flex-start;width: 50%;}#sk-container-id-5 div.sk-parallel-item:only-child::after {width: 0;}#sk-container-id-5 div.sk-dashed-wrapped {border: 1px dashed gray;margin: 0 0.4em 0.5em 0.4em;box-sizing: border-box;padding-bottom: 0.4em;background-color: white;}#sk-container-id-5 div.sk-label label {font-family: monospace;font-weight: bold;display: inline-block;line-height: 1.2em;}#sk-container-id-5 div.sk-label-container {text-align: center;}#sk-container-id-5 div.sk-container {/* jupyter's `normalize.less` sets `[hidden] { display: none; }` but bootstrap.min.css set `[hidden] { display: none !important; }` so we also need the `!important` here to be able to override the default hidden behavior on the sphinx rendered scikit-learn.org. See: https://github.com/scikit-learn/scikit-learn/issues/21755 */display: inline-block !important;position: relative;}#sk-container-id-5 div.sk-text-repr-fallback {display: none;}</style><div id=\"sk-container-id-5\" class=\"sk-top-container\"><div class=\"sk-text-repr-fallback\"><pre>RandomForestClassifier()</pre><b>In a Jupyter environment, please rerun this cell to show the HTML representation or trust the notebook. <br />On GitHub, the HTML representation is unable to render, please try loading this page with nbviewer.org.</b></div><div class=\"sk-container\" hidden><div class=\"sk-item\"><div class=\"sk-estimator sk-toggleable\"><input class=\"sk-toggleable__control sk-hidden--visually\" id=\"sk-estimator-id-5\" type=\"checkbox\" checked><label for=\"sk-estimator-id-5\" class=\"sk-toggleable__label sk-toggleable__label-arrow\">RandomForestClassifier</label><div class=\"sk-toggleable__content\"><pre>RandomForestClassifier()</pre></div></div></div></div></div>"
      ],
      "text/plain": [
       "RandomForestClassifier()"
      ]
     },
     "execution_count": 101,
     "metadata": {},
     "output_type": "execute_result"
    }
   ],
   "source": [
    "rf.fit(x_train,y_train)"
   ]
  },
  {
   "cell_type": "code",
   "execution_count": 102,
   "id": "9f1f54ea",
   "metadata": {},
   "outputs": [
    {
     "data": {
      "text/plain": [
       "1.0"
      ]
     },
     "execution_count": 102,
     "metadata": {},
     "output_type": "execute_result"
    }
   ],
   "source": [
    "rf.score(x_train,y_train)#Training Score"
   ]
  },
  {
   "cell_type": "code",
   "execution_count": 103,
   "id": "03d061b9",
   "metadata": {},
   "outputs": [
    {
     "data": {
      "text/plain": [
       "0.8620689655172413"
      ]
     },
     "execution_count": 103,
     "metadata": {},
     "output_type": "execute_result"
    }
   ],
   "source": [
    "rf.score(x_test,y_test)#Testing Score"
   ]
  },
  {
   "cell_type": "markdown",
   "id": "93ffd109",
   "metadata": {},
   "source": [
    "# Do Hyperparameter Tuning"
   ]
  },
  {
   "cell_type": "code",
   "execution_count": 104,
   "id": "74824972",
   "metadata": {},
   "outputs": [],
   "source": [
    "from sklearn.model_selection import GridSearchCV"
   ]
  },
  {
   "cell_type": "code",
   "execution_count": 105,
   "id": "a3ae9082",
   "metadata": {},
   "outputs": [],
   "source": [
    "grid_param={\n",
    "    'criterion':['ginni','entropy'],\n",
    "    'max_depth': range(10,15),# The Maximum depth of the tree\n",
    "    'min_samples_leaf':range(2,6),#The maximum number of samples required to be at a leaf node\n",
    "    'min_samples_split':range(3,6),#The minimum numbers of sample required to split an internal node\n",
    "    'max_leaf_nodes':range(2,5)}#Best nodes are defined as them unlimited number of leaf nodes"
   ]
  },
  {
   "cell_type": "code",
   "execution_count": 106,
   "id": "f5883df5",
   "metadata": {},
   "outputs": [],
   "source": [
    "grid_search=GridSearchCV(estimator=rf,\n",
    "                         param_grid=grid_param,\n",
    "                         cv=5,\n",
    "                        n_jobs=-1)"
   ]
  },
  {
   "cell_type": "code",
   "execution_count": 107,
   "id": "d8905585",
   "metadata": {},
   "outputs": [
    {
     "data": {
      "text/html": [
       "<style>#sk-container-id-6 {color: black;background-color: white;}#sk-container-id-6 pre{padding: 0;}#sk-container-id-6 div.sk-toggleable {background-color: white;}#sk-container-id-6 label.sk-toggleable__label {cursor: pointer;display: block;width: 100%;margin-bottom: 0;padding: 0.3em;box-sizing: border-box;text-align: center;}#sk-container-id-6 label.sk-toggleable__label-arrow:before {content: \"▸\";float: left;margin-right: 0.25em;color: #696969;}#sk-container-id-6 label.sk-toggleable__label-arrow:hover:before {color: black;}#sk-container-id-6 div.sk-estimator:hover label.sk-toggleable__label-arrow:before {color: black;}#sk-container-id-6 div.sk-toggleable__content {max-height: 0;max-width: 0;overflow: hidden;text-align: left;background-color: #f0f8ff;}#sk-container-id-6 div.sk-toggleable__content pre {margin: 0.2em;color: black;border-radius: 0.25em;background-color: #f0f8ff;}#sk-container-id-6 input.sk-toggleable__control:checked~div.sk-toggleable__content {max-height: 200px;max-width: 100%;overflow: auto;}#sk-container-id-6 input.sk-toggleable__control:checked~label.sk-toggleable__label-arrow:before {content: \"▾\";}#sk-container-id-6 div.sk-estimator input.sk-toggleable__control:checked~label.sk-toggleable__label {background-color: #d4ebff;}#sk-container-id-6 div.sk-label input.sk-toggleable__control:checked~label.sk-toggleable__label {background-color: #d4ebff;}#sk-container-id-6 input.sk-hidden--visually {border: 0;clip: rect(1px 1px 1px 1px);clip: rect(1px, 1px, 1px, 1px);height: 1px;margin: -1px;overflow: hidden;padding: 0;position: absolute;width: 1px;}#sk-container-id-6 div.sk-estimator {font-family: monospace;background-color: #f0f8ff;border: 1px dotted black;border-radius: 0.25em;box-sizing: border-box;margin-bottom: 0.5em;}#sk-container-id-6 div.sk-estimator:hover {background-color: #d4ebff;}#sk-container-id-6 div.sk-parallel-item::after {content: \"\";width: 100%;border-bottom: 1px solid gray;flex-grow: 1;}#sk-container-id-6 div.sk-label:hover label.sk-toggleable__label {background-color: #d4ebff;}#sk-container-id-6 div.sk-serial::before {content: \"\";position: absolute;border-left: 1px solid gray;box-sizing: border-box;top: 0;bottom: 0;left: 50%;z-index: 0;}#sk-container-id-6 div.sk-serial {display: flex;flex-direction: column;align-items: center;background-color: white;padding-right: 0.2em;padding-left: 0.2em;position: relative;}#sk-container-id-6 div.sk-item {position: relative;z-index: 1;}#sk-container-id-6 div.sk-parallel {display: flex;align-items: stretch;justify-content: center;background-color: white;position: relative;}#sk-container-id-6 div.sk-item::before, #sk-container-id-6 div.sk-parallel-item::before {content: \"\";position: absolute;border-left: 1px solid gray;box-sizing: border-box;top: 0;bottom: 0;left: 50%;z-index: -1;}#sk-container-id-6 div.sk-parallel-item {display: flex;flex-direction: column;z-index: 1;position: relative;background-color: white;}#sk-container-id-6 div.sk-parallel-item:first-child::after {align-self: flex-end;width: 50%;}#sk-container-id-6 div.sk-parallel-item:last-child::after {align-self: flex-start;width: 50%;}#sk-container-id-6 div.sk-parallel-item:only-child::after {width: 0;}#sk-container-id-6 div.sk-dashed-wrapped {border: 1px dashed gray;margin: 0 0.4em 0.5em 0.4em;box-sizing: border-box;padding-bottom: 0.4em;background-color: white;}#sk-container-id-6 div.sk-label label {font-family: monospace;font-weight: bold;display: inline-block;line-height: 1.2em;}#sk-container-id-6 div.sk-label-container {text-align: center;}#sk-container-id-6 div.sk-container {/* jupyter's `normalize.less` sets `[hidden] { display: none; }` but bootstrap.min.css set `[hidden] { display: none !important; }` so we also need the `!important` here to be able to override the default hidden behavior on the sphinx rendered scikit-learn.org. See: https://github.com/scikit-learn/scikit-learn/issues/21755 */display: inline-block !important;position: relative;}#sk-container-id-6 div.sk-text-repr-fallback {display: none;}</style><div id=\"sk-container-id-6\" class=\"sk-top-container\"><div class=\"sk-text-repr-fallback\"><pre>GridSearchCV(cv=5, estimator=RandomForestClassifier(), n_jobs=-1,\n",
       "             param_grid={&#x27;criterion&#x27;: [&#x27;ginni&#x27;, &#x27;entropy&#x27;],\n",
       "                         &#x27;max_depth&#x27;: range(10, 15),\n",
       "                         &#x27;max_leaf_nodes&#x27;: range(2, 5),\n",
       "                         &#x27;min_samples_leaf&#x27;: range(2, 6),\n",
       "                         &#x27;min_samples_split&#x27;: range(3, 6)})</pre><b>In a Jupyter environment, please rerun this cell to show the HTML representation or trust the notebook. <br />On GitHub, the HTML representation is unable to render, please try loading this page with nbviewer.org.</b></div><div class=\"sk-container\" hidden><div class=\"sk-item sk-dashed-wrapped\"><div class=\"sk-label-container\"><div class=\"sk-label sk-toggleable\"><input class=\"sk-toggleable__control sk-hidden--visually\" id=\"sk-estimator-id-6\" type=\"checkbox\" ><label for=\"sk-estimator-id-6\" class=\"sk-toggleable__label sk-toggleable__label-arrow\">GridSearchCV</label><div class=\"sk-toggleable__content\"><pre>GridSearchCV(cv=5, estimator=RandomForestClassifier(), n_jobs=-1,\n",
       "             param_grid={&#x27;criterion&#x27;: [&#x27;ginni&#x27;, &#x27;entropy&#x27;],\n",
       "                         &#x27;max_depth&#x27;: range(10, 15),\n",
       "                         &#x27;max_leaf_nodes&#x27;: range(2, 5),\n",
       "                         &#x27;min_samples_leaf&#x27;: range(2, 6),\n",
       "                         &#x27;min_samples_split&#x27;: range(3, 6)})</pre></div></div></div><div class=\"sk-parallel\"><div class=\"sk-parallel-item\"><div class=\"sk-item\"><div class=\"sk-label-container\"><div class=\"sk-label sk-toggleable\"><input class=\"sk-toggleable__control sk-hidden--visually\" id=\"sk-estimator-id-7\" type=\"checkbox\" ><label for=\"sk-estimator-id-7\" class=\"sk-toggleable__label sk-toggleable__label-arrow\">estimator: RandomForestClassifier</label><div class=\"sk-toggleable__content\"><pre>RandomForestClassifier()</pre></div></div></div><div class=\"sk-serial\"><div class=\"sk-item\"><div class=\"sk-estimator sk-toggleable\"><input class=\"sk-toggleable__control sk-hidden--visually\" id=\"sk-estimator-id-8\" type=\"checkbox\" ><label for=\"sk-estimator-id-8\" class=\"sk-toggleable__label sk-toggleable__label-arrow\">RandomForestClassifier</label><div class=\"sk-toggleable__content\"><pre>RandomForestClassifier()</pre></div></div></div></div></div></div></div></div></div></div>"
      ],
      "text/plain": [
       "GridSearchCV(cv=5, estimator=RandomForestClassifier(), n_jobs=-1,\n",
       "             param_grid={'criterion': ['ginni', 'entropy'],\n",
       "                         'max_depth': range(10, 15),\n",
       "                         'max_leaf_nodes': range(2, 5),\n",
       "                         'min_samples_leaf': range(2, 6),\n",
       "                         'min_samples_split': range(3, 6)})"
      ]
     },
     "execution_count": 107,
     "metadata": {},
     "output_type": "execute_result"
    }
   ],
   "source": [
    "grid_search.fit(x_train,y_train)"
   ]
  },
  {
   "cell_type": "code",
   "execution_count": 146,
   "id": "0ecec210",
   "metadata": {},
   "outputs": [],
   "source": [
    "cnn=RandomForestClassifier(criterion='entropy',max_depth=15,max_leaf_nodes=4,min_samples_split= 4)"
   ]
  },
  {
   "cell_type": "code",
   "execution_count": 147,
   "id": "48ef3d49",
   "metadata": {},
   "outputs": [
    {
     "name": "stdout",
     "output_type": "stream",
     "text": [
      "{'criterion': 'entropy', 'max_depth': 10, 'max_leaf_nodes': 3, 'min_samples_leaf': 2, 'min_samples_split': 3}\n"
     ]
    }
   ],
   "source": [
    "best_parameter=grid_search.best_params_\n",
    "print(best_parameter)"
   ]
  },
  {
   "cell_type": "code",
   "execution_count": 148,
   "id": "915c7c15",
   "metadata": {},
   "outputs": [
    {
     "data": {
      "text/html": [
       "<style>#sk-container-id-14 {color: black;background-color: white;}#sk-container-id-14 pre{padding: 0;}#sk-container-id-14 div.sk-toggleable {background-color: white;}#sk-container-id-14 label.sk-toggleable__label {cursor: pointer;display: block;width: 100%;margin-bottom: 0;padding: 0.3em;box-sizing: border-box;text-align: center;}#sk-container-id-14 label.sk-toggleable__label-arrow:before {content: \"▸\";float: left;margin-right: 0.25em;color: #696969;}#sk-container-id-14 label.sk-toggleable__label-arrow:hover:before {color: black;}#sk-container-id-14 div.sk-estimator:hover label.sk-toggleable__label-arrow:before {color: black;}#sk-container-id-14 div.sk-toggleable__content {max-height: 0;max-width: 0;overflow: hidden;text-align: left;background-color: #f0f8ff;}#sk-container-id-14 div.sk-toggleable__content pre {margin: 0.2em;color: black;border-radius: 0.25em;background-color: #f0f8ff;}#sk-container-id-14 input.sk-toggleable__control:checked~div.sk-toggleable__content {max-height: 200px;max-width: 100%;overflow: auto;}#sk-container-id-14 input.sk-toggleable__control:checked~label.sk-toggleable__label-arrow:before {content: \"▾\";}#sk-container-id-14 div.sk-estimator input.sk-toggleable__control:checked~label.sk-toggleable__label {background-color: #d4ebff;}#sk-container-id-14 div.sk-label input.sk-toggleable__control:checked~label.sk-toggleable__label {background-color: #d4ebff;}#sk-container-id-14 input.sk-hidden--visually {border: 0;clip: rect(1px 1px 1px 1px);clip: rect(1px, 1px, 1px, 1px);height: 1px;margin: -1px;overflow: hidden;padding: 0;position: absolute;width: 1px;}#sk-container-id-14 div.sk-estimator {font-family: monospace;background-color: #f0f8ff;border: 1px dotted black;border-radius: 0.25em;box-sizing: border-box;margin-bottom: 0.5em;}#sk-container-id-14 div.sk-estimator:hover {background-color: #d4ebff;}#sk-container-id-14 div.sk-parallel-item::after {content: \"\";width: 100%;border-bottom: 1px solid gray;flex-grow: 1;}#sk-container-id-14 div.sk-label:hover label.sk-toggleable__label {background-color: #d4ebff;}#sk-container-id-14 div.sk-serial::before {content: \"\";position: absolute;border-left: 1px solid gray;box-sizing: border-box;top: 0;bottom: 0;left: 50%;z-index: 0;}#sk-container-id-14 div.sk-serial {display: flex;flex-direction: column;align-items: center;background-color: white;padding-right: 0.2em;padding-left: 0.2em;position: relative;}#sk-container-id-14 div.sk-item {position: relative;z-index: 1;}#sk-container-id-14 div.sk-parallel {display: flex;align-items: stretch;justify-content: center;background-color: white;position: relative;}#sk-container-id-14 div.sk-item::before, #sk-container-id-14 div.sk-parallel-item::before {content: \"\";position: absolute;border-left: 1px solid gray;box-sizing: border-box;top: 0;bottom: 0;left: 50%;z-index: -1;}#sk-container-id-14 div.sk-parallel-item {display: flex;flex-direction: column;z-index: 1;position: relative;background-color: white;}#sk-container-id-14 div.sk-parallel-item:first-child::after {align-self: flex-end;width: 50%;}#sk-container-id-14 div.sk-parallel-item:last-child::after {align-self: flex-start;width: 50%;}#sk-container-id-14 div.sk-parallel-item:only-child::after {width: 0;}#sk-container-id-14 div.sk-dashed-wrapped {border: 1px dashed gray;margin: 0 0.4em 0.5em 0.4em;box-sizing: border-box;padding-bottom: 0.4em;background-color: white;}#sk-container-id-14 div.sk-label label {font-family: monospace;font-weight: bold;display: inline-block;line-height: 1.2em;}#sk-container-id-14 div.sk-label-container {text-align: center;}#sk-container-id-14 div.sk-container {/* jupyter's `normalize.less` sets `[hidden] { display: none; }` but bootstrap.min.css set `[hidden] { display: none !important; }` so we also need the `!important` here to be able to override the default hidden behavior on the sphinx rendered scikit-learn.org. See: https://github.com/scikit-learn/scikit-learn/issues/21755 */display: inline-block !important;position: relative;}#sk-container-id-14 div.sk-text-repr-fallback {display: none;}</style><div id=\"sk-container-id-14\" class=\"sk-top-container\"><div class=\"sk-text-repr-fallback\"><pre>RandomForestClassifier(criterion=&#x27;entropy&#x27;, max_depth=15, max_leaf_nodes=4,\n",
       "                       min_samples_split=4)</pre><b>In a Jupyter environment, please rerun this cell to show the HTML representation or trust the notebook. <br />On GitHub, the HTML representation is unable to render, please try loading this page with nbviewer.org.</b></div><div class=\"sk-container\" hidden><div class=\"sk-item\"><div class=\"sk-estimator sk-toggleable\"><input class=\"sk-toggleable__control sk-hidden--visually\" id=\"sk-estimator-id-16\" type=\"checkbox\" checked><label for=\"sk-estimator-id-16\" class=\"sk-toggleable__label sk-toggleable__label-arrow\">RandomForestClassifier</label><div class=\"sk-toggleable__content\"><pre>RandomForestClassifier(criterion=&#x27;entropy&#x27;, max_depth=15, max_leaf_nodes=4,\n",
       "                       min_samples_split=4)</pre></div></div></div></div></div>"
      ],
      "text/plain": [
       "RandomForestClassifier(criterion='entropy', max_depth=15, max_leaf_nodes=4,\n",
       "                       min_samples_split=4)"
      ]
     },
     "execution_count": 148,
     "metadata": {},
     "output_type": "execute_result"
    }
   ],
   "source": [
    "#Train the model\n",
    "cnn.fit(x_train,y_train)"
   ]
  },
  {
   "cell_type": "code",
   "execution_count": 149,
   "id": "34781d0b",
   "metadata": {},
   "outputs": [
    {
     "data": {
      "text/plain": [
       "0.8004338394793926"
      ]
     },
     "execution_count": 149,
     "metadata": {},
     "output_type": "execute_result"
    }
   ],
   "source": [
    "cnn.score(x_train,y_train)"
   ]
  },
  {
   "cell_type": "code",
   "execution_count": 150,
   "id": "d6c7ac18",
   "metadata": {},
   "outputs": [
    {
     "data": {
      "text/plain": [
       "0.8879310344827587"
      ]
     },
     "execution_count": 150,
     "metadata": {},
     "output_type": "execute_result"
    }
   ],
   "source": [
    "cnn.score(x_test,y_test)"
   ]
  },
  {
   "cell_type": "markdown",
   "id": "88d9d2c0",
   "metadata": {},
   "source": [
    "# Lets Save Our Model"
   ]
  },
  {
   "cell_type": "code",
   "execution_count": 151,
   "id": "99bcadce",
   "metadata": {},
   "outputs": [],
   "source": [
    "import pickle\n",
    "filename='loanapplication.'\n",
    "pickle.dump(rf,open(filename,'wb'))"
   ]
  },
  {
   "cell_type": "markdown",
   "id": "22a7ec5f",
   "metadata": {},
   "source": [
    "# Conclusion"
   ]
  },
  {
   "cell_type": "code",
   "execution_count": 152,
   "id": "a5b0e909",
   "metadata": {},
   "outputs": [
    {
     "name": "stdout",
     "output_type": "stream",
     "text": [
      "86.20689655172413\n"
     ]
    }
   ],
   "source": [
    "loaded_model=pickle.load(open('loanapplication','rb'))\n",
    "result=loaded_model.score(x_test,y_test)\n",
    "print(result*100)"
   ]
  },
  {
   "cell_type": "code",
   "execution_count": 153,
   "id": "ce2961b1",
   "metadata": {},
   "outputs": [],
   "source": [
    "# batch  No - ds0522\n",
    "# Data Trained"
   ]
  },
  {
   "cell_type": "code",
   "execution_count": null,
   "id": "190e7944",
   "metadata": {},
   "outputs": [],
   "source": []
  }
 ],
 "metadata": {
  "kernelspec": {
   "display_name": "Python 3 (ipykernel)",
   "language": "python",
   "name": "python3"
  },
  "language_info": {
   "codemirror_mode": {
    "name": "ipython",
    "version": 3
   },
   "file_extension": ".py",
   "mimetype": "text/x-python",
   "name": "python",
   "nbconvert_exporter": "python",
   "pygments_lexer": "ipython3",
   "version": "3.9.12"
  }
 },
 "nbformat": 4,
 "nbformat_minor": 5
}
