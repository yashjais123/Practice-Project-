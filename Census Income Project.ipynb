{
 "cells": [
  {
   "cell_type": "markdown",
   "id": "bee7f8fb",
   "metadata": {},
   "source": [
    "# Census Income Project"
   ]
  },
  {
   "cell_type": "markdown",
   "id": "2ba152a6",
   "metadata": {},
   "source": [
    "# Problem Statement:"
   ]
  },
  {
   "cell_type": "markdown",
   "id": "70efb110",
   "metadata": {},
   "source": [
    "# This data was extracted from the 1994 Census bureau database by Ronny Kohavi and Barry Becker (Data Mining and Visualization, Silicon Graphics). A set of reasonably clean records was extracted using the following conditions: ((AAGE>16) && (AGI>100) && (AFNLWGT>1) && (HRSWK>0)). The prediction task is to determine whether a person makes over $50K a year."
   ]
  },
  {
   "cell_type": "markdown",
   "id": "f0ee67a4",
   "metadata": {},
   "source": [
    "# Description of fnlwgt (final weight)"
   ]
  },
  {
   "cell_type": "markdown",
   "id": "0908d827",
   "metadata": {},
   "source": [
    "# The weights on the Current Population Survey (CPS) files are controlled to independent estimates of the civilian non-institutional population of the US. These are prepared monthly for us by Population Division here at the Census Bureau. We use 3 sets of controls. These are:\n",
    "\n",
    "# 1) A single cell estimate of the population 16+ for each state.\n",
    "\n",
    "# 2) Controls for Hispanic Origin by age and sex.\n",
    "\n",
    "# 3) Controls by Race, age and sex.\n",
    "\n",
    "# We use all three sets of controls in our weighting program and \"rake\" through them 6 times so that by the end we come back to all the controls we used. The term estimate refers to population totals derived from CPS by creating \"weighted tallies\" of any specified socio-economic characteristics of the population. People with similar demographic characteristics should have similar weights. There is one important caveat to remember about this statement. That is that since the CPS sample is actually a collection of 51 state samples, each with its own probability of selection, the statement only applies within state."
   ]
  },
  {
   "cell_type": "code",
   "execution_count": 90,
   "id": "39a84d67",
   "metadata": {},
   "outputs": [],
   "source": [
    "import numpy as np \n",
    "import pandas as pd\n",
    "import matplotlib.pyplot as plt\n",
    "import seaborn as sns\n",
    "\n",
    "import warnings\n",
    "warnings.filterwarnings('ignore')"
   ]
  },
  {
   "cell_type": "code",
   "execution_count": 91,
   "id": "a4e74cce",
   "metadata": {},
   "outputs": [],
   "source": [
    "data = pd.read_csv(r\"D:\\New folder\\census_income.csv\")"
   ]
  },
  {
   "cell_type": "code",
   "execution_count": 92,
   "id": "fc4b937a",
   "metadata": {},
   "outputs": [
    {
     "data": {
      "text/html": [
       "<div>\n",
       "<style scoped>\n",
       "    .dataframe tbody tr th:only-of-type {\n",
       "        vertical-align: middle;\n",
       "    }\n",
       "\n",
       "    .dataframe tbody tr th {\n",
       "        vertical-align: top;\n",
       "    }\n",
       "\n",
       "    .dataframe thead th {\n",
       "        text-align: right;\n",
       "    }\n",
       "</style>\n",
       "<table border=\"1\" class=\"dataframe\">\n",
       "  <thead>\n",
       "    <tr style=\"text-align: right;\">\n",
       "      <th></th>\n",
       "      <th>Age</th>\n",
       "      <th>Workclass</th>\n",
       "      <th>Fnlwgt</th>\n",
       "      <th>Education</th>\n",
       "      <th>Education_num</th>\n",
       "      <th>Marital_status</th>\n",
       "      <th>Occupation</th>\n",
       "      <th>Relationship</th>\n",
       "      <th>Race</th>\n",
       "      <th>Sex</th>\n",
       "      <th>Capital_gain</th>\n",
       "      <th>Capital_loss</th>\n",
       "      <th>Hours_per_week</th>\n",
       "      <th>Native_country</th>\n",
       "      <th>Income</th>\n",
       "    </tr>\n",
       "  </thead>\n",
       "  <tbody>\n",
       "    <tr>\n",
       "      <th>0</th>\n",
       "      <td>50</td>\n",
       "      <td>Self-emp-not-inc</td>\n",
       "      <td>83311</td>\n",
       "      <td>Bachelors</td>\n",
       "      <td>13</td>\n",
       "      <td>Married-civ-spouse</td>\n",
       "      <td>Exec-managerial</td>\n",
       "      <td>Husband</td>\n",
       "      <td>White</td>\n",
       "      <td>Male</td>\n",
       "      <td>0</td>\n",
       "      <td>0</td>\n",
       "      <td>13</td>\n",
       "      <td>United-States</td>\n",
       "      <td>&lt;=50K</td>\n",
       "    </tr>\n",
       "    <tr>\n",
       "      <th>1</th>\n",
       "      <td>38</td>\n",
       "      <td>Private</td>\n",
       "      <td>215646</td>\n",
       "      <td>HS-grad</td>\n",
       "      <td>9</td>\n",
       "      <td>Divorced</td>\n",
       "      <td>Handlers-cleaners</td>\n",
       "      <td>Not-in-family</td>\n",
       "      <td>White</td>\n",
       "      <td>Male</td>\n",
       "      <td>0</td>\n",
       "      <td>0</td>\n",
       "      <td>40</td>\n",
       "      <td>United-States</td>\n",
       "      <td>&lt;=50K</td>\n",
       "    </tr>\n",
       "    <tr>\n",
       "      <th>2</th>\n",
       "      <td>53</td>\n",
       "      <td>Private</td>\n",
       "      <td>234721</td>\n",
       "      <td>11th</td>\n",
       "      <td>7</td>\n",
       "      <td>Married-civ-spouse</td>\n",
       "      <td>Handlers-cleaners</td>\n",
       "      <td>Husband</td>\n",
       "      <td>Black</td>\n",
       "      <td>Male</td>\n",
       "      <td>0</td>\n",
       "      <td>0</td>\n",
       "      <td>40</td>\n",
       "      <td>United-States</td>\n",
       "      <td>&lt;=50K</td>\n",
       "    </tr>\n",
       "    <tr>\n",
       "      <th>3</th>\n",
       "      <td>28</td>\n",
       "      <td>Private</td>\n",
       "      <td>338409</td>\n",
       "      <td>Bachelors</td>\n",
       "      <td>13</td>\n",
       "      <td>Married-civ-spouse</td>\n",
       "      <td>Prof-specialty</td>\n",
       "      <td>Wife</td>\n",
       "      <td>Black</td>\n",
       "      <td>Female</td>\n",
       "      <td>0</td>\n",
       "      <td>0</td>\n",
       "      <td>40</td>\n",
       "      <td>Cuba</td>\n",
       "      <td>&lt;=50K</td>\n",
       "    </tr>\n",
       "    <tr>\n",
       "      <th>4</th>\n",
       "      <td>37</td>\n",
       "      <td>Private</td>\n",
       "      <td>284582</td>\n",
       "      <td>Masters</td>\n",
       "      <td>14</td>\n",
       "      <td>Married-civ-spouse</td>\n",
       "      <td>Exec-managerial</td>\n",
       "      <td>Wife</td>\n",
       "      <td>White</td>\n",
       "      <td>Female</td>\n",
       "      <td>0</td>\n",
       "      <td>0</td>\n",
       "      <td>40</td>\n",
       "      <td>United-States</td>\n",
       "      <td>&lt;=50K</td>\n",
       "    </tr>\n",
       "    <tr>\n",
       "      <th>...</th>\n",
       "      <td>...</td>\n",
       "      <td>...</td>\n",
       "      <td>...</td>\n",
       "      <td>...</td>\n",
       "      <td>...</td>\n",
       "      <td>...</td>\n",
       "      <td>...</td>\n",
       "      <td>...</td>\n",
       "      <td>...</td>\n",
       "      <td>...</td>\n",
       "      <td>...</td>\n",
       "      <td>...</td>\n",
       "      <td>...</td>\n",
       "      <td>...</td>\n",
       "      <td>...</td>\n",
       "    </tr>\n",
       "    <tr>\n",
       "      <th>32555</th>\n",
       "      <td>27</td>\n",
       "      <td>Private</td>\n",
       "      <td>257302</td>\n",
       "      <td>Assoc-acdm</td>\n",
       "      <td>12</td>\n",
       "      <td>Married-civ-spouse</td>\n",
       "      <td>Tech-support</td>\n",
       "      <td>Wife</td>\n",
       "      <td>White</td>\n",
       "      <td>Female</td>\n",
       "      <td>0</td>\n",
       "      <td>0</td>\n",
       "      <td>38</td>\n",
       "      <td>United-States</td>\n",
       "      <td>&lt;=50K</td>\n",
       "    </tr>\n",
       "    <tr>\n",
       "      <th>32556</th>\n",
       "      <td>40</td>\n",
       "      <td>Private</td>\n",
       "      <td>154374</td>\n",
       "      <td>HS-grad</td>\n",
       "      <td>9</td>\n",
       "      <td>Married-civ-spouse</td>\n",
       "      <td>Machine-op-inspct</td>\n",
       "      <td>Husband</td>\n",
       "      <td>White</td>\n",
       "      <td>Male</td>\n",
       "      <td>0</td>\n",
       "      <td>0</td>\n",
       "      <td>40</td>\n",
       "      <td>United-States</td>\n",
       "      <td>&gt;50K</td>\n",
       "    </tr>\n",
       "    <tr>\n",
       "      <th>32557</th>\n",
       "      <td>58</td>\n",
       "      <td>Private</td>\n",
       "      <td>151910</td>\n",
       "      <td>HS-grad</td>\n",
       "      <td>9</td>\n",
       "      <td>Widowed</td>\n",
       "      <td>Adm-clerical</td>\n",
       "      <td>Unmarried</td>\n",
       "      <td>White</td>\n",
       "      <td>Female</td>\n",
       "      <td>0</td>\n",
       "      <td>0</td>\n",
       "      <td>40</td>\n",
       "      <td>United-States</td>\n",
       "      <td>&lt;=50K</td>\n",
       "    </tr>\n",
       "    <tr>\n",
       "      <th>32558</th>\n",
       "      <td>22</td>\n",
       "      <td>Private</td>\n",
       "      <td>201490</td>\n",
       "      <td>HS-grad</td>\n",
       "      <td>9</td>\n",
       "      <td>Never-married</td>\n",
       "      <td>Adm-clerical</td>\n",
       "      <td>Own-child</td>\n",
       "      <td>White</td>\n",
       "      <td>Male</td>\n",
       "      <td>0</td>\n",
       "      <td>0</td>\n",
       "      <td>20</td>\n",
       "      <td>United-States</td>\n",
       "      <td>&lt;=50K</td>\n",
       "    </tr>\n",
       "    <tr>\n",
       "      <th>32559</th>\n",
       "      <td>52</td>\n",
       "      <td>Self-emp-inc</td>\n",
       "      <td>287927</td>\n",
       "      <td>HS-grad</td>\n",
       "      <td>9</td>\n",
       "      <td>Married-civ-spouse</td>\n",
       "      <td>Exec-managerial</td>\n",
       "      <td>Wife</td>\n",
       "      <td>White</td>\n",
       "      <td>Female</td>\n",
       "      <td>15024</td>\n",
       "      <td>0</td>\n",
       "      <td>40</td>\n",
       "      <td>United-States</td>\n",
       "      <td>&gt;50K</td>\n",
       "    </tr>\n",
       "  </tbody>\n",
       "</table>\n",
       "<p>32560 rows × 15 columns</p>\n",
       "</div>"
      ],
      "text/plain": [
       "       Age          Workclass  Fnlwgt    Education  Education_num  \\\n",
       "0       50   Self-emp-not-inc   83311    Bachelors             13   \n",
       "1       38            Private  215646      HS-grad              9   \n",
       "2       53            Private  234721         11th              7   \n",
       "3       28            Private  338409    Bachelors             13   \n",
       "4       37            Private  284582      Masters             14   \n",
       "...    ...                ...     ...          ...            ...   \n",
       "32555   27            Private  257302   Assoc-acdm             12   \n",
       "32556   40            Private  154374      HS-grad              9   \n",
       "32557   58            Private  151910      HS-grad              9   \n",
       "32558   22            Private  201490      HS-grad              9   \n",
       "32559   52       Self-emp-inc  287927      HS-grad              9   \n",
       "\n",
       "            Marital_status          Occupation    Relationship    Race  \\\n",
       "0       Married-civ-spouse     Exec-managerial         Husband   White   \n",
       "1                 Divorced   Handlers-cleaners   Not-in-family   White   \n",
       "2       Married-civ-spouse   Handlers-cleaners         Husband   Black   \n",
       "3       Married-civ-spouse      Prof-specialty            Wife   Black   \n",
       "4       Married-civ-spouse     Exec-managerial            Wife   White   \n",
       "...                    ...                 ...             ...     ...   \n",
       "32555   Married-civ-spouse        Tech-support            Wife   White   \n",
       "32556   Married-civ-spouse   Machine-op-inspct         Husband   White   \n",
       "32557              Widowed        Adm-clerical       Unmarried   White   \n",
       "32558        Never-married        Adm-clerical       Own-child   White   \n",
       "32559   Married-civ-spouse     Exec-managerial            Wife   White   \n",
       "\n",
       "           Sex  Capital_gain  Capital_loss  Hours_per_week  Native_country  \\\n",
       "0         Male             0             0              13   United-States   \n",
       "1         Male             0             0              40   United-States   \n",
       "2         Male             0             0              40   United-States   \n",
       "3       Female             0             0              40            Cuba   \n",
       "4       Female             0             0              40   United-States   \n",
       "...        ...           ...           ...             ...             ...   \n",
       "32555   Female             0             0              38   United-States   \n",
       "32556     Male             0             0              40   United-States   \n",
       "32557   Female             0             0              40   United-States   \n",
       "32558     Male             0             0              20   United-States   \n",
       "32559   Female         15024             0              40   United-States   \n",
       "\n",
       "       Income  \n",
       "0       <=50K  \n",
       "1       <=50K  \n",
       "2       <=50K  \n",
       "3       <=50K  \n",
       "4       <=50K  \n",
       "...       ...  \n",
       "32555   <=50K  \n",
       "32556    >50K  \n",
       "32557   <=50K  \n",
       "32558   <=50K  \n",
       "32559    >50K  \n",
       "\n",
       "[32560 rows x 15 columns]"
      ]
     },
     "execution_count": 92,
     "metadata": {},
     "output_type": "execute_result"
    }
   ],
   "source": [
    "data"
   ]
  },
  {
   "cell_type": "code",
   "execution_count": 93,
   "id": "e03b9ff7",
   "metadata": {},
   "outputs": [
    {
     "data": {
      "text/plain": [
       "(32560, 15)"
      ]
     },
     "execution_count": 93,
     "metadata": {},
     "output_type": "execute_result"
    }
   ],
   "source": [
    "#Lets check the shape of dataset\n",
    "data.shape"
   ]
  },
  {
   "cell_type": "markdown",
   "id": "fc264049",
   "metadata": {},
   "source": [
    "So , here we have 32560 rows and 15 columns"
   ]
  },
  {
   "cell_type": "markdown",
   "id": "8a638051",
   "metadata": {},
   "source": [
    "# Data is Duplicated ?"
   ]
  },
  {
   "cell_type": "code",
   "execution_count": 94,
   "id": "4753b6f7",
   "metadata": {},
   "outputs": [
    {
     "data": {
      "text/plain": [
       "24"
      ]
     },
     "execution_count": 94,
     "metadata": {},
     "output_type": "execute_result"
    }
   ],
   "source": [
    "data.duplicated().sum()"
   ]
  },
  {
   "cell_type": "markdown",
   "id": "5a3795d3",
   "metadata": {},
   "source": [
    "so,  here we have 24 Duplicated Data"
   ]
  },
  {
   "cell_type": "code",
   "execution_count": 95,
   "id": "d610b433",
   "metadata": {},
   "outputs": [],
   "source": [
    "# dropping duplicates\n",
    "\n",
    "data.drop_duplicates(keep = 'first', inplace = True)"
   ]
  },
  {
   "cell_type": "code",
   "execution_count": 96,
   "id": "82e65855",
   "metadata": {},
   "outputs": [
    {
     "data": {
      "text/plain": [
       "Age                int64\n",
       "Workclass         object\n",
       "Fnlwgt             int64\n",
       "Education         object\n",
       "Education_num      int64\n",
       "Marital_status    object\n",
       "Occupation        object\n",
       "Relationship      object\n",
       "Race              object\n",
       "Sex               object\n",
       "Capital_gain       int64\n",
       "Capital_loss       int64\n",
       "Hours_per_week     int64\n",
       "Native_country    object\n",
       "Income            object\n",
       "dtype: object"
      ]
     },
     "execution_count": 96,
     "metadata": {},
     "output_type": "execute_result"
    }
   ],
   "source": [
    "#Lets check the data type of dataset\n",
    "data.dtypes"
   ]
  },
  {
   "cell_type": "markdown",
   "id": "33301c47",
   "metadata": {},
   "source": [
    "so here we have \n",
    "\n",
    "int64 type - Age,Fnlwgt,Education_num,Capital_gain,Capital_loss,Hours_per_week this all columns\n",
    "\n",
    "Oject type - Workclass,Education,Marital_status,Occupation,R"
   ]
  },
  {
   "cell_type": "markdown",
   "id": "4eed1a20",
   "metadata": {},
   "source": [
    "# value count Function"
   ]
  },
  {
   "cell_type": "code",
   "execution_count": 97,
   "id": "ee42ba92",
   "metadata": {},
   "outputs": [
    {
     "data": {
      "text/plain": [
       " Private             22673\n",
       " Self-emp-not-inc     2540\n",
       " Local-gov            2093\n",
       " ?                    1836\n",
       " State-gov            1297\n",
       " Self-emp-inc         1116\n",
       " Federal-gov           960\n",
       " Without-pay            14\n",
       " Never-worked            7\n",
       "Name: Workclass, dtype: int64"
      ]
     },
     "execution_count": 97,
     "metadata": {},
     "output_type": "execute_result"
    }
   ],
   "source": [
    "data['Workclass'].value_counts()"
   ]
  },
  {
   "cell_type": "code",
   "execution_count": 98,
   "id": "84a5d0a7",
   "metadata": {},
   "outputs": [
    {
     "data": {
      "text/plain": [
       " Prof-specialty       4136\n",
       " Craft-repair         4094\n",
       " Exec-managerial      4065\n",
       " Adm-clerical         3767\n",
       " Sales                3650\n",
       " Other-service        3291\n",
       " Machine-op-inspct    2000\n",
       " ?                    1843\n",
       " Transport-moving     1597\n",
       " Handlers-cleaners    1369\n",
       " Farming-fishing       992\n",
       " Tech-support          927\n",
       " Protective-serv       649\n",
       " Priv-house-serv       147\n",
       " Armed-Forces            9\n",
       "Name: Occupation, dtype: int64"
      ]
     },
     "execution_count": 98,
     "metadata": {},
     "output_type": "execute_result"
    }
   ],
   "source": [
    "data['Occupation'].value_counts()"
   ]
  },
  {
   "cell_type": "code",
   "execution_count": 99,
   "id": "8749b2e7",
   "metadata": {},
   "outputs": [
    {
     "data": {
      "text/plain": [
       " United-States                 29152\n",
       " Mexico                          639\n",
       " ?                               582\n",
       " Philippines                     198\n",
       " Germany                         137\n",
       " Canada                          121\n",
       " Puerto-Rico                     114\n",
       " El-Salvador                     106\n",
       " India                           100\n",
       " Cuba                             95\n",
       " England                          90\n",
       " Jamaica                          81\n",
       " South                            80\n",
       " China                            75\n",
       " Italy                            73\n",
       " Dominican-Republic               70\n",
       " Vietnam                          67\n",
       " Japan                            62\n",
       " Guatemala                        62\n",
       " Poland                           60\n",
       " Columbia                         59\n",
       " Taiwan                           51\n",
       " Haiti                            44\n",
       " Iran                             43\n",
       " Portugal                         37\n",
       " Nicaragua                        34\n",
       " Peru                             31\n",
       " France                           29\n",
       " Greece                           29\n",
       " Ecuador                          28\n",
       " Ireland                          24\n",
       " Hong                             20\n",
       " Cambodia                         19\n",
       " Trinadad&Tobago                  19\n",
       " Laos                             18\n",
       " Thailand                         18\n",
       " Yugoslavia                       16\n",
       " Outlying-US(Guam-USVI-etc)       14\n",
       " Honduras                         13\n",
       " Hungary                          13\n",
       " Scotland                         12\n",
       " Holand-Netherlands                1\n",
       "Name: Native_country, dtype: int64"
      ]
     },
     "execution_count": 99,
     "metadata": {},
     "output_type": "execute_result"
    }
   ],
   "source": [
    "data['Native_country'].value_counts()"
   ]
  },
  {
   "cell_type": "code",
   "execution_count": 100,
   "id": "2eea0f51",
   "metadata": {},
   "outputs": [
    {
     "data": {
      "text/plain": [
       " Married-civ-spouse       14970\n",
       " Never-married            10666\n",
       " Divorced                  4441\n",
       " Separated                 1025\n",
       " Widowed                    993\n",
       " Married-spouse-absent      418\n",
       " Married-AF-spouse           23\n",
       "Name: Marital_status, dtype: int64"
      ]
     },
     "execution_count": 100,
     "metadata": {},
     "output_type": "execute_result"
    }
   ],
   "source": [
    "data['Marital_status'].value_counts()"
   ]
  },
  {
   "cell_type": "code",
   "execution_count": 101,
   "id": "28987cf5",
   "metadata": {},
   "outputs": [
    {
     "data": {
      "text/plain": [
       " Male      21774\n",
       " Female    10762\n",
       "Name: Sex, dtype: int64"
      ]
     },
     "execution_count": 101,
     "metadata": {},
     "output_type": "execute_result"
    }
   ],
   "source": [
    "data['Sex'].value_counts()"
   ]
  },
  {
   "cell_type": "code",
   "execution_count": 102,
   "id": "836e5c75",
   "metadata": {},
   "outputs": [
    {
     "data": {
      "text/plain": [
       " White                 27794\n",
       " Black                  3122\n",
       " Asian-Pac-Islander     1038\n",
       " Amer-Indian-Eskimo      311\n",
       " Other                   271\n",
       "Name: Race, dtype: int64"
      ]
     },
     "execution_count": 102,
     "metadata": {},
     "output_type": "execute_result"
    }
   ],
   "source": [
    "data['Race'].value_counts()"
   ]
  },
  {
   "cell_type": "code",
   "execution_count": 103,
   "id": "7c59c409",
   "metadata": {},
   "outputs": [
    {
     "data": {
      "text/plain": [
       " <=50K    24697\n",
       " >50K      7839\n",
       "Name: Income, dtype: int64"
      ]
     },
     "execution_count": 103,
     "metadata": {},
     "output_type": "execute_result"
    }
   ],
   "source": [
    "data['Income'].value_counts()"
   ]
  },
  {
   "cell_type": "code",
   "execution_count": 104,
   "id": "c4a83135",
   "metadata": {},
   "outputs": [
    {
     "data": {
      "text/plain": [
       " HS-grad         10494\n",
       " Some-college     7282\n",
       " Bachelors        5352\n",
       " Masters          1722\n",
       " Assoc-voc        1382\n",
       " 11th             1175\n",
       " Assoc-acdm       1067\n",
       " 10th              933\n",
       " 7th-8th           645\n",
       " Prof-school       576\n",
       " 9th               514\n",
       " 12th              433\n",
       " Doctorate         413\n",
       " 5th-6th           332\n",
       " 1st-4th           166\n",
       " Preschool          50\n",
       "Name: Education, dtype: int64"
      ]
     },
     "execution_count": 104,
     "metadata": {},
     "output_type": "execute_result"
    }
   ],
   "source": [
    "data['Education'].value_counts()"
   ]
  },
  {
   "cell_type": "code",
   "execution_count": 105,
   "id": "5888226a",
   "metadata": {},
   "outputs": [
    {
     "data": {
      "image/png": "[encoded data removed]",
      "text/plain": [
       "<Figure size 576x360 with 1 Axes>"
      ]
     },
     "metadata": {
      "needs_background": "light"
     },
     "output_type": "display_data"
    }
   ],
   "source": [
    "plt.figure(figsize=(8,5))\n",
    "sns.countplot(data['Income'],palette='coolwarm',hue='Relationship',data=data);"
   ]
  },
  {
   "cell_type": "markdown",
   "id": "57e5f3f9",
   "metadata": {},
   "source": [
    "# Filling ? Values"
   ]
  },
  {
   "cell_type": "code",
   "execution_count": 106,
   "id": "91edb139",
   "metadata": {},
   "outputs": [],
   "source": [
    "# Replacing value to nan value"
   ]
  },
  {
   "cell_type": "code",
   "execution_count": 107,
   "id": "fe054cc9",
   "metadata": {},
   "outputs": [],
   "source": [
    "data.Native_country.replace(' ?', np.nan, inplace = True)\n",
    "data.Workclass.replace(' ?', np.nan, inplace = True)\n",
    "data.Occupation.replace(' ?', np.nan, inplace = True)"
   ]
  },
  {
   "cell_type": "code",
   "execution_count": 108,
   "id": "07a51d63",
   "metadata": {},
   "outputs": [
    {
     "data": {
      "text/plain": [
       "Age                  0\n",
       "Workclass         1836\n",
       "Fnlwgt               0\n",
       "Education            0\n",
       "Education_num        0\n",
       "Marital_status       0\n",
       "Occupation        1843\n",
       "Relationship         0\n",
       "Race                 0\n",
       "Sex                  0\n",
       "Capital_gain         0\n",
       "Capital_loss         0\n",
       "Hours_per_week       0\n",
       "Native_country     582\n",
       "Income               0\n",
       "dtype: int64"
      ]
     },
     "execution_count": 108,
     "metadata": {},
     "output_type": "execute_result"
    }
   ],
   "source": [
    "# Checking for null values\n",
    "\n",
    "data.isna().sum()"
   ]
  },
  {
   "cell_type": "markdown",
   "id": "2eb0fd47",
   "metadata": {},
   "source": [
    "# Filling NULL Value  with mode"
   ]
  },
  {
   "cell_type": "code",
   "execution_count": 109,
   "id": "0414f67a",
   "metadata": {},
   "outputs": [],
   "source": [
    "data['Workclass']=data['Workclass'].fillna(data['Workclass'].mode()[0])\n",
    "data['Occupation']=data['Occupation'].fillna(data['Occupation'].mode()[0])\n",
    "data['Native_country']=data['Native_country'].fillna(data['Native_country'].mode()[0])"
   ]
  },
  {
   "cell_type": "markdown",
   "id": "5382865e",
   "metadata": {},
   "source": [
    "# Income \n",
    "# Replace label columns"
   ]
  },
  {
   "cell_type": "code",
   "execution_count": 110,
   "id": "66e3641f",
   "metadata": {},
   "outputs": [],
   "source": [
    " from sklearn.preprocessing import LabelEncoder"
   ]
  },
  {
   "cell_type": "code",
   "execution_count": 111,
   "id": "b6a0d281",
   "metadata": {},
   "outputs": [],
   "source": [
    "lab_enc=LabelEncoder()"
   ]
  },
  {
   "cell_type": "code",
   "execution_count": 112,
   "id": "9760e619",
   "metadata": {},
   "outputs": [
    {
     "data": {
      "text/plain": [
       "0        0\n",
       "1        0\n",
       "2        0\n",
       "3        0\n",
       "4        0\n",
       "        ..\n",
       "32531    0\n",
       "32532    1\n",
       "32533    0\n",
       "32534    0\n",
       "32535    1\n",
       "Length: 32536, dtype: int32"
      ]
     },
     "execution_count": 112,
     "metadata": {},
     "output_type": "execute_result"
    }
   ],
   "source": [
    "df2 = lab_enc.fit_transform(data['Income'])\n",
    "pd.Series(df2)"
   ]
  },
  {
   "cell_type": "code",
   "execution_count": 113,
   "id": "659a8be9",
   "metadata": {},
   "outputs": [
    {
     "data": {
      "text/html": [
       "<div>\n",
       "<style scoped>\n",
       "    .dataframe tbody tr th:only-of-type {\n",
       "        vertical-align: middle;\n",
       "    }\n",
       "\n",
       "    .dataframe tbody tr th {\n",
       "        vertical-align: top;\n",
       "    }\n",
       "\n",
       "    .dataframe thead th {\n",
       "        text-align: right;\n",
       "    }\n",
       "</style>\n",
       "<table border=\"1\" class=\"dataframe\">\n",
       "  <thead>\n",
       "    <tr style=\"text-align: right;\">\n",
       "      <th></th>\n",
       "      <th>Age</th>\n",
       "      <th>Workclass</th>\n",
       "      <th>Fnlwgt</th>\n",
       "      <th>Education</th>\n",
       "      <th>Education_num</th>\n",
       "      <th>Marital_status</th>\n",
       "      <th>Occupation</th>\n",
       "      <th>Relationship</th>\n",
       "      <th>Race</th>\n",
       "      <th>Sex</th>\n",
       "      <th>Capital_gain</th>\n",
       "      <th>Capital_loss</th>\n",
       "      <th>Hours_per_week</th>\n",
       "      <th>Native_country</th>\n",
       "      <th>Income</th>\n",
       "    </tr>\n",
       "  </thead>\n",
       "  <tbody>\n",
       "    <tr>\n",
       "      <th>0</th>\n",
       "      <td>50</td>\n",
       "      <td>Self-emp-not-inc</td>\n",
       "      <td>83311</td>\n",
       "      <td>Bachelors</td>\n",
       "      <td>13</td>\n",
       "      <td>Married-civ-spouse</td>\n",
       "      <td>Exec-managerial</td>\n",
       "      <td>Husband</td>\n",
       "      <td>White</td>\n",
       "      <td>Male</td>\n",
       "      <td>0</td>\n",
       "      <td>0</td>\n",
       "      <td>13</td>\n",
       "      <td>United-States</td>\n",
       "      <td>0</td>\n",
       "    </tr>\n",
       "    <tr>\n",
       "      <th>1</th>\n",
       "      <td>38</td>\n",
       "      <td>Private</td>\n",
       "      <td>215646</td>\n",
       "      <td>HS-grad</td>\n",
       "      <td>9</td>\n",
       "      <td>Divorced</td>\n",
       "      <td>Handlers-cleaners</td>\n",
       "      <td>Not-in-family</td>\n",
       "      <td>White</td>\n",
       "      <td>Male</td>\n",
       "      <td>0</td>\n",
       "      <td>0</td>\n",
       "      <td>40</td>\n",
       "      <td>United-States</td>\n",
       "      <td>0</td>\n",
       "    </tr>\n",
       "    <tr>\n",
       "      <th>2</th>\n",
       "      <td>53</td>\n",
       "      <td>Private</td>\n",
       "      <td>234721</td>\n",
       "      <td>11th</td>\n",
       "      <td>7</td>\n",
       "      <td>Married-civ-spouse</td>\n",
       "      <td>Handlers-cleaners</td>\n",
       "      <td>Husband</td>\n",
       "      <td>Black</td>\n",
       "      <td>Male</td>\n",
       "      <td>0</td>\n",
       "      <td>0</td>\n",
       "      <td>40</td>\n",
       "      <td>United-States</td>\n",
       "      <td>0</td>\n",
       "    </tr>\n",
       "    <tr>\n",
       "      <th>3</th>\n",
       "      <td>28</td>\n",
       "      <td>Private</td>\n",
       "      <td>338409</td>\n",
       "      <td>Bachelors</td>\n",
       "      <td>13</td>\n",
       "      <td>Married-civ-spouse</td>\n",
       "      <td>Prof-specialty</td>\n",
       "      <td>Wife</td>\n",
       "      <td>Black</td>\n",
       "      <td>Female</td>\n",
       "      <td>0</td>\n",
       "      <td>0</td>\n",
       "      <td>40</td>\n",
       "      <td>Cuba</td>\n",
       "      <td>0</td>\n",
       "    </tr>\n",
       "    <tr>\n",
       "      <th>4</th>\n",
       "      <td>37</td>\n",
       "      <td>Private</td>\n",
       "      <td>284582</td>\n",
       "      <td>Masters</td>\n",
       "      <td>14</td>\n",
       "      <td>Married-civ-spouse</td>\n",
       "      <td>Exec-managerial</td>\n",
       "      <td>Wife</td>\n",
       "      <td>White</td>\n",
       "      <td>Female</td>\n",
       "      <td>0</td>\n",
       "      <td>0</td>\n",
       "      <td>40</td>\n",
       "      <td>United-States</td>\n",
       "      <td>0</td>\n",
       "    </tr>\n",
       "    <tr>\n",
       "      <th>...</th>\n",
       "      <td>...</td>\n",
       "      <td>...</td>\n",
       "      <td>...</td>\n",
       "      <td>...</td>\n",
       "      <td>...</td>\n",
       "      <td>...</td>\n",
       "      <td>...</td>\n",
       "      <td>...</td>\n",
       "      <td>...</td>\n",
       "      <td>...</td>\n",
       "      <td>...</td>\n",
       "      <td>...</td>\n",
       "      <td>...</td>\n",
       "      <td>...</td>\n",
       "      <td>...</td>\n",
       "    </tr>\n",
       "    <tr>\n",
       "      <th>32555</th>\n",
       "      <td>27</td>\n",
       "      <td>Private</td>\n",
       "      <td>257302</td>\n",
       "      <td>Assoc-acdm</td>\n",
       "      <td>12</td>\n",
       "      <td>Married-civ-spouse</td>\n",
       "      <td>Tech-support</td>\n",
       "      <td>Wife</td>\n",
       "      <td>White</td>\n",
       "      <td>Female</td>\n",
       "      <td>0</td>\n",
       "      <td>0</td>\n",
       "      <td>38</td>\n",
       "      <td>United-States</td>\n",
       "      <td>0</td>\n",
       "    </tr>\n",
       "    <tr>\n",
       "      <th>32556</th>\n",
       "      <td>40</td>\n",
       "      <td>Private</td>\n",
       "      <td>154374</td>\n",
       "      <td>HS-grad</td>\n",
       "      <td>9</td>\n",
       "      <td>Married-civ-spouse</td>\n",
       "      <td>Machine-op-inspct</td>\n",
       "      <td>Husband</td>\n",
       "      <td>White</td>\n",
       "      <td>Male</td>\n",
       "      <td>0</td>\n",
       "      <td>0</td>\n",
       "      <td>40</td>\n",
       "      <td>United-States</td>\n",
       "      <td>1</td>\n",
       "    </tr>\n",
       "    <tr>\n",
       "      <th>32557</th>\n",
       "      <td>58</td>\n",
       "      <td>Private</td>\n",
       "      <td>151910</td>\n",
       "      <td>HS-grad</td>\n",
       "      <td>9</td>\n",
       "      <td>Widowed</td>\n",
       "      <td>Adm-clerical</td>\n",
       "      <td>Unmarried</td>\n",
       "      <td>White</td>\n",
       "      <td>Female</td>\n",
       "      <td>0</td>\n",
       "      <td>0</td>\n",
       "      <td>40</td>\n",
       "      <td>United-States</td>\n",
       "      <td>0</td>\n",
       "    </tr>\n",
       "    <tr>\n",
       "      <th>32558</th>\n",
       "      <td>22</td>\n",
       "      <td>Private</td>\n",
       "      <td>201490</td>\n",
       "      <td>HS-grad</td>\n",
       "      <td>9</td>\n",
       "      <td>Never-married</td>\n",
       "      <td>Adm-clerical</td>\n",
       "      <td>Own-child</td>\n",
       "      <td>White</td>\n",
       "      <td>Male</td>\n",
       "      <td>0</td>\n",
       "      <td>0</td>\n",
       "      <td>20</td>\n",
       "      <td>United-States</td>\n",
       "      <td>0</td>\n",
       "    </tr>\n",
       "    <tr>\n",
       "      <th>32559</th>\n",
       "      <td>52</td>\n",
       "      <td>Self-emp-inc</td>\n",
       "      <td>287927</td>\n",
       "      <td>HS-grad</td>\n",
       "      <td>9</td>\n",
       "      <td>Married-civ-spouse</td>\n",
       "      <td>Exec-managerial</td>\n",
       "      <td>Wife</td>\n",
       "      <td>White</td>\n",
       "      <td>Female</td>\n",
       "      <td>15024</td>\n",
       "      <td>0</td>\n",
       "      <td>40</td>\n",
       "      <td>United-States</td>\n",
       "      <td>1</td>\n",
       "    </tr>\n",
       "  </tbody>\n",
       "</table>\n",
       "<p>32536 rows × 15 columns</p>\n",
       "</div>"
      ],
      "text/plain": [
       "       Age          Workclass  Fnlwgt    Education  Education_num  \\\n",
       "0       50   Self-emp-not-inc   83311    Bachelors             13   \n",
       "1       38            Private  215646      HS-grad              9   \n",
       "2       53            Private  234721         11th              7   \n",
       "3       28            Private  338409    Bachelors             13   \n",
       "4       37            Private  284582      Masters             14   \n",
       "...    ...                ...     ...          ...            ...   \n",
       "32555   27            Private  257302   Assoc-acdm             12   \n",
       "32556   40            Private  154374      HS-grad              9   \n",
       "32557   58            Private  151910      HS-grad              9   \n",
       "32558   22            Private  201490      HS-grad              9   \n",
       "32559   52       Self-emp-inc  287927      HS-grad              9   \n",
       "\n",
       "            Marital_status          Occupation    Relationship    Race  \\\n",
       "0       Married-civ-spouse     Exec-managerial         Husband   White   \n",
       "1                 Divorced   Handlers-cleaners   Not-in-family   White   \n",
       "2       Married-civ-spouse   Handlers-cleaners         Husband   Black   \n",
       "3       Married-civ-spouse      Prof-specialty            Wife   Black   \n",
       "4       Married-civ-spouse     Exec-managerial            Wife   White   \n",
       "...                    ...                 ...             ...     ...   \n",
       "32555   Married-civ-spouse        Tech-support            Wife   White   \n",
       "32556   Married-civ-spouse   Machine-op-inspct         Husband   White   \n",
       "32557              Widowed        Adm-clerical       Unmarried   White   \n",
       "32558        Never-married        Adm-clerical       Own-child   White   \n",
       "32559   Married-civ-spouse     Exec-managerial            Wife   White   \n",
       "\n",
       "           Sex  Capital_gain  Capital_loss  Hours_per_week  Native_country  \\\n",
       "0         Male             0             0              13   United-States   \n",
       "1         Male             0             0              40   United-States   \n",
       "2         Male             0             0              40   United-States   \n",
       "3       Female             0             0              40            Cuba   \n",
       "4       Female             0             0              40   United-States   \n",
       "...        ...           ...           ...             ...             ...   \n",
       "32555   Female             0             0              38   United-States   \n",
       "32556     Male             0             0              40   United-States   \n",
       "32557   Female             0             0              40   United-States   \n",
       "32558     Male             0             0              20   United-States   \n",
       "32559   Female         15024             0              40   United-States   \n",
       "\n",
       "       Income  \n",
       "0           0  \n",
       "1           0  \n",
       "2           0  \n",
       "3           0  \n",
       "4           0  \n",
       "...       ...  \n",
       "32555       0  \n",
       "32556       1  \n",
       "32557       0  \n",
       "32558       0  \n",
       "32559       1  \n",
       "\n",
       "[32536 rows x 15 columns]"
      ]
     },
     "execution_count": 113,
     "metadata": {},
     "output_type": "execute_result"
    }
   ],
   "source": [
    "data['Income']=df2\n",
    "data"
   ]
  },
  {
   "cell_type": "code",
   "execution_count": 114,
   "id": "1fc6c27f",
   "metadata": {},
   "outputs": [
    {
     "data": {
      "text/plain": [
       "0    24697\n",
       "1     7839\n",
       "Name: Income, dtype: int64"
      ]
     },
     "execution_count": 114,
     "metadata": {},
     "output_type": "execute_result"
    }
   ],
   "source": [
    "data['Income'].value_counts()"
   ]
  },
  {
   "cell_type": "code",
   "execution_count": 115,
   "id": "7ac53c47",
   "metadata": {},
   "outputs": [
    {
     "data": {
      "text/html": [
       "<div>\n",
       "<style scoped>\n",
       "    .dataframe tbody tr th:only-of-type {\n",
       "        vertical-align: middle;\n",
       "    }\n",
       "\n",
       "    .dataframe tbody tr th {\n",
       "        vertical-align: top;\n",
       "    }\n",
       "\n",
       "    .dataframe thead th {\n",
       "        text-align: right;\n",
       "    }\n",
       "</style>\n",
       "<table border=\"1\" class=\"dataframe\">\n",
       "  <thead>\n",
       "    <tr style=\"text-align: right;\">\n",
       "      <th></th>\n",
       "      <th>Age</th>\n",
       "      <th>Fnlwgt</th>\n",
       "      <th>Education_num</th>\n",
       "      <th>Capital_gain</th>\n",
       "      <th>Capital_loss</th>\n",
       "      <th>Hours_per_week</th>\n",
       "      <th>Income</th>\n",
       "    </tr>\n",
       "  </thead>\n",
       "  <tbody>\n",
       "    <tr>\n",
       "      <th>Age</th>\n",
       "      <td>1.000000</td>\n",
       "      <td>-0.076448</td>\n",
       "      <td>0.036224</td>\n",
       "      <td>0.077676</td>\n",
       "      <td>0.057745</td>\n",
       "      <td>0.068515</td>\n",
       "      <td>0.234039</td>\n",
       "    </tr>\n",
       "    <tr>\n",
       "      <th>Fnlwgt</th>\n",
       "      <td>-0.076448</td>\n",
       "      <td>1.000000</td>\n",
       "      <td>-0.043353</td>\n",
       "      <td>0.000433</td>\n",
       "      <td>-0.010267</td>\n",
       "      <td>-0.018900</td>\n",
       "      <td>-0.009521</td>\n",
       "    </tr>\n",
       "    <tr>\n",
       "      <th>Education_num</th>\n",
       "      <td>0.036224</td>\n",
       "      <td>-0.043353</td>\n",
       "      <td>1.000000</td>\n",
       "      <td>0.122661</td>\n",
       "      <td>0.079901</td>\n",
       "      <td>0.148426</td>\n",
       "      <td>0.335299</td>\n",
       "    </tr>\n",
       "    <tr>\n",
       "      <th>Capital_gain</th>\n",
       "      <td>0.077676</td>\n",
       "      <td>0.000433</td>\n",
       "      <td>0.122661</td>\n",
       "      <td>1.000000</td>\n",
       "      <td>-0.031638</td>\n",
       "      <td>0.078408</td>\n",
       "      <td>0.223340</td>\n",
       "    </tr>\n",
       "    <tr>\n",
       "      <th>Capital_loss</th>\n",
       "      <td>0.057745</td>\n",
       "      <td>-0.010267</td>\n",
       "      <td>0.079901</td>\n",
       "      <td>-0.031638</td>\n",
       "      <td>1.000000</td>\n",
       "      <td>0.054229</td>\n",
       "      <td>0.150498</td>\n",
       "    </tr>\n",
       "    <tr>\n",
       "      <th>Hours_per_week</th>\n",
       "      <td>0.068515</td>\n",
       "      <td>-0.018900</td>\n",
       "      <td>0.148426</td>\n",
       "      <td>0.078408</td>\n",
       "      <td>0.054229</td>\n",
       "      <td>1.000000</td>\n",
       "      <td>0.229659</td>\n",
       "    </tr>\n",
       "    <tr>\n",
       "      <th>Income</th>\n",
       "      <td>0.234039</td>\n",
       "      <td>-0.009521</td>\n",
       "      <td>0.335299</td>\n",
       "      <td>0.223340</td>\n",
       "      <td>0.150498</td>\n",
       "      <td>0.229659</td>\n",
       "      <td>1.000000</td>\n",
       "    </tr>\n",
       "  </tbody>\n",
       "</table>\n",
       "</div>"
      ],
      "text/plain": [
       "                     Age    Fnlwgt  Education_num  Capital_gain  Capital_loss  \\\n",
       "Age             1.000000 -0.076448       0.036224      0.077676      0.057745   \n",
       "Fnlwgt         -0.076448  1.000000      -0.043353      0.000433     -0.010267   \n",
       "Education_num   0.036224 -0.043353       1.000000      0.122661      0.079901   \n",
       "Capital_gain    0.077676  0.000433       0.122661      1.000000     -0.031638   \n",
       "Capital_loss    0.057745 -0.010267       0.079901     -0.031638      1.000000   \n",
       "Hours_per_week  0.068515 -0.018900       0.148426      0.078408      0.054229   \n",
       "Income          0.234039 -0.009521       0.335299      0.223340      0.150498   \n",
       "\n",
       "                Hours_per_week    Income  \n",
       "Age                   0.068515  0.234039  \n",
       "Fnlwgt               -0.018900 -0.009521  \n",
       "Education_num         0.148426  0.335299  \n",
       "Capital_gain          0.078408  0.223340  \n",
       "Capital_loss          0.054229  0.150498  \n",
       "Hours_per_week        1.000000  0.229659  \n",
       "Income                0.229659  1.000000  "
      ]
     },
     "execution_count": 115,
     "metadata": {},
     "output_type": "execute_result"
    }
   ],
   "source": [
    "data.corr()"
   ]
  },
  {
   "cell_type": "markdown",
   "id": "cbe425f3",
   "metadata": {},
   "source": [
    "This because this is not so much of a concern and if you want to plot this we will use heat map in this i will write  "
   ]
  },
  {
   "cell_type": "code",
   "execution_count": 116,
   "id": "607c8af7",
   "metadata": {},
   "outputs": [
    {
     "data": {
      "text/plain": [
       "<AxesSubplot:>"
      ]
     },
     "execution_count": 116,
     "metadata": {},
     "output_type": "execute_result"
    },
    {
     "data": {
      "image/png": "[encoded data removed]",
      "text/plain": [
       "<Figure size 576x360 with 2 Axes>"
      ]
     },
     "metadata": {
      "needs_background": "light"
     },
     "output_type": "display_data"
    }
   ],
   "source": [
    "plt.figure(figsize=(8,5))\n",
    "sns.heatmap(data.corr(), annot=True)"
   ]
  },
  {
   "cell_type": "markdown",
   "id": "8bd3244b",
   "metadata": {},
   "source": [
    "# Histogram"
   ]
  },
  {
   "cell_type": "code",
   "execution_count": 117,
   "id": "eb54bd36",
   "metadata": {},
   "outputs": [
    {
     "data": {
      "image/png": "[encoded data removed]",
      "text/plain": [
       "<Figure size 864x864 with 9 Axes>"
      ]
     },
     "metadata": {
      "needs_background": "light"
     },
     "output_type": "display_data"
    }
   ],
   "source": [
    "data.hist(figsize=(12,12),layout=(3,3),sharex=False);"
   ]
  },
  {
   "cell_type": "markdown",
   "id": "d8f1a970",
   "metadata": {},
   "source": [
    "# BOXPLOT "
   ]
  },
  {
   "cell_type": "code",
   "execution_count": 118,
   "id": "1f87e12e",
   "metadata": {},
   "outputs": [
    {
     "data": {
      "image/png": "[encoded data removed]",
      "text/plain": [
       "<Figure size 864x864 with 9 Axes>"
      ]
     },
     "metadata": {
      "needs_background": "light"
     },
     "output_type": "display_data"
    }
   ],
   "source": [
    "data.plot(kind='box',figsize=(12,12), layout=(3,3), sharex=False, subplots=True);"
   ]
  },
  {
   "cell_type": "code",
   "execution_count": 119,
   "id": "a1b2852e",
   "metadata": {},
   "outputs": [
    {
     "data": {
      "text/plain": [
       "<AxesSubplot:xlabel='Race', ylabel='count'>"
      ]
     },
     "execution_count": 119,
     "metadata": {},
     "output_type": "execute_result"
    },
    {
     "data": {
      "image/png": "[encoded data removed]",
      "text/plain": [
       "<Figure size 720x360 with 1 Axes>"
      ]
     },
     "metadata": {
      "needs_background": "light"
     },
     "output_type": "display_data"
    }
   ],
   "source": [
    "plt.figure(figsize=(10,5))\n",
    "sns.countplot(data['Race'], hue='Income', data=data, palette='magma')"
   ]
  },
  {
   "cell_type": "code",
   "execution_count": 120,
   "id": "65adb4f6",
   "metadata": {},
   "outputs": [
    {
     "data": {
      "text/plain": [
       "<AxesSubplot:xlabel='Education', ylabel='count'>"
      ]
     },
     "execution_count": 120,
     "metadata": {},
     "output_type": "execute_result"
    },
    {
     "data": {
      "image/png": "[encoded data removed]",
      "text/plain": [
       "<Figure size 1440x360 with 1 Axes>"
      ]
     },
     "metadata": {
      "needs_background": "light"
     },
     "output_type": "display_data"
    }
   ],
   "source": [
    "plt.figure(figsize=(20,5))\n",
    "sns.countplot(data['Education'], hue='Income', data=data, palette='magma')"
   ]
  },
  {
   "cell_type": "code",
   "execution_count": 121,
   "id": "95fbf8e5",
   "metadata": {},
   "outputs": [
    {
     "data": {
      "text/plain": [
       "<AxesSubplot:xlabel='Education', ylabel='count'>"
      ]
     },
     "execution_count": 121,
     "metadata": {},
     "output_type": "execute_result"
    },
    {
     "data": {
      "image/png": "[encoded data removed]",
      "text/plain": [
       "<Figure size 1440x360 with 1 Axes>"
      ]
     },
     "metadata": {
      "needs_background": "light"
     },
     "output_type": "display_data"
    }
   ],
   "source": [
    "plt.figure(figsize=(20,5))\n",
    "sns.countplot(data['Education'], hue='Sex', data=data, palette='magma')"
   ]
  },
  {
   "cell_type": "code",
   "execution_count": 122,
   "id": "2ddb931f",
   "metadata": {},
   "outputs": [
    {
     "data": {
      "text/plain": [
       "<AxesSubplot:xlabel='Workclass', ylabel='count'>"
      ]
     },
     "execution_count": 122,
     "metadata": {},
     "output_type": "execute_result"
    },
    {
     "data": {
      "image/png": "[encoded data removed]",
      "text/plain": [
       "<Figure size 720x360 with 1 Axes>"
      ]
     },
     "metadata": {
      "needs_background": "light"
     },
     "output_type": "display_data"
    }
   ],
   "source": [
    "plt.figure(figsize=(10,5))\n",
    "sns.countplot(x='Workclass', hue='Income', data = data,palette='magma')"
   ]
  },
  {
   "cell_type": "code",
   "execution_count": 123,
   "id": "413c9575",
   "metadata": {},
   "outputs": [
    {
     "data": {
      "text/plain": [
       "<AxesSubplot:xlabel='Marital_status', ylabel='count'>"
      ]
     },
     "execution_count": 123,
     "metadata": {},
     "output_type": "execute_result"
    },
    {
     "data": {
      "image/png": "[encoded data removed]",
      "text/plain": [
       "<Figure size 1008x360 with 1 Axes>"
      ]
     },
     "metadata": {
      "needs_background": "light"
     },
     "output_type": "display_data"
    }
   ],
   "source": [
    "plt.figure(figsize=(14,5))\n",
    "sns.countplot(x='Marital_status', hue='Income', data = data,palette='magma')"
   ]
  },
  {
   "cell_type": "code",
   "execution_count": 124,
   "id": "937456d0",
   "metadata": {},
   "outputs": [
    {
     "data": {
      "text/plain": [
       "<AxesSubplot:xlabel='Occupation', ylabel='count'>"
      ]
     },
     "execution_count": 124,
     "metadata": {},
     "output_type": "execute_result"
    },
    {
     "data": {
      "image/png": "[encoded data removed]",
      "text/plain": [
       "<Figure size 1800x504 with 1 Axes>"
      ]
     },
     "metadata": {
      "needs_background": "light"
     },
     "output_type": "display_data"
    }
   ],
   "source": [
    "plt.figure(figsize=(25,7))\n",
    "sns.countplot(x='Occupation', hue='Income', data = data,palette='magma')"
   ]
  },
  {
   "cell_type": "code",
   "execution_count": 125,
   "id": "674ca0a3",
   "metadata": {},
   "outputs": [
    {
     "data": {
      "text/plain": [
       "<AxesSubplot:xlabel='Relationship', ylabel='count'>"
      ]
     },
     "execution_count": 125,
     "metadata": {},
     "output_type": "execute_result"
    },
    {
     "data": {
      "image/png": "[encoded data removed]",
      "text/plain": [
       "<Figure size 720x360 with 1 Axes>"
      ]
     },
     "metadata": {
      "needs_background": "light"
     },
     "output_type": "display_data"
    }
   ],
   "source": [
    "plt.figure(figsize=(10,5))\n",
    "sns.countplot(x='Relationship', hue='Income', data = data,palette='magma')"
   ]
  },
  {
   "cell_type": "markdown",
   "id": "45ebbc05",
   "metadata": {},
   "source": [
    "# CHECKING FOR OUTLIERS"
   ]
  },
  {
   "cell_type": "code",
   "execution_count": 126,
   "id": "6acdbfc2",
   "metadata": {},
   "outputs": [
    {
     "data": {
      "image/png": "[encoded data removed]",
      "text/plain": [
       "<Figure size 1440x1800 with 7 Axes>"
      ]
     },
     "metadata": {},
     "output_type": "display_data"
    }
   ],
   "source": [
    "numerical_col=['Age','Fnlwgt','Education_num','Capital_gain','Capital_loss','Hours_per_week','Income']\n",
    "plt.figure(figsize=(20,25), facecolor='white')\n",
    "plotnumber = 1\n",
    "\n",
    "for column in numerical_col:\n",
    "    if plotnumber<=8:\n",
    "        ax = plt.subplot(4,4,plotnumber)\n",
    "        sns.boxplot(data[column],color='r')\n",
    "        plt.xlabel(column,fontsize=20)\n",
    "    plotnumber+=1\n",
    "plt.show()\n"
   ]
  },
  {
   "cell_type": "markdown",
   "id": "c691288a",
   "metadata": {},
   "source": [
    "# Removing Outliers:"
   ]
  },
  {
   "cell_type": "markdown",
   "id": "376a0f0a",
   "metadata": {},
   "source": [
    "# Zscore method:"
   ]
  },
  {
   "cell_type": "code",
   "execution_count": 127,
   "id": "3ebf97a4",
   "metadata": {},
   "outputs": [],
   "source": [
    "from scipy.stats import zscore\n",
    "z_score=zscore(data[['Age','Fnlwgt','Hours_per_week']])\n",
    "abs_z_score=np.abs(z_score)"
   ]
  },
  {
   "cell_type": "code",
   "execution_count": 128,
   "id": "d5255a9d",
   "metadata": {},
   "outputs": [
    {
     "data": {
      "text/html": [
       "<div>\n",
       "<style scoped>\n",
       "    .dataframe tbody tr th:only-of-type {\n",
       "        vertical-align: middle;\n",
       "    }\n",
       "\n",
       "    .dataframe tbody tr th {\n",
       "        vertical-align: top;\n",
       "    }\n",
       "\n",
       "    .dataframe thead th {\n",
       "        text-align: right;\n",
       "    }\n",
       "</style>\n",
       "<table border=\"1\" class=\"dataframe\">\n",
       "  <thead>\n",
       "    <tr style=\"text-align: right;\">\n",
       "      <th></th>\n",
       "      <th>Age</th>\n",
       "      <th>Fnlwgt</th>\n",
       "      <th>Education_num</th>\n",
       "      <th>Capital_gain</th>\n",
       "      <th>Capital_loss</th>\n",
       "      <th>Hours_per_week</th>\n",
       "      <th>Income</th>\n",
       "    </tr>\n",
       "  </thead>\n",
       "  <tbody>\n",
       "    <tr>\n",
       "      <th>count</th>\n",
       "      <td>31646.000000</td>\n",
       "      <td>31646.000000</td>\n",
       "      <td>31646.000000</td>\n",
       "      <td>31646.000000</td>\n",
       "      <td>31646.000000</td>\n",
       "      <td>31646.000000</td>\n",
       "      <td>31646.000000</td>\n",
       "    </tr>\n",
       "    <tr>\n",
       "      <th>mean</th>\n",
       "      <td>38.383872</td>\n",
       "      <td>185321.719301</td>\n",
       "      <td>10.085603</td>\n",
       "      <td>1071.922455</td>\n",
       "      <td>87.341117</td>\n",
       "      <td>40.079125</td>\n",
       "      <td>0.240504</td>\n",
       "    </tr>\n",
       "    <tr>\n",
       "      <th>std</th>\n",
       "      <td>13.347389</td>\n",
       "      <td>94528.515467</td>\n",
       "      <td>2.559842</td>\n",
       "      <td>7368.643817</td>\n",
       "      <td>402.016224</td>\n",
       "      <td>11.181322</td>\n",
       "      <td>0.427397</td>\n",
       "    </tr>\n",
       "    <tr>\n",
       "      <th>min</th>\n",
       "      <td>17.000000</td>\n",
       "      <td>12285.000000</td>\n",
       "      <td>1.000000</td>\n",
       "      <td>0.000000</td>\n",
       "      <td>0.000000</td>\n",
       "      <td>4.000000</td>\n",
       "      <td>0.000000</td>\n",
       "    </tr>\n",
       "    <tr>\n",
       "      <th>25%</th>\n",
       "      <td>28.000000</td>\n",
       "      <td>117606.000000</td>\n",
       "      <td>9.000000</td>\n",
       "      <td>0.000000</td>\n",
       "      <td>0.000000</td>\n",
       "      <td>40.000000</td>\n",
       "      <td>0.000000</td>\n",
       "    </tr>\n",
       "    <tr>\n",
       "      <th>50%</th>\n",
       "      <td>37.000000</td>\n",
       "      <td>177667.000000</td>\n",
       "      <td>10.000000</td>\n",
       "      <td>0.000000</td>\n",
       "      <td>0.000000</td>\n",
       "      <td>40.000000</td>\n",
       "      <td>0.000000</td>\n",
       "    </tr>\n",
       "    <tr>\n",
       "      <th>75%</th>\n",
       "      <td>47.000000</td>\n",
       "      <td>234442.250000</td>\n",
       "      <td>12.000000</td>\n",
       "      <td>0.000000</td>\n",
       "      <td>0.000000</td>\n",
       "      <td>45.000000</td>\n",
       "      <td>0.000000</td>\n",
       "    </tr>\n",
       "    <tr>\n",
       "      <th>max</th>\n",
       "      <td>79.000000</td>\n",
       "      <td>506436.000000</td>\n",
       "      <td>16.000000</td>\n",
       "      <td>99999.000000</td>\n",
       "      <td>4356.000000</td>\n",
       "      <td>77.000000</td>\n",
       "      <td>1.000000</td>\n",
       "    </tr>\n",
       "  </tbody>\n",
       "</table>\n",
       "</div>"
      ],
      "text/plain": [
       "                Age         Fnlwgt  Education_num  Capital_gain  Capital_loss  \\\n",
       "count  31646.000000   31646.000000   31646.000000  31646.000000  31646.000000   \n",
       "mean      38.383872  185321.719301      10.085603   1071.922455     87.341117   \n",
       "std       13.347389   94528.515467       2.559842   7368.643817    402.016224   \n",
       "min       17.000000   12285.000000       1.000000      0.000000      0.000000   \n",
       "25%       28.000000  117606.000000       9.000000      0.000000      0.000000   \n",
       "50%       37.000000  177667.000000      10.000000      0.000000      0.000000   \n",
       "75%       47.000000  234442.250000      12.000000      0.000000      0.000000   \n",
       "max       79.000000  506436.000000      16.000000  99999.000000   4356.000000   \n",
       "\n",
       "       Hours_per_week        Income  \n",
       "count    31646.000000  31646.000000  \n",
       "mean        40.079125      0.240504  \n",
       "std         11.181322      0.427397  \n",
       "min          4.000000      0.000000  \n",
       "25%         40.000000      0.000000  \n",
       "50%         40.000000      0.000000  \n",
       "75%         45.000000      0.000000  \n",
       "max         77.000000      1.000000  "
      ]
     },
     "execution_count": 128,
     "metadata": {},
     "output_type": "execute_result"
    }
   ],
   "source": [
    "filtering_entry=(abs_z_score<3).all(axis=1)\n",
    "data=data[filtering_entry]\n",
    "data.describe()"
   ]
  },
  {
   "cell_type": "markdown",
   "id": "106ef3b7",
   "metadata": {},
   "source": [
    "# Checking and removing Skewness:"
   ]
  },
  {
   "cell_type": "code",
   "execution_count": 129,
   "id": "2520f417",
   "metadata": {},
   "outputs": [
    {
     "data": {
      "image/png": "[encoded data removed]",
      "text/plain": [
       "<Figure size 1440x1800 with 7 Axes>"
      ]
     },
     "metadata": {},
     "output_type": "display_data"
    }
   ],
   "source": [
    "numerical_col=['Age','Fnlwgt','Education_num','Capital_gain','Capital_loss','Hours_per_week','Income']\n",
    "plt.figure(figsize=(20,25), facecolor='white')\n",
    "plotnumber = 1\n",
    "\n",
    "for column in numerical_col:\n",
    "    if plotnumber<=8:\n",
    "        ax = plt.subplot(4,4,plotnumber)\n",
    "        sns.distplot(data[column],color='r')\n",
    "        plt.xlabel(column,fontsize=20)\n",
    "    plotnumber+=1\n",
    "plt.show()"
   ]
  },
  {
   "cell_type": "code",
   "execution_count": 130,
   "id": "7afe1e46",
   "metadata": {},
   "outputs": [
    {
     "data": {
      "text/plain": [
       "Age                0.470678\n",
       "Fnlwgt             0.635054\n",
       "Education_num     -0.307880\n",
       "Capital_gain      11.991997\n",
       "Capital_loss       4.559942\n",
       "Hours_per_week    -0.337561\n",
       "Income             1.214386\n",
       "dtype: float64"
      ]
     },
     "execution_count": 130,
     "metadata": {},
     "output_type": "execute_result"
    }
   ],
   "source": [
    "data.skew()"
   ]
  },
  {
   "cell_type": "code",
   "execution_count": 131,
   "id": "091eee45",
   "metadata": {},
   "outputs": [],
   "source": [
    "from sklearn.preprocessing import power_transform\n",
    "\n",
    "data[['Education_num','Capital_gain','Capital_loss','Hours_per_week']]=power_transform(data[['Education_num','Capital_gain','Capital_loss','Hours_per_week']])\n",
    "   "
   ]
  },
  {
   "cell_type": "code",
   "execution_count": 132,
   "id": "202b1d2e",
   "metadata": {},
   "outputs": [
    {
     "data": {
      "text/plain": [
       "Age               0.470678\n",
       "Fnlwgt            0.635054\n",
       "Education_num     0.025093\n",
       "Capital_gain      3.023638\n",
       "Capital_loss      4.291717\n",
       "Hours_per_week    0.107677\n",
       "Income            1.214386\n",
       "dtype: float64"
      ]
     },
     "execution_count": 132,
     "metadata": {},
     "output_type": "execute_result"
    }
   ],
   "source": [
    "data.skew()"
   ]
  },
  {
   "cell_type": "markdown",
   "id": "b1420d64",
   "metadata": {},
   "source": [
    "# Encoding:"
   ]
  },
  {
   "cell_type": "code",
   "execution_count": 133,
   "id": "28857f68",
   "metadata": {},
   "outputs": [
    {
     "data": {
      "text/html": [
       "<div>\n",
       "<style scoped>\n",
       "    .dataframe tbody tr th:only-of-type {\n",
       "        vertical-align: middle;\n",
       "    }\n",
       "\n",
       "    .dataframe tbody tr th {\n",
       "        vertical-align: top;\n",
       "    }\n",
       "\n",
       "    .dataframe thead th {\n",
       "        text-align: right;\n",
       "    }\n",
       "</style>\n",
       "<table border=\"1\" class=\"dataframe\">\n",
       "  <thead>\n",
       "    <tr style=\"text-align: right;\">\n",
       "      <th></th>\n",
       "      <th>Age</th>\n",
       "      <th>Workclass</th>\n",
       "      <th>Fnlwgt</th>\n",
       "      <th>Education</th>\n",
       "      <th>Education_num</th>\n",
       "      <th>Marital_status</th>\n",
       "      <th>Occupation</th>\n",
       "      <th>Relationship</th>\n",
       "      <th>Race</th>\n",
       "      <th>Sex</th>\n",
       "      <th>Capital_gain</th>\n",
       "      <th>Capital_loss</th>\n",
       "      <th>Hours_per_week</th>\n",
       "      <th>Native_country</th>\n",
       "      <th>Income</th>\n",
       "    </tr>\n",
       "  </thead>\n",
       "  <tbody>\n",
       "    <tr>\n",
       "      <th>0</th>\n",
       "      <td>33</td>\n",
       "      <td>5</td>\n",
       "      <td>2875</td>\n",
       "      <td>9</td>\n",
       "      <td>12</td>\n",
       "      <td>2</td>\n",
       "      <td>3</td>\n",
       "      <td>0</td>\n",
       "      <td>4</td>\n",
       "      <td>1</td>\n",
       "      <td>0</td>\n",
       "      <td>0</td>\n",
       "      <td>9</td>\n",
       "      <td>38</td>\n",
       "      <td>0</td>\n",
       "    </tr>\n",
       "    <tr>\n",
       "      <th>1</th>\n",
       "      <td>21</td>\n",
       "      <td>3</td>\n",
       "      <td>13888</td>\n",
       "      <td>11</td>\n",
       "      <td>8</td>\n",
       "      <td>0</td>\n",
       "      <td>5</td>\n",
       "      <td>1</td>\n",
       "      <td>4</td>\n",
       "      <td>1</td>\n",
       "      <td>0</td>\n",
       "      <td>0</td>\n",
       "      <td>36</td>\n",
       "      <td>38</td>\n",
       "      <td>0</td>\n",
       "    </tr>\n",
       "    <tr>\n",
       "      <th>2</th>\n",
       "      <td>36</td>\n",
       "      <td>3</td>\n",
       "      <td>15126</td>\n",
       "      <td>1</td>\n",
       "      <td>6</td>\n",
       "      <td>2</td>\n",
       "      <td>5</td>\n",
       "      <td>0</td>\n",
       "      <td>2</td>\n",
       "      <td>1</td>\n",
       "      <td>0</td>\n",
       "      <td>0</td>\n",
       "      <td>36</td>\n",
       "      <td>38</td>\n",
       "      <td>0</td>\n",
       "    </tr>\n",
       "    <tr>\n",
       "      <th>3</th>\n",
       "      <td>11</td>\n",
       "      <td>3</td>\n",
       "      <td>19089</td>\n",
       "      <td>9</td>\n",
       "      <td>12</td>\n",
       "      <td>2</td>\n",
       "      <td>9</td>\n",
       "      <td>5</td>\n",
       "      <td>2</td>\n",
       "      <td>0</td>\n",
       "      <td>0</td>\n",
       "      <td>0</td>\n",
       "      <td>36</td>\n",
       "      <td>4</td>\n",
       "      <td>0</td>\n",
       "    </tr>\n",
       "    <tr>\n",
       "      <th>4</th>\n",
       "      <td>20</td>\n",
       "      <td>3</td>\n",
       "      <td>17451</td>\n",
       "      <td>12</td>\n",
       "      <td>13</td>\n",
       "      <td>2</td>\n",
       "      <td>3</td>\n",
       "      <td>5</td>\n",
       "      <td>4</td>\n",
       "      <td>0</td>\n",
       "      <td>0</td>\n",
       "      <td>0</td>\n",
       "      <td>36</td>\n",
       "      <td>38</td>\n",
       "      <td>0</td>\n",
       "    </tr>\n",
       "  </tbody>\n",
       "</table>\n",
       "</div>"
      ],
      "text/plain": [
       "   Age  Workclass  Fnlwgt  Education  Education_num  Marital_status  \\\n",
       "0   33          5    2875          9             12               2   \n",
       "1   21          3   13888         11              8               0   \n",
       "2   36          3   15126          1              6               2   \n",
       "3   11          3   19089          9             12               2   \n",
       "4   20          3   17451         12             13               2   \n",
       "\n",
       "   Occupation  Relationship  Race  Sex  Capital_gain  Capital_loss  \\\n",
       "0           3             0     4    1             0             0   \n",
       "1           5             1     4    1             0             0   \n",
       "2           5             0     2    1             0             0   \n",
       "3           9             5     2    0             0             0   \n",
       "4           3             5     4    0             0             0   \n",
       "\n",
       "   Hours_per_week  Native_country  Income  \n",
       "0               9              38       0  \n",
       "1              36              38       0  \n",
       "2              36              38       0  \n",
       "3              36               4       0  \n",
       "4              36              38       0  "
      ]
     },
     "execution_count": 133,
     "metadata": {},
     "output_type": "execute_result"
    }
   ],
   "source": [
    "df1 = data.copy()\n",
    "df1 = df1.apply(LabelEncoder().fit_transform)\n",
    "df1.head()"
   ]
  },
  {
   "cell_type": "code",
   "execution_count": 134,
   "id": "abdc52af",
   "metadata": {},
   "outputs": [
    {
     "data": {
      "text/plain": [
       "0    24035\n",
       "1     7611\n",
       "Name: Income, dtype: int64"
      ]
     },
     "execution_count": 134,
     "metadata": {},
     "output_type": "execute_result"
    }
   ],
   "source": [
    "df1['Income'].value_counts()"
   ]
  },
  {
   "cell_type": "code",
   "execution_count": 135,
   "id": "8a400f6c",
   "metadata": {},
   "outputs": [
    {
     "data": {
      "image/png": "[encoded data removed]",
      "text/plain": [
       "<Figure size 432x288 with 1 Axes>"
      ]
     },
     "metadata": {
      "needs_background": "light"
     },
     "output_type": "display_data"
    }
   ],
   "source": [
    "sns.countplot(x='Income',data=df1)\n",
    "plt.show()"
   ]
  },
  {
   "cell_type": "markdown",
   "id": "dc32c221",
   "metadata": {},
   "source": [
    "# Correlation using HEAT map:"
   ]
  },
  {
   "cell_type": "code",
   "execution_count": 136,
   "id": "5c2257d3",
   "metadata": {},
   "outputs": [
    {
     "data": {
      "text/html": [
       "<div>\n",
       "<style scoped>\n",
       "    .dataframe tbody tr th:only-of-type {\n",
       "        vertical-align: middle;\n",
       "    }\n",
       "\n",
       "    .dataframe tbody tr th {\n",
       "        vertical-align: top;\n",
       "    }\n",
       "\n",
       "    .dataframe thead th {\n",
       "        text-align: right;\n",
       "    }\n",
       "</style>\n",
       "<table border=\"1\" class=\"dataframe\">\n",
       "  <thead>\n",
       "    <tr style=\"text-align: right;\">\n",
       "      <th></th>\n",
       "      <th>Age</th>\n",
       "      <th>Workclass</th>\n",
       "      <th>Fnlwgt</th>\n",
       "      <th>Education</th>\n",
       "      <th>Education_num</th>\n",
       "      <th>Marital_status</th>\n",
       "      <th>Occupation</th>\n",
       "      <th>Relationship</th>\n",
       "      <th>Race</th>\n",
       "      <th>Sex</th>\n",
       "      <th>Capital_gain</th>\n",
       "      <th>Capital_loss</th>\n",
       "      <th>Hours_per_week</th>\n",
       "      <th>Native_country</th>\n",
       "      <th>Income</th>\n",
       "    </tr>\n",
       "  </thead>\n",
       "  <tbody>\n",
       "    <tr>\n",
       "      <th>Age</th>\n",
       "      <td>1.000000</td>\n",
       "      <td>0.037851</td>\n",
       "      <td>-0.073417</td>\n",
       "      <td>-0.008009</td>\n",
       "      <td>0.041029</td>\n",
       "      <td>-0.284334</td>\n",
       "      <td>-0.000086</td>\n",
       "      <td>-0.267450</td>\n",
       "      <td>0.028040</td>\n",
       "      <td>0.091176</td>\n",
       "      <td>0.129659</td>\n",
       "      <td>0.063995</td>\n",
       "      <td>0.094510</td>\n",
       "      <td>-0.002872</td>\n",
       "      <td>0.245367</td>\n",
       "    </tr>\n",
       "    <tr>\n",
       "      <th>Workclass</th>\n",
       "      <td>0.037851</td>\n",
       "      <td>1.000000</td>\n",
       "      <td>-0.024433</td>\n",
       "      <td>0.005277</td>\n",
       "      <td>0.004437</td>\n",
       "      <td>-0.020614</td>\n",
       "      <td>0.007607</td>\n",
       "      <td>-0.056863</td>\n",
       "      <td>0.046378</td>\n",
       "      <td>0.070075</td>\n",
       "      <td>0.017800</td>\n",
       "      <td>0.006422</td>\n",
       "      <td>0.029687</td>\n",
       "      <td>-0.001094</td>\n",
       "      <td>0.003723</td>\n",
       "    </tr>\n",
       "    <tr>\n",
       "      <th>Fnlwgt</th>\n",
       "      <td>-0.073417</td>\n",
       "      <td>-0.024433</td>\n",
       "      <td>1.000000</td>\n",
       "      <td>-0.024205</td>\n",
       "      <td>-0.042074</td>\n",
       "      <td>0.029566</td>\n",
       "      <td>0.002456</td>\n",
       "      <td>0.005743</td>\n",
       "      <td>-0.004102</td>\n",
       "      <td>0.027294</td>\n",
       "      <td>-0.005564</td>\n",
       "      <td>-0.008931</td>\n",
       "      <td>-0.014696</td>\n",
       "      <td>-0.065934</td>\n",
       "      <td>-0.010923</td>\n",
       "    </tr>\n",
       "    <tr>\n",
       "      <th>Education</th>\n",
       "      <td>-0.008009</td>\n",
       "      <td>0.005277</td>\n",
       "      <td>-0.024205</td>\n",
       "      <td>1.000000</td>\n",
       "      <td>0.355476</td>\n",
       "      <td>-0.037755</td>\n",
       "      <td>-0.040215</td>\n",
       "      <td>-0.011705</td>\n",
       "      <td>0.015774</td>\n",
       "      <td>-0.027432</td>\n",
       "      <td>0.031727</td>\n",
       "      <td>0.014879</td>\n",
       "      <td>0.058606</td>\n",
       "      <td>0.076085</td>\n",
       "      <td>0.077845</td>\n",
       "    </tr>\n",
       "    <tr>\n",
       "      <th>Education_num</th>\n",
       "      <td>0.041029</td>\n",
       "      <td>0.004437</td>\n",
       "      <td>-0.042074</td>\n",
       "      <td>0.355476</td>\n",
       "      <td>1.000000</td>\n",
       "      <td>-0.068399</td>\n",
       "      <td>0.070739</td>\n",
       "      <td>-0.096609</td>\n",
       "      <td>0.033684</td>\n",
       "      <td>0.013628</td>\n",
       "      <td>0.154667</td>\n",
       "      <td>0.084719</td>\n",
       "      <td>0.160064</td>\n",
       "      <td>0.087918</td>\n",
       "      <td>0.336189</td>\n",
       "    </tr>\n",
       "    <tr>\n",
       "      <th>Marital_status</th>\n",
       "      <td>-0.284334</td>\n",
       "      <td>-0.020614</td>\n",
       "      <td>0.029566</td>\n",
       "      <td>-0.037755</td>\n",
       "      <td>-0.068399</td>\n",
       "      <td>1.000000</td>\n",
       "      <td>0.034151</td>\n",
       "      <td>0.186412</td>\n",
       "      <td>-0.067695</td>\n",
       "      <td>-0.128585</td>\n",
       "      <td>-0.075595</td>\n",
       "      <td>-0.037100</td>\n",
       "      <td>-0.198185</td>\n",
       "      <td>-0.020212</td>\n",
       "      <td>-0.198533</td>\n",
       "    </tr>\n",
       "    <tr>\n",
       "      <th>Occupation</th>\n",
       "      <td>-0.000086</td>\n",
       "      <td>0.007607</td>\n",
       "      <td>0.002456</td>\n",
       "      <td>-0.040215</td>\n",
       "      <td>0.070739</td>\n",
       "      <td>0.034151</td>\n",
       "      <td>1.000000</td>\n",
       "      <td>-0.037233</td>\n",
       "      <td>-0.004122</td>\n",
       "      <td>0.047051</td>\n",
       "      <td>0.011653</td>\n",
       "      <td>0.009813</td>\n",
       "      <td>-0.020935</td>\n",
       "      <td>-0.002648</td>\n",
       "      <td>0.034063</td>\n",
       "    </tr>\n",
       "    <tr>\n",
       "      <th>Relationship</th>\n",
       "      <td>-0.267450</td>\n",
       "      <td>-0.056863</td>\n",
       "      <td>0.005743</td>\n",
       "      <td>-0.011705</td>\n",
       "      <td>-0.096609</td>\n",
       "      <td>0.186412</td>\n",
       "      <td>-0.037233</td>\n",
       "      <td>1.000000</td>\n",
       "      <td>-0.115368</td>\n",
       "      <td>-0.582821</td>\n",
       "      <td>-0.093615</td>\n",
       "      <td>-0.063145</td>\n",
       "      <td>-0.262662</td>\n",
       "      <td>-0.010464</td>\n",
       "      <td>-0.250493</td>\n",
       "    </tr>\n",
       "    <tr>\n",
       "      <th>Race</th>\n",
       "      <td>0.028040</td>\n",
       "      <td>0.046378</td>\n",
       "      <td>-0.004102</td>\n",
       "      <td>0.015774</td>\n",
       "      <td>0.033684</td>\n",
       "      <td>-0.067695</td>\n",
       "      <td>-0.004122</td>\n",
       "      <td>-0.115368</td>\n",
       "      <td>1.000000</td>\n",
       "      <td>0.089111</td>\n",
       "      <td>0.024507</td>\n",
       "      <td>0.018955</td>\n",
       "      <td>0.045781</td>\n",
       "      <td>0.120542</td>\n",
       "      <td>0.072690</td>\n",
       "    </tr>\n",
       "    <tr>\n",
       "      <th>Sex</th>\n",
       "      <td>0.091176</td>\n",
       "      <td>0.070075</td>\n",
       "      <td>0.027294</td>\n",
       "      <td>-0.027432</td>\n",
       "      <td>0.013628</td>\n",
       "      <td>-0.128585</td>\n",
       "      <td>0.047051</td>\n",
       "      <td>-0.582821</td>\n",
       "      <td>0.089111</td>\n",
       "      <td>1.000000</td>\n",
       "      <td>0.076769</td>\n",
       "      <td>0.049389</td>\n",
       "      <td>0.239522</td>\n",
       "      <td>0.001832</td>\n",
       "      <td>0.215579</td>\n",
       "    </tr>\n",
       "    <tr>\n",
       "      <th>Capital_gain</th>\n",
       "      <td>0.129659</td>\n",
       "      <td>0.017800</td>\n",
       "      <td>-0.005564</td>\n",
       "      <td>0.031727</td>\n",
       "      <td>0.154667</td>\n",
       "      <td>-0.075595</td>\n",
       "      <td>0.011653</td>\n",
       "      <td>-0.093615</td>\n",
       "      <td>0.024507</td>\n",
       "      <td>0.076769</td>\n",
       "      <td>1.000000</td>\n",
       "      <td>-0.057191</td>\n",
       "      <td>0.107725</td>\n",
       "      <td>0.013452</td>\n",
       "      <td>0.339778</td>\n",
       "    </tr>\n",
       "    <tr>\n",
       "      <th>Capital_loss</th>\n",
       "      <td>0.063995</td>\n",
       "      <td>0.006422</td>\n",
       "      <td>-0.008931</td>\n",
       "      <td>0.014879</td>\n",
       "      <td>0.084719</td>\n",
       "      <td>-0.037100</td>\n",
       "      <td>0.009813</td>\n",
       "      <td>-0.063145</td>\n",
       "      <td>0.018955</td>\n",
       "      <td>0.049389</td>\n",
       "      <td>-0.057191</td>\n",
       "      <td>1.000000</td>\n",
       "      <td>0.060903</td>\n",
       "      <td>0.009345</td>\n",
       "      <td>0.162781</td>\n",
       "    </tr>\n",
       "    <tr>\n",
       "      <th>Hours_per_week</th>\n",
       "      <td>0.094510</td>\n",
       "      <td>0.029687</td>\n",
       "      <td>-0.014696</td>\n",
       "      <td>0.058606</td>\n",
       "      <td>0.160064</td>\n",
       "      <td>-0.198185</td>\n",
       "      <td>-0.020935</td>\n",
       "      <td>-0.262662</td>\n",
       "      <td>0.045781</td>\n",
       "      <td>0.239522</td>\n",
       "      <td>0.107725</td>\n",
       "      <td>0.060903</td>\n",
       "      <td>1.000000</td>\n",
       "      <td>0.004860</td>\n",
       "      <td>0.243065</td>\n",
       "    </tr>\n",
       "    <tr>\n",
       "      <th>Native_country</th>\n",
       "      <td>-0.002872</td>\n",
       "      <td>-0.001094</td>\n",
       "      <td>-0.065934</td>\n",
       "      <td>0.076085</td>\n",
       "      <td>0.087918</td>\n",
       "      <td>-0.020212</td>\n",
       "      <td>-0.002648</td>\n",
       "      <td>-0.010464</td>\n",
       "      <td>0.120542</td>\n",
       "      <td>0.001832</td>\n",
       "      <td>0.013452</td>\n",
       "      <td>0.009345</td>\n",
       "      <td>0.004860</td>\n",
       "      <td>1.000000</td>\n",
       "      <td>0.022830</td>\n",
       "    </tr>\n",
       "    <tr>\n",
       "      <th>Income</th>\n",
       "      <td>0.245367</td>\n",
       "      <td>0.003723</td>\n",
       "      <td>-0.010923</td>\n",
       "      <td>0.077845</td>\n",
       "      <td>0.336189</td>\n",
       "      <td>-0.198533</td>\n",
       "      <td>0.034063</td>\n",
       "      <td>-0.250493</td>\n",
       "      <td>0.072690</td>\n",
       "      <td>0.215579</td>\n",
       "      <td>0.339778</td>\n",
       "      <td>0.162781</td>\n",
       "      <td>0.243065</td>\n",
       "      <td>0.022830</td>\n",
       "      <td>1.000000</td>\n",
       "    </tr>\n",
       "  </tbody>\n",
       "</table>\n",
       "</div>"
      ],
      "text/plain": [
       "                     Age  Workclass    Fnlwgt  Education  Education_num  \\\n",
       "Age             1.000000   0.037851 -0.073417  -0.008009       0.041029   \n",
       "Workclass       0.037851   1.000000 -0.024433   0.005277       0.004437   \n",
       "Fnlwgt         -0.073417  -0.024433  1.000000  -0.024205      -0.042074   \n",
       "Education      -0.008009   0.005277 -0.024205   1.000000       0.355476   \n",
       "Education_num   0.041029   0.004437 -0.042074   0.355476       1.000000   \n",
       "Marital_status -0.284334  -0.020614  0.029566  -0.037755      -0.068399   \n",
       "Occupation     -0.000086   0.007607  0.002456  -0.040215       0.070739   \n",
       "Relationship   -0.267450  -0.056863  0.005743  -0.011705      -0.096609   \n",
       "Race            0.028040   0.046378 -0.004102   0.015774       0.033684   \n",
       "Sex             0.091176   0.070075  0.027294  -0.027432       0.013628   \n",
       "Capital_gain    0.129659   0.017800 -0.005564   0.031727       0.154667   \n",
       "Capital_loss    0.063995   0.006422 -0.008931   0.014879       0.084719   \n",
       "Hours_per_week  0.094510   0.029687 -0.014696   0.058606       0.160064   \n",
       "Native_country -0.002872  -0.001094 -0.065934   0.076085       0.087918   \n",
       "Income          0.245367   0.003723 -0.010923   0.077845       0.336189   \n",
       "\n",
       "                Marital_status  Occupation  Relationship      Race       Sex  \\\n",
       "Age                  -0.284334   -0.000086     -0.267450  0.028040  0.091176   \n",
       "Workclass            -0.020614    0.007607     -0.056863  0.046378  0.070075   \n",
       "Fnlwgt                0.029566    0.002456      0.005743 -0.004102  0.027294   \n",
       "Education            -0.037755   -0.040215     -0.011705  0.015774 -0.027432   \n",
       "Education_num        -0.068399    0.070739     -0.096609  0.033684  0.013628   \n",
       "Marital_status        1.000000    0.034151      0.186412 -0.067695 -0.128585   \n",
       "Occupation            0.034151    1.000000     -0.037233 -0.004122  0.047051   \n",
       "Relationship          0.186412   -0.037233      1.000000 -0.115368 -0.582821   \n",
       "Race                 -0.067695   -0.004122     -0.115368  1.000000  0.089111   \n",
       "Sex                  -0.128585    0.047051     -0.582821  0.089111  1.000000   \n",
       "Capital_gain         -0.075595    0.011653     -0.093615  0.024507  0.076769   \n",
       "Capital_loss         -0.037100    0.009813     -0.063145  0.018955  0.049389   \n",
       "Hours_per_week       -0.198185   -0.020935     -0.262662  0.045781  0.239522   \n",
       "Native_country       -0.020212   -0.002648     -0.010464  0.120542  0.001832   \n",
       "Income               -0.198533    0.034063     -0.250493  0.072690  0.215579   \n",
       "\n",
       "                Capital_gain  Capital_loss  Hours_per_week  Native_country  \\\n",
       "Age                 0.129659      0.063995        0.094510       -0.002872   \n",
       "Workclass           0.017800      0.006422        0.029687       -0.001094   \n",
       "Fnlwgt             -0.005564     -0.008931       -0.014696       -0.065934   \n",
       "Education           0.031727      0.014879        0.058606        0.076085   \n",
       "Education_num       0.154667      0.084719        0.160064        0.087918   \n",
       "Marital_status     -0.075595     -0.037100       -0.198185       -0.020212   \n",
       "Occupation          0.011653      0.009813       -0.020935       -0.002648   \n",
       "Relationship       -0.093615     -0.063145       -0.262662       -0.010464   \n",
       "Race                0.024507      0.018955        0.045781        0.120542   \n",
       "Sex                 0.076769      0.049389        0.239522        0.001832   \n",
       "Capital_gain        1.000000     -0.057191        0.107725        0.013452   \n",
       "Capital_loss       -0.057191      1.000000        0.060903        0.009345   \n",
       "Hours_per_week      0.107725      0.060903        1.000000        0.004860   \n",
       "Native_country      0.013452      0.009345        0.004860        1.000000   \n",
       "Income              0.339778      0.162781        0.243065        0.022830   \n",
       "\n",
       "                  Income  \n",
       "Age             0.245367  \n",
       "Workclass       0.003723  \n",
       "Fnlwgt         -0.010923  \n",
       "Education       0.077845  \n",
       "Education_num   0.336189  \n",
       "Marital_status -0.198533  \n",
       "Occupation      0.034063  \n",
       "Relationship   -0.250493  \n",
       "Race            0.072690  \n",
       "Sex             0.215579  \n",
       "Capital_gain    0.339778  \n",
       "Capital_loss    0.162781  \n",
       "Hours_per_week  0.243065  \n",
       "Native_country  0.022830  \n",
       "Income          1.000000  "
      ]
     },
     "execution_count": 136,
     "metadata": {},
     "output_type": "execute_result"
    }
   ],
   "source": [
    "# Checking the correlation between features and the target\n",
    "cor = df1.corr()\n",
    "cor\n"
   ]
  },
  {
   "cell_type": "code",
   "execution_count": 137,
   "id": "fb72749f",
   "metadata": {},
   "outputs": [
    {
     "data": {
      "text/plain": [
       "(array([ 0.5,  1.5,  2.5,  3.5,  4.5,  5.5,  6.5,  7.5,  8.5,  9.5, 10.5,\n",
       "        11.5, 12.5, 13.5, 14.5]),\n",
       " [Text(0, 0.5, 'Age'),\n",
       "  Text(0, 1.5, 'Workclass'),\n",
       "  Text(0, 2.5, 'Fnlwgt'),\n",
       "  Text(0, 3.5, 'Education'),\n",
       "  Text(0, 4.5, 'Education_num'),\n",
       "  Text(0, 5.5, 'Marital_status'),\n",
       "  Text(0, 6.5, 'Occupation'),\n",
       "  Text(0, 7.5, 'Relationship'),\n",
       "  Text(0, 8.5, 'Race'),\n",
       "  Text(0, 9.5, 'Sex'),\n",
       "  Text(0, 10.5, 'Capital_gain'),\n",
       "  Text(0, 11.5, 'Capital_loss'),\n",
       "  Text(0, 12.5, 'Hours_per_week'),\n",
       "  Text(0, 13.5, 'Native_country'),\n",
       "  Text(0, 14.5, 'Income')])"
      ]
     },
     "execution_count": 137,
     "metadata": {},
     "output_type": "execute_result"
    },
    {
     "data": {
      "image/png": "[encoded data removed]",
      "text/plain": [
       "<Figure size 1152x648 with 2 Axes>"
      ]
     },
     "metadata": {
      "needs_background": "light"
     },
     "output_type": "display_data"
    }
   ],
   "source": [
    "# Visualizing the correlation matrix by plotting heat map.\n",
    "plt.figure(figsize=(16,9))\n",
    "sns.heatmap(df1.corr(),linewidths=.1,fmt='0.3f', annot = True)\n",
    "plt.yticks(rotation=0)\n"
   ]
  },
  {
   "cell_type": "code",
   "execution_count": 138,
   "id": "2bd410be",
   "metadata": {},
   "outputs": [
    {
     "data": {
      "text/plain": [
       "Income            1.000000\n",
       "Capital_gain      0.339778\n",
       "Education_num     0.336189\n",
       "Age               0.245367\n",
       "Hours_per_week    0.243065\n",
       "Sex               0.215579\n",
       "Capital_loss      0.162781\n",
       "Education         0.077845\n",
       "Race              0.072690\n",
       "Occupation        0.034063\n",
       "Native_country    0.022830\n",
       "Workclass         0.003723\n",
       "Fnlwgt           -0.010923\n",
       "Marital_status   -0.198533\n",
       "Relationship     -0.250493\n",
       "Name: Income, dtype: float64"
      ]
     },
     "execution_count": 138,
     "metadata": {},
     "output_type": "execute_result"
    }
   ],
   "source": [
    "cor['Income'].sort_values(ascending=False)"
   ]
  },
  {
   "cell_type": "markdown",
   "id": "88c3b0e8",
   "metadata": {},
   "source": [
    "# Visualizing the correlation between label and features using bar plot\n"
   ]
  },
  {
   "cell_type": "code",
   "execution_count": 139,
   "id": "aa4d7c30",
   "metadata": {},
   "outputs": [
    {
     "data": {
      "image/png": "[encoded data removed]",
      "text/plain": [
       "<Figure size 1296x504 with 1 Axes>"
      ]
     },
     "metadata": {
      "needs_background": "light"
     },
     "output_type": "display_data"
    }
   ],
   "source": [
    "plt.figure(figsize=(18,7))\n",
    "df1.corr()['Income'].sort_values(ascending=False).drop(['Income']).plot(kind='bar',color='c')\n",
    "plt.xlabel('Feature',fontsize=14)\n",
    "plt.ylabel('target',fontsize=14)\n",
    "plt.title('correlation between lanel and feature using bar plot',fontsize=18)\n",
    "plt.show()"
   ]
  },
  {
   "cell_type": "markdown",
   "id": "491b803e",
   "metadata": {},
   "source": [
    "# Dividing data in feature and Label"
   ]
  },
  {
   "cell_type": "code",
   "execution_count": 140,
   "id": "b9a4f0e0",
   "metadata": {},
   "outputs": [],
   "source": [
    "x=df1.drop(columns='Income')#Feature\n",
    "y=df1.Income#Target"
   ]
  },
  {
   "cell_type": "code",
   "execution_count": 141,
   "id": "990972c8",
   "metadata": {},
   "outputs": [],
   "source": [
    "from imblearn.over_sampling import SMOTE"
   ]
  },
  {
   "cell_type": "code",
   "execution_count": 142,
   "id": "6c6ba183",
   "metadata": {},
   "outputs": [],
   "source": [
    "smt=SMOTE()\n",
    "x_sample,y_sample=smt.fit_resample(x,y)"
   ]
  },
  {
   "cell_type": "code",
   "execution_count": 143,
   "id": "e1af614d",
   "metadata": {},
   "outputs": [
    {
     "data": {
      "text/plain": [
       "array([[ 0.87030597,  1.72614868, -1.25134   , ..., -0.20511256,\n",
       "        -2.43136463,  0.26069089],\n",
       "       [-0.02876051, -0.08037626,  0.61858631, ..., -0.20511256,\n",
       "        -0.00545122,  0.26069089],\n",
       "       [ 1.09507259, -0.08037626,  0.82878959, ..., -0.20511256,\n",
       "        -0.00545122,  0.26069089],\n",
       "       ...,\n",
       "       [ 1.46968363, -0.08037626, -0.42224256, ..., -0.20511256,\n",
       "        -0.00545122,  0.26069089],\n",
       "       [-1.22751581, -0.08037626,  0.41670286, ..., -0.20511256,\n",
       "        -1.80242412,  0.26069089],\n",
       "       [ 1.02015039,  0.82288621,  1.24478155, ..., -0.20511256,\n",
       "        -0.00545122,  0.26069089]])"
      ]
     },
     "execution_count": 143,
     "metadata": {},
     "output_type": "execute_result"
    }
   ],
   "source": [
    "#Lets import standardscaler\n",
    "from sklearn.preprocessing import StandardScaler\n",
    "scaler=StandardScaler()\n",
    "x_scaled=scaler.fit_transform(x)\n",
    "x_scaled"
   ]
  },
  {
   "cell_type": "markdown",
   "id": "8a08fb24",
   "metadata": {},
   "source": [
    "# Now use VIF for checking multicollinearity problem"
   ]
  },
  {
   "cell_type": "markdown",
   "id": "12390af2",
   "metadata": {},
   "source": [
    "VIF - > Variance Inflation Factor"
   ]
  },
  {
   "cell_type": "code",
   "execution_count": 144,
   "id": "660c5665",
   "metadata": {},
   "outputs": [],
   "source": [
    "#Lets import VIF\n",
    "from statsmodels.stats.outliers_influence import variance_inflation_factor\n",
    "\n",
    "vif=pd.DataFrame()\n",
    "vif['vif']=[variance_inflation_factor(x_scaled,i)for i in range(x_scaled.shape[1])]\n",
    "vif['feature']=x.columns"
   ]
  },
  {
   "cell_type": "code",
   "execution_count": 145,
   "id": "06eac174",
   "metadata": {},
   "outputs": [
    {
     "data": {
      "text/html": [
       "<div>\n",
       "<style scoped>\n",
       "    .dataframe tbody tr th:only-of-type {\n",
       "        vertical-align: middle;\n",
       "    }\n",
       "\n",
       "    .dataframe tbody tr th {\n",
       "        vertical-align: top;\n",
       "    }\n",
       "\n",
       "    .dataframe thead th {\n",
       "        text-align: right;\n",
       "    }\n",
       "</style>\n",
       "<table border=\"1\" class=\"dataframe\">\n",
       "  <thead>\n",
       "    <tr style=\"text-align: right;\">\n",
       "      <th></th>\n",
       "      <th>vif</th>\n",
       "      <th>feature</th>\n",
       "    </tr>\n",
       "  </thead>\n",
       "  <tbody>\n",
       "    <tr>\n",
       "      <th>0</th>\n",
       "      <td>1.179915</td>\n",
       "      <td>Age</td>\n",
       "    </tr>\n",
       "    <tr>\n",
       "      <th>1</th>\n",
       "      <td>1.008464</td>\n",
       "      <td>Workclass</td>\n",
       "    </tr>\n",
       "    <tr>\n",
       "      <th>2</th>\n",
       "      <td>1.013152</td>\n",
       "      <td>Fnlwgt</td>\n",
       "    </tr>\n",
       "    <tr>\n",
       "      <th>3</th>\n",
       "      <td>1.156132</td>\n",
       "      <td>Education</td>\n",
       "    </tr>\n",
       "    <tr>\n",
       "      <th>4</th>\n",
       "      <td>1.227840</td>\n",
       "      <td>Education_num</td>\n",
       "    </tr>\n",
       "    <tr>\n",
       "      <th>5</th>\n",
       "      <td>1.138493</td>\n",
       "      <td>Marital_status</td>\n",
       "    </tr>\n",
       "    <tr>\n",
       "      <th>6</th>\n",
       "      <td>1.015752</td>\n",
       "      <td>Occupation</td>\n",
       "    </tr>\n",
       "    <tr>\n",
       "      <th>7</th>\n",
       "      <td>1.685572</td>\n",
       "      <td>Relationship</td>\n",
       "    </tr>\n",
       "    <tr>\n",
       "      <th>8</th>\n",
       "      <td>1.033357</td>\n",
       "      <td>Race</td>\n",
       "    </tr>\n",
       "    <tr>\n",
       "      <th>9</th>\n",
       "      <td>1.565482</td>\n",
       "      <td>Sex</td>\n",
       "    </tr>\n",
       "    <tr>\n",
       "      <th>10</th>\n",
       "      <td>1.057905</td>\n",
       "      <td>Capital_gain</td>\n",
       "    </tr>\n",
       "    <tr>\n",
       "      <th>11</th>\n",
       "      <td>1.022074</td>\n",
       "      <td>Capital_loss</td>\n",
       "    </tr>\n",
       "    <tr>\n",
       "      <th>12</th>\n",
       "      <td>1.144347</td>\n",
       "      <td>Hours_per_week</td>\n",
       "    </tr>\n",
       "    <tr>\n",
       "      <th>13</th>\n",
       "      <td>1.029001</td>\n",
       "      <td>Native_country</td>\n",
       "    </tr>\n",
       "  </tbody>\n",
       "</table>\n",
       "</div>"
      ],
      "text/plain": [
       "         vif         feature\n",
       "0   1.179915             Age\n",
       "1   1.008464       Workclass\n",
       "2   1.013152          Fnlwgt\n",
       "3   1.156132       Education\n",
       "4   1.227840   Education_num\n",
       "5   1.138493  Marital_status\n",
       "6   1.015752      Occupation\n",
       "7   1.685572    Relationship\n",
       "8   1.033357            Race\n",
       "9   1.565482             Sex\n",
       "10  1.057905    Capital_gain\n",
       "11  1.022074    Capital_loss\n",
       "12  1.144347  Hours_per_week\n",
       "13  1.029001  Native_country"
      ]
     },
     "execution_count": 145,
     "metadata": {},
     "output_type": "execute_result"
    }
   ],
   "source": [
    "vif"
   ]
  },
  {
   "cell_type": "markdown",
   "id": "4c616fa0",
   "metadata": {},
   "source": [
    "# Logistic Regression"
   ]
  },
  {
   "cell_type": "code",
   "execution_count": 146,
   "id": "e3ae50fb",
   "metadata": {},
   "outputs": [],
   "source": [
    "from sklearn.linear_model import LogisticRegression\n",
    "lr=LogisticRegression()"
   ]
  },
  {
   "cell_type": "code",
   "execution_count": 147,
   "id": "8fd8ad0f",
   "metadata": {},
   "outputs": [],
   "source": [
    "from sklearn.metrics import accuracy_score,classification_report\n",
    "from sklearn.model_selection import train_test_split"
   ]
  },
  {
   "cell_type": "code",
   "execution_count": 148,
   "id": "f14fec79",
   "metadata": {},
   "outputs": [
    {
     "name": "stdout",
     "output_type": "stream",
     "text": [
      "At Radom State  2 The Model Performs Very Well\n",
      "At random State  2 The Model performs very well\n",
      "Training Accuracy Score is :-  80.77105387896982\n",
      "Testing Accuracy Score is : -  80.80568720379146 \n",
      "\n",
      "At Radom State  11 The Model Performs Very Well\n",
      "At random State  11 The Model performs very well\n",
      "Training Accuracy Score is :-  78.72491704850687\n",
      "Testing Accuracy Score is : -  78.68878357030016 \n",
      "\n",
      "At Radom State  23 The Model Performs Very Well\n",
      "At random State  23 The Model performs very well\n",
      "Training Accuracy Score is :-  78.5629641333544\n",
      "Testing Accuracy Score is : -  78.5781990521327 \n",
      "\n",
      "At Radom State  28 The Model Performs Very Well\n",
      "At random State  28 The Model performs very well\n",
      "Training Accuracy Score is :-  78.61826512877231\n",
      "Testing Accuracy Score is : -  78.60979462875197 \n",
      "\n",
      "At Radom State  29 The Model Performs Very Well\n",
      "At random State  29 The Model performs very well\n",
      "Training Accuracy Score is :-  78.62616527097488\n",
      "Testing Accuracy Score is : -  78.5781990521327 \n",
      "\n",
      "At Radom State  35 The Model Performs Very Well\n",
      "At random State  35 The Model performs very well\n",
      "Training Accuracy Score is :-  78.74861747511456\n",
      "Testing Accuracy Score is : -  78.68878357030016 \n",
      "\n",
      "At Radom State  37 The Model Performs Very Well\n",
      "At random State  37 The Model performs very well\n",
      "Training Accuracy Score is :-  80.68020224364038\n",
      "Testing Accuracy Score is : -  80.72669826224329 \n",
      "\n",
      "At Radom State  54 The Model Performs Very Well\n",
      "At random State  54 The Model performs very well\n",
      "Training Accuracy Score is :-  79.4438299889398\n",
      "Testing Accuracy Score is : -  79.43127962085308 \n",
      "\n",
      "At Radom State  55 The Model Performs Very Well\n",
      "At random State  55 The Model performs very well\n",
      "Training Accuracy Score is :-  78.51951335124032\n",
      "Testing Accuracy Score is : -  78.46761453396525 \n",
      "\n",
      "At Radom State  69 The Model Performs Very Well\n",
      "At random State  69 The Model performs very well\n",
      "Training Accuracy Score is :-  78.62221519987361\n",
      "Testing Accuracy Score is : -  78.62559241706161 \n",
      "\n",
      "At Radom State  76 The Model Performs Very Well\n",
      "At random State  76 The Model performs very well\n",
      "Training Accuracy Score is :-  78.51556328013905\n",
      "Testing Accuracy Score is : -  78.54660347551344 \n",
      "\n",
      "At Radom State  84 The Model Performs Very Well\n",
      "At random State  84 The Model performs very well\n",
      "Training Accuracy Score is :-  78.93032074577341\n",
      "Testing Accuracy Score is : -  78.86255924170617 \n",
      "\n",
      "At Radom State  111 The Model Performs Very Well\n",
      "At random State  111 The Model performs very well\n",
      "Training Accuracy Score is :-  80.28914520461369\n",
      "Testing Accuracy Score is : -  80.33175355450237 \n",
      "\n",
      "At Radom State  113 The Model Performs Very Well\n",
      "At random State  113 The Model performs very well\n",
      "Training Accuracy Score is :-  78.49581292463265\n",
      "Testing Accuracy Score is : -  78.46761453396525 \n",
      "\n",
      "At Radom State  133 The Model Performs Very Well\n",
      "At random State  133 The Model performs very well\n",
      "Training Accuracy Score is :-  78.32200979617633\n",
      "Testing Accuracy Score is : -  78.30963665086887 \n",
      "\n",
      "At Radom State  195 The Model Performs Very Well\n",
      "At random State  195 The Model performs very well\n",
      "Training Accuracy Score is :-  78.64591562648128\n",
      "Testing Accuracy Score is : -  78.62559241706161 \n",
      "\n",
      "At Radom State  218 The Model Performs Very Well\n",
      "At random State  218 The Model performs very well\n",
      "Training Accuracy Score is :-  80.73155316795703\n",
      "Testing Accuracy Score is : -  80.71090047393365 \n",
      "\n",
      "At Radom State  240 The Model Performs Very Well\n",
      "At random State  240 The Model performs very well\n",
      "Training Accuracy Score is :-  78.47211249802496\n",
      "Testing Accuracy Score is : -  78.53080568720378 \n",
      "\n",
      "At Radom State  287 The Model Performs Very Well\n",
      "At random State  287 The Model performs very well\n",
      "Training Accuracy Score is :-  78.23115816084689\n",
      "Testing Accuracy Score is : -  78.2306477093207 \n",
      "\n",
      "At Radom State  303 The Model Performs Very Well\n",
      "At random State  303 The Model performs very well\n",
      "Training Accuracy Score is :-  78.59851477326592\n",
      "Testing Accuracy Score is : -  78.60979462875197 \n",
      "\n",
      "At Radom State  355 The Model Performs Very Well\n",
      "At random State  355 The Model performs very well\n",
      "Training Accuracy Score is :-  79.24632643387581\n",
      "Testing Accuracy Score is : -  79.16271721958927 \n",
      "\n",
      "At Radom State  381 The Model Performs Very Well\n",
      "At random State  381 The Model performs very well\n",
      "Training Accuracy Score is :-  78.81181861273502\n",
      "Testing Accuracy Score is : -  78.76777251184835 \n",
      "\n",
      "At Radom State  395 The Model Performs Very Well\n",
      "At random State  395 The Model performs very well\n",
      "Training Accuracy Score is :-  78.92242060357087\n",
      "Testing Accuracy Score is : -  78.86255924170617 \n",
      "\n",
      "At Radom State  397 The Model Performs Very Well\n",
      "At random State  397 The Model performs very well\n",
      "Training Accuracy Score is :-  78.8750197503555\n",
      "Testing Accuracy Score is : -  78.86255924170617 \n",
      "\n",
      "At Radom State  418 The Model Performs Very Well\n",
      "At random State  418 The Model performs very well\n",
      "Training Accuracy Score is :-  78.39706114710064\n",
      "Testing Accuracy Score is : -  78.37282780410743 \n",
      "\n",
      "At Radom State  428 The Model Performs Very Well\n",
      "At random State  428 The Model performs very well\n",
      "Training Accuracy Score is :-  78.48791278243009\n",
      "Testing Accuracy Score is : -  78.46761453396525 \n",
      "\n",
      "At Radom State  430 The Model Performs Very Well\n",
      "At random State  430 The Model performs very well\n",
      "Training Accuracy Score is :-  79.64133354400379\n",
      "Testing Accuracy Score is : -  79.60505529225908 \n",
      "\n",
      "At Radom State  446 The Model Performs Very Well\n",
      "At random State  446 The Model performs very well\n",
      "Training Accuracy Score is :-  78.8947701058619\n",
      "Testing Accuracy Score is : -  78.86255924170617 \n",
      "\n",
      "At Radom State  452 The Model Performs Very Well\n",
      "At random State  452 The Model performs very well\n",
      "Training Accuracy Score is :-  78.59456470216463\n",
      "Testing Accuracy Score is : -  78.59399684044234 \n",
      "\n",
      "At Radom State  457 The Model Performs Very Well\n",
      "At random State  457 The Model performs very well\n",
      "Training Accuracy Score is :-  78.85921946595039\n",
      "Testing Accuracy Score is : -  78.9257503949447 \n",
      "\n",
      "At Radom State  462 The Model Performs Very Well\n",
      "At random State  462 The Model performs very well\n",
      "Training Accuracy Score is :-  78.49581292463265\n",
      "Testing Accuracy Score is : -  78.49921011058451 \n",
      "\n",
      "At Radom State  475 The Model Performs Very Well\n",
      "At random State  475 The Model performs very well\n",
      "Training Accuracy Score is :-  78.6617159108864\n",
      "Testing Accuracy Score is : -  78.68878357030016 \n",
      "\n",
      "At Radom State  551 The Model Performs Very Well\n",
      "At random State  551 The Model performs very well\n",
      "Training Accuracy Score is :-  79.11202401643229\n",
      "Testing Accuracy Score is : -  79.13112164296999 \n",
      "\n",
      "At Radom State  555 The Model Performs Very Well\n",
      "At random State  555 The Model performs very well\n",
      "Training Accuracy Score is :-  78.51951335124032\n",
      "Testing Accuracy Score is : -  78.46761453396525 \n",
      "\n",
      "At Radom State  603 The Model Performs Very Well\n",
      "At random State  603 The Model performs very well\n",
      "Training Accuracy Score is :-  78.90267024806447\n",
      "Testing Accuracy Score is : -  78.90995260663507 \n",
      "\n",
      "At Radom State  617 The Model Performs Very Well\n",
      "At random State  617 The Model performs very well\n",
      "Training Accuracy Score is :-  78.73676726181071\n",
      "Testing Accuracy Score is : -  78.73617693522907 \n",
      "\n",
      "At Radom State  633 The Model Performs Very Well\n",
      "At random State  633 The Model performs very well\n",
      "Training Accuracy Score is :-  78.98562174119134\n",
      "Testing Accuracy Score is : -  78.98894154818325 \n",
      "\n",
      "At Radom State  648 The Model Performs Very Well\n",
      "At random State  648 The Model performs very well\n",
      "Training Accuracy Score is :-  78.67751619529152\n",
      "Testing Accuracy Score is : -  78.72037914691943 \n",
      "\n",
      "At Radom State  664 The Model Performs Very Well\n",
      "At random State  664 The Model performs very well\n",
      "Training Accuracy Score is :-  78.75651761731712\n",
      "Testing Accuracy Score is : -  78.84676145339652 \n",
      "\n",
      "At Radom State  667 The Model Performs Very Well\n",
      "At random State  667 The Model performs very well\n",
      "Training Accuracy Score is :-  79.46753041554749\n",
      "Testing Accuracy Score is : -  79.54186413902053 \n",
      "\n",
      "At Radom State  735 The Model Performs Very Well\n",
      "At random State  735 The Model performs very well\n",
      "Training Accuracy Score is :-  78.40496128930322\n",
      "Testing Accuracy Score is : -  78.38862559241706 \n",
      "\n",
      "At Radom State  741 The Model Performs Very Well\n",
      "At random State  741 The Model performs very well\n",
      "Training Accuracy Score is :-  78.67356612419023\n",
      "Testing Accuracy Score is : -  78.65718799368089 \n",
      "\n",
      "At Radom State  756 The Model Performs Very Well\n",
      "At random State  756 The Model performs very well\n",
      "Training Accuracy Score is :-  79.29372728709116\n",
      "Testing Accuracy Score is : -  79.32069510268562 \n",
      "\n",
      "At Radom State  767 The Model Performs Very Well\n",
      "At random State  767 The Model performs very well\n",
      "Training Accuracy Score is :-  79.9731395165113\n",
      "Testing Accuracy Score is : -  79.95260663507109 \n",
      "\n",
      "At Radom State  776 The Model Performs Very Well\n",
      "At random State  776 The Model performs very well\n",
      "Training Accuracy Score is :-  80.53404961289303\n",
      "Testing Accuracy Score is : -  80.48973143759873 \n",
      "\n",
      "At Radom State  794 The Model Performs Very Well\n",
      "At random State  794 The Model performs very well\n",
      "Training Accuracy Score is :-  78.96587138568493\n",
      "Testing Accuracy Score is : -  78.95734597156398 \n",
      "\n",
      "At Radom State  796 The Model Performs Very Well\n",
      "At random State  796 The Model performs very well\n",
      "Training Accuracy Score is :-  78.68936640859535\n",
      "Testing Accuracy Score is : -  78.73617693522907 \n",
      "\n",
      "At Radom State  816 The Model Performs Very Well\n",
      "At random State  816 The Model performs very well\n",
      "Training Accuracy Score is :-  79.1475746563438\n",
      "Testing Accuracy Score is : -  79.11532385466035 \n",
      "\n",
      "At Radom State  818 The Model Performs Very Well\n",
      "At random State  818 The Model performs very well\n",
      "Training Accuracy Score is :-  79.19892558066046\n",
      "Testing Accuracy Score is : -  79.16271721958927 \n",
      "\n",
      "At Radom State  820 The Model Performs Very Well\n",
      "At random State  820 The Model performs very well\n",
      "Training Accuracy Score is :-  80.66440195923526\n",
      "Testing Accuracy Score is : -  80.66350710900474 \n",
      "\n",
      "At Radom State  832 The Model Performs Very Well\n",
      "At random State  832 The Model performs very well\n",
      "Training Accuracy Score is :-  78.81971875493758\n",
      "Testing Accuracy Score is : -  78.76777251184835 \n",
      "\n",
      "At Radom State  846 The Model Performs Very Well\n",
      "At random State  846 The Model performs very well\n",
      "Training Accuracy Score is :-  78.47211249802496\n",
      "Testing Accuracy Score is : -  78.46761453396525 \n",
      "\n",
      "At Radom State  850 The Model Performs Very Well\n",
      "At random State  850 The Model performs very well\n",
      "Training Accuracy Score is :-  78.8987201769632\n",
      "Testing Accuracy Score is : -  78.86255924170617 \n",
      "\n",
      "At Radom State  855 The Model Performs Very Well\n",
      "At random State  855 The Model performs very well\n",
      "Training Accuracy Score is :-  80.4431979775636\n",
      "Testing Accuracy Score is : -  80.44233807266983 \n",
      "\n",
      "At Radom State  856 The Model Performs Very Well\n",
      "At random State  856 The Model performs very well\n",
      "Training Accuracy Score is :-  78.61431505767104\n",
      "Testing Accuracy Score is : -  78.64139020537125 \n",
      "\n",
      "At Radom State  867 The Model Performs Very Well\n",
      "At random State  867 The Model performs very well\n",
      "Training Accuracy Score is :-  78.38521093379681\n",
      "Testing Accuracy Score is : -  78.38862559241706 \n",
      "\n",
      "At Radom State  898 The Model Performs Very Well\n",
      "At random State  898 The Model performs very well\n",
      "Training Accuracy Score is :-  80.5814504661084\n",
      "Testing Accuracy Score is : -  80.60031595576619 \n",
      "\n",
      "At Radom State  924 The Model Performs Very Well\n",
      "At random State  924 The Model performs very well\n",
      "Training Accuracy Score is :-  78.5037130668352\n",
      "Testing Accuracy Score is : -  78.53080568720378 \n",
      "\n",
      "At Radom State  936 The Model Performs Very Well\n",
      "At random State  936 The Model performs very well\n",
      "Training Accuracy Score is :-  80.66440195923526\n",
      "Testing Accuracy Score is : -  80.71090047393365 \n",
      "\n",
      "At Radom State  968 The Model Performs Very Well\n",
      "At random State  968 The Model performs very well\n",
      "Training Accuracy Score is :-  78.70911676410175\n",
      "Testing Accuracy Score is : -  78.72037914691943 \n",
      "\n",
      "At Radom State  977 The Model Performs Very Well\n",
      "At random State  977 The Model performs very well\n",
      "Training Accuracy Score is :-  79.54653183757307\n",
      "Testing Accuracy Score is : -  79.54186413902053 \n",
      "\n",
      "At Radom State  979 The Model Performs Very Well\n",
      "At random State  979 The Model performs very well\n",
      "Training Accuracy Score is :-  78.5629641333544\n",
      "Testing Accuracy Score is : -  78.5781990521327 \n",
      "\n"
     ]
    }
   ],
   "source": [
    "for i in range(0,1000):\n",
    "    x_train,x_test,y_train,y_test=train_test_split(x,y,random_state=i,test_size=0.20)\n",
    "    lr.fit(x_train,y_train)\n",
    "    \n",
    "    pred_train=lr.predict(x_train)\n",
    "    pred_test=lr.predict(x_test)\n",
    "    if round(accuracy_score(y_train,pred_train)*100,1)==round(accuracy_score(y_test,pred_test)*100,1):\n",
    "        print(\"At Radom State \",i,\"The Model Performs Very Well\")\n",
    "        print(\"At random State \",i,\"The Model performs very well\")\n",
    "        print(\"Training Accuracy Score is :- \",accuracy_score(y_train,pred_train)*100)\n",
    "        print(\"Testing Accuracy Score is : - \",accuracy_score(y_test,pred_test)*100,\"\\n\")"
   ]
  },
  {
   "cell_type": "markdown",
   "id": "33aaa3ed",
   "metadata": {},
   "source": [
    "For Logistic Regression we select Random State - 218"
   ]
  },
  {
   "cell_type": "markdown",
   "id": "e709d7b8",
   "metadata": {},
   "source": [
    "# Lets check with KNN"
   ]
  },
  {
   "cell_type": "code",
   "execution_count": 149,
   "id": "39149a7b",
   "metadata": {},
   "outputs": [],
   "source": [
    "from sklearn.neighbors import KNeighborsClassifier\n",
    "knn=KNeighborsClassifier()"
   ]
  },
  {
   "cell_type": "code",
   "execution_count": 150,
   "id": "05c44900",
   "metadata": {},
   "outputs": [
    {
     "name": "stdout",
     "output_type": "stream",
     "text": [
      " At random state 0 , the testing accuracy is :- 0.842392163058935\n",
      " At random state 0 , the testing accuracy is :- 0.7808846761453396\n",
      "\n",
      "\n",
      " At random state 1 , the testing accuracy is :- 0.8444462000316005\n",
      " At random state 1 , the testing accuracy is :- 0.7755134281200632\n",
      "\n",
      "\n",
      " At random state 2 , the testing accuracy is :- 0.8416811502607047\n",
      " At random state 2 , the testing accuracy is :- 0.7774091627172196\n",
      "\n",
      "\n",
      " At random state 3 , the testing accuracy is :- 0.8416416495496919\n",
      " At random state 3 , the testing accuracy is :- 0.7802527646129542\n",
      "\n",
      "\n",
      " At random state 4 , the testing accuracy is :- 0.8404961289303208\n",
      " At random state 4 , the testing accuracy is :- 0.7789889415481832\n",
      "\n",
      "\n",
      " At random state 5 , the testing accuracy is :- 0.8420761573708326\n",
      " At random state 5 , the testing accuracy is :- 0.7766192733017377\n",
      "\n",
      "\n",
      " At random state 6 , the testing accuracy is :- 0.8412466424395639\n",
      " At random state 6 , the testing accuracy is :- 0.7785150078988942\n",
      "\n",
      "\n",
      " At random state 7 , the testing accuracy is :- 0.8423131616369095\n",
      " At random state 7 , the testing accuracy is :- 0.7835703001579779\n",
      "\n",
      "\n",
      " At random state 8 , the testing accuracy is :- 0.8408121346184231\n",
      " At random state 8 , the testing accuracy is :- 0.7804107424960506\n",
      "\n",
      "\n",
      " At random state 9 , the testing accuracy is :- 0.8403381260862696\n",
      " At random state 9 , the testing accuracy is :- 0.7815165876777251\n",
      "\n",
      "\n",
      " At random state 10 , the testing accuracy is :- 0.8434586822562806\n",
      " At random state 10 , the testing accuracy is :- 0.7767772511848341\n",
      "\n",
      "\n",
      " At random state 11 , the testing accuracy is :- 0.8441301943434982\n",
      " At random state 11 , the testing accuracy is :- 0.7789889415481832\n",
      "\n",
      "\n",
      " At random state 12 , the testing accuracy is :- 0.8414836467056407\n",
      " At random state 12 , the testing accuracy is :- 0.7802527646129542\n",
      "\n",
      "\n",
      " At random state 13 , the testing accuracy is :- 0.8443276978985622\n",
      " At random state 13 , the testing accuracy is :- 0.7677725118483413\n",
      "\n",
      "\n",
      " At random state 14 , the testing accuracy is :- 0.844564702164639\n",
      " At random state 14 , the testing accuracy is :- 0.7701421800947867\n",
      "\n",
      "\n",
      " At random state 15 , the testing accuracy is :- 0.8424711644809607\n",
      " At random state 15 , the testing accuracy is :- 0.7778830963665087\n",
      "\n",
      "\n",
      " At random state 16 , the testing accuracy is :- 0.8425501659029863\n",
      " At random state 16 , the testing accuracy is :- 0.7726698262243286\n",
      "\n",
      "\n",
      " At random state 17 , the testing accuracy is :- 0.8436561858113446\n",
      " At random state 17 , the testing accuracy is :- 0.7725118483412322\n",
      "\n",
      "\n",
      " At random state 18 , the testing accuracy is :- 0.842392163058935\n",
      " At random state 18 , the testing accuracy is :- 0.7799368088467614\n",
      "\n",
      "\n",
      " At random state 19 , the testing accuracy is :- 0.8449992099857797\n",
      " At random state 19 , the testing accuracy is :- 0.7764612954186414\n",
      "\n",
      "\n",
      " At random state 20 , the testing accuracy is :- 0.8417206509717174\n",
      " At random state 20 , the testing accuracy is :- 0.7786729857819905\n",
      "\n",
      "\n",
      " At random state 21 , the testing accuracy is :- 0.8414441459946279\n",
      " At random state 21 , the testing accuracy is :- 0.7800947867298578\n",
      "\n",
      "\n",
      " At random state 22 , the testing accuracy is :- 0.8423131616369095\n",
      " At random state 22 , the testing accuracy is :- 0.7772511848341233\n",
      "\n",
      "\n",
      " At random state 23 , the testing accuracy is :- 0.8428661715910887\n",
      " At random state 23 , the testing accuracy is :- 0.7766192733017377\n",
      "\n",
      "\n",
      " At random state 24 , the testing accuracy is :- 0.8425106651919735\n",
      " At random state 24 , the testing accuracy is :- 0.7737756714060031\n",
      "\n",
      "\n",
      " At random state 25 , the testing accuracy is :- 0.8446832042976774\n",
      " At random state 25 , the testing accuracy is :- 0.762085308056872\n",
      "\n",
      "\n",
      " At random state 26 , the testing accuracy is :- 0.8404961289303208\n",
      " At random state 26 , the testing accuracy is :- 0.7772511848341233\n",
      "\n",
      "\n",
      " At random state 27 , the testing accuracy is :- 0.8420366566598199\n",
      " At random state 27 , the testing accuracy is :- 0.7800947867298578\n",
      "\n",
      "\n",
      " At random state 28 , the testing accuracy is :- 0.8420761573708326\n",
      " At random state 28 , the testing accuracy is :- 0.7712480252764613\n",
      "\n",
      "\n",
      " At random state 29 , the testing accuracy is :- 0.8434981829672934\n",
      " At random state 29 , the testing accuracy is :- 0.7712480252764613\n",
      "\n",
      "\n",
      " At random state 30 , the testing accuracy is :- 0.8421156580818455\n",
      " At random state 30 , the testing accuracy is :- 0.782306477093207\n",
      "\n",
      "\n",
      " At random state 31 , the testing accuracy is :- 0.8431031758571654\n",
      " At random state 31 , the testing accuracy is :- 0.771563981042654\n",
      "\n",
      "\n",
      " At random state 32 , the testing accuracy is :- 0.8449597092747669\n",
      " At random state 32 , the testing accuracy is :- 0.7723538704581359\n",
      "\n",
      "\n",
      " At random state 33 , the testing accuracy is :- 0.8421156580818455\n",
      " At random state 33 , the testing accuracy is :- 0.7778830963665087\n",
      "\n",
      "\n",
      " At random state 34 , the testing accuracy is :- 0.8423526623479223\n",
      " At random state 34 , the testing accuracy is :- 0.7842022116903633\n",
      "\n",
      "\n",
      " At random state 35 , the testing accuracy is :- 0.8429056723021014\n",
      " At random state 35 , the testing accuracy is :- 0.7742496050552923\n",
      "\n",
      "\n",
      " At random state 36 , the testing accuracy is :- 0.8428266708800758\n",
      " At random state 36 , the testing accuracy is :- 0.7796208530805687\n",
      "\n",
      "\n",
      " At random state 37 , the testing accuracy is :- 0.8419181545267815\n",
      " At random state 37 , the testing accuracy is :- 0.7733017377567141\n",
      "\n",
      "\n",
      " At random state 38 , the testing accuracy is :- 0.8419576552377943\n",
      " At random state 38 , the testing accuracy is :- 0.7778830963665087\n",
      "\n",
      "\n",
      " At random state 39 , the testing accuracy is :- 0.8436956865223574\n",
      " At random state 39 , the testing accuracy is :- 0.7774091627172196\n",
      "\n",
      "\n",
      " At random state 40 , the testing accuracy is :- 0.8416811502607047\n",
      " At random state 40 , the testing accuracy is :- 0.7824644549763033\n",
      "\n",
      "\n",
      " At random state 41 , the testing accuracy is :- 0.8428661715910887\n",
      " At random state 41 , the testing accuracy is :- 0.7712480252764613\n",
      "\n",
      "\n",
      " At random state 42 , the testing accuracy is :- 0.8441301943434982\n",
      " At random state 42 , the testing accuracy is :- 0.7684044233807267\n",
      "\n",
      "\n",
      " At random state 43 , the testing accuracy is :- 0.8453152156738821\n",
      " At random state 43 , the testing accuracy is :- 0.7748815165876777\n",
      "\n",
      "\n",
      " At random state 44 , the testing accuracy is :- 0.8437351872333702\n",
      " At random state 44 , the testing accuracy is :- 0.7676145339652448\n",
      "\n",
      "\n",
      " At random state 45 , the testing accuracy is :- 0.8438536893664086\n",
      " At random state 45 , the testing accuracy is :- 0.7726698262243286\n",
      "\n",
      "\n",
      " At random state 46 , the testing accuracy is :- 0.843379680834255\n",
      " At random state 46 , the testing accuracy is :- 0.7744075829383886\n",
      "\n",
      "\n",
      " At random state 47 , the testing accuracy is :- 0.8446437035866645\n",
      " At random state 47 , the testing accuracy is :- 0.7750394944707741\n",
      "\n",
      "\n",
      " At random state 48 , the testing accuracy is :- 0.8446832042976774\n",
      " At random state 48 , the testing accuracy is :- 0.7767772511848341\n",
      "\n",
      "\n",
      " At random state 49 , the testing accuracy is :- 0.843972191499447\n",
      " At random state 49 , the testing accuracy is :- 0.7740916271721959\n",
      "\n",
      "\n",
      " At random state 50 , the testing accuracy is :- 0.8436561858113446\n",
      " At random state 50 , the testing accuracy is :- 0.7706161137440758\n",
      "\n",
      "\n",
      " At random state 51 , the testing accuracy is :- 0.842392163058935\n",
      " At random state 51 , the testing accuracy is :- 0.7849921011058452\n",
      "\n",
      "\n",
      " At random state 52 , the testing accuracy is :- 0.8442881971875493\n",
      " At random state 52 , the testing accuracy is :- 0.7695102685624012\n",
      "\n",
      "\n",
      " At random state 53 , the testing accuracy is :- 0.8418391531047559\n",
      " At random state 53 , the testing accuracy is :- 0.7739336492890996\n",
      "\n",
      "\n",
      " At random state 54 , the testing accuracy is :- 0.8432216779902039\n",
      " At random state 54 , the testing accuracy is :- 0.7826224328593997\n",
      "\n",
      "\n",
      " At random state 55 , the testing accuracy is :- 0.8456707220729973\n",
      " At random state 55 , the testing accuracy is :- 0.7726698262243286\n",
      "\n",
      "\n",
      " At random state 56 , the testing accuracy is :- 0.843182177279191\n",
      " At random state 56 , the testing accuracy is :- 0.7691943127962085\n",
      "\n",
      "\n",
      " At random state 57 , the testing accuracy is :- 0.8442091957655238\n",
      " At random state 57 , the testing accuracy is :- 0.7737756714060031\n",
      "\n",
      "\n",
      " At random state 58 , the testing accuracy is :- 0.842589666613999\n",
      " At random state 58 , the testing accuracy is :- 0.778041074249605\n",
      "\n",
      "\n",
      " At random state 59 , the testing accuracy is :- 0.8417206509717174\n",
      " At random state 59 , the testing accuracy is :- 0.7818325434439178\n",
      "\n",
      "\n",
      " At random state 60 , the testing accuracy is :- 0.8430241744351399\n",
      " At random state 60 , the testing accuracy is :- 0.7733017377567141\n",
      "\n",
      "\n",
      " At random state 61 , the testing accuracy is :- 0.8417601516827303\n",
      " At random state 61 , the testing accuracy is :- 0.7791469194312797\n",
      "\n",
      "\n",
      " At random state 62 , the testing accuracy is :- 0.8435771843893191\n",
      " At random state 62 , the testing accuracy is :- 0.7720379146919432\n",
      "\n",
      "\n",
      " At random state 63 , the testing accuracy is :- 0.8420366566598199\n",
      " At random state 63 , the testing accuracy is :- 0.769826224328594\n",
      "\n",
      "\n",
      " At random state 64 , the testing accuracy is :- 0.8419971559488071\n",
      " At random state 64 , the testing accuracy is :- 0.7748815165876777\n",
      "\n",
      "\n",
      " At random state 65 , the testing accuracy is :- 0.8413256438615895\n",
      " At random state 65 , the testing accuracy is :- 0.7772511848341233\n",
      "\n",
      "\n",
      " At random state 66 , the testing accuracy is :- 0.8420366566598199\n",
      " At random state 66 , the testing accuracy is :- 0.7695102685624012\n",
      "\n",
      "\n",
      " At random state 67 , the testing accuracy is :- 0.8419576552377943\n",
      " At random state 67 , the testing accuracy is :- 0.781042654028436\n",
      "\n",
      "\n",
      " At random state 68 , the testing accuracy is :- 0.843774687944383\n",
      " At random state 68 , the testing accuracy is :- 0.7728278041074249\n",
      "\n",
      "\n",
      " At random state 69 , the testing accuracy is :- 0.8429451730131142\n",
      " At random state 69 , the testing accuracy is :- 0.7723538704581359\n",
      "\n",
      "\n",
      " At random state 70 , the testing accuracy is :- 0.8431031758571654\n",
      " At random state 70 , the testing accuracy is :- 0.7764612954186414\n",
      "\n",
      "\n",
      " At random state 71 , the testing accuracy is :- 0.8433006794122294\n",
      " At random state 71 , the testing accuracy is :- 0.771563981042654\n",
      "\n",
      "\n",
      " At random state 72 , the testing accuracy is :- 0.842787170169063\n",
      " At random state 72 , the testing accuracy is :- 0.782306477093207\n",
      "\n",
      "\n",
      " At random state 73 , the testing accuracy is :- 0.8425501659029863\n",
      " At random state 73 , the testing accuracy is :- 0.7726698262243286\n",
      "\n",
      "\n",
      " At random state 74 , the testing accuracy is :- 0.8434981829672934\n",
      " At random state 74 , the testing accuracy is :- 0.7751974723538705\n",
      "\n",
      "\n",
      " At random state 75 , the testing accuracy is :- 0.8408121346184231\n",
      " At random state 75 , the testing accuracy is :- 0.7786729857819905\n",
      "\n",
      "\n",
      " At random state 76 , the testing accuracy is :- 0.8417206509717174\n",
      " At random state 76 , the testing accuracy is :- 0.7791469194312797\n",
      "\n",
      "\n",
      " At random state 77 , the testing accuracy is :- 0.842589666613999\n",
      " At random state 77 , the testing accuracy is :- 0.7807266982622433\n",
      "\n",
      "\n",
      " At random state 78 , the testing accuracy is :- 0.8429451730131142\n",
      " At random state 78 , the testing accuracy is :- 0.7728278041074249\n",
      "\n",
      "\n",
      " At random state 79 , the testing accuracy is :- 0.8435376836783062\n",
      " At random state 79 , the testing accuracy is :- 0.7751974723538705\n",
      "\n",
      "\n",
      " At random state 80 , the testing accuracy is :- 0.8422341602148838\n",
      " At random state 80 , the testing accuracy is :- 0.778041074249605\n",
      "\n",
      "\n",
      " At random state 81 , the testing accuracy is :- 0.8426291673250118\n",
      " At random state 81 , the testing accuracy is :- 0.7770932069510269\n",
      "\n",
      "\n",
      " At random state 82 , the testing accuracy is :- 0.8416811502607047\n",
      " At random state 82 , the testing accuracy is :- 0.7829383886255924\n",
      "\n",
      "\n",
      " At random state 83 , the testing accuracy is :- 0.8397851161320904\n",
      " At random state 83 , the testing accuracy is :- 0.7832543443917851\n",
      "\n",
      "\n",
      " At random state 84 , the testing accuracy is :- 0.8418391531047559\n",
      " At random state 84 , the testing accuracy is :- 0.7781990521327015\n",
      "\n",
      "\n",
      " At random state 85 , the testing accuracy is :- 0.8416416495496919\n",
      " At random state 85 , the testing accuracy is :- 0.7785150078988942\n",
      "\n",
      "\n",
      " At random state 86 , the testing accuracy is :- 0.8424316637699478\n",
      " At random state 86 , the testing accuracy is :- 0.7774091627172196\n",
      "\n",
      "\n",
      " At random state 87 , the testing accuracy is :- 0.8411281403065255\n",
      " At random state 87 , the testing accuracy is :- 0.7821484992101105\n",
      "\n",
      "\n",
      " At random state 88 , the testing accuracy is :- 0.8436561858113446\n",
      " At random state 88 , the testing accuracy is :- 0.7777251184834123\n",
      "\n",
      "\n",
      " At random state 89 , the testing accuracy is :- 0.8439326907884341\n",
      " At random state 89 , the testing accuracy is :- 0.771090047393365\n",
      "\n",
      "\n",
      " At random state 90 , the testing accuracy is :- 0.842787170169063\n",
      " At random state 90 , the testing accuracy is :- 0.7699842022116904\n",
      "\n",
      "\n",
      " At random state 91 , the testing accuracy is :- 0.8455917206509718\n",
      " At random state 91 , the testing accuracy is :- 0.7714060031595577\n",
      "\n",
      "\n",
      " At random state 92 , the testing accuracy is :- 0.8419181545267815\n",
      " At random state 92 , the testing accuracy is :- 0.7783570300157978\n",
      "\n",
      "\n",
      " At random state 93 , the testing accuracy is :- 0.844367198609575\n",
      " At random state 93 , the testing accuracy is :- 0.771090047393365\n",
      "\n",
      "\n",
      " At random state 94 , the testing accuracy is :- 0.840851635329436\n",
      " At random state 94 , the testing accuracy is :- 0.7838862559241706\n",
      "\n",
      "\n",
      " At random state 95 , the testing accuracy is :- 0.83907410333386\n",
      " At random state 95 , the testing accuracy is :- 0.782780410742496\n",
      "\n",
      "\n",
      " At random state 96 , the testing accuracy is :- 0.8446437035866645\n",
      " At random state 96 , the testing accuracy is :- 0.768562401263823\n",
      "\n",
      "\n",
      " At random state 97 , the testing accuracy is :- 0.8437351872333702\n",
      " At random state 97 , the testing accuracy is :- 0.7684044233807267\n",
      "\n",
      "\n",
      " At random state 98 , the testing accuracy is :- 0.8432611787012166\n",
      " At random state 98 , the testing accuracy is :- 0.7769352290679304\n",
      "\n",
      "\n",
      " At random state 99 , the testing accuracy is :- 0.8417996523937431\n",
      " At random state 99 , the testing accuracy is :- 0.7747235387045813\n",
      "\n",
      "\n"
     ]
    }
   ],
   "source": [
    "for i in range(0,100):\n",
    "    x_train,x_test,y_train,y_test=train_test_split(x,y,test_size=0.2,random_state=i)\n",
    "    knn.fit(x_train,y_train)\n",
    "    x_pred=knn.predict(x_train)\n",
    "    y_pred=knn.predict(x_test)\n",
    "    print(f\" At random state {i} , the testing accuracy is :- {accuracy_score(y_train,x_pred)}\")\n",
    "    print(f\" At random state {i} , the testing accuracy is :- {accuracy_score(y_test,y_pred)}\")\n",
    "    print(\"\\n\")"
   ]
  },
  {
   "cell_type": "markdown",
   "id": "457a0093",
   "metadata": {},
   "source": [
    "For KNN we select Random State - 97"
   ]
  },
  {
   "cell_type": "code",
   "execution_count": 151,
   "id": "eab22bb5",
   "metadata": {},
   "outputs": [],
   "source": [
    "x_train,x_test,y_train,y_test=train_test_split(x,y,test_size=0.2,random_state=97)"
   ]
  },
  {
   "cell_type": "code",
   "execution_count": 152,
   "id": "08fa749d",
   "metadata": {},
   "outputs": [
    {
     "data": {
      "text/html": [
       "<style>#sk-container-id-6 {color: black;background-color: white;}#sk-container-id-6 pre{padding: 0;}#sk-container-id-6 div.sk-toggleable {background-color: white;}#sk-container-id-6 label.sk-toggleable__label {cursor: pointer;display: block;width: 100%;margin-bottom: 0;padding: 0.3em;box-sizing: border-box;text-align: center;}#sk-container-id-6 label.sk-toggleable__label-arrow:before {content: \"▸\";float: left;margin-right: 0.25em;color: #696969;}#sk-container-id-6 label.sk-toggleable__label-arrow:hover:before {color: black;}#sk-container-id-6 div.sk-estimator:hover label.sk-toggleable__label-arrow:before {color: black;}#sk-container-id-6 div.sk-toggleable__content {max-height: 0;max-width: 0;overflow: hidden;text-align: left;background-color: #f0f8ff;}#sk-container-id-6 div.sk-toggleable__content pre {margin: 0.2em;color: black;border-radius: 0.25em;background-color: #f0f8ff;}#sk-container-id-6 input.sk-toggleable__control:checked~div.sk-toggleable__content {max-height: 200px;max-width: 100%;overflow: auto;}#sk-container-id-6 input.sk-toggleable__control:checked~label.sk-toggleable__label-arrow:before {content: \"▾\";}#sk-container-id-6 div.sk-estimator input.sk-toggleable__control:checked~label.sk-toggleable__label {background-color: #d4ebff;}#sk-container-id-6 div.sk-label input.sk-toggleable__control:checked~label.sk-toggleable__label {background-color: #d4ebff;}#sk-container-id-6 input.sk-hidden--visually {border: 0;clip: rect(1px 1px 1px 1px);clip: rect(1px, 1px, 1px, 1px);height: 1px;margin: -1px;overflow: hidden;padding: 0;position: absolute;width: 1px;}#sk-container-id-6 div.sk-estimator {font-family: monospace;background-color: #f0f8ff;border: 1px dotted black;border-radius: 0.25em;box-sizing: border-box;margin-bottom: 0.5em;}#sk-container-id-6 div.sk-estimator:hover {background-color: #d4ebff;}#sk-container-id-6 div.sk-parallel-item::after {content: \"\";width: 100%;border-bottom: 1px solid gray;flex-grow: 1;}#sk-container-id-6 div.sk-label:hover label.sk-toggleable__label {background-color: #d4ebff;}#sk-container-id-6 div.sk-serial::before {content: \"\";position: absolute;border-left: 1px solid gray;box-sizing: border-box;top: 0;bottom: 0;left: 50%;z-index: 0;}#sk-container-id-6 div.sk-serial {display: flex;flex-direction: column;align-items: center;background-color: white;padding-right: 0.2em;padding-left: 0.2em;position: relative;}#sk-container-id-6 div.sk-item {position: relative;z-index: 1;}#sk-container-id-6 div.sk-parallel {display: flex;align-items: stretch;justify-content: center;background-color: white;position: relative;}#sk-container-id-6 div.sk-item::before, #sk-container-id-6 div.sk-parallel-item::before {content: \"\";position: absolute;border-left: 1px solid gray;box-sizing: border-box;top: 0;bottom: 0;left: 50%;z-index: -1;}#sk-container-id-6 div.sk-parallel-item {display: flex;flex-direction: column;z-index: 1;position: relative;background-color: white;}#sk-container-id-6 div.sk-parallel-item:first-child::after {align-self: flex-end;width: 50%;}#sk-container-id-6 div.sk-parallel-item:last-child::after {align-self: flex-start;width: 50%;}#sk-container-id-6 div.sk-parallel-item:only-child::after {width: 0;}#sk-container-id-6 div.sk-dashed-wrapped {border: 1px dashed gray;margin: 0 0.4em 0.5em 0.4em;box-sizing: border-box;padding-bottom: 0.4em;background-color: white;}#sk-container-id-6 div.sk-label label {font-family: monospace;font-weight: bold;display: inline-block;line-height: 1.2em;}#sk-container-id-6 div.sk-label-container {text-align: center;}#sk-container-id-6 div.sk-container {/* jupyter's `normalize.less` sets `[hidden] { display: none; }` but bootstrap.min.css set `[hidden] { display: none !important; }` so we also need the `!important` here to be able to override the default hidden behavior on the sphinx rendered scikit-learn.org. See: https://github.com/scikit-learn/scikit-learn/issues/21755 */display: inline-block !important;position: relative;}#sk-container-id-6 div.sk-text-repr-fallback {display: none;}</style><div id=\"sk-container-id-6\" class=\"sk-top-container\"><div class=\"sk-text-repr-fallback\"><pre>KNeighborsClassifier()</pre><b>In a Jupyter environment, please rerun this cell to show the HTML representation or trust the notebook. <br />On GitHub, the HTML representation is unable to render, please try loading this page with nbviewer.org.</b></div><div class=\"sk-container\" hidden><div class=\"sk-item\"><div class=\"sk-estimator sk-toggleable\"><input class=\"sk-toggleable__control sk-hidden--visually\" id=\"sk-estimator-id-8\" type=\"checkbox\" checked><label for=\"sk-estimator-id-8\" class=\"sk-toggleable__label sk-toggleable__label-arrow\">KNeighborsClassifier</label><div class=\"sk-toggleable__content\"><pre>KNeighborsClassifier()</pre></div></div></div></div></div>"
      ],
      "text/plain": [
       "KNeighborsClassifier()"
      ]
     },
     "execution_count": 152,
     "metadata": {},
     "output_type": "execute_result"
    }
   ],
   "source": [
    "knn.fit(x_train,y_train)"
   ]
  },
  {
   "cell_type": "code",
   "execution_count": 153,
   "id": "d550315b",
   "metadata": {},
   "outputs": [
    {
     "data": {
      "text/plain": [
       "0.8437351872333702"
      ]
     },
     "execution_count": 153,
     "metadata": {},
     "output_type": "execute_result"
    }
   ],
   "source": [
    "knn.score(x_train,y_train)#Training Score"
   ]
  },
  {
   "cell_type": "code",
   "execution_count": 154,
   "id": "1b3630e5",
   "metadata": {},
   "outputs": [
    {
     "data": {
      "text/plain": [
       "0.7684044233807267"
      ]
     },
     "execution_count": 154,
     "metadata": {},
     "output_type": "execute_result"
    }
   ],
   "source": [
    "knn.score(x_test,y_test)#Testing Score"
   ]
  },
  {
   "cell_type": "markdown",
   "id": "d1b30394",
   "metadata": {},
   "source": [
    "# Lets check with AdaBoostClassifier"
   ]
  },
  {
   "cell_type": "code",
   "execution_count": 155,
   "id": "09cc319a",
   "metadata": {},
   "outputs": [],
   "source": [
    "from sklearn.ensemble import AdaBoostClassifier"
   ]
  },
  {
   "cell_type": "code",
   "execution_count": 156,
   "id": "c23d3bba",
   "metadata": {},
   "outputs": [],
   "source": [
    "ada = AdaBoostClassifier()"
   ]
  },
  {
   "cell_type": "code",
   "execution_count": 157,
   "id": "8fea9f6c",
   "metadata": {},
   "outputs": [
    {
     "name": "stdout",
     "output_type": "stream",
     "text": [
      " At random state 0 , the testing accuracy is :- 0.8616290093221678\n",
      " At random state 0 , the testing accuracy is :- 0.8617693522906793\n",
      "\n",
      "\n",
      " At random state 1 , the testing accuracy is :- 0.861984515721283\n",
      " At random state 1 , the testing accuracy is :- 0.8546603475513428\n",
      "\n",
      "\n",
      " At random state 2 , the testing accuracy is :- 0.8606809922578607\n",
      " At random state 2 , the testing accuracy is :- 0.8595576619273302\n",
      "\n",
      "\n",
      " At random state 3 , the testing accuracy is :- 0.8609969979459631\n",
      " At random state 3 , the testing accuracy is :- 0.859083728278041\n",
      "\n",
      "\n",
      " At random state 4 , the testing accuracy is :- 0.8615500079001422\n",
      " At random state 4 , the testing accuracy is :- 0.8609794628751974\n",
      "\n",
      "\n",
      " At random state 5 , the testing accuracy is :- 0.8600489808816558\n",
      " At random state 5 , the testing accuracy is :- 0.8608214849921011\n",
      "\n",
      "\n",
      " At random state 6 , the testing accuracy is :- 0.8595354716384895\n",
      " At random state 6 , the testing accuracy is :- 0.8666666666666667\n",
      "\n",
      "\n",
      " At random state 7 , the testing accuracy is :- 0.8592589666613999\n",
      " At random state 7 , the testing accuracy is :- 0.8649289099526066\n",
      "\n",
      "\n",
      " At random state 8 , the testing accuracy is :- 0.862379522831411\n",
      " At random state 8 , the testing accuracy is :- 0.8575039494470774\n",
      "\n",
      "\n",
      " At random state 9 , the testing accuracy is :- 0.8591799652393743\n",
      " At random state 9 , the testing accuracy is :- 0.8631911532385466\n",
      "\n",
      "\n",
      " At random state 10 , the testing accuracy is :- 0.8597724759045663\n",
      " At random state 10 , the testing accuracy is :- 0.862085308056872\n",
      "\n",
      "\n",
      " At random state 11 , the testing accuracy is :- 0.8609969979459631\n",
      " At random state 11 , the testing accuracy is :- 0.8571879936808847\n",
      "\n",
      "\n",
      " At random state 12 , the testing accuracy is :- 0.8582319481750672\n",
      " At random state 12 , the testing accuracy is :- 0.8609794628751974\n",
      "\n",
      "\n",
      " At random state 13 , the testing accuracy is :- 0.8619450150102702\n",
      " At random state 13 , the testing accuracy is :- 0.8597156398104265\n",
      "\n",
      "\n",
      " At random state 14 , the testing accuracy is :- 0.8625770263864749\n",
      " At random state 14 , the testing accuracy is :- 0.8598736176935229\n",
      "\n",
      "\n",
      " At random state 15 , the testing accuracy is :- 0.8579949439089903\n",
      " At random state 15 , the testing accuracy is :- 0.8635071090047394\n",
      "\n",
      "\n",
      " At random state 16 , the testing accuracy is :- 0.8605229894138094\n",
      " At random state 16 , the testing accuracy is :- 0.8563981042654029\n",
      "\n",
      "\n",
      " At random state 17 , the testing accuracy is :- 0.8636435455838205\n",
      " At random state 17 , the testing accuracy is :- 0.8507109004739336\n",
      "\n",
      "\n",
      " At random state 18 , the testing accuracy is :- 0.8601674830146943\n",
      " At random state 18 , the testing accuracy is :- 0.8641390205371248\n",
      "\n",
      "\n",
      " At random state 19 , the testing accuracy is :- 0.8612340022120398\n",
      " At random state 19 , the testing accuracy is :- 0.855608214849921\n",
      "\n",
      "\n",
      " At random state 20 , the testing accuracy is :- 0.858468952441144\n",
      " At random state 20 , the testing accuracy is :- 0.8703001579778831\n",
      "\n",
      "\n",
      " At random state 21 , the testing accuracy is :- 0.8643940590930637\n",
      " At random state 21 , the testing accuracy is :- 0.8565560821484992\n",
      "\n",
      "\n",
      " At random state 22 , the testing accuracy is :- 0.8607204929688734\n",
      " At random state 22 , the testing accuracy is :- 0.8601895734597157\n",
      "\n",
      "\n",
      " At random state 23 , the testing accuracy is :- 0.8600884815926687\n",
      " At random state 23 , the testing accuracy is :- 0.8631911532385466\n",
      "\n",
      "\n",
      " At random state 24 , the testing accuracy is :- 0.8624585242534366\n",
      " At random state 24 , the testing accuracy is :- 0.8584518167456556\n",
      "\n",
      "\n",
      " At random state 25 , the testing accuracy is :- 0.861589508611155\n",
      " At random state 25 , the testing accuracy is :- 0.8563981042654029\n",
      "\n",
      "\n",
      " At random state 26 , the testing accuracy is :- 0.8595749723495023\n",
      " At random state 26 , the testing accuracy is :- 0.8644549763033176\n",
      "\n",
      "\n",
      " At random state 27 , the testing accuracy is :- 0.8598909780376047\n",
      " At random state 27 , the testing accuracy is :- 0.8617693522906793\n",
      "\n",
      "\n",
      " At random state 28 , the testing accuracy is :- 0.8600884815926687\n",
      " At random state 28 , the testing accuracy is :- 0.8601895734597157\n",
      "\n",
      "\n",
      " At random state 29 , the testing accuracy is :- 0.861787012166219\n",
      " At random state 29 , the testing accuracy is :- 0.8614533965244866\n",
      "\n",
      "\n",
      " At random state 30 , the testing accuracy is :- 0.8596539737715279\n",
      " At random state 30 , the testing accuracy is :- 0.863349131121643\n",
      "\n",
      "\n",
      " At random state 31 , the testing accuracy is :- 0.8609574972349502\n",
      " At random state 31 , the testing accuracy is :- 0.8652448657187993\n",
      "\n",
      "\n",
      " At random state 32 , the testing accuracy is :- 0.862182019276347\n",
      " At random state 32 , the testing accuracy is :- 0.8608214849921011\n",
      "\n",
      "\n",
      " At random state 33 , the testing accuracy is :- 0.8612735029230526\n",
      " At random state 33 , the testing accuracy is :- 0.8619273301737757\n",
      "\n",
      "\n",
      " At random state 34 , the testing accuracy is :- 0.8602859851477327\n",
      " At random state 34 , the testing accuracy is :- 0.8608214849921011\n",
      "\n",
      "\n",
      " At random state 35 , the testing accuracy is :- 0.8609969979459631\n",
      " At random state 35 , the testing accuracy is :- 0.8608214849921011\n",
      "\n",
      "\n",
      " At random state 36 , the testing accuracy is :- 0.862182019276347\n",
      " At random state 36 , the testing accuracy is :- 0.8575039494470774\n",
      "\n",
      "\n",
      " At random state 37 , the testing accuracy is :- 0.8602464844367199\n",
      " At random state 37 , the testing accuracy is :- 0.8627172195892575\n",
      "\n",
      "\n",
      " At random state 38 , the testing accuracy is :- 0.8603254858587455\n",
      " At random state 38 , the testing accuracy is :- 0.8595576619273302\n",
      "\n",
      "\n",
      " At random state 39 , the testing accuracy is :- 0.860601990835835\n",
      " At random state 39 , the testing accuracy is :- 0.8635071090047394\n",
      "\n",
      "\n",
      " At random state 40 , the testing accuracy is :- 0.8626165270974877\n",
      " At random state 40 , the testing accuracy is :- 0.8530805687203792\n",
      "\n",
      "\n",
      " At random state 41 , the testing accuracy is :- 0.863722547005846\n",
      " At random state 41 , the testing accuracy is :- 0.8502369668246446\n",
      "\n",
      "\n",
      " At random state 42 , the testing accuracy is :- 0.861194501501027\n",
      " At random state 42 , the testing accuracy is :- 0.8605055292259084\n",
      "\n",
      "\n",
      " At random state 43 , the testing accuracy is :- 0.860009480170643\n",
      " At random state 43 , the testing accuracy is :- 0.8601895734597157\n",
      "\n",
      "\n",
      " At random state 44 , the testing accuracy is :- 0.8609574972349502\n",
      " At random state 44 , the testing accuracy is :- 0.8563981042654029\n",
      "\n",
      "\n",
      " At random state 45 , the testing accuracy is :- 0.861589508611155\n",
      " At random state 45 , the testing accuracy is :- 0.8571879936808847\n",
      "\n",
      "\n",
      " At random state 46 , the testing accuracy is :- 0.8623005214093854\n",
      " At random state 46 , the testing accuracy is :- 0.8617693522906793\n",
      "\n",
      "\n",
      " At random state 47 , the testing accuracy is :- 0.8596539737715279\n",
      " At random state 47 , the testing accuracy is :- 0.8573459715639811\n",
      "\n",
      "\n",
      " At random state 48 , the testing accuracy is :- 0.8633275398957181\n",
      " At random state 48 , the testing accuracy is :- 0.8511848341232228\n",
      "\n",
      "\n",
      " At random state 49 , the testing accuracy is :- 0.8606414915468479\n",
      " At random state 49 , the testing accuracy is :- 0.8619273301737757\n",
      "\n",
      "\n",
      " At random state 50 , the testing accuracy is :- 0.8615500079001422\n",
      " At random state 50 , the testing accuracy is :- 0.8554502369668247\n",
      "\n",
      "\n",
      " At random state 51 , the testing accuracy is :- 0.8613130036340654\n",
      " At random state 51 , the testing accuracy is :- 0.8598736176935229\n",
      "\n",
      "\n",
      " At random state 52 , the testing accuracy is :- 0.8615500079001422\n",
      " At random state 52 , the testing accuracy is :- 0.8546603475513428\n",
      "\n",
      "\n",
      " At random state 53 , the testing accuracy is :- 0.8594169695054511\n",
      " At random state 53 , the testing accuracy is :- 0.8663507109004739\n",
      "\n",
      "\n",
      " At random state 54 , the testing accuracy is :- 0.8602859851477327\n",
      " At random state 54 , the testing accuracy is :- 0.8608214849921011\n",
      "\n",
      "\n",
      " At random state 55 , the testing accuracy is :- 0.861984515721283\n",
      " At random state 55 , the testing accuracy is :- 0.8606635071090047\n",
      "\n",
      "\n",
      " At random state 56 , the testing accuracy is :- 0.8634855427397693\n",
      " At random state 56 , the testing accuracy is :- 0.8614533965244866\n",
      "\n",
      "\n",
      " At random state 57 , the testing accuracy is :- 0.8638410491388845\n",
      " At random state 57 , the testing accuracy is :- 0.8560821484992102\n",
      "\n",
      "\n",
      " At random state 58 , the testing accuracy is :- 0.8604834887027967\n",
      " At random state 58 , the testing accuracy is :- 0.8614533965244866\n",
      "\n",
      "\n",
      " At random state 59 , the testing accuracy is :- 0.860009480170643\n",
      " At random state 59 , the testing accuracy is :- 0.8679304897314376\n",
      "\n",
      "\n",
      " At random state 60 , the testing accuracy is :- 0.863564544161795\n",
      " At random state 60 , the testing accuracy is :- 0.855608214849921\n",
      "\n",
      "\n",
      " At random state 61 , the testing accuracy is :- 0.8616685100331806\n",
      " At random state 61 , the testing accuracy is :- 0.858609794628752\n",
      "\n",
      "\n",
      " At random state 62 , the testing accuracy is :- 0.8630905356296413\n",
      " At random state 62 , the testing accuracy is :- 0.8578199052132701\n",
      "\n",
      "\n",
      " At random state 63 , the testing accuracy is :- 0.8615500079001422\n",
      " At random state 63 , the testing accuracy is :- 0.8548183254344391\n",
      "\n",
      "\n",
      " At random state 64 , the testing accuracy is :- 0.863722547005846\n",
      " At random state 64 , the testing accuracy is :- 0.855134281200632\n",
      "\n",
      "\n",
      " At random state 65 , the testing accuracy is :- 0.8602859851477327\n",
      " At random state 65 , the testing accuracy is :- 0.8598736176935229\n",
      "\n",
      "\n",
      " At random state 66 , the testing accuracy is :- 0.8633275398957181\n",
      " At random state 66 , the testing accuracy is :- 0.8617693522906793\n",
      "\n",
      "\n",
      " At random state 67 , the testing accuracy is :- 0.8593774687944383\n",
      " At random state 67 , the testing accuracy is :- 0.8598736176935229\n",
      "\n",
      "\n",
      " At random state 68 , the testing accuracy is :- 0.8609574972349502\n",
      " At random state 68 , the testing accuracy is :- 0.8606635071090047\n",
      "\n",
      "\n",
      " At random state 69 , the testing accuracy is :- 0.862379522831411\n",
      " At random state 69 , the testing accuracy is :- 0.8563981042654029\n",
      "\n",
      "\n",
      " At random state 70 , the testing accuracy is :- 0.8632090377626798\n",
      " At random state 70 , the testing accuracy is :- 0.8581358609794629\n",
      "\n",
      "\n",
      " At random state 71 , the testing accuracy is :- 0.8594564702164639\n",
      " At random state 71 , the testing accuracy is :- 0.8644549763033176\n",
      "\n",
      "\n",
      " At random state 72 , the testing accuracy is :- 0.8611155000790014\n",
      " At random state 72 , the testing accuracy is :- 0.8582938388625593\n",
      "\n",
      "\n",
      " At random state 73 , the testing accuracy is :- 0.8617475114552062\n",
      " At random state 73 , the testing accuracy is :- 0.8570300157977883\n",
      "\n",
      "\n",
      " At random state 74 , the testing accuracy is :- 0.8609969979459631\n",
      " At random state 74 , the testing accuracy is :- 0.863349131121643\n",
      "\n",
      "\n",
      " At random state 75 , the testing accuracy is :- 0.8592984673724127\n",
      " At random state 75 , the testing accuracy is :- 0.8597156398104265\n",
      "\n",
      "\n",
      " At random state 76 , the testing accuracy is :- 0.8607599936798862\n",
      " At random state 76 , the testing accuracy is :- 0.8601895734597157\n",
      "\n",
      "\n",
      " At random state 77 , the testing accuracy is :- 0.8596539737715279\n",
      " At random state 77 , the testing accuracy is :- 0.8665086887835703\n",
      "\n",
      "\n",
      " At random state 78 , the testing accuracy is :- 0.8608389951019119\n",
      " At random state 78 , the testing accuracy is :- 0.8600315955766192\n",
      "\n",
      "\n",
      " At random state 79 , the testing accuracy is :- 0.863367040606731\n",
      " At random state 79 , the testing accuracy is :- 0.8513428120063191\n",
      "\n",
      "\n",
      " At random state 80 , the testing accuracy is :- 0.8623400221203982\n",
      " At random state 80 , the testing accuracy is :- 0.8595576619273302\n",
      "\n",
      "\n",
      " At random state 81 , the testing accuracy is :- 0.8600884815926687\n",
      " At random state 81 , the testing accuracy is :- 0.859083728278041\n",
      "\n",
      "\n",
      " At random state 82 , the testing accuracy is :- 0.8616290093221678\n",
      " At random state 82 , the testing accuracy is :- 0.8619273301737757\n",
      "\n",
      "\n",
      " At random state 83 , the testing accuracy is :- 0.8607204929688734\n",
      " At random state 83 , the testing accuracy is :- 0.8589257503949447\n",
      "\n",
      "\n",
      " At random state 84 , the testing accuracy is :- 0.8604834887027967\n",
      " At random state 84 , the testing accuracy is :- 0.8665086887835703\n",
      "\n",
      "\n",
      " At random state 85 , the testing accuracy is :- 0.8617080107441933\n",
      " At random state 85 , the testing accuracy is :- 0.8639810426540284\n",
      "\n",
      "\n",
      " At random state 86 , the testing accuracy is :- 0.8625375256754622\n",
      " At random state 86 , the testing accuracy is :- 0.858609794628752\n",
      "\n",
      "\n",
      " At random state 87 , the testing accuracy is :- 0.8617080107441933\n",
      " At random state 87 , the testing accuracy is :- 0.8576619273301738\n",
      "\n",
      "\n",
      " At random state 88 , the testing accuracy is :- 0.860206983725707\n",
      " At random state 88 , the testing accuracy is :- 0.865086887835703\n",
      "\n",
      "\n",
      " At random state 89 , the testing accuracy is :- 0.860009480170643\n",
      " At random state 89 , the testing accuracy is :- 0.8605055292259084\n",
      "\n",
      "\n",
      " At random state 90 , the testing accuracy is :- 0.861589508611155\n",
      " At random state 90 , the testing accuracy is :- 0.8612954186413903\n",
      "\n",
      "\n",
      " At random state 91 , the testing accuracy is :- 0.8622610206983725\n",
      " At random state 91 , the testing accuracy is :- 0.8545023696682464\n",
      "\n",
      "\n",
      " At random state 92 , the testing accuracy is :- 0.8614315057671038\n",
      " At random state 92 , the testing accuracy is :- 0.8639810426540284\n",
      "\n",
      "\n",
      " At random state 93 , the testing accuracy is :- 0.8612340022120398\n",
      " At random state 93 , the testing accuracy is :- 0.861611374407583\n",
      "\n",
      "\n",
      " At random state 94 , the testing accuracy is :- 0.8602859851477327\n",
      " At random state 94 , the testing accuracy is :- 0.862085308056872\n",
      "\n",
      "\n",
      " At random state 95 , the testing accuracy is :- 0.8610364986569758\n",
      " At random state 95 , the testing accuracy is :- 0.8601895734597157\n",
      "\n",
      "\n",
      " At random state 96 , the testing accuracy is :- 0.8603649865697582\n",
      " At random state 96 , the testing accuracy is :- 0.862085308056872\n",
      "\n",
      "\n",
      " At random state 97 , the testing accuracy is :- 0.8611550007900142\n",
      " At random state 97 , the testing accuracy is :- 0.8515007898894155\n",
      "\n",
      "\n",
      " At random state 98 , the testing accuracy is :- 0.8615105071891294\n",
      " At random state 98 , the testing accuracy is :- 0.8628751974723539\n",
      "\n",
      "\n",
      " At random state 99 , the testing accuracy is :- 0.8616290093221678\n",
      " At random state 99 , the testing accuracy is :- 0.8538704581358609\n",
      "\n",
      "\n"
     ]
    }
   ],
   "source": [
    "for i in range(0,100):\n",
    "    x_train,x_test,y_train,y_test=train_test_split(x,y,test_size=0.2,random_state=i)\n",
    "    ada.fit(x_train,y_train)\n",
    "    x_pred=ada.predict(x_train)\n",
    "    y_pred=ada.predict(x_test)\n",
    "    print(f\" At random state {i} , the testing accuracy is :- {accuracy_score(y_train,x_pred)}\")\n",
    "    print(f\" At random state {i} , the testing accuracy is :- {accuracy_score(y_test,y_pred)}\")\n",
    "    print(\"\\n\")"
   ]
  },
  {
   "cell_type": "markdown",
   "id": "61dc4cae",
   "metadata": {},
   "source": [
    "For AdaBoostClassifier we select Random State - 4"
   ]
  },
  {
   "cell_type": "code",
   "execution_count": 158,
   "id": "d319a33f",
   "metadata": {},
   "outputs": [],
   "source": [
    "x_train,x_test,y_train,y_test=train_test_split(x,y,test_size=0.2,random_state=4)"
   ]
  },
  {
   "cell_type": "code",
   "execution_count": 159,
   "id": "8b44eff0",
   "metadata": {},
   "outputs": [
    {
     "data": {
      "text/html": [
       "<style>#sk-container-id-7 {color: black;background-color: white;}#sk-container-id-7 pre{padding: 0;}#sk-container-id-7 div.sk-toggleable {background-color: white;}#sk-container-id-7 label.sk-toggleable__label {cursor: pointer;display: block;width: 100%;margin-bottom: 0;padding: 0.3em;box-sizing: border-box;text-align: center;}#sk-container-id-7 label.sk-toggleable__label-arrow:before {content: \"▸\";float: left;margin-right: 0.25em;color: #696969;}#sk-container-id-7 label.sk-toggleable__label-arrow:hover:before {color: black;}#sk-container-id-7 div.sk-estimator:hover label.sk-toggleable__label-arrow:before {color: black;}#sk-container-id-7 div.sk-toggleable__content {max-height: 0;max-width: 0;overflow: hidden;text-align: left;background-color: #f0f8ff;}#sk-container-id-7 div.sk-toggleable__content pre {margin: 0.2em;color: black;border-radius: 0.25em;background-color: #f0f8ff;}#sk-container-id-7 input.sk-toggleable__control:checked~div.sk-toggleable__content {max-height: 200px;max-width: 100%;overflow: auto;}#sk-container-id-7 input.sk-toggleable__control:checked~label.sk-toggleable__label-arrow:before {content: \"▾\";}#sk-container-id-7 div.sk-estimator input.sk-toggleable__control:checked~label.sk-toggleable__label {background-color: #d4ebff;}#sk-container-id-7 div.sk-label input.sk-toggleable__control:checked~label.sk-toggleable__label {background-color: #d4ebff;}#sk-container-id-7 input.sk-hidden--visually {border: 0;clip: rect(1px 1px 1px 1px);clip: rect(1px, 1px, 1px, 1px);height: 1px;margin: -1px;overflow: hidden;padding: 0;position: absolute;width: 1px;}#sk-container-id-7 div.sk-estimator {font-family: monospace;background-color: #f0f8ff;border: 1px dotted black;border-radius: 0.25em;box-sizing: border-box;margin-bottom: 0.5em;}#sk-container-id-7 div.sk-estimator:hover {background-color: #d4ebff;}#sk-container-id-7 div.sk-parallel-item::after {content: \"\";width: 100%;border-bottom: 1px solid gray;flex-grow: 1;}#sk-container-id-7 div.sk-label:hover label.sk-toggleable__label {background-color: #d4ebff;}#sk-container-id-7 div.sk-serial::before {content: \"\";position: absolute;border-left: 1px solid gray;box-sizing: border-box;top: 0;bottom: 0;left: 50%;z-index: 0;}#sk-container-id-7 div.sk-serial {display: flex;flex-direction: column;align-items: center;background-color: white;padding-right: 0.2em;padding-left: 0.2em;position: relative;}#sk-container-id-7 div.sk-item {position: relative;z-index: 1;}#sk-container-id-7 div.sk-parallel {display: flex;align-items: stretch;justify-content: center;background-color: white;position: relative;}#sk-container-id-7 div.sk-item::before, #sk-container-id-7 div.sk-parallel-item::before {content: \"\";position: absolute;border-left: 1px solid gray;box-sizing: border-box;top: 0;bottom: 0;left: 50%;z-index: -1;}#sk-container-id-7 div.sk-parallel-item {display: flex;flex-direction: column;z-index: 1;position: relative;background-color: white;}#sk-container-id-7 div.sk-parallel-item:first-child::after {align-self: flex-end;width: 50%;}#sk-container-id-7 div.sk-parallel-item:last-child::after {align-self: flex-start;width: 50%;}#sk-container-id-7 div.sk-parallel-item:only-child::after {width: 0;}#sk-container-id-7 div.sk-dashed-wrapped {border: 1px dashed gray;margin: 0 0.4em 0.5em 0.4em;box-sizing: border-box;padding-bottom: 0.4em;background-color: white;}#sk-container-id-7 div.sk-label label {font-family: monospace;font-weight: bold;display: inline-block;line-height: 1.2em;}#sk-container-id-7 div.sk-label-container {text-align: center;}#sk-container-id-7 div.sk-container {/* jupyter's `normalize.less` sets `[hidden] { display: none; }` but bootstrap.min.css set `[hidden] { display: none !important; }` so we also need the `!important` here to be able to override the default hidden behavior on the sphinx rendered scikit-learn.org. See: https://github.com/scikit-learn/scikit-learn/issues/21755 */display: inline-block !important;position: relative;}#sk-container-id-7 div.sk-text-repr-fallback {display: none;}</style><div id=\"sk-container-id-7\" class=\"sk-top-container\"><div class=\"sk-text-repr-fallback\"><pre>AdaBoostClassifier()</pre><b>In a Jupyter environment, please rerun this cell to show the HTML representation or trust the notebook. <br />On GitHub, the HTML representation is unable to render, please try loading this page with nbviewer.org.</b></div><div class=\"sk-container\" hidden><div class=\"sk-item\"><div class=\"sk-estimator sk-toggleable\"><input class=\"sk-toggleable__control sk-hidden--visually\" id=\"sk-estimator-id-9\" type=\"checkbox\" checked><label for=\"sk-estimator-id-9\" class=\"sk-toggleable__label sk-toggleable__label-arrow\">AdaBoostClassifier</label><div class=\"sk-toggleable__content\"><pre>AdaBoostClassifier()</pre></div></div></div></div></div>"
      ],
      "text/plain": [
       "AdaBoostClassifier()"
      ]
     },
     "execution_count": 159,
     "metadata": {},
     "output_type": "execute_result"
    }
   ],
   "source": [
    "ada.fit(x_train,y_train)"
   ]
  },
  {
   "cell_type": "code",
   "execution_count": 160,
   "id": "2b609fd7",
   "metadata": {},
   "outputs": [
    {
     "data": {
      "text/plain": [
       "0.8615500079001422"
      ]
     },
     "execution_count": 160,
     "metadata": {},
     "output_type": "execute_result"
    }
   ],
   "source": [
    "ada.score(x_train,y_train)#Training Score"
   ]
  },
  {
   "cell_type": "code",
   "execution_count": 161,
   "id": "f0bad295",
   "metadata": {},
   "outputs": [
    {
     "data": {
      "text/plain": [
       "0.8609794628751974"
      ]
     },
     "execution_count": 161,
     "metadata": {},
     "output_type": "execute_result"
    }
   ],
   "source": [
    "ada.score(x_test,y_test)#Testing Score"
   ]
  },
  {
   "cell_type": "markdown",
   "id": "232d05a5",
   "metadata": {},
   "source": [
    "# Lets check with Random Forest"
   ]
  },
  {
   "cell_type": "code",
   "execution_count": 162,
   "id": "3d6fa43a",
   "metadata": {},
   "outputs": [],
   "source": [
    "from sklearn.ensemble import RandomForestClassifier\n",
    "rf=RandomForestClassifier()"
   ]
  },
  {
   "cell_type": "code",
   "execution_count": 163,
   "id": "cee77e54",
   "metadata": {},
   "outputs": [
    {
     "name": "stdout",
     "output_type": "stream",
     "text": [
      " At random state 0 , the testing accuracy is :- 0.9999604992889872\n",
      " At random state 0 , the testing accuracy is :- 0.8598736176935229\n",
      "\n",
      "\n",
      " At random state 1 , the testing accuracy is :- 1.0\n",
      " At random state 1 , the testing accuracy is :- 0.8560821484992102\n",
      "\n",
      "\n",
      " At random state 2 , the testing accuracy is :- 0.9999604992889872\n",
      " At random state 2 , the testing accuracy is :- 0.8537124802527646\n",
      "\n",
      "\n",
      " At random state 3 , the testing accuracy is :- 0.9999604992889872\n",
      " At random state 3 , the testing accuracy is :- 0.8568720379146919\n",
      "\n",
      "\n",
      " At random state 4 , the testing accuracy is :- 0.9998814978669616\n",
      " At random state 4 , the testing accuracy is :- 0.8606635071090047\n",
      "\n",
      "\n",
      " At random state 5 , the testing accuracy is :- 0.9999209985779745\n",
      " At random state 5 , the testing accuracy is :- 0.8565560821484992\n",
      "\n",
      "\n",
      " At random state 6 , the testing accuracy is :- 0.9999604992889872\n",
      " At random state 6 , the testing accuracy is :- 0.8627172195892575\n",
      "\n",
      "\n",
      " At random state 7 , the testing accuracy is :- 0.9999209985779745\n",
      " At random state 7 , the testing accuracy is :- 0.8595576619273302\n",
      "\n",
      "\n",
      " At random state 8 , the testing accuracy is :- 0.9999604992889872\n",
      " At random state 8 , the testing accuracy is :- 0.8522906793048973\n",
      "\n",
      "\n",
      " At random state 9 , the testing accuracy is :- 0.9999604992889872\n",
      " At random state 9 , the testing accuracy is :- 0.8606635071090047\n",
      "\n",
      "\n",
      " At random state 10 , the testing accuracy is :- 1.0\n",
      " At random state 10 , the testing accuracy is :- 0.8557661927330174\n",
      "\n",
      "\n",
      " At random state 11 , the testing accuracy is :- 0.9999604992889872\n",
      " At random state 11 , the testing accuracy is :- 0.8606635071090047\n",
      "\n",
      "\n",
      " At random state 12 , the testing accuracy is :- 0.9999604992889872\n",
      " At random state 12 , the testing accuracy is :- 0.859083728278041\n",
      "\n",
      "\n",
      " At random state 13 , the testing accuracy is :- 1.0\n",
      " At random state 13 , the testing accuracy is :- 0.8538704581358609\n",
      "\n",
      "\n",
      " At random state 14 , the testing accuracy is :- 0.9998814978669616\n",
      " At random state 14 , the testing accuracy is :- 0.8625592417061612\n",
      "\n",
      "\n",
      " At random state 15 , the testing accuracy is :- 0.9998814978669616\n",
      " At random state 15 , the testing accuracy is :- 0.8592417061611375\n",
      "\n",
      "\n",
      " At random state 16 , the testing accuracy is :- 1.0\n",
      " At random state 16 , the testing accuracy is :- 0.8559241706161137\n",
      "\n",
      "\n",
      " At random state 17 , the testing accuracy is :- 0.9999604992889872\n",
      " At random state 17 , the testing accuracy is :- 0.8458135860979463\n",
      "\n",
      "\n",
      " At random state 18 , the testing accuracy is :- 0.9998814978669616\n",
      " At random state 18 , the testing accuracy is :- 0.8612954186413903\n",
      "\n",
      "\n",
      " At random state 19 , the testing accuracy is :- 0.9999604992889872\n",
      " At random state 19 , the testing accuracy is :- 0.8518167456556082\n",
      "\n",
      "\n",
      " At random state 20 , the testing accuracy is :- 1.0\n",
      " At random state 20 , the testing accuracy is :- 0.8641390205371248\n",
      "\n",
      "\n",
      " At random state 21 , the testing accuracy is :- 0.9999604992889872\n",
      " At random state 21 , the testing accuracy is :- 0.8527646129541864\n",
      "\n",
      "\n",
      " At random state 22 , the testing accuracy is :- 0.9999604992889872\n",
      " At random state 22 , the testing accuracy is :- 0.8559241706161137\n",
      "\n",
      "\n",
      " At random state 23 , the testing accuracy is :- 0.9998814978669616\n",
      " At random state 23 , the testing accuracy is :- 0.8571879936808847\n",
      "\n",
      "\n",
      " At random state 24 , the testing accuracy is :- 1.0\n",
      " At random state 24 , the testing accuracy is :- 0.8499210110584519\n",
      "\n",
      "\n",
      " At random state 25 , the testing accuracy is :- 0.9999604992889872\n",
      " At random state 25 , the testing accuracy is :- 0.8537124802527646\n",
      "\n",
      "\n",
      " At random state 26 , the testing accuracy is :- 0.9999209985779745\n",
      " At random state 26 , the testing accuracy is :- 0.8573459715639811\n",
      "\n",
      "\n",
      " At random state 27 , the testing accuracy is :- 0.9999209985779745\n",
      " At random state 27 , the testing accuracy is :- 0.8611374407582938\n",
      "\n",
      "\n",
      " At random state 28 , the testing accuracy is :- 0.9999604992889872\n",
      " At random state 28 , the testing accuracy is :- 0.8563981042654029\n",
      "\n",
      "\n",
      " At random state 29 , the testing accuracy is :- 0.9999604992889872\n",
      " At random state 29 , the testing accuracy is :- 0.8562401263823065\n",
      "\n",
      "\n",
      " At random state 30 , the testing accuracy is :- 1.0\n",
      " At random state 30 , the testing accuracy is :- 0.8575039494470774\n",
      "\n",
      "\n",
      " At random state 31 , the testing accuracy is :- 0.9999604992889872\n",
      " At random state 31 , the testing accuracy is :- 0.8647709320695103\n",
      "\n",
      "\n",
      " At random state 32 , the testing accuracy is :- 0.9999604992889872\n",
      " At random state 32 , the testing accuracy is :- 0.8494470774091627\n",
      "\n",
      "\n",
      " At random state 33 , the testing accuracy is :- 0.9999209985779745\n",
      " At random state 33 , the testing accuracy is :- 0.8511848341232228\n",
      "\n",
      "\n",
      " At random state 34 , the testing accuracy is :- 0.9999604992889872\n",
      " At random state 34 , the testing accuracy is :- 0.860347551342812\n",
      "\n",
      "\n",
      " At random state 35 , the testing accuracy is :- 0.9999604992889872\n",
      " At random state 35 , the testing accuracy is :- 0.859083728278041\n",
      "\n",
      "\n",
      " At random state 36 , the testing accuracy is :- 0.9999209985779745\n",
      " At random state 36 , the testing accuracy is :- 0.852132701421801\n",
      "\n",
      "\n",
      " At random state 37 , the testing accuracy is :- 0.9999604992889872\n",
      " At random state 37 , the testing accuracy is :- 0.860347551342812\n",
      "\n",
      "\n",
      " At random state 38 , the testing accuracy is :- 0.9999209985779745\n",
      " At random state 38 , the testing accuracy is :- 0.8516587677725118\n",
      "\n",
      "\n",
      " At random state 39 , the testing accuracy is :- 0.9999604992889872\n",
      " At random state 39 , the testing accuracy is :- 0.8617693522906793\n",
      "\n",
      "\n",
      " At random state 40 , the testing accuracy is :- 0.9998419971559488\n",
      " At random state 40 , the testing accuracy is :- 0.8489731437598736\n",
      "\n",
      "\n",
      " At random state 41 , the testing accuracy is :- 0.9999209985779745\n",
      " At random state 41 , the testing accuracy is :- 0.8507109004739336\n",
      "\n",
      "\n",
      " At random state 42 , the testing accuracy is :- 1.0\n",
      " At random state 42 , the testing accuracy is :- 0.8576619273301738\n",
      "\n",
      "\n",
      " At random state 43 , the testing accuracy is :- 0.9998419971559488\n",
      " At random state 43 , the testing accuracy is :- 0.8595576619273302\n",
      "\n",
      "\n",
      " At random state 44 , the testing accuracy is :- 1.0\n",
      " At random state 44 , the testing accuracy is :- 0.8545023696682464\n",
      "\n",
      "\n",
      " At random state 45 , the testing accuracy is :- 0.9999604992889872\n",
      " At random state 45 , the testing accuracy is :- 0.8494470774091627\n",
      "\n",
      "\n",
      " At random state 46 , the testing accuracy is :- 0.9999604992889872\n",
      " At random state 46 , the testing accuracy is :- 0.8587677725118483\n",
      "\n",
      "\n",
      " At random state 47 , the testing accuracy is :- 1.0\n",
      " At random state 47 , the testing accuracy is :- 0.8548183254344391\n",
      "\n",
      "\n",
      " At random state 48 , the testing accuracy is :- 0.9999604992889872\n",
      " At random state 48 , the testing accuracy is :- 0.8519747235387046\n",
      "\n",
      "\n",
      " At random state 49 , the testing accuracy is :- 0.9999209985779745\n",
      " At random state 49 , the testing accuracy is :- 0.8576619273301738\n",
      "\n",
      "\n",
      " At random state 50 , the testing accuracy is :- 0.9998814978669616\n",
      " At random state 50 , the testing accuracy is :- 0.8545023696682464\n",
      "\n",
      "\n",
      " At random state 51 , the testing accuracy is :- 0.9999604992889872\n",
      " At random state 51 , the testing accuracy is :- 0.861611374407583\n",
      "\n",
      "\n",
      " At random state 52 , the testing accuracy is :- 0.9999209985779745\n",
      " At random state 52 , the testing accuracy is :- 0.8530805687203792\n",
      "\n",
      "\n",
      " At random state 53 , the testing accuracy is :- 0.9999604992889872\n",
      " At random state 53 , the testing accuracy is :- 0.8546603475513428\n",
      "\n",
      "\n",
      " At random state 54 , the testing accuracy is :- 0.9999209985779745\n",
      " At random state 54 , the testing accuracy is :- 0.8630331753554502\n",
      "\n",
      "\n",
      " At random state 55 , the testing accuracy is :- 0.9999209985779745\n",
      " At random state 55 , the testing accuracy is :- 0.8565560821484992\n",
      "\n",
      "\n",
      " At random state 56 , the testing accuracy is :- 0.9999604992889872\n",
      " At random state 56 , the testing accuracy is :- 0.8510268562401264\n",
      "\n",
      "\n",
      " At random state 57 , the testing accuracy is :- 0.9999604992889872\n",
      " At random state 57 , the testing accuracy is :- 0.8549763033175355\n",
      "\n",
      "\n",
      " At random state 58 , the testing accuracy is :- 0.9999209985779745\n",
      " At random state 58 , the testing accuracy is :- 0.863349131121643\n",
      "\n",
      "\n",
      " At random state 59 , the testing accuracy is :- 0.999802496444936\n",
      " At random state 59 , the testing accuracy is :- 0.859083728278041\n",
      "\n",
      "\n",
      " At random state 60 , the testing accuracy is :- 0.9999604992889872\n",
      " At random state 60 , the testing accuracy is :- 0.8560821484992102\n",
      "\n",
      "\n",
      " At random state 61 , the testing accuracy is :- 0.9998814978669616\n",
      " At random state 61 , the testing accuracy is :- 0.8535545023696682\n",
      "\n",
      "\n",
      " At random state 62 , the testing accuracy is :- 0.9999604992889872\n",
      " At random state 62 , the testing accuracy is :- 0.852132701421801\n",
      "\n",
      "\n",
      " At random state 63 , the testing accuracy is :- 0.9999604992889872\n",
      " At random state 63 , the testing accuracy is :- 0.84913112164297\n",
      "\n",
      "\n",
      " At random state 64 , the testing accuracy is :- 0.9999604992889872\n",
      " At random state 64 , the testing accuracy is :- 0.8508688783570301\n",
      "\n",
      "\n",
      " At random state 65 , the testing accuracy is :- 0.9999604992889872\n",
      " At random state 65 , the testing accuracy is :- 0.8529225908372828\n",
      "\n",
      "\n",
      " At random state 66 , the testing accuracy is :- 0.9999604992889872\n",
      " At random state 66 , the testing accuracy is :- 0.8560821484992102\n",
      "\n",
      "\n",
      " At random state 67 , the testing accuracy is :- 0.9999209985779745\n",
      " At random state 67 , the testing accuracy is :- 0.8562401263823065\n",
      "\n",
      "\n",
      " At random state 68 , the testing accuracy is :- 0.9999604992889872\n",
      " At random state 68 , the testing accuracy is :- 0.8579778830963665\n",
      "\n",
      "\n",
      " At random state 69 , the testing accuracy is :- 1.0\n",
      " At random state 69 , the testing accuracy is :- 0.8503949447077409\n",
      "\n",
      "\n",
      " At random state 70 , the testing accuracy is :- 0.9999604992889872\n",
      " At random state 70 , the testing accuracy is :- 0.8557661927330174\n",
      "\n",
      "\n",
      " At random state 71 , the testing accuracy is :- 0.9999604992889872\n",
      " At random state 71 , the testing accuracy is :- 0.8595576619273302\n",
      "\n",
      "\n",
      " At random state 72 , the testing accuracy is :- 0.9999209985779745\n",
      " At random state 72 , the testing accuracy is :- 0.8546603475513428\n",
      "\n",
      "\n",
      " At random state 73 , the testing accuracy is :- 0.9999604992889872\n",
      " At random state 73 , the testing accuracy is :- 0.8592417061611375\n",
      "\n",
      "\n",
      " At random state 74 , the testing accuracy is :- 1.0\n",
      " At random state 74 , the testing accuracy is :- 0.8622432859399684\n",
      "\n",
      "\n",
      " At random state 75 , the testing accuracy is :- 0.9999209985779745\n",
      " At random state 75 , the testing accuracy is :- 0.8592417061611375\n",
      "\n",
      "\n",
      " At random state 76 , the testing accuracy is :- 0.9999604992889872\n",
      " At random state 76 , the testing accuracy is :- 0.8573459715639811\n",
      "\n",
      "\n",
      " At random state 77 , the testing accuracy is :- 0.9999209985779745\n",
      " At random state 77 , the testing accuracy is :- 0.8614533965244866\n",
      "\n",
      "\n",
      " At random state 78 , the testing accuracy is :- 1.0\n",
      " At random state 78 , the testing accuracy is :- 0.8530805687203792\n",
      "\n",
      "\n",
      " At random state 79 , the testing accuracy is :- 0.9999604992889872\n",
      " At random state 79 , the testing accuracy is :- 0.8540284360189574\n",
      "\n",
      "\n",
      " At random state 80 , the testing accuracy is :- 0.9999209985779745\n",
      " At random state 80 , the testing accuracy is :- 0.8548183254344391\n",
      "\n",
      "\n",
      " At random state 81 , the testing accuracy is :- 1.0\n",
      " At random state 81 , the testing accuracy is :- 0.8494470774091627\n",
      "\n",
      "\n",
      " At random state 82 , the testing accuracy is :- 0.9999209985779745\n",
      " At random state 82 , the testing accuracy is :- 0.855134281200632\n",
      "\n",
      "\n",
      " At random state 83 , the testing accuracy is :- 0.9999209985779745\n",
      " At random state 83 , the testing accuracy is :- 0.8562401263823065\n",
      "\n",
      "\n",
      " At random state 84 , the testing accuracy is :- 1.0\n",
      " At random state 84 , the testing accuracy is :- 0.8600315955766192\n",
      "\n",
      "\n",
      " At random state 85 , the testing accuracy is :- 1.0\n",
      " At random state 85 , the testing accuracy is :- 0.8557661927330174\n",
      "\n",
      "\n",
      " At random state 86 , the testing accuracy is :- 0.9999604992889872\n",
      " At random state 86 , the testing accuracy is :- 0.8500789889415482\n",
      "\n",
      "\n",
      " At random state 87 , the testing accuracy is :- 0.9998814978669616\n",
      " At random state 87 , the testing accuracy is :- 0.8545023696682464\n",
      "\n",
      "\n",
      " At random state 88 , the testing accuracy is :- 0.9999604992889872\n",
      " At random state 88 , the testing accuracy is :- 0.8609794628751974\n",
      "\n",
      "\n",
      " At random state 89 , the testing accuracy is :- 1.0\n",
      " At random state 89 , the testing accuracy is :- 0.8579778830963665\n",
      "\n",
      "\n",
      " At random state 90 , the testing accuracy is :- 1.0\n",
      " At random state 90 , the testing accuracy is :- 0.8522906793048973\n",
      "\n",
      "\n",
      " At random state 91 , the testing accuracy is :- 0.9999604992889872\n",
      " At random state 91 , the testing accuracy is :- 0.8568720379146919\n",
      "\n",
      "\n",
      " At random state 92 , the testing accuracy is :- 0.9999209985779745\n",
      " At random state 92 , the testing accuracy is :- 0.8605055292259084\n",
      "\n",
      "\n",
      " At random state 93 , the testing accuracy is :- 0.9999604992889872\n",
      " At random state 93 , the testing accuracy is :- 0.8592417061611375\n",
      "\n",
      "\n",
      " At random state 94 , the testing accuracy is :- 0.9999209985779745\n",
      " At random state 94 , the testing accuracy is :- 0.860347551342812\n",
      "\n",
      "\n",
      " At random state 95 , the testing accuracy is :- 0.9999604992889872\n",
      " At random state 95 , the testing accuracy is :- 0.8582938388625593\n",
      "\n",
      "\n",
      " At random state 96 , the testing accuracy is :- 0.9999209985779745\n",
      " At random state 96 , the testing accuracy is :- 0.8575039494470774\n",
      "\n",
      "\n",
      " At random state 97 , the testing accuracy is :- 0.9999604992889872\n",
      " At random state 97 , the testing accuracy is :- 0.8529225908372828\n",
      "\n",
      "\n",
      " At random state 98 , the testing accuracy is :- 0.9998814978669616\n",
      " At random state 98 , the testing accuracy is :- 0.8601895734597157\n",
      "\n",
      "\n",
      " At random state 99 , the testing accuracy is :- 0.9999209985779745\n",
      " At random state 99 , the testing accuracy is :- 0.855608214849921\n",
      "\n",
      "\n"
     ]
    }
   ],
   "source": [
    "for i in range(0,100):\n",
    "    x_train,x_test,y_train,y_test=train_test_split(x,y,test_size=0.2,random_state=i)\n",
    "    rf.fit(x_train,y_train)\n",
    "    x_pred=rf.predict(x_train)\n",
    "    y_pred=rf.predict(x_test)\n",
    "    print(f\" At random state {i} , the testing accuracy is :- {accuracy_score(y_train,x_pred)}\")\n",
    "    print(f\" At random state {i} , the testing accuracy is :- {accuracy_score(y_test,y_pred)}\")\n",
    "    print(\"\\n\")"
   ]
  },
  {
   "cell_type": "markdown",
   "id": "017144ab",
   "metadata": {},
   "source": [
    "For AdaBoostClassifier we select Random State - 31"
   ]
  },
  {
   "cell_type": "code",
   "execution_count": 168,
   "id": "f1a2719d",
   "metadata": {},
   "outputs": [],
   "source": [
    "x_train,x_test,y_train,y_test=train_test_split(x,y,test_size=0.2,random_state=31)"
   ]
  },
  {
   "cell_type": "code",
   "execution_count": 169,
   "id": "a769d587",
   "metadata": {},
   "outputs": [
    {
     "data": {
      "text/html": [
       "<style>#sk-container-id-9 {color: black;background-color: white;}#sk-container-id-9 pre{padding: 0;}#sk-container-id-9 div.sk-toggleable {background-color: white;}#sk-container-id-9 label.sk-toggleable__label {cursor: pointer;display: block;width: 100%;margin-bottom: 0;padding: 0.3em;box-sizing: border-box;text-align: center;}#sk-container-id-9 label.sk-toggleable__label-arrow:before {content: \"▸\";float: left;margin-right: 0.25em;color: #696969;}#sk-container-id-9 label.sk-toggleable__label-arrow:hover:before {color: black;}#sk-container-id-9 div.sk-estimator:hover label.sk-toggleable__label-arrow:before {color: black;}#sk-container-id-9 div.sk-toggleable__content {max-height: 0;max-width: 0;overflow: hidden;text-align: left;background-color: #f0f8ff;}#sk-container-id-9 div.sk-toggleable__content pre {margin: 0.2em;color: black;border-radius: 0.25em;background-color: #f0f8ff;}#sk-container-id-9 input.sk-toggleable__control:checked~div.sk-toggleable__content {max-height: 200px;max-width: 100%;overflow: auto;}#sk-container-id-9 input.sk-toggleable__control:checked~label.sk-toggleable__label-arrow:before {content: \"▾\";}#sk-container-id-9 div.sk-estimator input.sk-toggleable__control:checked~label.sk-toggleable__label {background-color: #d4ebff;}#sk-container-id-9 div.sk-label input.sk-toggleable__control:checked~label.sk-toggleable__label {background-color: #d4ebff;}#sk-container-id-9 input.sk-hidden--visually {border: 0;clip: rect(1px 1px 1px 1px);clip: rect(1px, 1px, 1px, 1px);height: 1px;margin: -1px;overflow: hidden;padding: 0;position: absolute;width: 1px;}#sk-container-id-9 div.sk-estimator {font-family: monospace;background-color: #f0f8ff;border: 1px dotted black;border-radius: 0.25em;box-sizing: border-box;margin-bottom: 0.5em;}#sk-container-id-9 div.sk-estimator:hover {background-color: #d4ebff;}#sk-container-id-9 div.sk-parallel-item::after {content: \"\";width: 100%;border-bottom: 1px solid gray;flex-grow: 1;}#sk-container-id-9 div.sk-label:hover label.sk-toggleable__label {background-color: #d4ebff;}#sk-container-id-9 div.sk-serial::before {content: \"\";position: absolute;border-left: 1px solid gray;box-sizing: border-box;top: 0;bottom: 0;left: 50%;z-index: 0;}#sk-container-id-9 div.sk-serial {display: flex;flex-direction: column;align-items: center;background-color: white;padding-right: 0.2em;padding-left: 0.2em;position: relative;}#sk-container-id-9 div.sk-item {position: relative;z-index: 1;}#sk-container-id-9 div.sk-parallel {display: flex;align-items: stretch;justify-content: center;background-color: white;position: relative;}#sk-container-id-9 div.sk-item::before, #sk-container-id-9 div.sk-parallel-item::before {content: \"\";position: absolute;border-left: 1px solid gray;box-sizing: border-box;top: 0;bottom: 0;left: 50%;z-index: -1;}#sk-container-id-9 div.sk-parallel-item {display: flex;flex-direction: column;z-index: 1;position: relative;background-color: white;}#sk-container-id-9 div.sk-parallel-item:first-child::after {align-self: flex-end;width: 50%;}#sk-container-id-9 div.sk-parallel-item:last-child::after {align-self: flex-start;width: 50%;}#sk-container-id-9 div.sk-parallel-item:only-child::after {width: 0;}#sk-container-id-9 div.sk-dashed-wrapped {border: 1px dashed gray;margin: 0 0.4em 0.5em 0.4em;box-sizing: border-box;padding-bottom: 0.4em;background-color: white;}#sk-container-id-9 div.sk-label label {font-family: monospace;font-weight: bold;display: inline-block;line-height: 1.2em;}#sk-container-id-9 div.sk-label-container {text-align: center;}#sk-container-id-9 div.sk-container {/* jupyter's `normalize.less` sets `[hidden] { display: none; }` but bootstrap.min.css set `[hidden] { display: none !important; }` so we also need the `!important` here to be able to override the default hidden behavior on the sphinx rendered scikit-learn.org. See: https://github.com/scikit-learn/scikit-learn/issues/21755 */display: inline-block !important;position: relative;}#sk-container-id-9 div.sk-text-repr-fallback {display: none;}</style><div id=\"sk-container-id-9\" class=\"sk-top-container\"><div class=\"sk-text-repr-fallback\"><pre>RandomForestClassifier()</pre><b>In a Jupyter environment, please rerun this cell to show the HTML representation or trust the notebook. <br />On GitHub, the HTML representation is unable to render, please try loading this page with nbviewer.org.</b></div><div class=\"sk-container\" hidden><div class=\"sk-item\"><div class=\"sk-estimator sk-toggleable\"><input class=\"sk-toggleable__control sk-hidden--visually\" id=\"sk-estimator-id-11\" type=\"checkbox\" checked><label for=\"sk-estimator-id-11\" class=\"sk-toggleable__label sk-toggleable__label-arrow\">RandomForestClassifier</label><div class=\"sk-toggleable__content\"><pre>RandomForestClassifier()</pre></div></div></div></div></div>"
      ],
      "text/plain": [
       "RandomForestClassifier()"
      ]
     },
     "execution_count": 169,
     "metadata": {},
     "output_type": "execute_result"
    }
   ],
   "source": [
    "rf.fit(x_train,y_train)"
   ]
  },
  {
   "cell_type": "code",
   "execution_count": 170,
   "id": "e1e294b6",
   "metadata": {},
   "outputs": [
    {
     "data": {
      "text/plain": [
       "0.9999604992889872"
      ]
     },
     "execution_count": 170,
     "metadata": {},
     "output_type": "execute_result"
    }
   ],
   "source": [
    "rf.score(x_train,y_train)"
   ]
  },
  {
   "cell_type": "code",
   "execution_count": 171,
   "id": "316fff91",
   "metadata": {},
   "outputs": [
    {
     "data": {
      "text/plain": [
       "0.8628751974723539"
      ]
     },
     "execution_count": 171,
     "metadata": {},
     "output_type": "execute_result"
    }
   ],
   "source": [
    "rf.score(x_test,y_test)"
   ]
  },
  {
   "cell_type": "markdown",
   "id": "36b21b4a",
   "metadata": {},
   "source": [
    "#  Do Hyperparameter Tuning"
   ]
  },
  {
   "cell_type": "code",
   "execution_count": 172,
   "id": "4e9007e3",
   "metadata": {},
   "outputs": [],
   "source": [
    "from sklearn.model_selection import GridSearchCV"
   ]
  },
  {
   "cell_type": "code",
   "execution_count": 173,
   "id": "fe2d22e7",
   "metadata": {},
   "outputs": [],
   "source": [
    "grid_param={\n",
    "    'criterion':['ginni','entropy'],\n",
    "    'max_depth': range(10,15),# The Maximum depth of the tree\n",
    "    'min_samples_leaf':range(2,6),#The maximum number of samples required to be at a leaf node\n",
    "    'min_samples_split':range(3,8),#The minimum numbers of sample required to split an internal node\n",
    "    'max_leaf_nodes':range(5,10)}#Best nodes are defined as them unlimited number of leaf nodes"
   ]
  },
  {
   "cell_type": "code",
   "execution_count": 174,
   "id": "368e28da",
   "metadata": {},
   "outputs": [],
   "source": [
    "grid_search=GridSearchCV(estimator=rf,\n",
    "                         param_grid=grid_param,\n",
    "                         cv=5,\n",
    "                        n_jobs=-1)"
   ]
  },
  {
   "cell_type": "code",
   "execution_count": 175,
   "id": "2fbce132",
   "metadata": {},
   "outputs": [
    {
     "data": {
      "text/html": [
       "<style>#sk-container-id-10 {color: black;background-color: white;}#sk-container-id-10 pre{padding: 0;}#sk-container-id-10 div.sk-toggleable {background-color: white;}#sk-container-id-10 label.sk-toggleable__label {cursor: pointer;display: block;width: 100%;margin-bottom: 0;padding: 0.3em;box-sizing: border-box;text-align: center;}#sk-container-id-10 label.sk-toggleable__label-arrow:before {content: \"▸\";float: left;margin-right: 0.25em;color: #696969;}#sk-container-id-10 label.sk-toggleable__label-arrow:hover:before {color: black;}#sk-container-id-10 div.sk-estimator:hover label.sk-toggleable__label-arrow:before {color: black;}#sk-container-id-10 div.sk-toggleable__content {max-height: 0;max-width: 0;overflow: hidden;text-align: left;background-color: #f0f8ff;}#sk-container-id-10 div.sk-toggleable__content pre {margin: 0.2em;color: black;border-radius: 0.25em;background-color: #f0f8ff;}#sk-container-id-10 input.sk-toggleable__control:checked~div.sk-toggleable__content {max-height: 200px;max-width: 100%;overflow: auto;}#sk-container-id-10 input.sk-toggleable__control:checked~label.sk-toggleable__label-arrow:before {content: \"▾\";}#sk-container-id-10 div.sk-estimator input.sk-toggleable__control:checked~label.sk-toggleable__label {background-color: #d4ebff;}#sk-container-id-10 div.sk-label input.sk-toggleable__control:checked~label.sk-toggleable__label {background-color: #d4ebff;}#sk-container-id-10 input.sk-hidden--visually {border: 0;clip: rect(1px 1px 1px 1px);clip: rect(1px, 1px, 1px, 1px);height: 1px;margin: -1px;overflow: hidden;padding: 0;position: absolute;width: 1px;}#sk-container-id-10 div.sk-estimator {font-family: monospace;background-color: #f0f8ff;border: 1px dotted black;border-radius: 0.25em;box-sizing: border-box;margin-bottom: 0.5em;}#sk-container-id-10 div.sk-estimator:hover {background-color: #d4ebff;}#sk-container-id-10 div.sk-parallel-item::after {content: \"\";width: 100%;border-bottom: 1px solid gray;flex-grow: 1;}#sk-container-id-10 div.sk-label:hover label.sk-toggleable__label {background-color: #d4ebff;}#sk-container-id-10 div.sk-serial::before {content: \"\";position: absolute;border-left: 1px solid gray;box-sizing: border-box;top: 0;bottom: 0;left: 50%;z-index: 0;}#sk-container-id-10 div.sk-serial {display: flex;flex-direction: column;align-items: center;background-color: white;padding-right: 0.2em;padding-left: 0.2em;position: relative;}#sk-container-id-10 div.sk-item {position: relative;z-index: 1;}#sk-container-id-10 div.sk-parallel {display: flex;align-items: stretch;justify-content: center;background-color: white;position: relative;}#sk-container-id-10 div.sk-item::before, #sk-container-id-10 div.sk-parallel-item::before {content: \"\";position: absolute;border-left: 1px solid gray;box-sizing: border-box;top: 0;bottom: 0;left: 50%;z-index: -1;}#sk-container-id-10 div.sk-parallel-item {display: flex;flex-direction: column;z-index: 1;position: relative;background-color: white;}#sk-container-id-10 div.sk-parallel-item:first-child::after {align-self: flex-end;width: 50%;}#sk-container-id-10 div.sk-parallel-item:last-child::after {align-self: flex-start;width: 50%;}#sk-container-id-10 div.sk-parallel-item:only-child::after {width: 0;}#sk-container-id-10 div.sk-dashed-wrapped {border: 1px dashed gray;margin: 0 0.4em 0.5em 0.4em;box-sizing: border-box;padding-bottom: 0.4em;background-color: white;}#sk-container-id-10 div.sk-label label {font-family: monospace;font-weight: bold;display: inline-block;line-height: 1.2em;}#sk-container-id-10 div.sk-label-container {text-align: center;}#sk-container-id-10 div.sk-container {/* jupyter's `normalize.less` sets `[hidden] { display: none; }` but bootstrap.min.css set `[hidden] { display: none !important; }` so we also need the `!important` here to be able to override the default hidden behavior on the sphinx rendered scikit-learn.org. See: https://github.com/scikit-learn/scikit-learn/issues/21755 */display: inline-block !important;position: relative;}#sk-container-id-10 div.sk-text-repr-fallback {display: none;}</style><div id=\"sk-container-id-10\" class=\"sk-top-container\"><div class=\"sk-text-repr-fallback\"><pre>GridSearchCV(cv=5, estimator=RandomForestClassifier(), n_jobs=-1,\n",
       "             param_grid={&#x27;criterion&#x27;: [&#x27;ginni&#x27;, &#x27;entropy&#x27;],\n",
       "                         &#x27;max_depth&#x27;: range(10, 15),\n",
       "                         &#x27;max_leaf_nodes&#x27;: range(5, 10),\n",
       "                         &#x27;min_samples_leaf&#x27;: range(2, 6),\n",
       "                         &#x27;min_samples_split&#x27;: range(3, 8)})</pre><b>In a Jupyter environment, please rerun this cell to show the HTML representation or trust the notebook. <br />On GitHub, the HTML representation is unable to render, please try loading this page with nbviewer.org.</b></div><div class=\"sk-container\" hidden><div class=\"sk-item sk-dashed-wrapped\"><div class=\"sk-label-container\"><div class=\"sk-label sk-toggleable\"><input class=\"sk-toggleable__control sk-hidden--visually\" id=\"sk-estimator-id-12\" type=\"checkbox\" ><label for=\"sk-estimator-id-12\" class=\"sk-toggleable__label sk-toggleable__label-arrow\">GridSearchCV</label><div class=\"sk-toggleable__content\"><pre>GridSearchCV(cv=5, estimator=RandomForestClassifier(), n_jobs=-1,\n",
       "             param_grid={&#x27;criterion&#x27;: [&#x27;ginni&#x27;, &#x27;entropy&#x27;],\n",
       "                         &#x27;max_depth&#x27;: range(10, 15),\n",
       "                         &#x27;max_leaf_nodes&#x27;: range(5, 10),\n",
       "                         &#x27;min_samples_leaf&#x27;: range(2, 6),\n",
       "                         &#x27;min_samples_split&#x27;: range(3, 8)})</pre></div></div></div><div class=\"sk-parallel\"><div class=\"sk-parallel-item\"><div class=\"sk-item\"><div class=\"sk-label-container\"><div class=\"sk-label sk-toggleable\"><input class=\"sk-toggleable__control sk-hidden--visually\" id=\"sk-estimator-id-13\" type=\"checkbox\" ><label for=\"sk-estimator-id-13\" class=\"sk-toggleable__label sk-toggleable__label-arrow\">estimator: RandomForestClassifier</label><div class=\"sk-toggleable__content\"><pre>RandomForestClassifier()</pre></div></div></div><div class=\"sk-serial\"><div class=\"sk-item\"><div class=\"sk-estimator sk-toggleable\"><input class=\"sk-toggleable__control sk-hidden--visually\" id=\"sk-estimator-id-14\" type=\"checkbox\" ><label for=\"sk-estimator-id-14\" class=\"sk-toggleable__label sk-toggleable__label-arrow\">RandomForestClassifier</label><div class=\"sk-toggleable__content\"><pre>RandomForestClassifier()</pre></div></div></div></div></div></div></div></div></div></div>"
      ],
      "text/plain": [
       "GridSearchCV(cv=5, estimator=RandomForestClassifier(), n_jobs=-1,\n",
       "             param_grid={'criterion': ['ginni', 'entropy'],\n",
       "                         'max_depth': range(10, 15),\n",
       "                         'max_leaf_nodes': range(5, 10),\n",
       "                         'min_samples_leaf': range(2, 6),\n",
       "                         'min_samples_split': range(3, 8)})"
      ]
     },
     "execution_count": 175,
     "metadata": {},
     "output_type": "execute_result"
    }
   ],
   "source": [
    "grid_search.fit(x_train,y_train)"
   ]
  },
  {
   "cell_type": "code",
   "execution_count": 176,
   "id": "6a62e0b1",
   "metadata": {},
   "outputs": [],
   "source": [
    "cnn=RandomForestClassifier(criterion='gini',max_depth=12,max_leaf_nodes=4,min_samples_split= 5)"
   ]
  },
  {
   "cell_type": "code",
   "execution_count": 177,
   "id": "f22fe344",
   "metadata": {},
   "outputs": [
    {
     "name": "stdout",
     "output_type": "stream",
     "text": [
      "{'criterion': 'entropy', 'max_depth': 13, 'max_leaf_nodes': 9, 'min_samples_leaf': 3, 'min_samples_split': 4}\n"
     ]
    }
   ],
   "source": [
    "best_parameter=grid_search.best_params_\n",
    "print(best_parameter)"
   ]
  },
  {
   "cell_type": "code",
   "execution_count": 178,
   "id": "001dd9c7",
   "metadata": {},
   "outputs": [
    {
     "data": {
      "text/html": [
       "<style>#sk-container-id-11 {color: black;background-color: white;}#sk-container-id-11 pre{padding: 0;}#sk-container-id-11 div.sk-toggleable {background-color: white;}#sk-container-id-11 label.sk-toggleable__label {cursor: pointer;display: block;width: 100%;margin-bottom: 0;padding: 0.3em;box-sizing: border-box;text-align: center;}#sk-container-id-11 label.sk-toggleable__label-arrow:before {content: \"▸\";float: left;margin-right: 0.25em;color: #696969;}#sk-container-id-11 label.sk-toggleable__label-arrow:hover:before {color: black;}#sk-container-id-11 div.sk-estimator:hover label.sk-toggleable__label-arrow:before {color: black;}#sk-container-id-11 div.sk-toggleable__content {max-height: 0;max-width: 0;overflow: hidden;text-align: left;background-color: #f0f8ff;}#sk-container-id-11 div.sk-toggleable__content pre {margin: 0.2em;color: black;border-radius: 0.25em;background-color: #f0f8ff;}#sk-container-id-11 input.sk-toggleable__control:checked~div.sk-toggleable__content {max-height: 200px;max-width: 100%;overflow: auto;}#sk-container-id-11 input.sk-toggleable__control:checked~label.sk-toggleable__label-arrow:before {content: \"▾\";}#sk-container-id-11 div.sk-estimator input.sk-toggleable__control:checked~label.sk-toggleable__label {background-color: #d4ebff;}#sk-container-id-11 div.sk-label input.sk-toggleable__control:checked~label.sk-toggleable__label {background-color: #d4ebff;}#sk-container-id-11 input.sk-hidden--visually {border: 0;clip: rect(1px 1px 1px 1px);clip: rect(1px, 1px, 1px, 1px);height: 1px;margin: -1px;overflow: hidden;padding: 0;position: absolute;width: 1px;}#sk-container-id-11 div.sk-estimator {font-family: monospace;background-color: #f0f8ff;border: 1px dotted black;border-radius: 0.25em;box-sizing: border-box;margin-bottom: 0.5em;}#sk-container-id-11 div.sk-estimator:hover {background-color: #d4ebff;}#sk-container-id-11 div.sk-parallel-item::after {content: \"\";width: 100%;border-bottom: 1px solid gray;flex-grow: 1;}#sk-container-id-11 div.sk-label:hover label.sk-toggleable__label {background-color: #d4ebff;}#sk-container-id-11 div.sk-serial::before {content: \"\";position: absolute;border-left: 1px solid gray;box-sizing: border-box;top: 0;bottom: 0;left: 50%;z-index: 0;}#sk-container-id-11 div.sk-serial {display: flex;flex-direction: column;align-items: center;background-color: white;padding-right: 0.2em;padding-left: 0.2em;position: relative;}#sk-container-id-11 div.sk-item {position: relative;z-index: 1;}#sk-container-id-11 div.sk-parallel {display: flex;align-items: stretch;justify-content: center;background-color: white;position: relative;}#sk-container-id-11 div.sk-item::before, #sk-container-id-11 div.sk-parallel-item::before {content: \"\";position: absolute;border-left: 1px solid gray;box-sizing: border-box;top: 0;bottom: 0;left: 50%;z-index: -1;}#sk-container-id-11 div.sk-parallel-item {display: flex;flex-direction: column;z-index: 1;position: relative;background-color: white;}#sk-container-id-11 div.sk-parallel-item:first-child::after {align-self: flex-end;width: 50%;}#sk-container-id-11 div.sk-parallel-item:last-child::after {align-self: flex-start;width: 50%;}#sk-container-id-11 div.sk-parallel-item:only-child::after {width: 0;}#sk-container-id-11 div.sk-dashed-wrapped {border: 1px dashed gray;margin: 0 0.4em 0.5em 0.4em;box-sizing: border-box;padding-bottom: 0.4em;background-color: white;}#sk-container-id-11 div.sk-label label {font-family: monospace;font-weight: bold;display: inline-block;line-height: 1.2em;}#sk-container-id-11 div.sk-label-container {text-align: center;}#sk-container-id-11 div.sk-container {/* jupyter's `normalize.less` sets `[hidden] { display: none; }` but bootstrap.min.css set `[hidden] { display: none !important; }` so we also need the `!important` here to be able to override the default hidden behavior on the sphinx rendered scikit-learn.org. See: https://github.com/scikit-learn/scikit-learn/issues/21755 */display: inline-block !important;position: relative;}#sk-container-id-11 div.sk-text-repr-fallback {display: none;}</style><div id=\"sk-container-id-11\" class=\"sk-top-container\"><div class=\"sk-text-repr-fallback\"><pre>RandomForestClassifier(max_depth=12, max_leaf_nodes=4, min_samples_split=5)</pre><b>In a Jupyter environment, please rerun this cell to show the HTML representation or trust the notebook. <br />On GitHub, the HTML representation is unable to render, please try loading this page with nbviewer.org.</b></div><div class=\"sk-container\" hidden><div class=\"sk-item\"><div class=\"sk-estimator sk-toggleable\"><input class=\"sk-toggleable__control sk-hidden--visually\" id=\"sk-estimator-id-15\" type=\"checkbox\" checked><label for=\"sk-estimator-id-15\" class=\"sk-toggleable__label sk-toggleable__label-arrow\">RandomForestClassifier</label><div class=\"sk-toggleable__content\"><pre>RandomForestClassifier(max_depth=12, max_leaf_nodes=4, min_samples_split=5)</pre></div></div></div></div></div>"
      ],
      "text/plain": [
       "RandomForestClassifier(max_depth=12, max_leaf_nodes=4, min_samples_split=5)"
      ]
     },
     "execution_count": 178,
     "metadata": {},
     "output_type": "execute_result"
    }
   ],
   "source": [
    "#Train the model\n",
    "cnn.fit(x_train,y_train)"
   ]
  },
  {
   "cell_type": "code",
   "execution_count": 179,
   "id": "a4e40aef",
   "metadata": {},
   "outputs": [
    {
     "data": {
      "text/plain": [
       "0.8195212513825249"
      ]
     },
     "execution_count": 179,
     "metadata": {},
     "output_type": "execute_result"
    }
   ],
   "source": [
    "cnn.score(x_train,y_train)"
   ]
  },
  {
   "cell_type": "code",
   "execution_count": 180,
   "id": "ee0b2da4",
   "metadata": {},
   "outputs": [
    {
     "data": {
      "text/plain": [
       "0.8243285939968404"
      ]
     },
     "execution_count": 180,
     "metadata": {},
     "output_type": "execute_result"
    }
   ],
   "source": [
    "cnn.score(x_test,y_test)"
   ]
  },
  {
   "cell_type": "markdown",
   "id": "094e35d8",
   "metadata": {},
   "source": [
    "# Lets Save Our Model"
   ]
  },
  {
   "cell_type": "code",
   "execution_count": 181,
   "id": "8ca8e847",
   "metadata": {},
   "outputs": [],
   "source": [
    "import pickle\n",
    "filename='Census.'\n",
    "pickle.dump(rf,open(filename,'wb'))"
   ]
  },
  {
   "cell_type": "markdown",
   "id": "17318458",
   "metadata": {},
   "source": [
    "# Conclusion"
   ]
  },
  {
   "cell_type": "code",
   "execution_count": 182,
   "id": "7e084e2d",
   "metadata": {},
   "outputs": [
    {
     "name": "stdout",
     "output_type": "stream",
     "text": [
      "86.2875197472354\n"
     ]
    }
   ],
   "source": [
    "loaded_model=pickle.load(open('Census','rb'))\n",
    "result=loaded_model.score(x_test,y_test)\n",
    "print(result*100)"
   ]
  },
  {
   "cell_type": "code",
   "execution_count": 183,
   "id": "12ea4c53",
   "metadata": {},
   "outputs": [],
   "source": [
    "# batch  No - ds0522\n",
    "# Data Trained"
   ]
  },
  {
   "cell_type": "code",
   "execution_count": null,
   "id": "7aa39cc9",
   "metadata": {},
   "outputs": [],
   "source": []
  }
 ],
 "metadata": {
  "kernelspec": {
   "display_name": "Python 3 (ipykernel)",
   "language": "python",
   "name": "python3"
  },
  "language_info": {
   "codemirror_mode": {
    "name": "ipython",
    "version": 3
   },
   "file_extension": ".py",
   "mimetype": "text/x-python",
   "name": "python",
   "nbconvert_exporter": "python",
   "pygments_lexer": "ipython3",
   "version": "3.9.12"
  }
 },
 "nbformat": 4,
 "nbformat_minor": 5
}
